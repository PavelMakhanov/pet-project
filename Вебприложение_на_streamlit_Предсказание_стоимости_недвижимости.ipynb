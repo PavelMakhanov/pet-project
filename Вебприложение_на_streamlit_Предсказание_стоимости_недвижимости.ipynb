{
  "nbformat": 4,
  "nbformat_minor": 0,
  "metadata": {
    "colab": {
      "provenance": [],
      "collapsed_sections": [
        "L1PwHRjwlinN",
        "ILVpv6-cnr2m",
        "fR6RAciOqYCI"
      ],
      "authorship_tag": "ABX9TyPzxaQoqQfXzibjRmziPeDj",
      "include_colab_link": true
    },
    "kernelspec": {
      "name": "python3",
      "display_name": "Python 3"
    },
    "language_info": {
      "name": "python"
    },
    "gpuClass": "standard",
    "accelerator": "GPU"
  },
  "cells": [
    {
      "cell_type": "markdown",
      "metadata": {
        "id": "view-in-github",
        "colab_type": "text"
      },
      "source": [
        "<a href=\"https://colab.research.google.com/github/PavelMakhanov/pet-project/blob/streamlit/%D0%92%D0%B5%D0%B1%D0%BF%D1%80%D0%B8%D0%BB%D0%BE%D0%B6%D0%B5%D0%BD%D0%B8%D0%B5_%D0%BD%D0%B0_streamlit_%D0%9F%D1%80%D0%B5%D0%B4%D1%81%D0%BA%D0%B0%D0%B7%D0%B0%D0%BD%D0%B8%D0%B5_%D1%81%D1%82%D0%BE%D0%B8%D0%BC%D0%BE%D1%81%D1%82%D0%B8_%D0%BD%D0%B5%D0%B4%D0%B2%D0%B8%D0%B6%D0%B8%D0%BC%D0%BE%D1%81%D1%82%D0%B8.ipynb\" target=\"_parent\"><img src=\"https://colab.research.google.com/assets/colab-badge.svg\" alt=\"Open In Colab\"/></a>"
      ]
    },
    {
      "cell_type": "markdown",
      "source": [
        "Итоговое веб-приложение доступно по ссылке https://pavelmakhanov-pet-project-streamlit-app-streamlit-zu2ngh.streamlit.app/"
      ],
      "metadata": {
        "id": "swJ3ISF34ar8"
      }
    },
    {
      "cell_type": "markdown",
      "source": [
        "#Предобработка данных"
      ],
      "metadata": {
        "id": "SycIgVBiHt1w"
      }
    },
    {
      "cell_type": "markdown",
      "source": [
        "## [Датасет](https://www.kaggle.com/datasets/mrdaniilak/russia-real-estate-20182021?resource=download) из Kagle."
      ],
      "metadata": {
        "id": "L1PwHRjwlinN"
      }
    },
    {
      "cell_type": "markdown",
      "source": [
        "Датасет состоит из списков уникальных объектов популярных порталов по продаже недвижимости. \n",
        "Набор данных состоит из 13 полей:\n",
        "\n",
        "date — дата публикации объявления\n",
        "\n",
        "time – время публикации\n",
        "\n",
        "geo_lon — широта\n",
        "\n",
        "geo_lat — долгота\n",
        "\n",
        "region — регион\n",
        "\n",
        "building_type — 0 — Другой. 1 — Панельный. 2 — Монолитный. 3 — Кирпичный. 4 — Блочный. 5 — Деревянный\n",
        "\n",
        "object_type — Тип квартиры. 1 — Вторичный рынок недвижимости; 2 — Новостройка;\n",
        "\n",
        "level — этаж квартиры\n",
        "\n",
        "levels — количество этажей в доме\n",
        "\n",
        "rooms — количество жилых комнат. Если значение равно «-1», то это означает «однокомнатная квартира»\n",
        "\n",
        "area — общая площадь квартиры\n",
        "\n",
        "kitchen_area — площадь кухни\n",
        "\n",
        "price — цена в рублях"
      ],
      "metadata": {
        "id": "A3Y6XgdiJFaD"
      }
    },
    {
      "cell_type": "code",
      "execution_count": null,
      "metadata": {
        "id": "9YOon2t8GvD1"
      },
      "outputs": [],
      "source": [
        "import pandas as pd\n",
        "import matplotlib.pyplot as plt"
      ]
    },
    {
      "cell_type": "code",
      "source": [
        "from warnings import filterwarnings\n",
        "filterwarnings('ignore')"
      ],
      "metadata": {
        "id": "yRwbzVdXM8pM"
      },
      "execution_count": null,
      "outputs": []
    },
    {
      "cell_type": "code",
      "source": [
        "df = pd.read_csv('all_v2.csv')"
      ],
      "metadata": {
        "id": "sLDmBpY4HduM"
      },
      "execution_count": null,
      "outputs": []
    },
    {
      "cell_type": "code",
      "source": [
        "df.head()"
      ],
      "metadata": {
        "colab": {
          "base_uri": "https://localhost:8080/"
        },
        "id": "HAf8We7_HnpN",
        "outputId": "2516f031-42ad-4d75-ad13-0be18029f58b"
      },
      "execution_count": null,
      "outputs": [
        {
          "output_type": "execute_result",
          "data": {
            "text/plain": [
              "     price        date      time    geo_lat    geo_lon  region  building_type  \\\n",
              "0  6050000  2018-02-19  20:00:21  59.805808  30.376141    2661              1   \n",
              "1  8650000  2018-02-27  12:04:54  55.683807  37.297405      81              3   \n",
              "2  4000000  2018-02-28  15:44:00  56.295250  44.061637    2871              1   \n",
              "3  1850000  2018-03-01  11:24:52  44.996132  39.074783    2843              4   \n",
              "4  5450000  2018-03-01  17:42:43  55.918767  37.984642      81              3   \n",
              "\n",
              "   level  levels  rooms  area  kitchen_area  object_type  \n",
              "0      8      10      3  82.6          10.8            1  \n",
              "1      5      24      2  69.1          12.0            1  \n",
              "2      5       9      3  66.0          10.0            1  \n",
              "3     12      16      2  38.0           5.0           11  \n",
              "4     13      14      2  60.0          10.0            1  "
            ],
            "text/html": [
              "<div>\n",
              "<style scoped>\n",
              "    .dataframe tbody tr th:only-of-type {\n",
              "        vertical-align: middle;\n",
              "    }\n",
              "\n",
              "    .dataframe tbody tr th {\n",
              "        vertical-align: top;\n",
              "    }\n",
              "\n",
              "    .dataframe thead th {\n",
              "        text-align: right;\n",
              "    }\n",
              "</style>\n",
              "<table border=\"1\" class=\"dataframe\">\n",
              "  <thead>\n",
              "    <tr style=\"text-align: right;\">\n",
              "      <th></th>\n",
              "      <th>price</th>\n",
              "      <th>date</th>\n",
              "      <th>time</th>\n",
              "      <th>geo_lat</th>\n",
              "      <th>geo_lon</th>\n",
              "      <th>region</th>\n",
              "      <th>building_type</th>\n",
              "      <th>level</th>\n",
              "      <th>levels</th>\n",
              "      <th>rooms</th>\n",
              "      <th>area</th>\n",
              "      <th>kitchen_area</th>\n",
              "      <th>object_type</th>\n",
              "    </tr>\n",
              "  </thead>\n",
              "  <tbody>\n",
              "    <tr>\n",
              "      <th>0</th>\n",
              "      <td>6050000</td>\n",
              "      <td>2018-02-19</td>\n",
              "      <td>20:00:21</td>\n",
              "      <td>59.805808</td>\n",
              "      <td>30.376141</td>\n",
              "      <td>2661</td>\n",
              "      <td>1</td>\n",
              "      <td>8</td>\n",
              "      <td>10</td>\n",
              "      <td>3</td>\n",
              "      <td>82.6</td>\n",
              "      <td>10.8</td>\n",
              "      <td>1</td>\n",
              "    </tr>\n",
              "    <tr>\n",
              "      <th>1</th>\n",
              "      <td>8650000</td>\n",
              "      <td>2018-02-27</td>\n",
              "      <td>12:04:54</td>\n",
              "      <td>55.683807</td>\n",
              "      <td>37.297405</td>\n",
              "      <td>81</td>\n",
              "      <td>3</td>\n",
              "      <td>5</td>\n",
              "      <td>24</td>\n",
              "      <td>2</td>\n",
              "      <td>69.1</td>\n",
              "      <td>12.0</td>\n",
              "      <td>1</td>\n",
              "    </tr>\n",
              "    <tr>\n",
              "      <th>2</th>\n",
              "      <td>4000000</td>\n",
              "      <td>2018-02-28</td>\n",
              "      <td>15:44:00</td>\n",
              "      <td>56.295250</td>\n",
              "      <td>44.061637</td>\n",
              "      <td>2871</td>\n",
              "      <td>1</td>\n",
              "      <td>5</td>\n",
              "      <td>9</td>\n",
              "      <td>3</td>\n",
              "      <td>66.0</td>\n",
              "      <td>10.0</td>\n",
              "      <td>1</td>\n",
              "    </tr>\n",
              "    <tr>\n",
              "      <th>3</th>\n",
              "      <td>1850000</td>\n",
              "      <td>2018-03-01</td>\n",
              "      <td>11:24:52</td>\n",
              "      <td>44.996132</td>\n",
              "      <td>39.074783</td>\n",
              "      <td>2843</td>\n",
              "      <td>4</td>\n",
              "      <td>12</td>\n",
              "      <td>16</td>\n",
              "      <td>2</td>\n",
              "      <td>38.0</td>\n",
              "      <td>5.0</td>\n",
              "      <td>11</td>\n",
              "    </tr>\n",
              "    <tr>\n",
              "      <th>4</th>\n",
              "      <td>5450000</td>\n",
              "      <td>2018-03-01</td>\n",
              "      <td>17:42:43</td>\n",
              "      <td>55.918767</td>\n",
              "      <td>37.984642</td>\n",
              "      <td>81</td>\n",
              "      <td>3</td>\n",
              "      <td>13</td>\n",
              "      <td>14</td>\n",
              "      <td>2</td>\n",
              "      <td>60.0</td>\n",
              "      <td>10.0</td>\n",
              "      <td>1</td>\n",
              "    </tr>\n",
              "  </tbody>\n",
              "</table>\n",
              "</div>"
            ]
          },
          "metadata": {},
          "execution_count": 4
        }
      ]
    },
    {
      "cell_type": "markdown",
      "source": [
        "Ограничим наш датасет только одним городом - Санкт-Петербург"
      ],
      "metadata": {
        "id": "TZVAeKVdK4Fe"
      }
    },
    {
      "cell_type": "code",
      "source": [
        "df = df[df['region'] == 2661]"
      ],
      "metadata": {
        "id": "D1WXbGFEK2-V"
      },
      "execution_count": null,
      "outputs": []
    },
    {
      "cell_type": "markdown",
      "source": [
        "Извлечем дату и месяц из признака date"
      ],
      "metadata": {
        "id": "JrJSgrhjMNyR"
      }
    },
    {
      "cell_type": "code",
      "source": [
        "df['date'] = pd.to_datetime(df['date'])"
      ],
      "metadata": {
        "id": "TSoJG2hrKWoV"
      },
      "execution_count": null,
      "outputs": []
    },
    {
      "cell_type": "code",
      "source": [
        "df['year'] = df['date'].dt.year\n",
        "df['month'] = df['date'].dt.month"
      ],
      "metadata": {
        "id": "O7F4f1F5JWGu"
      },
      "execution_count": null,
      "outputs": []
    },
    {
      "cell_type": "code",
      "source": [
        "df.head()"
      ],
      "metadata": {
        "colab": {
          "base_uri": "https://localhost:8080/"
        },
        "id": "YmWVVxkWKoD1",
        "outputId": "c7b29a52-78fc-418c-c125-24cd8b1f1362"
      },
      "execution_count": null,
      "outputs": [
        {
          "output_type": "execute_result",
          "data": {
            "text/plain": [
              "      price       date      time    geo_lat    geo_lon  region  building_type  \\\n",
              "0   6050000 2018-02-19  20:00:21  59.805808  30.376141    2661              1   \n",
              "7   3600000 2018-03-04  20:52:38  59.875526  30.395457    2661              1   \n",
              "36  3200000 2018-04-10  16:10:12  59.827465  30.201827    2661              1   \n",
              "47  6500000 2018-04-23  11:47:58  59.988334  29.786928    2661              3   \n",
              "54  6300000 2018-04-28  17:47:24  59.911622  30.284556    2661              3   \n",
              "\n",
              "    level  levels  rooms  area  kitchen_area  object_type  year  month  \n",
              "0       8      10      3  82.6          10.8            1  2018      2  \n",
              "7       2       5      1  31.1           6.0            1  2018      3  \n",
              "36      7       9      1  31.0           7.0            1  2018      4  \n",
              "47      3       3      3  89.0          10.0            1  2018      4  \n",
              "54      5       5      2  99.9          14.5            1  2018      4  "
            ],
            "text/html": [
              "<div>\n",
              "<style scoped>\n",
              "    .dataframe tbody tr th:only-of-type {\n",
              "        vertical-align: middle;\n",
              "    }\n",
              "\n",
              "    .dataframe tbody tr th {\n",
              "        vertical-align: top;\n",
              "    }\n",
              "\n",
              "    .dataframe thead th {\n",
              "        text-align: right;\n",
              "    }\n",
              "</style>\n",
              "<table border=\"1\" class=\"dataframe\">\n",
              "  <thead>\n",
              "    <tr style=\"text-align: right;\">\n",
              "      <th></th>\n",
              "      <th>price</th>\n",
              "      <th>date</th>\n",
              "      <th>time</th>\n",
              "      <th>geo_lat</th>\n",
              "      <th>geo_lon</th>\n",
              "      <th>region</th>\n",
              "      <th>building_type</th>\n",
              "      <th>level</th>\n",
              "      <th>levels</th>\n",
              "      <th>rooms</th>\n",
              "      <th>area</th>\n",
              "      <th>kitchen_area</th>\n",
              "      <th>object_type</th>\n",
              "      <th>year</th>\n",
              "      <th>month</th>\n",
              "    </tr>\n",
              "  </thead>\n",
              "  <tbody>\n",
              "    <tr>\n",
              "      <th>0</th>\n",
              "      <td>6050000</td>\n",
              "      <td>2018-02-19</td>\n",
              "      <td>20:00:21</td>\n",
              "      <td>59.805808</td>\n",
              "      <td>30.376141</td>\n",
              "      <td>2661</td>\n",
              "      <td>1</td>\n",
              "      <td>8</td>\n",
              "      <td>10</td>\n",
              "      <td>3</td>\n",
              "      <td>82.6</td>\n",
              "      <td>10.8</td>\n",
              "      <td>1</td>\n",
              "      <td>2018</td>\n",
              "      <td>2</td>\n",
              "    </tr>\n",
              "    <tr>\n",
              "      <th>7</th>\n",
              "      <td>3600000</td>\n",
              "      <td>2018-03-04</td>\n",
              "      <td>20:52:38</td>\n",
              "      <td>59.875526</td>\n",
              "      <td>30.395457</td>\n",
              "      <td>2661</td>\n",
              "      <td>1</td>\n",
              "      <td>2</td>\n",
              "      <td>5</td>\n",
              "      <td>1</td>\n",
              "      <td>31.1</td>\n",
              "      <td>6.0</td>\n",
              "      <td>1</td>\n",
              "      <td>2018</td>\n",
              "      <td>3</td>\n",
              "    </tr>\n",
              "    <tr>\n",
              "      <th>36</th>\n",
              "      <td>3200000</td>\n",
              "      <td>2018-04-10</td>\n",
              "      <td>16:10:12</td>\n",
              "      <td>59.827465</td>\n",
              "      <td>30.201827</td>\n",
              "      <td>2661</td>\n",
              "      <td>1</td>\n",
              "      <td>7</td>\n",
              "      <td>9</td>\n",
              "      <td>1</td>\n",
              "      <td>31.0</td>\n",
              "      <td>7.0</td>\n",
              "      <td>1</td>\n",
              "      <td>2018</td>\n",
              "      <td>4</td>\n",
              "    </tr>\n",
              "    <tr>\n",
              "      <th>47</th>\n",
              "      <td>6500000</td>\n",
              "      <td>2018-04-23</td>\n",
              "      <td>11:47:58</td>\n",
              "      <td>59.988334</td>\n",
              "      <td>29.786928</td>\n",
              "      <td>2661</td>\n",
              "      <td>3</td>\n",
              "      <td>3</td>\n",
              "      <td>3</td>\n",
              "      <td>3</td>\n",
              "      <td>89.0</td>\n",
              "      <td>10.0</td>\n",
              "      <td>1</td>\n",
              "      <td>2018</td>\n",
              "      <td>4</td>\n",
              "    </tr>\n",
              "    <tr>\n",
              "      <th>54</th>\n",
              "      <td>6300000</td>\n",
              "      <td>2018-04-28</td>\n",
              "      <td>17:47:24</td>\n",
              "      <td>59.911622</td>\n",
              "      <td>30.284556</td>\n",
              "      <td>2661</td>\n",
              "      <td>3</td>\n",
              "      <td>5</td>\n",
              "      <td>5</td>\n",
              "      <td>2</td>\n",
              "      <td>99.9</td>\n",
              "      <td>14.5</td>\n",
              "      <td>1</td>\n",
              "      <td>2018</td>\n",
              "      <td>4</td>\n",
              "    </tr>\n",
              "  </tbody>\n",
              "</table>\n",
              "</div>"
            ]
          },
          "metadata": {},
          "execution_count": 8
        }
      ]
    },
    {
      "cell_type": "markdown",
      "source": [
        "Удалим ненужные колонки"
      ],
      "metadata": {
        "id": "2LUX5PlVW13o"
      }
    },
    {
      "cell_type": "code",
      "source": [
        "df.drop(['date','time','region'], axis = 1, inplace= True)"
      ],
      "metadata": {
        "id": "dLDN0pi7MYik"
      },
      "execution_count": null,
      "outputs": []
    },
    {
      "cell_type": "markdown",
      "source": [
        "Посмотрим основные статистики"
      ],
      "metadata": {
        "id": "VwuHlUO8XlCw"
      }
    },
    {
      "cell_type": "code",
      "source": [
        "df.describe()"
      ],
      "metadata": {
        "colab": {
          "base_uri": "https://localhost:8080/"
        },
        "id": "i0486k8KXd0q",
        "outputId": "e8ab2bea-845d-4d1e-b26f-916d6d4b5486"
      },
      "execution_count": null,
      "outputs": [
        {
          "output_type": "execute_result",
          "data": {
            "text/plain": [
              "              price        geo_lat        geo_lon  building_type  \\\n",
              "count  4.618200e+05  461820.000000  461820.000000  461820.000000   \n",
              "mean   8.209775e+06      59.932848      30.319601       1.948281   \n",
              "std    1.416036e+07       0.084615       0.120120       0.954559   \n",
              "min   -1.719935e+09      59.647383      29.509349       0.000000   \n",
              "25%    4.400000e+06      59.863518      30.256876       1.000000   \n",
              "50%    5.950000e+06      59.939084      30.324338       2.000000   \n",
              "75%    8.800000e+06      59.999287      30.397938       3.000000   \n",
              "max    1.945383e+09      60.241984      30.711428       5.000000   \n",
              "\n",
              "               level         levels          rooms           area  \\\n",
              "count  461820.000000  461820.000000  461820.000000  461820.000000   \n",
              "mean        7.582619      14.336625       1.778953      58.582237   \n",
              "std         5.694418       7.073714       1.124851      42.138205   \n",
              "min         1.000000       1.000000      -2.000000       1.400000   \n",
              "25%         3.000000       9.000000       1.000000      37.600000   \n",
              "50%         6.000000      13.000000       2.000000      51.000000   \n",
              "75%        11.000000      20.000000       2.000000      69.000000   \n",
              "max        35.000000      38.000000       9.000000    7856.000000   \n",
              "\n",
              "        kitchen_area    object_type           year          month  \n",
              "count  461820.000000  461820.000000  461820.000000  461820.000000  \n",
              "mean       12.749967       5.271231    2019.545306       6.539385  \n",
              "std         7.641011       4.946610       0.856485       3.433894  \n",
              "min         0.020000       1.000000    2018.000000       1.000000  \n",
              "25%         8.500000       1.000000    2019.000000       3.000000  \n",
              "50%        11.100000       1.000000    2020.000000       7.000000  \n",
              "75%        15.150000      11.000000    2020.000000      10.000000  \n",
              "max      1272.000000      11.000000    2021.000000      12.000000  "
            ],
            "text/html": [
              "<div>\n",
              "<style scoped>\n",
              "    .dataframe tbody tr th:only-of-type {\n",
              "        vertical-align: middle;\n",
              "    }\n",
              "\n",
              "    .dataframe tbody tr th {\n",
              "        vertical-align: top;\n",
              "    }\n",
              "\n",
              "    .dataframe thead th {\n",
              "        text-align: right;\n",
              "    }\n",
              "</style>\n",
              "<table border=\"1\" class=\"dataframe\">\n",
              "  <thead>\n",
              "    <tr style=\"text-align: right;\">\n",
              "      <th></th>\n",
              "      <th>price</th>\n",
              "      <th>geo_lat</th>\n",
              "      <th>geo_lon</th>\n",
              "      <th>building_type</th>\n",
              "      <th>level</th>\n",
              "      <th>levels</th>\n",
              "      <th>rooms</th>\n",
              "      <th>area</th>\n",
              "      <th>kitchen_area</th>\n",
              "      <th>object_type</th>\n",
              "      <th>year</th>\n",
              "      <th>month</th>\n",
              "    </tr>\n",
              "  </thead>\n",
              "  <tbody>\n",
              "    <tr>\n",
              "      <th>count</th>\n",
              "      <td>4.618200e+05</td>\n",
              "      <td>461820.000000</td>\n",
              "      <td>461820.000000</td>\n",
              "      <td>461820.000000</td>\n",
              "      <td>461820.000000</td>\n",
              "      <td>461820.000000</td>\n",
              "      <td>461820.000000</td>\n",
              "      <td>461820.000000</td>\n",
              "      <td>461820.000000</td>\n",
              "      <td>461820.000000</td>\n",
              "      <td>461820.000000</td>\n",
              "      <td>461820.000000</td>\n",
              "    </tr>\n",
              "    <tr>\n",
              "      <th>mean</th>\n",
              "      <td>8.209775e+06</td>\n",
              "      <td>59.932848</td>\n",
              "      <td>30.319601</td>\n",
              "      <td>1.948281</td>\n",
              "      <td>7.582619</td>\n",
              "      <td>14.336625</td>\n",
              "      <td>1.778953</td>\n",
              "      <td>58.582237</td>\n",
              "      <td>12.749967</td>\n",
              "      <td>5.271231</td>\n",
              "      <td>2019.545306</td>\n",
              "      <td>6.539385</td>\n",
              "    </tr>\n",
              "    <tr>\n",
              "      <th>std</th>\n",
              "      <td>1.416036e+07</td>\n",
              "      <td>0.084615</td>\n",
              "      <td>0.120120</td>\n",
              "      <td>0.954559</td>\n",
              "      <td>5.694418</td>\n",
              "      <td>7.073714</td>\n",
              "      <td>1.124851</td>\n",
              "      <td>42.138205</td>\n",
              "      <td>7.641011</td>\n",
              "      <td>4.946610</td>\n",
              "      <td>0.856485</td>\n",
              "      <td>3.433894</td>\n",
              "    </tr>\n",
              "    <tr>\n",
              "      <th>min</th>\n",
              "      <td>-1.719935e+09</td>\n",
              "      <td>59.647383</td>\n",
              "      <td>29.509349</td>\n",
              "      <td>0.000000</td>\n",
              "      <td>1.000000</td>\n",
              "      <td>1.000000</td>\n",
              "      <td>-2.000000</td>\n",
              "      <td>1.400000</td>\n",
              "      <td>0.020000</td>\n",
              "      <td>1.000000</td>\n",
              "      <td>2018.000000</td>\n",
              "      <td>1.000000</td>\n",
              "    </tr>\n",
              "    <tr>\n",
              "      <th>25%</th>\n",
              "      <td>4.400000e+06</td>\n",
              "      <td>59.863518</td>\n",
              "      <td>30.256876</td>\n",
              "      <td>1.000000</td>\n",
              "      <td>3.000000</td>\n",
              "      <td>9.000000</td>\n",
              "      <td>1.000000</td>\n",
              "      <td>37.600000</td>\n",
              "      <td>8.500000</td>\n",
              "      <td>1.000000</td>\n",
              "      <td>2019.000000</td>\n",
              "      <td>3.000000</td>\n",
              "    </tr>\n",
              "    <tr>\n",
              "      <th>50%</th>\n",
              "      <td>5.950000e+06</td>\n",
              "      <td>59.939084</td>\n",
              "      <td>30.324338</td>\n",
              "      <td>2.000000</td>\n",
              "      <td>6.000000</td>\n",
              "      <td>13.000000</td>\n",
              "      <td>2.000000</td>\n",
              "      <td>51.000000</td>\n",
              "      <td>11.100000</td>\n",
              "      <td>1.000000</td>\n",
              "      <td>2020.000000</td>\n",
              "      <td>7.000000</td>\n",
              "    </tr>\n",
              "    <tr>\n",
              "      <th>75%</th>\n",
              "      <td>8.800000e+06</td>\n",
              "      <td>59.999287</td>\n",
              "      <td>30.397938</td>\n",
              "      <td>3.000000</td>\n",
              "      <td>11.000000</td>\n",
              "      <td>20.000000</td>\n",
              "      <td>2.000000</td>\n",
              "      <td>69.000000</td>\n",
              "      <td>15.150000</td>\n",
              "      <td>11.000000</td>\n",
              "      <td>2020.000000</td>\n",
              "      <td>10.000000</td>\n",
              "    </tr>\n",
              "    <tr>\n",
              "      <th>max</th>\n",
              "      <td>1.945383e+09</td>\n",
              "      <td>60.241984</td>\n",
              "      <td>30.711428</td>\n",
              "      <td>5.000000</td>\n",
              "      <td>35.000000</td>\n",
              "      <td>38.000000</td>\n",
              "      <td>9.000000</td>\n",
              "      <td>7856.000000</td>\n",
              "      <td>1272.000000</td>\n",
              "      <td>11.000000</td>\n",
              "      <td>2021.000000</td>\n",
              "      <td>12.000000</td>\n",
              "    </tr>\n",
              "  </tbody>\n",
              "</table>\n",
              "</div>"
            ]
          },
          "metadata": {},
          "execution_count": 10
        }
      ]
    },
    {
      "cell_type": "markdown",
      "source": [
        "Обработаем отрицательные значения "
      ],
      "metadata": {
        "id": "7MHNG-PSX99U"
      }
    },
    {
      "cell_type": "code",
      "source": [
        "df['price'] = df['price'].abs()"
      ],
      "metadata": {
        "id": "FdSart5WYBvP"
      },
      "execution_count": null,
      "outputs": []
    },
    {
      "cell_type": "code",
      "source": [
        "df['rooms'] = df['rooms'].abs()"
      ],
      "metadata": {
        "id": "WGZXJZw2YF3M"
      },
      "execution_count": null,
      "outputs": []
    },
    {
      "cell_type": "code",
      "source": [
        "mode_price = int(df['price'].mode()[0])\n",
        "\n",
        "fig, axs = plt.subplots(2,2, figsize=(12,5), dpi = 100)\n",
        "fig.suptitle('Графики распределения целевой переменной', fontsize=18)\n",
        "axs[0,0].hist((df['price']/1000000),bins = 100)\n",
        "axs[0,0].set_xlabel('Цена(млн)')\n",
        "axs[0,0].set_ylabel('Количество объектов')\n",
        "axs[0,1].boxplot((df['price']/1000000))\n",
        "axs[0,1].set_ylabel('Цена(млн)')\n",
        "\n",
        "axs[1,0].hist((df['price']/1000000),bins = 1000)\n",
        "axs[1,0].set_xlim(1.5,50)\n",
        "axs[1,0].set_xlabel('Цена (млн)')\n",
        "axs[1,0].set_ylabel('Количество объектов')\n",
        "axs[1,1].boxplot((df['price']/1000000))\n",
        "axs[1,1].set_ylabel('Цена(млн)')\n",
        "axs[1,1].set_ylim(1.5,50)\n",
        "\n",
        "fig.tight_layout()\n",
        "plt.show()"
      ],
      "metadata": {
        "colab": {
          "base_uri": "https://localhost:8080/"
        },
        "id": "2_Jfdp0cYiVL",
        "outputId": "1450a313-69ca-4c66-b6d4-02e3297eb2d1"
      },
      "execution_count": null,
      "outputs": [
        {
          "output_type": "display_data",
          "data": {
            "text/plain": [
              "<Figure size 1200x500 with 4 Axes>"
            ],
            "image/png": "[encoded data removed]"
          },
          "metadata": {}
        }
      ]
    },
    {
      "cell_type": "markdown",
      "source": [
        "Ограничим цену недвижимости 1,5 до 50 млн, так как на данном промежутке цена распределена более нормально. Так же таким образом мы избавимся от выбросов и сохраним достаточное количество данным для обучения"
      ],
      "metadata": {
        "id": "g3hbeupyc_2V"
      }
    },
    {
      "cell_type": "code",
      "source": [
        "df = df.loc[(df['price']>= 1500000)&(df['price']<=50000000)]"
      ],
      "metadata": {
        "id": "DwGzHDbsdW6I"
      },
      "execution_count": null,
      "outputs": []
    },
    {
      "cell_type": "markdown",
      "source": [
        "Так как данных достаточно много, то просто уберем аномальные значения в других колонках"
      ],
      "metadata": {
        "id": "XEA90lcMePh6"
      }
    },
    {
      "cell_type": "code",
      "source": [
        "fig, axs = plt.subplots(1,2, figsize=(12,5), dpi = 100)\n",
        "fig.suptitle('Распределение объектов недвижимости по площади недвижимости', fontsize=18)\n",
        "axs[0].hist(df['area'], bins = 100)\n",
        "axs[0].set_xlabel('Площадь')\n",
        "axs[0].set_ylabel('Количество объектов')\n",
        "axs[1].boxplot(df['area'])\n",
        "axs[1].set_ylabel('Площадь')\n",
        "plt.show()"
      ],
      "metadata": {
        "id": "t59Vm348eaWG",
        "colab": {
          "base_uri": "https://localhost:8080/"
        },
        "outputId": "9587211f-09b1-4bf7-e4ea-d29b0e561f13"
      },
      "execution_count": null,
      "outputs": [
        {
          "output_type": "display_data",
          "data": {
            "text/plain": [
              "<Figure size 1200x500 with 2 Axes>"
            ],
            "image/png": "[encoded data removed]"
          },
          "metadata": {}
        }
      ]
    },
    {
      "cell_type": "code",
      "source": [
        "df = df[(df['area'] <=200) & (df['area'] >= 20)]"
      ],
      "metadata": {
        "id": "7FciD6KPgGfk"
      },
      "execution_count": null,
      "outputs": []
    },
    {
      "cell_type": "code",
      "source": [
        "fig, axs = plt.subplots(1,2, figsize=(12,5), dpi = 100)\n",
        "fig.suptitle('Распределение объектов недвижимости по площади кухни', fontsize=18)\n",
        "axs[0].hist(df['kitchen_area'], bins = 100)\n",
        "axs[0].set_xlabel('Площадь')\n",
        "axs[0].set_ylabel('Количество объектов')\n",
        "axs[1].boxplot(df['kitchen_area'])\n",
        "axs[1].set_ylabel('Площадь')\n",
        "plt.show()"
      ],
      "metadata": {
        "colab": {
          "base_uri": "https://localhost:8080/"
        },
        "id": "OLUaTlxDgLRa",
        "outputId": "17932c8d-3489-46d0-8594-4c6a114cfe2e"
      },
      "execution_count": null,
      "outputs": [
        {
          "output_type": "display_data",
          "data": {
            "text/plain": [
              "<Figure size 1200x500 with 2 Axes>"
            ],
            "image/png": "[encoded data removed]"
          },
          "metadata": {}
        }
      ]
    },
    {
      "cell_type": "code",
      "source": [
        "df = df[(df['kitchen_area'] <=30) & (df['kitchen_area'] >= 6)]"
      ],
      "metadata": {
        "id": "hQ52lVg0gjC-"
      },
      "execution_count": null,
      "outputs": []
    },
    {
      "cell_type": "code",
      "source": [
        "df.describe()"
      ],
      "metadata": {
        "colab": {
          "base_uri": "https://localhost:8080/"
        },
        "id": "ZRh3YdY_YIV5",
        "outputId": "9f898664-00e2-47b3-b1b1-636410312816"
      },
      "execution_count": null,
      "outputs": [
        {
          "output_type": "execute_result",
          "data": {
            "text/plain": [
              "              price        geo_lat        geo_lon  building_type  \\\n",
              "count  4.106630e+05  410663.000000  410663.000000  410663.000000   \n",
              "mean   7.595275e+06      59.933733      30.321789       1.933408   \n",
              "std    5.075850e+06       0.084681       0.118446       0.950184   \n",
              "min    1.500000e+06      59.647383      29.509349       0.000000   \n",
              "25%    4.590000e+06      59.863938      30.256876       1.000000   \n",
              "50%    6.065766e+06      59.939084      30.324465       2.000000   \n",
              "75%    8.745887e+06      60.002036      30.401117       3.000000   \n",
              "max    5.000000e+07      60.241984      30.711428       5.000000   \n",
              "\n",
              "               level         levels          rooms           area  \\\n",
              "count  410663.000000  410663.000000  410663.000000  410663.000000   \n",
              "mean        7.724516      14.653879       1.876595      57.528256   \n",
              "std         5.717459       6.967540       0.902790      24.991515   \n",
              "min         1.000000       1.000000       1.000000      20.000000   \n",
              "25%         3.000000       9.000000       1.000000      38.600000   \n",
              "50%         6.000000      14.000000       2.000000      52.000000   \n",
              "75%        11.000000      21.000000       2.000000      68.400000   \n",
              "max        35.000000      38.000000       9.000000     200.000000   \n",
              "\n",
              "        kitchen_area    object_type           year          month  \n",
              "count  410663.000000  410663.000000  410663.000000  410663.000000  \n",
              "mean       12.565677       5.371687    2019.539688       6.538517  \n",
              "std         4.722221       4.960371       0.854656       3.433490  \n",
              "min         6.000000       1.000000    2018.000000       1.000000  \n",
              "25%         9.100000       1.000000    2019.000000       3.000000  \n",
              "50%        11.500000       1.000000    2020.000000       7.000000  \n",
              "75%        15.100000      11.000000    2020.000000      10.000000  \n",
              "max        30.000000      11.000000    2021.000000      12.000000  "
            ],
            "text/html": [
              "<div>\n",
              "<style scoped>\n",
              "    .dataframe tbody tr th:only-of-type {\n",
              "        vertical-align: middle;\n",
              "    }\n",
              "\n",
              "    .dataframe tbody tr th {\n",
              "        vertical-align: top;\n",
              "    }\n",
              "\n",
              "    .dataframe thead th {\n",
              "        text-align: right;\n",
              "    }\n",
              "</style>\n",
              "<table border=\"1\" class=\"dataframe\">\n",
              "  <thead>\n",
              "    <tr style=\"text-align: right;\">\n",
              "      <th></th>\n",
              "      <th>price</th>\n",
              "      <th>geo_lat</th>\n",
              "      <th>geo_lon</th>\n",
              "      <th>building_type</th>\n",
              "      <th>level</th>\n",
              "      <th>levels</th>\n",
              "      <th>rooms</th>\n",
              "      <th>area</th>\n",
              "      <th>kitchen_area</th>\n",
              "      <th>object_type</th>\n",
              "      <th>year</th>\n",
              "      <th>month</th>\n",
              "    </tr>\n",
              "  </thead>\n",
              "  <tbody>\n",
              "    <tr>\n",
              "      <th>count</th>\n",
              "      <td>4.106630e+05</td>\n",
              "      <td>410663.000000</td>\n",
              "      <td>410663.000000</td>\n",
              "      <td>410663.000000</td>\n",
              "      <td>410663.000000</td>\n",
              "      <td>410663.000000</td>\n",
              "      <td>410663.000000</td>\n",
              "      <td>410663.000000</td>\n",
              "      <td>410663.000000</td>\n",
              "      <td>410663.000000</td>\n",
              "      <td>410663.000000</td>\n",
              "      <td>410663.000000</td>\n",
              "    </tr>\n",
              "    <tr>\n",
              "      <th>mean</th>\n",
              "      <td>7.595275e+06</td>\n",
              "      <td>59.933733</td>\n",
              "      <td>30.321789</td>\n",
              "      <td>1.933408</td>\n",
              "      <td>7.724516</td>\n",
              "      <td>14.653879</td>\n",
              "      <td>1.876595</td>\n",
              "      <td>57.528256</td>\n",
              "      <td>12.565677</td>\n",
              "      <td>5.371687</td>\n",
              "      <td>2019.539688</td>\n",
              "      <td>6.538517</td>\n",
              "    </tr>\n",
              "    <tr>\n",
              "      <th>std</th>\n",
              "      <td>5.075850e+06</td>\n",
              "      <td>0.084681</td>\n",
              "      <td>0.118446</td>\n",
              "      <td>0.950184</td>\n",
              "      <td>5.717459</td>\n",
              "      <td>6.967540</td>\n",
              "      <td>0.902790</td>\n",
              "      <td>24.991515</td>\n",
              "      <td>4.722221</td>\n",
              "      <td>4.960371</td>\n",
              "      <td>0.854656</td>\n",
              "      <td>3.433490</td>\n",
              "    </tr>\n",
              "    <tr>\n",
              "      <th>min</th>\n",
              "      <td>1.500000e+06</td>\n",
              "      <td>59.647383</td>\n",
              "      <td>29.509349</td>\n",
              "      <td>0.000000</td>\n",
              "      <td>1.000000</td>\n",
              "      <td>1.000000</td>\n",
              "      <td>1.000000</td>\n",
              "      <td>20.000000</td>\n",
              "      <td>6.000000</td>\n",
              "      <td>1.000000</td>\n",
              "      <td>2018.000000</td>\n",
              "      <td>1.000000</td>\n",
              "    </tr>\n",
              "    <tr>\n",
              "      <th>25%</th>\n",
              "      <td>4.590000e+06</td>\n",
              "      <td>59.863938</td>\n",
              "      <td>30.256876</td>\n",
              "      <td>1.000000</td>\n",
              "      <td>3.000000</td>\n",
              "      <td>9.000000</td>\n",
              "      <td>1.000000</td>\n",
              "      <td>38.600000</td>\n",
              "      <td>9.100000</td>\n",
              "      <td>1.000000</td>\n",
              "      <td>2019.000000</td>\n",
              "      <td>3.000000</td>\n",
              "    </tr>\n",
              "    <tr>\n",
              "      <th>50%</th>\n",
              "      <td>6.065766e+06</td>\n",
              "      <td>59.939084</td>\n",
              "      <td>30.324465</td>\n",
              "      <td>2.000000</td>\n",
              "      <td>6.000000</td>\n",
              "      <td>14.000000</td>\n",
              "      <td>2.000000</td>\n",
              "      <td>52.000000</td>\n",
              "      <td>11.500000</td>\n",
              "      <td>1.000000</td>\n",
              "      <td>2020.000000</td>\n",
              "      <td>7.000000</td>\n",
              "    </tr>\n",
              "    <tr>\n",
              "      <th>75%</th>\n",
              "      <td>8.745887e+06</td>\n",
              "      <td>60.002036</td>\n",
              "      <td>30.401117</td>\n",
              "      <td>3.000000</td>\n",
              "      <td>11.000000</td>\n",
              "      <td>21.000000</td>\n",
              "      <td>2.000000</td>\n",
              "      <td>68.400000</td>\n",
              "      <td>15.100000</td>\n",
              "      <td>11.000000</td>\n",
              "      <td>2020.000000</td>\n",
              "      <td>10.000000</td>\n",
              "    </tr>\n",
              "    <tr>\n",
              "      <th>max</th>\n",
              "      <td>5.000000e+07</td>\n",
              "      <td>60.241984</td>\n",
              "      <td>30.711428</td>\n",
              "      <td>5.000000</td>\n",
              "      <td>35.000000</td>\n",
              "      <td>38.000000</td>\n",
              "      <td>9.000000</td>\n",
              "      <td>200.000000</td>\n",
              "      <td>30.000000</td>\n",
              "      <td>11.000000</td>\n",
              "      <td>2021.000000</td>\n",
              "      <td>12.000000</td>\n",
              "    </tr>\n",
              "  </tbody>\n",
              "</table>\n",
              "</div>"
            ]
          },
          "metadata": {},
          "execution_count": 19
        }
      ]
    },
    {
      "cell_type": "code",
      "source": [
        "df.info()"
      ],
      "metadata": {
        "colab": {
          "base_uri": "https://localhost:8080/"
        },
        "id": "miP0JM_Hi3tl",
        "outputId": "48c45308-28a8-4915-b9fb-8d2da2f47b5c"
      },
      "execution_count": null,
      "outputs": [
        {
          "output_type": "stream",
          "name": "stdout",
          "text": [
            "<class 'pandas.core.frame.DataFrame'>\n",
            "Int64Index: 410663 entries, 0 to 5476998\n",
            "Data columns (total 12 columns):\n",
            " #   Column         Non-Null Count   Dtype  \n",
            "---  ------         --------------   -----  \n",
            " 0   price          410663 non-null  int64  \n",
            " 1   geo_lat        410663 non-null  float64\n",
            " 2   geo_lon        410663 non-null  float64\n",
            " 3   building_type  410663 non-null  int64  \n",
            " 4   level          410663 non-null  int64  \n",
            " 5   levels         410663 non-null  int64  \n",
            " 6   rooms          410663 non-null  int64  \n",
            " 7   area           410663 non-null  float64\n",
            " 8   kitchen_area   410663 non-null  float64\n",
            " 9   object_type    410663 non-null  int64  \n",
            " 10  year           410663 non-null  int64  \n",
            " 11  month          410663 non-null  int64  \n",
            "dtypes: float64(4), int64(8)\n",
            "memory usage: 40.7 MB\n"
          ]
        }
      ]
    },
    {
      "cell_type": "code",
      "source": [
        "corr = df.corr()\n",
        "corr.style.background_gradient(cmap='coolwarm')"
      ],
      "metadata": {
        "colab": {
          "base_uri": "https://localhost:8080/"
        },
        "id": "Pgtzwm49jRIc",
        "outputId": "85cb2de0-c085-44ae-9215-73d89c4e22bb"
      },
      "execution_count": null,
      "outputs": [
        {
          "output_type": "execute_result",
          "data": {
            "text/plain": [
              "<pandas.io.formats.style.Styler at 0x243804c6c40>"
            ],
            "text/html": [
              "<style type=\"text/css\">\n",
              "#T_3074e_row0_col0, #T_3074e_row1_col1, #T_3074e_row2_col2, #T_3074e_row3_col3, #T_3074e_row4_col4, #T_3074e_row5_col5, #T_3074e_row6_col6, #T_3074e_row7_col7, #T_3074e_row8_col8, #T_3074e_row9_col9, #T_3074e_row10_col10, #T_3074e_row11_col11 {\n",
              "  background-color: #b40426;\n",
              "  color: #f1f1f1;\n",
              "}\n",
              "#T_3074e_row0_col1 {\n",
              "  background-color: #779af7;\n",
              "  color: #f1f1f1;\n",
              "}\n",
              "#T_3074e_row0_col2, #T_3074e_row4_col6, #T_3074e_row8_col2, #T_3074e_row9_col6, #T_3074e_row9_col7 {\n",
              "  background-color: #516ddb;\n",
              "  color: #f1f1f1;\n",
              "}\n",
              "#T_3074e_row0_col3, #T_3074e_row11_col6 {\n",
              "  background-color: #7597f6;\n",
              "  color: #f1f1f1;\n",
              "}\n",
              "#T_3074e_row0_col4 {\n",
              "  background-color: #4a63d3;\n",
              "  color: #f1f1f1;\n",
              "}\n",
              "#T_3074e_row0_col5 {\n",
              "  background-color: #465ecf;\n",
              "  color: #f1f1f1;\n",
              "}\n",
              "#T_3074e_row0_col6 {\n",
              "  background-color: #f3c7b1;\n",
              "  color: #000000;\n",
              "}\n",
              "#T_3074e_row0_col7 {\n",
              "  background-color: #ec7f63;\n",
              "  color: #f1f1f1;\n",
              "}\n",
              "#T_3074e_row0_col8 {\n",
              "  background-color: #e3d9d3;\n",
              "  color: #000000;\n",
              "}\n",
              "#T_3074e_row0_col9, #T_3074e_row10_col8 {\n",
              "  background-color: #5977e3;\n",
              "  color: #f1f1f1;\n",
              "}\n",
              "#T_3074e_row0_col10, #T_3074e_row9_col5 {\n",
              "  background-color: #c6d6f1;\n",
              "  color: #000000;\n",
              "}\n",
              "#T_3074e_row0_col11, #T_3074e_row7_col10 {\n",
              "  background-color: #9fbfff;\n",
              "  color: #000000;\n",
              "}\n",
              "#T_3074e_row1_col0, #T_3074e_row10_col5 {\n",
              "  background-color: #7b9ff9;\n",
              "  color: #f1f1f1;\n",
              "}\n",
              "#T_3074e_row1_col2, #T_3074e_row2_col1, #T_3074e_row2_col8, #T_3074e_row5_col0, #T_3074e_row5_col3, #T_3074e_row5_col6, #T_3074e_row5_col7, #T_3074e_row6_col4, #T_3074e_row6_col5, #T_3074e_row6_col9, #T_3074e_row10_col11, #T_3074e_row11_col10 {\n",
              "  background-color: #3b4cc0;\n",
              "  color: #f1f1f1;\n",
              "}\n",
              "#T_3074e_row1_col3, #T_3074e_row3_col2, #T_3074e_row10_col3 {\n",
              "  background-color: #506bda;\n",
              "  color: #f1f1f1;\n",
              "}\n",
              "#T_3074e_row1_col4 {\n",
              "  background-color: #89acfd;\n",
              "  color: #000000;\n",
              "}\n",
              "#T_3074e_row1_col5, #T_3074e_row3_col11 {\n",
              "  background-color: #b5cdfa;\n",
              "  color: #000000;\n",
              "}\n",
              "#T_3074e_row1_col6, #T_3074e_row8_col1, #T_3074e_row10_col6 {\n",
              "  background-color: #7396f5;\n",
              "  color: #f1f1f1;\n",
              "}\n",
              "#T_3074e_row1_col7 {\n",
              "  background-color: #6c8ff1;\n",
              "  color: #f1f1f1;\n",
              "}\n",
              "#T_3074e_row1_col8 {\n",
              "  background-color: #5d7ce6;\n",
              "  color: #f1f1f1;\n",
              "}\n",
              "#T_3074e_row1_col9 {\n",
              "  background-color: #799cf8;\n",
              "  color: #f1f1f1;\n",
              "}\n",
              "#T_3074e_row1_col10, #T_3074e_row5_col10 {\n",
              "  background-color: #abc8fd;\n",
              "  color: #000000;\n",
              "}\n",
              "#T_3074e_row1_col11, #T_3074e_row4_col11, #T_3074e_row6_col11 {\n",
              "  background-color: #a6c4fe;\n",
              "  color: #000000;\n",
              "}\n",
              "#T_3074e_row2_col0, #T_3074e_row2_col7, #T_3074e_row3_col9, #T_3074e_row11_col9 {\n",
              "  background-color: #5673e0;\n",
              "  color: #f1f1f1;\n",
              "}\n",
              "#T_3074e_row2_col3, #T_3074e_row4_col3 {\n",
              "  background-color: #4961d2;\n",
              "  color: #f1f1f1;\n",
              "}\n",
              "#T_3074e_row2_col4, #T_3074e_row5_col8, #T_3074e_row6_col3, #T_3074e_row11_col3 {\n",
              "  background-color: #6f92f3;\n",
              "  color: #f1f1f1;\n",
              "}\n",
              "#T_3074e_row2_col5, #T_3074e_row4_col1 {\n",
              "  background-color: #8fb1fe;\n",
              "  color: #000000;\n",
              "}\n",
              "#T_3074e_row2_col6, #T_3074e_row11_col5 {\n",
              "  background-color: #7295f4;\n",
              "  color: #f1f1f1;\n",
              "}\n",
              "#T_3074e_row2_col9, #T_3074e_row11_col1 {\n",
              "  background-color: #6485ec;\n",
              "  color: #f1f1f1;\n",
              "}\n",
              "#T_3074e_row2_col10, #T_3074e_row7_col11, #T_3074e_row8_col11 {\n",
              "  background-color: #a7c5fe;\n",
              "  color: #000000;\n",
              "}\n",
              "#T_3074e_row2_col11, #T_3074e_row6_col10 {\n",
              "  background-color: #a5c3fe;\n",
              "  color: #000000;\n",
              "}\n",
              "#T_3074e_row3_col0 {\n",
              "  background-color: #81a4fb;\n",
              "  color: #f1f1f1;\n",
              "}\n",
              "#T_3074e_row3_col1 {\n",
              "  background-color: #5875e1;\n",
              "  color: #f1f1f1;\n",
              "}\n",
              "#T_3074e_row3_col4 {\n",
              "  background-color: #4b64d5;\n",
              "  color: #f1f1f1;\n",
              "}\n",
              "#T_3074e_row3_col5 {\n",
              "  background-color: #536edd;\n",
              "  color: #f1f1f1;\n",
              "}\n",
              "#T_3074e_row3_col6 {\n",
              "  background-color: #88abfd;\n",
              "  color: #000000;\n",
              "}\n",
              "#T_3074e_row3_col7 {\n",
              "  background-color: #84a7fc;\n",
              "  color: #f1f1f1;\n",
              "}\n",
              "#T_3074e_row3_col8 {\n",
              "  background-color: #5b7ae5;\n",
              "  color: #f1f1f1;\n",
              "}\n",
              "#T_3074e_row3_col10 {\n",
              "  background-color: #9dbdff;\n",
              "  color: #000000;\n",
              "}\n",
              "#T_3074e_row4_col0, #T_3074e_row7_col2 {\n",
              "  background-color: #5470de;\n",
              "  color: #f1f1f1;\n",
              "}\n",
              "#T_3074e_row4_col2 {\n",
              "  background-color: #7699f6;\n",
              "  color: #f1f1f1;\n",
              "}\n",
              "#T_3074e_row4_col5 {\n",
              "  background-color: #f7b599;\n",
              "  color: #000000;\n",
              "}\n",
              "#T_3074e_row4_col7 {\n",
              "  background-color: #4e68d8;\n",
              "  color: #f1f1f1;\n",
              "}\n",
              "#T_3074e_row4_col8, #T_3074e_row11_col4 {\n",
              "  background-color: #5e7de7;\n",
              "  color: #f1f1f1;\n",
              "}\n",
              "#T_3074e_row4_col9, #T_3074e_row6_col8, #T_3074e_row9_col4 {\n",
              "  background-color: #8caffe;\n",
              "  color: #000000;\n",
              "}\n",
              "#T_3074e_row4_col10 {\n",
              "  background-color: #aac7fd;\n",
              "  color: #000000;\n",
              "}\n",
              "#T_3074e_row5_col1 {\n",
              "  background-color: #a9c6fd;\n",
              "  color: #000000;\n",
              "}\n",
              "#T_3074e_row5_col2 {\n",
              "  background-color: #80a3fa;\n",
              "  color: #f1f1f1;\n",
              "}\n",
              "#T_3074e_row5_col4 {\n",
              "  background-color: #f6bea4;\n",
              "  color: #000000;\n",
              "}\n",
              "#T_3074e_row5_col9 {\n",
              "  background-color: #b7cff9;\n",
              "  color: #000000;\n",
              "}\n",
              "#T_3074e_row5_col11 {\n",
              "  background-color: #a3c2fe;\n",
              "  color: #000000;\n",
              "}\n",
              "#T_3074e_row6_col0 {\n",
              "  background-color: #f2cbb7;\n",
              "  color: #000000;\n",
              "}\n",
              "#T_3074e_row6_col1, #T_3074e_row9_col0, #T_3074e_row10_col4, #T_3074e_row11_col2 {\n",
              "  background-color: #6384eb;\n",
              "  color: #f1f1f1;\n",
              "}\n",
              "#T_3074e_row6_col2, #T_3074e_row11_col0 {\n",
              "  background-color: #6282ea;\n",
              "  color: #f1f1f1;\n",
              "}\n",
              "#T_3074e_row6_col7 {\n",
              "  background-color: #e8765c;\n",
              "  color: #f1f1f1;\n",
              "}\n",
              "#T_3074e_row7_col0 {\n",
              "  background-color: #eb7d62;\n",
              "  color: #f1f1f1;\n",
              "}\n",
              "#T_3074e_row7_col1, #T_3074e_row8_col3 {\n",
              "  background-color: #6a8bef;\n",
              "  color: #f1f1f1;\n",
              "}\n",
              "#T_3074e_row7_col3 {\n",
              "  background-color: #7a9df8;\n",
              "  color: #f1f1f1;\n",
              "}\n",
              "#T_3074e_row7_col4 {\n",
              "  background-color: #455cce;\n",
              "  color: #f1f1f1;\n",
              "}\n",
              "#T_3074e_row7_col5, #T_3074e_row7_col9 {\n",
              "  background-color: #485fd1;\n",
              "  color: #f1f1f1;\n",
              "}\n",
              "#T_3074e_row7_col6 {\n",
              "  background-color: #e67259;\n",
              "  color: #f1f1f1;\n",
              "}\n",
              "#T_3074e_row7_col8 {\n",
              "  background-color: #dcdddd;\n",
              "  color: #000000;\n",
              "}\n",
              "#T_3074e_row8_col0 {\n",
              "  background-color: #edd2c3;\n",
              "  color: #000000;\n",
              "}\n",
              "#T_3074e_row8_col4 {\n",
              "  background-color: #6e90f2;\n",
              "  color: #f1f1f1;\n",
              "}\n",
              "#T_3074e_row8_col5, #T_3074e_row10_col0 {\n",
              "  background-color: #94b6ff;\n",
              "  color: #000000;\n",
              "}\n",
              "#T_3074e_row8_col6, #T_3074e_row9_col8 {\n",
              "  background-color: #adc9fd;\n",
              "  color: #000000;\n",
              "}\n",
              "#T_3074e_row8_col7 {\n",
              "  background-color: #e7d7ce;\n",
              "  color: #000000;\n",
              "}\n",
              "#T_3074e_row8_col9 {\n",
              "  background-color: #b9d0f9;\n",
              "  color: #000000;\n",
              "}\n",
              "#T_3074e_row8_col10 {\n",
              "  background-color: #aec9fc;\n",
              "  color: #000000;\n",
              "}\n",
              "#T_3074e_row9_col1 {\n",
              "  background-color: #7ea1fa;\n",
              "  color: #f1f1f1;\n",
              "}\n",
              "#T_3074e_row9_col2, #T_3074e_row10_col1 {\n",
              "  background-color: #6b8df0;\n",
              "  color: #f1f1f1;\n",
              "}\n",
              "#T_3074e_row9_col3 {\n",
              "  background-color: #5572df;\n",
              "  color: #f1f1f1;\n",
              "}\n",
              "#T_3074e_row9_col10 {\n",
              "  background-color: #bed2f6;\n",
              "  color: #000000;\n",
              "}\n",
              "#T_3074e_row9_col11 {\n",
              "  background-color: #a1c0ff;\n",
              "  color: #000000;\n",
              "}\n",
              "#T_3074e_row10_col2 {\n",
              "  background-color: #6687ed;\n",
              "  color: #f1f1f1;\n",
              "}\n",
              "#T_3074e_row10_col7 {\n",
              "  background-color: #5f7fe8;\n",
              "  color: #f1f1f1;\n",
              "}\n",
              "#T_3074e_row10_col9 {\n",
              "  background-color: #7da0f9;\n",
              "  color: #f1f1f1;\n",
              "}\n",
              "#T_3074e_row11_col7 {\n",
              "  background-color: #688aef;\n",
              "  color: #f1f1f1;\n",
              "}\n",
              "#T_3074e_row11_col8 {\n",
              "  background-color: #4f69d9;\n",
              "  color: #f1f1f1;\n",
              "}\n",
              "</style>\n",
              "<table id=\"T_3074e\">\n",
              "  <thead>\n",
              "    <tr>\n",
              "      <th class=\"blank level0\" >&nbsp;</th>\n",
              "      <th id=\"T_3074e_level0_col0\" class=\"col_heading level0 col0\" >price</th>\n",
              "      <th id=\"T_3074e_level0_col1\" class=\"col_heading level0 col1\" >geo_lat</th>\n",
              "      <th id=\"T_3074e_level0_col2\" class=\"col_heading level0 col2\" >geo_lon</th>\n",
              "      <th id=\"T_3074e_level0_col3\" class=\"col_heading level0 col3\" >building_type</th>\n",
              "      <th id=\"T_3074e_level0_col4\" class=\"col_heading level0 col4\" >level</th>\n",
              "      <th id=\"T_3074e_level0_col5\" class=\"col_heading level0 col5\" >levels</th>\n",
              "      <th id=\"T_3074e_level0_col6\" class=\"col_heading level0 col6\" >rooms</th>\n",
              "      <th id=\"T_3074e_level0_col7\" class=\"col_heading level0 col7\" >area</th>\n",
              "      <th id=\"T_3074e_level0_col8\" class=\"col_heading level0 col8\" >kitchen_area</th>\n",
              "      <th id=\"T_3074e_level0_col9\" class=\"col_heading level0 col9\" >object_type</th>\n",
              "      <th id=\"T_3074e_level0_col10\" class=\"col_heading level0 col10\" >year</th>\n",
              "      <th id=\"T_3074e_level0_col11\" class=\"col_heading level0 col11\" >month</th>\n",
              "    </tr>\n",
              "  </thead>\n",
              "  <tbody>\n",
              "    <tr>\n",
              "      <th id=\"T_3074e_level0_row0\" class=\"row_heading level0 row0\" >price</th>\n",
              "      <td id=\"T_3074e_row0_col0\" class=\"data row0 col0\" >1.000000</td>\n",
              "      <td id=\"T_3074e_row0_col1\" class=\"data row0 col1\" >0.059786</td>\n",
              "      <td id=\"T_3074e_row0_col2\" class=\"data row0 col2\" >-0.069051</td>\n",
              "      <td id=\"T_3074e_row0_col3\" class=\"data row0 col3\" >0.076815</td>\n",
              "      <td id=\"T_3074e_row0_col4\" class=\"data row0 col4\" >-0.076799</td>\n",
              "      <td id=\"T_3074e_row0_col5\" class=\"data row0 col5\" >-0.177535</td>\n",
              "      <td id=\"T_3074e_row0_col6\" class=\"data row0 col6\" >0.526570</td>\n",
              "      <td id=\"T_3074e_row0_col7\" class=\"data row0 col7\" >0.780188</td>\n",
              "      <td id=\"T_3074e_row0_col8\" class=\"data row0 col8\" >0.490240</td>\n",
              "      <td id=\"T_3074e_row0_col9\" class=\"data row0 col9\" >-0.021540</td>\n",
              "      <td id=\"T_3074e_row0_col10\" class=\"data row0 col10\" >0.140066</td>\n",
              "      <td id=\"T_3074e_row0_col11\" class=\"data row0 col11\" >-0.029486</td>\n",
              "    </tr>\n",
              "    <tr>\n",
              "      <th id=\"T_3074e_level0_row1\" class=\"row_heading level0 row1\" >geo_lat</th>\n",
              "      <td id=\"T_3074e_row1_col0\" class=\"data row1 col0\" >0.059786</td>\n",
              "      <td id=\"T_3074e_row1_col1\" class=\"data row1 col1\" >1.000000</td>\n",
              "      <td id=\"T_3074e_row1_col2\" class=\"data row1 col2\" >-0.159221</td>\n",
              "      <td id=\"T_3074e_row1_col3\" class=\"data row1 col3\" >-0.046907</td>\n",
              "      <td id=\"T_3074e_row1_col4\" class=\"data row1 col4\" >0.136593</td>\n",
              "      <td id=\"T_3074e_row1_col5\" class=\"data row1 col5\" >0.221732</td>\n",
              "      <td id=\"T_3074e_row1_col6\" class=\"data row1 col6\" >-0.007318</td>\n",
              "      <td id=\"T_3074e_row1_col7\" class=\"data row1 col7\" >0.015375</td>\n",
              "      <td id=\"T_3074e_row1_col8\" class=\"data row1 col8\" >0.045395</td>\n",
              "      <td id=\"T_3074e_row1_col9\" class=\"data row1 col9\" >0.083565</td>\n",
              "      <td id=\"T_3074e_row1_col10\" class=\"data row1 col10\" >0.019443</td>\n",
              "      <td id=\"T_3074e_row1_col11\" class=\"data row1 col11\" >-0.001410</td>\n",
              "    </tr>\n",
              "    <tr>\n",
              "      <th id=\"T_3074e_level0_row2\" class=\"row_heading level0 row2\" >geo_lon</th>\n",
              "      <td id=\"T_3074e_row2_col0\" class=\"data row2 col0\" >-0.069051</td>\n",
              "      <td id=\"T_3074e_row2_col1\" class=\"data row2 col1\" >-0.159221</td>\n",
              "      <td id=\"T_3074e_row2_col2\" class=\"data row2 col2\" >1.000000</td>\n",
              "      <td id=\"T_3074e_row2_col3\" class=\"data row2 col3\" >-0.074471</td>\n",
              "      <td id=\"T_3074e_row2_col4\" class=\"data row2 col4\" >0.054264</td>\n",
              "      <td id=\"T_3074e_row2_col5\" class=\"data row2 col5\" >0.086318</td>\n",
              "      <td id=\"T_3074e_row2_col6\" class=\"data row2 col6\" >-0.012542</td>\n",
              "      <td id=\"T_3074e_row2_col7\" class=\"data row2 col7\" >-0.062546</td>\n",
              "      <td id=\"T_3074e_row2_col8\" class=\"data row2 col8\" >-0.072554</td>\n",
              "      <td id=\"T_3074e_row2_col9\" class=\"data row2 col9\" >0.017450</td>\n",
              "      <td id=\"T_3074e_row2_col10\" class=\"data row2 col10\" >0.002260</td>\n",
              "      <td id=\"T_3074e_row2_col11\" class=\"data row2 col11\" >-0.008397</td>\n",
              "    </tr>\n",
              "    <tr>\n",
              "      <th id=\"T_3074e_level0_row3\" class=\"row_heading level0 row3\" >building_type</th>\n",
              "      <td id=\"T_3074e_row3_col0\" class=\"data row3 col0\" >0.076815</td>\n",
              "      <td id=\"T_3074e_row3_col1\" class=\"data row3 col1\" >-0.046907</td>\n",
              "      <td id=\"T_3074e_row3_col2\" class=\"data row3 col2\" >-0.074471</td>\n",
              "      <td id=\"T_3074e_row3_col3\" class=\"data row3 col3\" >1.000000</td>\n",
              "      <td id=\"T_3074e_row3_col4\" class=\"data row3 col4\" >-0.071511</td>\n",
              "      <td id=\"T_3074e_row3_col5\" class=\"data row3 col5\" >-0.128030</td>\n",
              "      <td id=\"T_3074e_row3_col6\" class=\"data row3 col6\" >0.060672</td>\n",
              "      <td id=\"T_3074e_row3_col7\" class=\"data row3 col7\" >0.092747</td>\n",
              "      <td id=\"T_3074e_row3_col8\" class=\"data row3 col8\" >0.042632</td>\n",
              "      <td id=\"T_3074e_row3_col9\" class=\"data row3 col9\" >-0.028957</td>\n",
              "      <td id=\"T_3074e_row3_col10\" class=\"data row3 col10\" >-0.044320</td>\n",
              "      <td id=\"T_3074e_row3_col11\" class=\"data row3 col11\" >0.060428</td>\n",
              "    </tr>\n",
              "    <tr>\n",
              "      <th id=\"T_3074e_level0_row4\" class=\"row_heading level0 row4\" >level</th>\n",
              "      <td id=\"T_3074e_row4_col0\" class=\"data row4 col0\" >-0.076799</td>\n",
              "      <td id=\"T_3074e_row4_col1\" class=\"data row4 col1\" >0.136593</td>\n",
              "      <td id=\"T_3074e_row4_col2\" class=\"data row4 col2\" >0.054264</td>\n",
              "      <td id=\"T_3074e_row4_col3\" class=\"data row4 col3\" >-0.071511</td>\n",
              "      <td id=\"T_3074e_row4_col4\" class=\"data row4 col4\" >1.000000</td>\n",
              "      <td id=\"T_3074e_row4_col5\" class=\"data row4 col5\" >0.599788</td>\n",
              "      <td id=\"T_3074e_row4_col6\" class=\"data row4 col6\" >-0.135679</td>\n",
              "      <td id=\"T_3074e_row4_col7\" class=\"data row4 col7\" >-0.095176</td>\n",
              "      <td id=\"T_3074e_row4_col8\" class=\"data row4 col8\" >0.049603</td>\n",
              "      <td id=\"T_3074e_row4_col9\" class=\"data row4 col9\" >0.145445</td>\n",
              "      <td id=\"T_3074e_row4_col10\" class=\"data row4 col10\" >0.015021</td>\n",
              "      <td id=\"T_3074e_row4_col11\" class=\"data row4 col11\" >-0.003034</td>\n",
              "    </tr>\n",
              "    <tr>\n",
              "      <th id=\"T_3074e_level0_row5\" class=\"row_heading level0 row5\" >levels</th>\n",
              "      <td id=\"T_3074e_row5_col0\" class=\"data row5 col0\" >-0.177535</td>\n",
              "      <td id=\"T_3074e_row5_col1\" class=\"data row5 col1\" >0.221732</td>\n",
              "      <td id=\"T_3074e_row5_col2\" class=\"data row5 col2\" >0.086318</td>\n",
              "      <td id=\"T_3074e_row5_col3\" class=\"data row5 col3\" >-0.128030</td>\n",
              "      <td id=\"T_3074e_row5_col4\" class=\"data row5 col4\" >0.599788</td>\n",
              "      <td id=\"T_3074e_row5_col5\" class=\"data row5 col5\" >1.000000</td>\n",
              "      <td id=\"T_3074e_row5_col6\" class=\"data row5 col6\" >-0.227345</td>\n",
              "      <td id=\"T_3074e_row5_col7\" class=\"data row5 col7\" >-0.170713</td>\n",
              "      <td id=\"T_3074e_row5_col8\" class=\"data row5 col8\" >0.105279</td>\n",
              "      <td id=\"T_3074e_row5_col9\" class=\"data row5 col9\" >0.289556</td>\n",
              "      <td id=\"T_3074e_row5_col10\" class=\"data row5 col10\" >0.020559</td>\n",
              "      <td id=\"T_3074e_row5_col11\" class=\"data row5 col11\" >-0.012881</td>\n",
              "    </tr>\n",
              "    <tr>\n",
              "      <th id=\"T_3074e_level0_row6\" class=\"row_heading level0 row6\" >rooms</th>\n",
              "      <td id=\"T_3074e_row6_col0\" class=\"data row6 col0\" >0.526570</td>\n",
              "      <td id=\"T_3074e_row6_col1\" class=\"data row6 col1\" >-0.007318</td>\n",
              "      <td id=\"T_3074e_row6_col2\" class=\"data row6 col2\" >-0.012542</td>\n",
              "      <td id=\"T_3074e_row6_col3\" class=\"data row6 col3\" >0.060672</td>\n",
              "      <td id=\"T_3074e_row6_col4\" class=\"data row6 col4\" >-0.135679</td>\n",
              "      <td id=\"T_3074e_row6_col5\" class=\"data row6 col5\" >-0.227345</td>\n",
              "      <td id=\"T_3074e_row6_col6\" class=\"data row6 col6\" >1.000000</td>\n",
              "      <td id=\"T_3074e_row6_col7\" class=\"data row6 col7\" >0.802097</td>\n",
              "      <td id=\"T_3074e_row6_col8\" class=\"data row6 col8\" >0.191556</td>\n",
              "      <td id=\"T_3074e_row6_col9\" class=\"data row6 col9\" >-0.134170</td>\n",
              "      <td id=\"T_3074e_row6_col10\" class=\"data row6 col10\" >-0.008151</td>\n",
              "      <td id=\"T_3074e_row6_col11\" class=\"data row6 col11\" >-0.005802</td>\n",
              "    </tr>\n",
              "    <tr>\n",
              "      <th id=\"T_3074e_level0_row7\" class=\"row_heading level0 row7\" >area</th>\n",
              "      <td id=\"T_3074e_row7_col0\" class=\"data row7 col0\" >0.780188</td>\n",
              "      <td id=\"T_3074e_row7_col1\" class=\"data row7 col1\" >0.015375</td>\n",
              "      <td id=\"T_3074e_row7_col2\" class=\"data row7 col2\" >-0.062546</td>\n",
              "      <td id=\"T_3074e_row7_col3\" class=\"data row7 col3\" >0.092747</td>\n",
              "      <td id=\"T_3074e_row7_col4\" class=\"data row7 col4\" >-0.095176</td>\n",
              "      <td id=\"T_3074e_row7_col5\" class=\"data row7 col5\" >-0.170713</td>\n",
              "      <td id=\"T_3074e_row7_col6\" class=\"data row7 col6\" >0.802097</td>\n",
              "      <td id=\"T_3074e_row7_col7\" class=\"data row7 col7\" >1.000000</td>\n",
              "      <td id=\"T_3074e_row7_col8\" class=\"data row7 col8\" >0.461660</td>\n",
              "      <td id=\"T_3074e_row7_col9\" class=\"data row7 col9\" >-0.082827</td>\n",
              "      <td id=\"T_3074e_row7_col10\" class=\"data row7 col10\" >-0.030105</td>\n",
              "      <td id=\"T_3074e_row7_col11\" class=\"data row7 col11\" >0.003026</td>\n",
              "    </tr>\n",
              "    <tr>\n",
              "      <th id=\"T_3074e_level0_row8\" class=\"row_heading level0 row8\" >kitchen_area</th>\n",
              "      <td id=\"T_3074e_row8_col0\" class=\"data row8 col0\" >0.490240</td>\n",
              "      <td id=\"T_3074e_row8_col1\" class=\"data row8 col1\" >0.045395</td>\n",
              "      <td id=\"T_3074e_row8_col2\" class=\"data row8 col2\" >-0.072554</td>\n",
              "      <td id=\"T_3074e_row8_col3\" class=\"data row8 col3\" >0.042632</td>\n",
              "      <td id=\"T_3074e_row8_col4\" class=\"data row8 col4\" >0.049603</td>\n",
              "      <td id=\"T_3074e_row8_col5\" class=\"data row8 col5\" >0.105279</td>\n",
              "      <td id=\"T_3074e_row8_col6\" class=\"data row8 col6\" >0.191556</td>\n",
              "      <td id=\"T_3074e_row8_col7\" class=\"data row8 col7\" >0.461660</td>\n",
              "      <td id=\"T_3074e_row8_col8\" class=\"data row8 col8\" >1.000000</td>\n",
              "      <td id=\"T_3074e_row8_col9\" class=\"data row8 col9\" >0.295131</td>\n",
              "      <td id=\"T_3074e_row8_col10\" class=\"data row8 col10\" >0.033858</td>\n",
              "      <td id=\"T_3074e_row8_col11\" class=\"data row8 col11\" >0.002598</td>\n",
              "    </tr>\n",
              "    <tr>\n",
              "      <th id=\"T_3074e_level0_row9\" class=\"row_heading level0 row9\" >object_type</th>\n",
              "      <td id=\"T_3074e_row9_col0\" class=\"data row9 col0\" >-0.021540</td>\n",
              "      <td id=\"T_3074e_row9_col1\" class=\"data row9 col1\" >0.083565</td>\n",
              "      <td id=\"T_3074e_row9_col2\" class=\"data row9 col2\" >0.017450</td>\n",
              "      <td id=\"T_3074e_row9_col3\" class=\"data row9 col3\" >-0.028957</td>\n",
              "      <td id=\"T_3074e_row9_col4\" class=\"data row9 col4\" >0.145445</td>\n",
              "      <td id=\"T_3074e_row9_col5\" class=\"data row9 col5\" >0.289556</td>\n",
              "      <td id=\"T_3074e_row9_col6\" class=\"data row9 col6\" >-0.134170</td>\n",
              "      <td id=\"T_3074e_row9_col7\" class=\"data row9 col7\" >-0.082827</td>\n",
              "      <td id=\"T_3074e_row9_col8\" class=\"data row9 col8\" >0.295131</td>\n",
              "      <td id=\"T_3074e_row9_col9\" class=\"data row9 col9\" >1.000000</td>\n",
              "      <td id=\"T_3074e_row9_col10\" class=\"data row9 col10\" >0.100578</td>\n",
              "      <td id=\"T_3074e_row9_col11\" class=\"data row9 col11\" >-0.028066</td>\n",
              "    </tr>\n",
              "    <tr>\n",
              "      <th id=\"T_3074e_level0_row10\" class=\"row_heading level0 row10\" >year</th>\n",
              "      <td id=\"T_3074e_row10_col0\" class=\"data row10 col0\" >0.140066</td>\n",
              "      <td id=\"T_3074e_row10_col1\" class=\"data row10 col1\" >0.019443</td>\n",
              "      <td id=\"T_3074e_row10_col2\" class=\"data row10 col2\" >0.002260</td>\n",
              "      <td id=\"T_3074e_row10_col3\" class=\"data row10 col3\" >-0.044320</td>\n",
              "      <td id=\"T_3074e_row10_col4\" class=\"data row10 col4\" >0.015021</td>\n",
              "      <td id=\"T_3074e_row10_col5\" class=\"data row10 col5\" >0.020559</td>\n",
              "      <td id=\"T_3074e_row10_col6\" class=\"data row10 col6\" >-0.008151</td>\n",
              "      <td id=\"T_3074e_row10_col7\" class=\"data row10 col7\" >-0.030105</td>\n",
              "      <td id=\"T_3074e_row10_col8\" class=\"data row10 col8\" >0.033858</td>\n",
              "      <td id=\"T_3074e_row10_col9\" class=\"data row10 col9\" >0.100578</td>\n",
              "      <td id=\"T_3074e_row10_col10\" class=\"data row10 col10\" >1.000000</td>\n",
              "      <td id=\"T_3074e_row10_col11\" class=\"data row10 col11\" >-0.480184</td>\n",
              "    </tr>\n",
              "    <tr>\n",
              "      <th id=\"T_3074e_level0_row11\" class=\"row_heading level0 row11\" >month</th>\n",
              "      <td id=\"T_3074e_row11_col0\" class=\"data row11 col0\" >-0.029486</td>\n",
              "      <td id=\"T_3074e_row11_col1\" class=\"data row11 col1\" >-0.001410</td>\n",
              "      <td id=\"T_3074e_row11_col2\" class=\"data row11 col2\" >-0.008397</td>\n",
              "      <td id=\"T_3074e_row11_col3\" class=\"data row11 col3\" >0.060428</td>\n",
              "      <td id=\"T_3074e_row11_col4\" class=\"data row11 col4\" >-0.003034</td>\n",
              "      <td id=\"T_3074e_row11_col5\" class=\"data row11 col5\" >-0.012881</td>\n",
              "      <td id=\"T_3074e_row11_col6\" class=\"data row11 col6\" >-0.005802</td>\n",
              "      <td id=\"T_3074e_row11_col7\" class=\"data row11 col7\" >0.003026</td>\n",
              "      <td id=\"T_3074e_row11_col8\" class=\"data row11 col8\" >0.002598</td>\n",
              "      <td id=\"T_3074e_row11_col9\" class=\"data row11 col9\" >-0.028066</td>\n",
              "      <td id=\"T_3074e_row11_col10\" class=\"data row11 col10\" >-0.480184</td>\n",
              "      <td id=\"T_3074e_row11_col11\" class=\"data row11 col11\" >1.000000</td>\n",
              "    </tr>\n",
              "  </tbody>\n",
              "</table>\n"
            ]
          },
          "metadata": {},
          "execution_count": 21
        }
      ]
    },
    {
      "cell_type": "markdown",
      "source": [
        "Данные обработаны, пропущенных значений нет, мультиколлинеарность отсутствует"
      ],
      "metadata": {
        "id": "ke-xtzS6i_t4"
      }
    },
    {
      "cell_type": "markdown",
      "source": [
        "##Парсинг данных"
      ],
      "metadata": {
        "id": "GbfTrUnpgi_E"
      }
    },
    {
      "cell_type": "markdown",
      "source": [
        "Так как данные у нас немного устаревшие, добавим новые данные"
      ],
      "metadata": {
        "id": "eu3Imt9dgt0l"
      }
    },
    {
      "cell_type": "code",
      "source": [
        "import pandas as pd\n",
        "import requests\n",
        "from bs4 import BeautifulSoup\n",
        "import random\n",
        "import time\n",
        "import re"
      ],
      "metadata": {
        "id": "v_-i1uCyM9gb"
      },
      "execution_count": null,
      "outputs": []
    },
    {
      "cell_type": "code",
      "source": [
        "# HEADERS = {'User-Agent': \n",
        "#            'Mozilla/5.0 (Windows NT 10.0; Win64; x64) AppleWebKit/537.36 (KHTML,\\\n",
        "#             like Gecko) Chrome/108.0.0.0 YaBrowser/23.1.2.928 Yowser/2.5 Safari/537.36'}"
      ],
      "metadata": {
        "id": "u-2tG1y7XVQZ"
      },
      "execution_count": null,
      "outputs": []
    },
    {
      "cell_type": "code",
      "source": [
        "# estate = pd.DataFrame()"
      ],
      "metadata": {
        "id": "xReOeKv90Fp7"
      },
      "execution_count": null,
      "outputs": []
    },
    {
      "cell_type": "code",
      "source": [
        "# count = 1\n",
        "# for i in range(1,100):\n",
        "\n",
        "#   try:\n",
        "#       time.sleep(random.randint(1, 4))\n",
        "\n",
        "#       url_page = 'https://tvoyadres.ru/leningradskaya-oblast/sankt-peterburg/nedvizhimost/kvartiry/?page='+str(i)+'&region=77&city=842&object=2&'\n",
        "#       res = requests.get(url_page, headers=HEADERS, timeout = 3)\n",
        "#       soup = BeautifulSoup(res.text)\n",
        "\n",
        "#       refs_page = refs_page = soup2.findAll('a')\n",
        "\n",
        "#       links_page = []\n",
        "\n",
        "#       for ref in refs_page:\n",
        "#           st = re.search('\\S+\\d{8}',ref.get('href'))\n",
        "#           if st:\n",
        "#             links_page.append('https://tvoyadres.ru'+st[0])\n",
        "          \n",
        "#       for link in links_page:\n",
        "#         try:\n",
        "          \n",
        "#           time.sleep(random.randint(2, 5)) \n",
        "#           res_link = requests.get(link, headers=HEADERS, timeout = 3)\n",
        "#           soup_link = BeautifulSoup(res_link.text)\n",
        "#           dic = {}\n",
        "\n",
        "#           price = int(soup_link.find(itemprop = 'price').get('content'))\n",
        "#           geo_lat = float(soup_link.find(class_ = 'map small').get('data-coordinates').split(',')[0])\n",
        "#           geo_lon = float(soup_link.find(class_ = 'map small').get('data-coordinates').split(',')[1])\n",
        "#           building_type = soup_link.find(text = ['Панельный','Монолитный','Кирпичный','Блочный','Деревянный'])\n",
        "          \n",
        "#           for i,j in zip(soup_link.findAll(class_ = 'left'),soup_link.findAll(class_ = 'right')):\n",
        "#               dic[i.text] = j.text\n",
        "          \n",
        "#           level = int(dic['Этаж'].split('/')[0])\n",
        "#           levels = int(dic['Этаж'].split('/')[1])\n",
        "#           try:\n",
        "#               rooms = int(dic['Количество комнат'])\n",
        "#           except:\n",
        "#               rooms = 1   \n",
        "#           area = int(dic['Площадь объекта'].split('/')[0])\n",
        "#           try:\n",
        "#               kitchen_area = int(dic['Площадь объекта'].split('/')[2].replace('м²',''))\n",
        "#           except:\n",
        "#               kitchen_area = int(dic['Площадь объекта'].split('/')[0])-int(dic['Площадь объекта'].split('/')[1].replace('м²','')) \n",
        "#           object_type = dic['Тип жилья'] \n",
        "#           date = dic['Дата публикации'].strip()\n",
        "\n",
        "#           row = {'price': price, 'geo_lat': geo_lat, 'geo_lon':geo_lon, 'building_type': building_type,\n",
        "#                  'level':level,'levels': levels, 'rooms': rooms, 'area': area,\n",
        "#                  'kitchen_area': kitchen_area, 'object_type': object_type, 'date': date}\n",
        "#           estate = pd.concat([estate, pd.DataFrame([row])])\n",
        "\n",
        "\n",
        "#         except:\n",
        "#            pass\n",
        "#       count+=1\n",
        "#       print(f'номер цикла: {count}, длина датафрейма: {len(estate)}')  \n",
        "\n",
        "#   except:\n",
        "#       pass"
      ],
      "metadata": {
        "id": "4EA61DZjz65b"
      },
      "execution_count": null,
      "outputs": []
    },
    {
      "cell_type": "code",
      "source": [
        "# estate.to_csv('estate.csv',index=False)"
      ],
      "metadata": {
        "id": "erZd_TRmFSJy"
      },
      "execution_count": null,
      "outputs": []
    },
    {
      "cell_type": "code",
      "source": [
        "# pd.set_option('display.max_colwidth', None)"
      ],
      "metadata": {
        "id": "FlZy7SSfE4Pn"
      },
      "execution_count": null,
      "outputs": []
    },
    {
      "cell_type": "markdown",
      "source": [
        "Приведем данные в нужный нам вид и обработаем пропуски"
      ],
      "metadata": {
        "id": "PXIpLZxhg7Ft"
      }
    },
    {
      "cell_type": "code",
      "source": [
        "estate = pd.read_csv('estate.csv')"
      ],
      "metadata": {
        "id": "S8-RyoSGXk-A"
      },
      "execution_count": null,
      "outputs": []
    },
    {
      "cell_type": "code",
      "source": [
        "estate.info()"
      ],
      "metadata": {
        "colab": {
          "base_uri": "https://localhost:8080/"
        },
        "id": "425N1RhBgXv8",
        "outputId": "9fb33fc4-c2fe-40e3-d782-6aa354b42bf3"
      },
      "execution_count": null,
      "outputs": [
        {
          "output_type": "stream",
          "name": "stdout",
          "text": [
            "<class 'pandas.core.frame.DataFrame'>\n",
            "RangeIndex: 994 entries, 0 to 993\n",
            "Data columns (total 11 columns):\n",
            " #   Column         Non-Null Count  Dtype  \n",
            "---  ------         --------------  -----  \n",
            " 0   price          994 non-null    int64  \n",
            " 1   geo_lat        994 non-null    float64\n",
            " 2   geo_lon        994 non-null    float64\n",
            " 3   building_type  994 non-null    object \n",
            " 4   level          994 non-null    int64  \n",
            " 5   levels         994 non-null    int64  \n",
            " 6   rooms          994 non-null    int64  \n",
            " 7   area           994 non-null    float64\n",
            " 8   kitchen_area   994 non-null    float64\n",
            " 9   object_type    994 non-null    object \n",
            " 10  date           994 non-null    object \n",
            "dtypes: float64(4), int64(4), object(3)\n",
            "memory usage: 85.5+ KB\n"
          ]
        }
      ]
    },
    {
      "cell_type": "code",
      "source": [
        "estate['building_type'] = estate['building_type'].fillna('Другой')"
      ],
      "metadata": {
        "id": "ewo5fUXPheOO"
      },
      "execution_count": null,
      "outputs": []
    },
    {
      "cell_type": "code",
      "source": [
        "estate['building_type'].unique()"
      ],
      "metadata": {
        "colab": {
          "base_uri": "https://localhost:8080/"
        },
        "id": "YfrKZdPlh0mQ",
        "outputId": "53c536b4-dce3-4722-f5f5-a2960ee24421"
      },
      "execution_count": null,
      "outputs": [
        {
          "output_type": "execute_result",
          "data": {
            "text/plain": [
              "array(['Другой', 'Монолитный', 'Кирпичный'], dtype=object)"
            ]
          },
          "metadata": {},
          "execution_count": 72
        }
      ]
    },
    {
      "cell_type": "code",
      "source": [
        "estate['building_type'] = estate['building_type'].replace({'Другой':0,'Монолитный':2,'Кирпичный':3 })"
      ],
      "metadata": {
        "id": "RXzp9u-Gh73k"
      },
      "execution_count": null,
      "outputs": []
    },
    {
      "cell_type": "code",
      "source": [
        "estate['rooms'] = estate['rooms'].replace('Студия',1)"
      ],
      "metadata": {
        "id": "TFwUzFzfiUaj"
      },
      "execution_count": null,
      "outputs": []
    },
    {
      "cell_type": "code",
      "source": [
        "estate['rooms'] = estate['rooms'].apply(lambda x: int(x))"
      ],
      "metadata": {
        "id": "YPwQG1OaiqxN"
      },
      "execution_count": null,
      "outputs": []
    },
    {
      "cell_type": "code",
      "source": [
        "estate['object_type'] = estate['object_type'].replace({'Вторичка':1, 'Новостройка':11})"
      ],
      "metadata": {
        "id": "HfGbA614jkUb"
      },
      "execution_count": null,
      "outputs": []
    },
    {
      "cell_type": "code",
      "source": [
        "estate['object_type'].unique()"
      ],
      "metadata": {
        "colab": {
          "base_uri": "https://localhost:8080/"
        },
        "id": "LNu1DqnnjYxI",
        "outputId": "e67f01cc-6a4c-43c6-b264-359c6ace3b8f"
      },
      "execution_count": null,
      "outputs": [
        {
          "output_type": "execute_result",
          "data": {
            "text/plain": [
              "array([ 1, 11], dtype=int64)"
            ]
          },
          "metadata": {},
          "execution_count": 77
        }
      ]
    },
    {
      "cell_type": "code",
      "source": [
        "estate['year'] = estate['date'].apply(lambda x: x.split()[2])"
      ],
      "metadata": {
        "id": "roQ-1rXgj-Ie"
      },
      "execution_count": null,
      "outputs": []
    },
    {
      "cell_type": "code",
      "source": [
        "estate['year'] = estate['year'].apply(lambda x: int(x))"
      ],
      "metadata": {
        "id": "EHOmVyuAmmgI"
      },
      "execution_count": null,
      "outputs": []
    },
    {
      "cell_type": "code",
      "source": [
        "estate['month'] = estate['date'].apply(lambda x: x.split()[1])"
      ],
      "metadata": {
        "id": "bb2PtQYPmADI"
      },
      "execution_count": null,
      "outputs": []
    },
    {
      "cell_type": "code",
      "source": [
        "estate['month'].unique()"
      ],
      "metadata": {
        "id": "ESbhApZnmL0L",
        "colab": {
          "base_uri": "https://localhost:8080/"
        },
        "outputId": "5dd55f05-5f01-4a8a-f4d6-a9a639cc2593"
      },
      "execution_count": null,
      "outputs": [
        {
          "output_type": "execute_result",
          "data": {
            "text/plain": [
              "array(['Март'], dtype=object)"
            ]
          },
          "metadata": {},
          "execution_count": 81
        }
      ]
    },
    {
      "cell_type": "code",
      "source": [
        "estate['month'] = estate['month'].replace('Март',3)"
      ],
      "metadata": {
        "id": "-w4sqy3_mYNY"
      },
      "execution_count": null,
      "outputs": []
    },
    {
      "cell_type": "code",
      "source": [
        "estate = estate[['price', 'geo_lat', 'geo_lon', 'building_type', 'level', 'levels',\n",
        "       'rooms', 'area', 'kitchen_area', 'object_type', 'year',\n",
        "       'month']]"
      ],
      "metadata": {
        "id": "lHEYiqWRmvpg"
      },
      "execution_count": null,
      "outputs": []
    },
    {
      "cell_type": "code",
      "source": [
        "estate.head()"
      ],
      "metadata": {
        "id": "MwbOP-DvpB5D",
        "colab": {
          "base_uri": "https://localhost:8080/"
        },
        "outputId": "f44d6a1b-7a72-4562-8aaf-e1d8fa8bb6e3"
      },
      "execution_count": null,
      "outputs": [
        {
          "output_type": "execute_result",
          "data": {
            "text/plain": [
              "      price    geo_lat    geo_lon  building_type  level  levels  rooms  area  \\\n",
              "0   7250000  60.004708  30.207702              0     20      25      1  35.0   \n",
              "1  14059980  60.031801  30.208547              2     12      12      1  47.0   \n",
              "2   8688437  59.895842  30.465804              3     14      15      2  51.0   \n",
              "3  14095620  60.031801  30.208547              2     12      12      1  47.0   \n",
              "4  13217600  59.898002  30.285433              3      1       6      2  60.0   \n",
              "\n",
              "   kitchen_area  object_type  year  month  \n",
              "0          10.0            1  2023      3  \n",
              "1          34.0           11  2023      3  \n",
              "2          13.0           11  2023      3  \n",
              "3          34.0           11  2023      3  \n",
              "4          16.0           11  2023      3  "
            ],
            "text/html": [
              "<div>\n",
              "<style scoped>\n",
              "    .dataframe tbody tr th:only-of-type {\n",
              "        vertical-align: middle;\n",
              "    }\n",
              "\n",
              "    .dataframe tbody tr th {\n",
              "        vertical-align: top;\n",
              "    }\n",
              "\n",
              "    .dataframe thead th {\n",
              "        text-align: right;\n",
              "    }\n",
              "</style>\n",
              "<table border=\"1\" class=\"dataframe\">\n",
              "  <thead>\n",
              "    <tr style=\"text-align: right;\">\n",
              "      <th></th>\n",
              "      <th>price</th>\n",
              "      <th>geo_lat</th>\n",
              "      <th>geo_lon</th>\n",
              "      <th>building_type</th>\n",
              "      <th>level</th>\n",
              "      <th>levels</th>\n",
              "      <th>rooms</th>\n",
              "      <th>area</th>\n",
              "      <th>kitchen_area</th>\n",
              "      <th>object_type</th>\n",
              "      <th>year</th>\n",
              "      <th>month</th>\n",
              "    </tr>\n",
              "  </thead>\n",
              "  <tbody>\n",
              "    <tr>\n",
              "      <th>0</th>\n",
              "      <td>7250000</td>\n",
              "      <td>60.004708</td>\n",
              "      <td>30.207702</td>\n",
              "      <td>0</td>\n",
              "      <td>20</td>\n",
              "      <td>25</td>\n",
              "      <td>1</td>\n",
              "      <td>35.0</td>\n",
              "      <td>10.0</td>\n",
              "      <td>1</td>\n",
              "      <td>2023</td>\n",
              "      <td>3</td>\n",
              "    </tr>\n",
              "    <tr>\n",
              "      <th>1</th>\n",
              "      <td>14059980</td>\n",
              "      <td>60.031801</td>\n",
              "      <td>30.208547</td>\n",
              "      <td>2</td>\n",
              "      <td>12</td>\n",
              "      <td>12</td>\n",
              "      <td>1</td>\n",
              "      <td>47.0</td>\n",
              "      <td>34.0</td>\n",
              "      <td>11</td>\n",
              "      <td>2023</td>\n",
              "      <td>3</td>\n",
              "    </tr>\n",
              "    <tr>\n",
              "      <th>2</th>\n",
              "      <td>8688437</td>\n",
              "      <td>59.895842</td>\n",
              "      <td>30.465804</td>\n",
              "      <td>3</td>\n",
              "      <td>14</td>\n",
              "      <td>15</td>\n",
              "      <td>2</td>\n",
              "      <td>51.0</td>\n",
              "      <td>13.0</td>\n",
              "      <td>11</td>\n",
              "      <td>2023</td>\n",
              "      <td>3</td>\n",
              "    </tr>\n",
              "    <tr>\n",
              "      <th>3</th>\n",
              "      <td>14095620</td>\n",
              "      <td>60.031801</td>\n",
              "      <td>30.208547</td>\n",
              "      <td>2</td>\n",
              "      <td>12</td>\n",
              "      <td>12</td>\n",
              "      <td>1</td>\n",
              "      <td>47.0</td>\n",
              "      <td>34.0</td>\n",
              "      <td>11</td>\n",
              "      <td>2023</td>\n",
              "      <td>3</td>\n",
              "    </tr>\n",
              "    <tr>\n",
              "      <th>4</th>\n",
              "      <td>13217600</td>\n",
              "      <td>59.898002</td>\n",
              "      <td>30.285433</td>\n",
              "      <td>3</td>\n",
              "      <td>1</td>\n",
              "      <td>6</td>\n",
              "      <td>2</td>\n",
              "      <td>60.0</td>\n",
              "      <td>16.0</td>\n",
              "      <td>11</td>\n",
              "      <td>2023</td>\n",
              "      <td>3</td>\n",
              "    </tr>\n",
              "  </tbody>\n",
              "</table>\n",
              "</div>"
            ]
          },
          "metadata": {},
          "execution_count": 84
        }
      ]
    },
    {
      "cell_type": "code",
      "source": [
        "estate.describe()"
      ],
      "metadata": {
        "id": "Yy4H_XF-n15c",
        "colab": {
          "base_uri": "https://localhost:8080/"
        },
        "outputId": "fa5d3898-1a77-467a-c1e7-0cab3b366fcf"
      },
      "execution_count": null,
      "outputs": [
        {
          "output_type": "execute_result",
          "data": {
            "text/plain": [
              "              price     geo_lat     geo_lon  building_type       level  \\\n",
              "count  9.940000e+02  994.000000  994.000000     994.000000  994.000000   \n",
              "mean   1.577750e+07   60.006848   30.149278       2.001006    8.611670   \n",
              "std    6.489160e+06    0.108523    0.253082       1.097006    5.530116   \n",
              "min    7.250000e+06   59.895842   29.662643       0.000000    1.000000   \n",
              "25%    1.321760e+07   59.898002   30.207702       2.000000    4.000000   \n",
              "50%    1.405998e+07   60.004708   30.208547       2.000000    7.000000   \n",
              "75%    1.922850e+07   60.031801   30.285433       3.000000   12.000000   \n",
              "max    2.998790e+07   60.191738   30.465804       3.000000   20.000000   \n",
              "\n",
              "           levels       rooms        area  kitchen_area  object_type    year  \\\n",
              "count  994.000000  994.000000  994.000000    994.000000   994.000000   994.0   \n",
              "mean    11.804829    1.699195   55.870221     21.290744     9.993964  2023.0   \n",
              "std      5.359779    0.640257   13.516700      9.522802     3.009546     0.0   \n",
              "min      6.000000    1.000000   35.000000     10.000000     1.000000  2023.0   \n",
              "25%      6.000000    1.000000   47.000000     13.000000    11.000000  2023.0   \n",
              "50%     12.000000    2.000000   51.000000     16.000000    11.000000  2023.0   \n",
              "75%     12.000000    2.000000   60.000000     32.000000    11.000000  2023.0   \n",
              "max     25.000000    3.000000   85.000000     34.000000    11.000000  2023.0   \n",
              "\n",
              "       month  \n",
              "count  994.0  \n",
              "mean     3.0  \n",
              "std      0.0  \n",
              "min      3.0  \n",
              "25%      3.0  \n",
              "50%      3.0  \n",
              "75%      3.0  \n",
              "max      3.0  "
            ],
            "text/html": [
              "<div>\n",
              "<style scoped>\n",
              "    .dataframe tbody tr th:only-of-type {\n",
              "        vertical-align: middle;\n",
              "    }\n",
              "\n",
              "    .dataframe tbody tr th {\n",
              "        vertical-align: top;\n",
              "    }\n",
              "\n",
              "    .dataframe thead th {\n",
              "        text-align: right;\n",
              "    }\n",
              "</style>\n",
              "<table border=\"1\" class=\"dataframe\">\n",
              "  <thead>\n",
              "    <tr style=\"text-align: right;\">\n",
              "      <th></th>\n",
              "      <th>price</th>\n",
              "      <th>geo_lat</th>\n",
              "      <th>geo_lon</th>\n",
              "      <th>building_type</th>\n",
              "      <th>level</th>\n",
              "      <th>levels</th>\n",
              "      <th>rooms</th>\n",
              "      <th>area</th>\n",
              "      <th>kitchen_area</th>\n",
              "      <th>object_type</th>\n",
              "      <th>year</th>\n",
              "      <th>month</th>\n",
              "    </tr>\n",
              "  </thead>\n",
              "  <tbody>\n",
              "    <tr>\n",
              "      <th>count</th>\n",
              "      <td>9.940000e+02</td>\n",
              "      <td>994.000000</td>\n",
              "      <td>994.000000</td>\n",
              "      <td>994.000000</td>\n",
              "      <td>994.000000</td>\n",
              "      <td>994.000000</td>\n",
              "      <td>994.000000</td>\n",
              "      <td>994.000000</td>\n",
              "      <td>994.000000</td>\n",
              "      <td>994.000000</td>\n",
              "      <td>994.0</td>\n",
              "      <td>994.0</td>\n",
              "    </tr>\n",
              "    <tr>\n",
              "      <th>mean</th>\n",
              "      <td>1.577750e+07</td>\n",
              "      <td>60.006848</td>\n",
              "      <td>30.149278</td>\n",
              "      <td>2.001006</td>\n",
              "      <td>8.611670</td>\n",
              "      <td>11.804829</td>\n",
              "      <td>1.699195</td>\n",
              "      <td>55.870221</td>\n",
              "      <td>21.290744</td>\n",
              "      <td>9.993964</td>\n",
              "      <td>2023.0</td>\n",
              "      <td>3.0</td>\n",
              "    </tr>\n",
              "    <tr>\n",
              "      <th>std</th>\n",
              "      <td>6.489160e+06</td>\n",
              "      <td>0.108523</td>\n",
              "      <td>0.253082</td>\n",
              "      <td>1.097006</td>\n",
              "      <td>5.530116</td>\n",
              "      <td>5.359779</td>\n",
              "      <td>0.640257</td>\n",
              "      <td>13.516700</td>\n",
              "      <td>9.522802</td>\n",
              "      <td>3.009546</td>\n",
              "      <td>0.0</td>\n",
              "      <td>0.0</td>\n",
              "    </tr>\n",
              "    <tr>\n",
              "      <th>min</th>\n",
              "      <td>7.250000e+06</td>\n",
              "      <td>59.895842</td>\n",
              "      <td>29.662643</td>\n",
              "      <td>0.000000</td>\n",
              "      <td>1.000000</td>\n",
              "      <td>6.000000</td>\n",
              "      <td>1.000000</td>\n",
              "      <td>35.000000</td>\n",
              "      <td>10.000000</td>\n",
              "      <td>1.000000</td>\n",
              "      <td>2023.0</td>\n",
              "      <td>3.0</td>\n",
              "    </tr>\n",
              "    <tr>\n",
              "      <th>25%</th>\n",
              "      <td>1.321760e+07</td>\n",
              "      <td>59.898002</td>\n",
              "      <td>30.207702</td>\n",
              "      <td>2.000000</td>\n",
              "      <td>4.000000</td>\n",
              "      <td>6.000000</td>\n",
              "      <td>1.000000</td>\n",
              "      <td>47.000000</td>\n",
              "      <td>13.000000</td>\n",
              "      <td>11.000000</td>\n",
              "      <td>2023.0</td>\n",
              "      <td>3.0</td>\n",
              "    </tr>\n",
              "    <tr>\n",
              "      <th>50%</th>\n",
              "      <td>1.405998e+07</td>\n",
              "      <td>60.004708</td>\n",
              "      <td>30.208547</td>\n",
              "      <td>2.000000</td>\n",
              "      <td>7.000000</td>\n",
              "      <td>12.000000</td>\n",
              "      <td>2.000000</td>\n",
              "      <td>51.000000</td>\n",
              "      <td>16.000000</td>\n",
              "      <td>11.000000</td>\n",
              "      <td>2023.0</td>\n",
              "      <td>3.0</td>\n",
              "    </tr>\n",
              "    <tr>\n",
              "      <th>75%</th>\n",
              "      <td>1.922850e+07</td>\n",
              "      <td>60.031801</td>\n",
              "      <td>30.285433</td>\n",
              "      <td>3.000000</td>\n",
              "      <td>12.000000</td>\n",
              "      <td>12.000000</td>\n",
              "      <td>2.000000</td>\n",
              "      <td>60.000000</td>\n",
              "      <td>32.000000</td>\n",
              "      <td>11.000000</td>\n",
              "      <td>2023.0</td>\n",
              "      <td>3.0</td>\n",
              "    </tr>\n",
              "    <tr>\n",
              "      <th>max</th>\n",
              "      <td>2.998790e+07</td>\n",
              "      <td>60.191738</td>\n",
              "      <td>30.465804</td>\n",
              "      <td>3.000000</td>\n",
              "      <td>20.000000</td>\n",
              "      <td>25.000000</td>\n",
              "      <td>3.000000</td>\n",
              "      <td>85.000000</td>\n",
              "      <td>34.000000</td>\n",
              "      <td>11.000000</td>\n",
              "      <td>2023.0</td>\n",
              "      <td>3.0</td>\n",
              "    </tr>\n",
              "  </tbody>\n",
              "</table>\n",
              "</div>"
            ]
          },
          "metadata": {},
          "execution_count": 85
        }
      ]
    },
    {
      "cell_type": "code",
      "source": [
        "estate.info()"
      ],
      "metadata": {
        "colab": {
          "base_uri": "https://localhost:8080/"
        },
        "id": "ubrGQySUX2-c",
        "outputId": "4654181a-ae01-4e2f-8525-00cb4278d106"
      },
      "execution_count": null,
      "outputs": [
        {
          "output_type": "stream",
          "name": "stdout",
          "text": [
            "<class 'pandas.core.frame.DataFrame'>\n",
            "RangeIndex: 994 entries, 0 to 993\n",
            "Data columns (total 12 columns):\n",
            " #   Column         Non-Null Count  Dtype  \n",
            "---  ------         --------------  -----  \n",
            " 0   price          994 non-null    int64  \n",
            " 1   geo_lat        994 non-null    float64\n",
            " 2   geo_lon        994 non-null    float64\n",
            " 3   building_type  994 non-null    int64  \n",
            " 4   level          994 non-null    int64  \n",
            " 5   levels         994 non-null    int64  \n",
            " 6   rooms          994 non-null    int64  \n",
            " 7   area           994 non-null    float64\n",
            " 8   kitchen_area   994 non-null    float64\n",
            " 9   object_type    994 non-null    int64  \n",
            " 10  year           994 non-null    int64  \n",
            " 11  month          994 non-null    int64  \n",
            "dtypes: float64(4), int64(8)\n",
            "memory usage: 93.3 KB\n"
          ]
        }
      ]
    },
    {
      "cell_type": "markdown",
      "source": [
        "##Объединяем данные "
      ],
      "metadata": {
        "id": "ILVpv6-cnr2m"
      }
    },
    {
      "cell_type": "code",
      "source": [
        "all_estate = pd.concat([df,estate], ignore_index=True)"
      ],
      "metadata": {
        "id": "WYtPWikunqgy"
      },
      "execution_count": null,
      "outputs": []
    },
    {
      "cell_type": "code",
      "source": [
        "all_estate.head()"
      ],
      "metadata": {
        "id": "4JPRvgFsplFv",
        "colab": {
          "base_uri": "https://localhost:8080/",
          "height": 206
        },
        "outputId": "c6226637-e478-4725-cb2c-067430cb9f04"
      },
      "execution_count": null,
      "outputs": [
        {
          "output_type": "execute_result",
          "data": {
            "text/plain": [
              "     price    geo_lat    geo_lon  building_type  level  levels  rooms  area  \\\n",
              "0  6050000  59.805808  30.376141              1      8      10      3  82.6   \n",
              "1  3600000  59.875526  30.395457              1      2       5      1  31.1   \n",
              "2  3200000  59.827465  30.201827              1      7       9      1  31.0   \n",
              "3  6500000  59.988334  29.786928              3      3       3      3  89.0   \n",
              "4  6300000  59.911622  30.284556              3      5       5      2  99.9   \n",
              "\n",
              "   kitchen_area  object_type  year  month  \n",
              "0          10.8            1  2018      2  \n",
              "1           6.0            1  2018      3  \n",
              "2           7.0            1  2018      4  \n",
              "3          10.0            1  2018      4  \n",
              "4          14.5            1  2018      4  "
            ],
            "text/html": [
              "<div>\n",
              "<style scoped>\n",
              "    .dataframe tbody tr th:only-of-type {\n",
              "        vertical-align: middle;\n",
              "    }\n",
              "\n",
              "    .dataframe tbody tr th {\n",
              "        vertical-align: top;\n",
              "    }\n",
              "\n",
              "    .dataframe thead th {\n",
              "        text-align: right;\n",
              "    }\n",
              "</style>\n",
              "<table border=\"1\" class=\"dataframe\">\n",
              "  <thead>\n",
              "    <tr style=\"text-align: right;\">\n",
              "      <th></th>\n",
              "      <th>price</th>\n",
              "      <th>geo_lat</th>\n",
              "      <th>geo_lon</th>\n",
              "      <th>building_type</th>\n",
              "      <th>level</th>\n",
              "      <th>levels</th>\n",
              "      <th>rooms</th>\n",
              "      <th>area</th>\n",
              "      <th>kitchen_area</th>\n",
              "      <th>object_type</th>\n",
              "      <th>year</th>\n",
              "      <th>month</th>\n",
              "    </tr>\n",
              "  </thead>\n",
              "  <tbody>\n",
              "    <tr>\n",
              "      <th>0</th>\n",
              "      <td>6050000</td>\n",
              "      <td>59.805808</td>\n",
              "      <td>30.376141</td>\n",
              "      <td>1</td>\n",
              "      <td>8</td>\n",
              "      <td>10</td>\n",
              "      <td>3</td>\n",
              "      <td>82.6</td>\n",
              "      <td>10.8</td>\n",
              "      <td>1</td>\n",
              "      <td>2018</td>\n",
              "      <td>2</td>\n",
              "    </tr>\n",
              "    <tr>\n",
              "      <th>1</th>\n",
              "      <td>3600000</td>\n",
              "      <td>59.875526</td>\n",
              "      <td>30.395457</td>\n",
              "      <td>1</td>\n",
              "      <td>2</td>\n",
              "      <td>5</td>\n",
              "      <td>1</td>\n",
              "      <td>31.1</td>\n",
              "      <td>6.0</td>\n",
              "      <td>1</td>\n",
              "      <td>2018</td>\n",
              "      <td>3</td>\n",
              "    </tr>\n",
              "    <tr>\n",
              "      <th>2</th>\n",
              "      <td>3200000</td>\n",
              "      <td>59.827465</td>\n",
              "      <td>30.201827</td>\n",
              "      <td>1</td>\n",
              "      <td>7</td>\n",
              "      <td>9</td>\n",
              "      <td>1</td>\n",
              "      <td>31.0</td>\n",
              "      <td>7.0</td>\n",
              "      <td>1</td>\n",
              "      <td>2018</td>\n",
              "      <td>4</td>\n",
              "    </tr>\n",
              "    <tr>\n",
              "      <th>3</th>\n",
              "      <td>6500000</td>\n",
              "      <td>59.988334</td>\n",
              "      <td>29.786928</td>\n",
              "      <td>3</td>\n",
              "      <td>3</td>\n",
              "      <td>3</td>\n",
              "      <td>3</td>\n",
              "      <td>89.0</td>\n",
              "      <td>10.0</td>\n",
              "      <td>1</td>\n",
              "      <td>2018</td>\n",
              "      <td>4</td>\n",
              "    </tr>\n",
              "    <tr>\n",
              "      <th>4</th>\n",
              "      <td>6300000</td>\n",
              "      <td>59.911622</td>\n",
              "      <td>30.284556</td>\n",
              "      <td>3</td>\n",
              "      <td>5</td>\n",
              "      <td>5</td>\n",
              "      <td>2</td>\n",
              "      <td>99.9</td>\n",
              "      <td>14.5</td>\n",
              "      <td>1</td>\n",
              "      <td>2018</td>\n",
              "      <td>4</td>\n",
              "    </tr>\n",
              "  </tbody>\n",
              "</table>\n",
              "</div>"
            ]
          },
          "metadata": {},
          "execution_count": 47
        }
      ]
    },
    {
      "cell_type": "code",
      "source": [
        "all_estate.describe()"
      ],
      "metadata": {
        "id": "lGRgKvrkpwFK",
        "colab": {
          "base_uri": "https://localhost:8080/",
          "height": 320
        },
        "outputId": "f2f540ec-5a4c-4fa5-bb85-dcb122acd882"
      },
      "execution_count": null,
      "outputs": [
        {
          "output_type": "execute_result",
          "data": {
            "text/plain": [
              "              price        geo_lat        geo_lon  building_type  \\\n",
              "count  4.116570e+05  411657.000000  411657.000000  411657.000000   \n",
              "mean   7.615032e+06      59.933909      30.321373       1.933571   \n",
              "std    5.095575e+06       0.084822       0.119255       0.950570   \n",
              "min    1.500000e+06      59.647383      29.509349       0.000000   \n",
              "25%    4.592608e+06      59.864023      30.256876       1.000000   \n",
              "50%    6.086251e+06      59.939084      30.324456       2.000000   \n",
              "75%    8.763370e+06      60.002180      30.401117       3.000000   \n",
              "max    5.000000e+07      60.241984      30.711428       5.000000   \n",
              "\n",
              "               level         levels          rooms           area  \\\n",
              "count  411657.000000  411657.000000  411657.000000  411657.000000   \n",
              "mean        7.726658      14.647000       1.876166      57.524252   \n",
              "std         5.717173       6.965504       0.902290      24.970283   \n",
              "min         1.000000       1.000000       1.000000      20.000000   \n",
              "25%         3.000000       9.000000       1.000000      38.600000   \n",
              "50%         6.000000      14.000000       2.000000      52.000000   \n",
              "75%        11.000000      21.000000       2.000000      68.400000   \n",
              "max        35.000000      38.000000       9.000000     200.000000   \n",
              "\n",
              "        kitchen_area    object_type           year          month  \n",
              "count  411657.000000  411657.000000  411657.000000  411657.000000  \n",
              "mean       12.586745       5.382848    2019.548044       6.529973  \n",
              "std         4.758954       4.961772       0.870354       3.433737  \n",
              "min         6.000000       1.000000    2018.000000       1.000000  \n",
              "25%         9.100000       1.000000    2019.000000       3.000000  \n",
              "50%        11.500000       1.000000    2020.000000       7.000000  \n",
              "75%        15.100000      11.000000    2020.000000      10.000000  \n",
              "max        34.000000      11.000000    2023.000000      12.000000  "
            ],
            "text/html": [
              "<div>\n",
              "<style scoped>\n",
              "    .dataframe tbody tr th:only-of-type {\n",
              "        vertical-align: middle;\n",
              "    }\n",
              "\n",
              "    .dataframe tbody tr th {\n",
              "        vertical-align: top;\n",
              "    }\n",
              "\n",
              "    .dataframe thead th {\n",
              "        text-align: right;\n",
              "    }\n",
              "</style>\n",
              "<table border=\"1\" class=\"dataframe\">\n",
              "  <thead>\n",
              "    <tr style=\"text-align: right;\">\n",
              "      <th></th>\n",
              "      <th>price</th>\n",
              "      <th>geo_lat</th>\n",
              "      <th>geo_lon</th>\n",
              "      <th>building_type</th>\n",
              "      <th>level</th>\n",
              "      <th>levels</th>\n",
              "      <th>rooms</th>\n",
              "      <th>area</th>\n",
              "      <th>kitchen_area</th>\n",
              "      <th>object_type</th>\n",
              "      <th>year</th>\n",
              "      <th>month</th>\n",
              "    </tr>\n",
              "  </thead>\n",
              "  <tbody>\n",
              "    <tr>\n",
              "      <th>count</th>\n",
              "      <td>4.116570e+05</td>\n",
              "      <td>411657.000000</td>\n",
              "      <td>411657.000000</td>\n",
              "      <td>411657.000000</td>\n",
              "      <td>411657.000000</td>\n",
              "      <td>411657.000000</td>\n",
              "      <td>411657.000000</td>\n",
              "      <td>411657.000000</td>\n",
              "      <td>411657.000000</td>\n",
              "      <td>411657.000000</td>\n",
              "      <td>411657.000000</td>\n",
              "      <td>411657.000000</td>\n",
              "    </tr>\n",
              "    <tr>\n",
              "      <th>mean</th>\n",
              "      <td>7.615032e+06</td>\n",
              "      <td>59.933909</td>\n",
              "      <td>30.321373</td>\n",
              "      <td>1.933571</td>\n",
              "      <td>7.726658</td>\n",
              "      <td>14.647000</td>\n",
              "      <td>1.876166</td>\n",
              "      <td>57.524252</td>\n",
              "      <td>12.586745</td>\n",
              "      <td>5.382848</td>\n",
              "      <td>2019.548044</td>\n",
              "      <td>6.529973</td>\n",
              "    </tr>\n",
              "    <tr>\n",
              "      <th>std</th>\n",
              "      <td>5.095575e+06</td>\n",
              "      <td>0.084822</td>\n",
              "      <td>0.119255</td>\n",
              "      <td>0.950570</td>\n",
              "      <td>5.717173</td>\n",
              "      <td>6.965504</td>\n",
              "      <td>0.902290</td>\n",
              "      <td>24.970283</td>\n",
              "      <td>4.758954</td>\n",
              "      <td>4.961772</td>\n",
              "      <td>0.870354</td>\n",
              "      <td>3.433737</td>\n",
              "    </tr>\n",
              "    <tr>\n",
              "      <th>min</th>\n",
              "      <td>1.500000e+06</td>\n",
              "      <td>59.647383</td>\n",
              "      <td>29.509349</td>\n",
              "      <td>0.000000</td>\n",
              "      <td>1.000000</td>\n",
              "      <td>1.000000</td>\n",
              "      <td>1.000000</td>\n",
              "      <td>20.000000</td>\n",
              "      <td>6.000000</td>\n",
              "      <td>1.000000</td>\n",
              "      <td>2018.000000</td>\n",
              "      <td>1.000000</td>\n",
              "    </tr>\n",
              "    <tr>\n",
              "      <th>25%</th>\n",
              "      <td>4.592608e+06</td>\n",
              "      <td>59.864023</td>\n",
              "      <td>30.256876</td>\n",
              "      <td>1.000000</td>\n",
              "      <td>3.000000</td>\n",
              "      <td>9.000000</td>\n",
              "      <td>1.000000</td>\n",
              "      <td>38.600000</td>\n",
              "      <td>9.100000</td>\n",
              "      <td>1.000000</td>\n",
              "      <td>2019.000000</td>\n",
              "      <td>3.000000</td>\n",
              "    </tr>\n",
              "    <tr>\n",
              "      <th>50%</th>\n",
              "      <td>6.086251e+06</td>\n",
              "      <td>59.939084</td>\n",
              "      <td>30.324456</td>\n",
              "      <td>2.000000</td>\n",
              "      <td>6.000000</td>\n",
              "      <td>14.000000</td>\n",
              "      <td>2.000000</td>\n",
              "      <td>52.000000</td>\n",
              "      <td>11.500000</td>\n",
              "      <td>1.000000</td>\n",
              "      <td>2020.000000</td>\n",
              "      <td>7.000000</td>\n",
              "    </tr>\n",
              "    <tr>\n",
              "      <th>75%</th>\n",
              "      <td>8.763370e+06</td>\n",
              "      <td>60.002180</td>\n",
              "      <td>30.401117</td>\n",
              "      <td>3.000000</td>\n",
              "      <td>11.000000</td>\n",
              "      <td>21.000000</td>\n",
              "      <td>2.000000</td>\n",
              "      <td>68.400000</td>\n",
              "      <td>15.100000</td>\n",
              "      <td>11.000000</td>\n",
              "      <td>2020.000000</td>\n",
              "      <td>10.000000</td>\n",
              "    </tr>\n",
              "    <tr>\n",
              "      <th>max</th>\n",
              "      <td>5.000000e+07</td>\n",
              "      <td>60.241984</td>\n",
              "      <td>30.711428</td>\n",
              "      <td>5.000000</td>\n",
              "      <td>35.000000</td>\n",
              "      <td>38.000000</td>\n",
              "      <td>9.000000</td>\n",
              "      <td>200.000000</td>\n",
              "      <td>34.000000</td>\n",
              "      <td>11.000000</td>\n",
              "      <td>2023.000000</td>\n",
              "      <td>12.000000</td>\n",
              "    </tr>\n",
              "  </tbody>\n",
              "</table>\n",
              "</div>"
            ]
          },
          "metadata": {},
          "execution_count": 48
        }
      ]
    },
    {
      "cell_type": "code",
      "source": [
        "all_estate.info()"
      ],
      "metadata": {
        "id": "t2nB9DKgp8pl",
        "colab": {
          "base_uri": "https://localhost:8080/"
        },
        "outputId": "e4332950-5bcf-4977-dae0-eff356ede69c"
      },
      "execution_count": null,
      "outputs": [
        {
          "output_type": "stream",
          "name": "stdout",
          "text": [
            "<class 'pandas.core.frame.DataFrame'>\n",
            "RangeIndex: 411657 entries, 0 to 411656\n",
            "Data columns (total 12 columns):\n",
            " #   Column         Non-Null Count   Dtype  \n",
            "---  ------         --------------   -----  \n",
            " 0   price          411657 non-null  int64  \n",
            " 1   geo_lat        411657 non-null  float64\n",
            " 2   geo_lon        411657 non-null  float64\n",
            " 3   building_type  411657 non-null  int64  \n",
            " 4   level          411657 non-null  int64  \n",
            " 5   levels         411657 non-null  int64  \n",
            " 6   rooms          411657 non-null  int64  \n",
            " 7   area           411657 non-null  float64\n",
            " 8   kitchen_area   411657 non-null  float64\n",
            " 9   object_type    411657 non-null  int64  \n",
            " 10  year           411657 non-null  int64  \n",
            " 11  month          411657 non-null  int64  \n",
            "dtypes: float64(4), int64(8)\n",
            "memory usage: 37.7 MB\n"
          ]
        }
      ]
    },
    {
      "cell_type": "code",
      "source": [
        "all_estate.to_csv('all_estate.csv',index=False)"
      ],
      "metadata": {
        "id": "SUVGYoswNno3"
      },
      "execution_count": null,
      "outputs": []
    },
    {
      "cell_type": "markdown",
      "source": [
        "#Обучение модели"
      ],
      "metadata": {
        "id": "fR6RAciOqYCI"
      }
    },
    {
      "cell_type": "code",
      "source": [
        "from sklearn.model_selection import train_test_split"
      ],
      "metadata": {
        "id": "uaofZEimjYpD"
      },
      "execution_count": null,
      "outputs": []
    },
    {
      "cell_type": "code",
      "source": [
        "from sklearn.metrics import r2_score"
      ],
      "metadata": {
        "id": "2iBJfOVUkNv2"
      },
      "execution_count": null,
      "outputs": []
    },
    {
      "cell_type": "code",
      "source": [
        "from sklearn.metrics import mean_squared_error"
      ],
      "metadata": {
        "id": "wI65GhApkPn4"
      },
      "execution_count": null,
      "outputs": []
    },
    {
      "cell_type": "code",
      "source": [
        "from sklearn.model_selection import cross_val_score"
      ],
      "metadata": {
        "id": "hMFdeBMAMB5e"
      },
      "execution_count": null,
      "outputs": []
    },
    {
      "cell_type": "markdown",
      "source": [
        "**Разделим датасет на обучающую и тестовую выборку**"
      ],
      "metadata": {
        "id": "q9c3Kf5njqGj"
      }
    },
    {
      "cell_type": "code",
      "source": [
        "all_estate = pd.read_csv('all_estate.csv')"
      ],
      "metadata": {
        "id": "sGkK4Bv3YqQG"
      },
      "execution_count": null,
      "outputs": []
    },
    {
      "cell_type": "code",
      "source": [
        "y = all_estate['price']"
      ],
      "metadata": {
        "id": "ny5nGrXejxu3"
      },
      "execution_count": null,
      "outputs": []
    },
    {
      "cell_type": "code",
      "source": [
        "X = all_estate.drop('price', axis=1)"
      ],
      "metadata": {
        "id": "iBBMq2Vpj3ww"
      },
      "execution_count": null,
      "outputs": []
    },
    {
      "cell_type": "code",
      "source": [
        "X_train, X_test, y_train, y_test = train_test_split(X, y, test_size=0.2, shuffle=True, random_state = 1)"
      ],
      "metadata": {
        "id": "ZHH8LqTLj_2S"
      },
      "execution_count": null,
      "outputs": []
    },
    {
      "cell_type": "markdown",
      "source": [
        "**Построение модели машинного обучения**"
      ],
      "metadata": {
        "id": "_506qJBNjw5X"
      }
    },
    {
      "cell_type": "markdown",
      "source": [
        "Для построения модели предсказания цены на квартиру будем использовать продвинутые методы машинного обучения, а именно — градиентный бустинг. Данный тип алгоритмов является крайне эффективным в задачах классификации или регрессии: он строит предсказания в виде ансамбля слабых деревьев решения, а затем слабые деревья собираются в одну сильную модель.\n",
        "В данном случае будем использовать XGBoost."
      ],
      "metadata": {
        "id": "h6E8IcREPgyy"
      }
    },
    {
      "cell_type": "code",
      "source": [
        "!pip install xgboost"
      ],
      "metadata": {
        "colab": {
          "base_uri": "https://localhost:8080/"
        },
        "id": "M6lgcXrYNkkl",
        "outputId": "d91d9831-fc74-45cb-c36e-c462e493f9ea"
      },
      "execution_count": null,
      "outputs": [
        {
          "output_type": "stream",
          "name": "stdout",
          "text": [
            "Defaulting to user installation because normal site-packages is not writeable\n",
            "Requirement already satisfied: xgboost in c:\\users\\павел\\appdata\\roaming\\python\\python39\\site-packages (1.7.4)\n",
            "Requirement already satisfied: scipy in c:\\programdata\\anaconda3\\lib\\site-packages (from xgboost) (1.9.1)\n",
            "Requirement already satisfied: numpy in c:\\programdata\\anaconda3\\lib\\site-packages (from xgboost) (1.21.5)\n"
          ]
        }
      ]
    },
    {
      "cell_type": "code",
      "source": [
        "import xgboost as xgb"
      ],
      "metadata": {
        "id": "mGerJhK7Q9sv"
      },
      "execution_count": null,
      "outputs": []
    },
    {
      "cell_type": "code",
      "source": [
        "model_xgb = xgb.XGBRegressor(random_state = 1)"
      ],
      "metadata": {
        "id": "WLSpOzxiN32V"
      },
      "execution_count": null,
      "outputs": []
    },
    {
      "cell_type": "code",
      "source": [
        "model_xgb.fit(X_train, y_train)"
      ],
      "metadata": {
        "colab": {
          "base_uri": "https://localhost:8080/"
        },
        "id": "QQIFTALVSHOj",
        "outputId": "fff4114b-cb2f-4d8c-8540-e6e0717699b6"
      },
      "execution_count": null,
      "outputs": [
        {
          "output_type": "execute_result",
          "data": {
            "text/plain": [
              "XGBRegressor(base_score=None, booster=None, callbacks=None,\n",
              "             colsample_bylevel=None, colsample_bynode=None,\n",
              "             colsample_bytree=None, early_stopping_rounds=None,\n",
              "             enable_categorical=False, eval_metric=None, feature_types=None,\n",
              "             gamma=None, gpu_id=None, grow_policy=None, importance_type=None,\n",
              "             interaction_constraints=None, learning_rate=None, max_bin=None,\n",
              "             max_cat_threshold=None, max_cat_to_onehot=None,\n",
              "             max_delta_step=None, max_depth=None, max_leaves=None,\n",
              "             min_child_weight=None, missing=nan, monotone_constraints=None,\n",
              "             n_estimators=100, n_jobs=None, num_parallel_tree=None,\n",
              "             predictor=None, random_state=1, ...)"
            ]
          },
          "metadata": {},
          "execution_count": 31
        }
      ]
    },
    {
      "cell_type": "code",
      "source": [
        "predictions = model_xgb.predict(X_test)"
      ],
      "metadata": {
        "id": "ZO6sFZ6CSX2s"
      },
      "execution_count": null,
      "outputs": []
    },
    {
      "cell_type": "code",
      "source": [
        "print(f'R^2 score: {r2_score(y_test, predictions):.3f}')\n",
        "print(f'RMSE score: {mean_squared_error(y_test, predictions, squared=False):.2f}')"
      ],
      "metadata": {
        "colab": {
          "base_uri": "https://localhost:8080/"
        },
        "id": "mCPTslCoSZ2L",
        "outputId": "3830ad64-6d64-47ef-cdeb-48cdb3c1a689"
      },
      "execution_count": null,
      "outputs": [
        {
          "output_type": "stream",
          "name": "stdout",
          "text": [
            "R^2 score: 0.889\n",
            "RMSE score: 1704117.44\n"
          ]
        }
      ]
    },
    {
      "cell_type": "markdown",
      "source": [
        "Даже без оптимизации гиперпараметров, модель дает хороший результат. Следующим шагом оптимизируем некоторые гиперпараметры модели."
      ],
      "metadata": {
        "id": "SpjJzc5CQNVO"
      }
    },
    {
      "cell_type": "markdown",
      "source": [
        "**Оптимизируем гиперпараметры**"
      ],
      "metadata": {
        "id": "BLmfTARdjeK2"
      }
    },
    {
      "cell_type": "code",
      "source": [
        "!pip install optuna"
      ],
      "metadata": {
        "colab": {
          "base_uri": "https://localhost:8080/"
        },
        "id": "QHS6HF0NMLTW",
        "outputId": "bad0ce57-e3fc-4836-d0c3-37b6352452af"
      },
      "execution_count": null,
      "outputs": [
        {
          "output_type": "stream",
          "name": "stdout",
          "text": [
            "Defaulting to user installation because normal site-packages is not writeable\n",
            "Requirement already satisfied: optuna in c:\\users\\павел\\appdata\\roaming\\python\\python39\\site-packages (3.1.0)\n",
            "Requirement already satisfied: alembic>=1.5.0 in c:\\users\\павел\\appdata\\roaming\\python\\python39\\site-packages (from optuna) (1.9.4)\n",
            "Requirement already satisfied: cmaes>=0.9.1 in c:\\users\\павел\\appdata\\roaming\\python\\python39\\site-packages (from optuna) (0.9.1)\n",
            "Requirement already satisfied: colorlog in c:\\users\\павел\\appdata\\roaming\\python\\python39\\site-packages (from optuna) (6.7.0)\n",
            "Requirement already satisfied: sqlalchemy>=1.3.0 in c:\\programdata\\anaconda3\\lib\\site-packages (from optuna) (1.4.39)\n",
            "Requirement already satisfied: tqdm in c:\\programdata\\anaconda3\\lib\\site-packages (from optuna) (4.64.1)\n",
            "Requirement already satisfied: PyYAML in c:\\programdata\\anaconda3\\lib\\site-packages (from optuna) (6.0)\n",
            "Requirement already satisfied: numpy in c:\\programdata\\anaconda3\\lib\\site-packages (from optuna) (1.21.5)\n",
            "Requirement already satisfied: packaging>=20.0 in c:\\programdata\\anaconda3\\lib\\site-packages (from optuna) (21.3)\n",
            "Requirement already satisfied: Mako in c:\\users\\павел\\appdata\\roaming\\python\\python39\\site-packages (from alembic>=1.5.0->optuna) (1.2.4)\n",
            "Requirement already satisfied: pyparsing!=3.0.5,>=2.0.2 in c:\\programdata\\anaconda3\\lib\\site-packages (from packaging>=20.0->optuna) (3.0.9)\n",
            "Requirement already satisfied: greenlet!=0.4.17 in c:\\programdata\\anaconda3\\lib\\site-packages (from sqlalchemy>=1.3.0->optuna) (1.1.1)\n",
            "Requirement already satisfied: colorama in c:\\programdata\\anaconda3\\lib\\site-packages (from colorlog->optuna) (0.4.5)\n",
            "Requirement already satisfied: MarkupSafe>=0.9.2 in c:\\programdata\\anaconda3\\lib\\site-packages (from Mako->alembic>=1.5.0->optuna) (2.0.1)\n"
          ]
        }
      ]
    },
    {
      "cell_type": "code",
      "source": [
        "import optuna"
      ],
      "metadata": {
        "id": "AtUA9_TmObPk"
      },
      "execution_count": null,
      "outputs": []
    },
    {
      "cell_type": "code",
      "source": [
        "def objective(trial):\n",
        "    params = {\n",
        "        'eta': trial.suggest_categorical('eta', [0.3, 0.4, 0.5, 0.6, 0.7, 0.8, 0.9, 1.0]),\n",
        "        'n_estimators': trial.suggest_int('n_estimators', 100, 1000),  \n",
        "        'max_depth': trial.suggest_categorical('max_depth', [3, 4, 5, 6, 7]),\n",
        "        'min_child_weight': trial.suggest_int('min_child_weight', 1, 50),\n",
        "        'gamma': trial.suggest_categorical('gamma', [18, 19, 20, 21, 22, 23, 24, 25]),\n",
        "        'random_state': 1\n",
        "    }\n",
        "\n",
        "    model = xgb.XGBRegressor(**params)  \n",
        "    model.fit(X_train, y_train)\n",
        "    predictions = model.predict(X_test)\n",
        "    return r2_score(y_test, predictions)"
      ],
      "metadata": {
        "id": "SdsfNPZzyVBu"
      },
      "execution_count": null,
      "outputs": []
    },
    {
      "cell_type": "code",
      "source": [
        "study = optuna.create_study(direction=\"maximize\")\n",
        "study.optimize(objective, n_trials=50)\n"
      ],
      "metadata": {
        "colab": {
          "base_uri": "https://localhost:8080/"
        },
        "id": "zhsTsP2YOX55",
        "outputId": "4ca332f8-20c1-4e54-911f-51322b54d079"
      },
      "execution_count": null,
      "outputs": [
        {
          "output_type": "stream",
          "name": "stderr",
          "text": [
            "\u001b[32m[I 2023-03-14 20:27:11,597]\u001b[0m A new study created in memory with name: no-name-a8d8fa9b-f466-46e4-af49-24a41c4e0419\u001b[0m\n",
            "\u001b[32m[I 2023-03-14 20:33:35,824]\u001b[0m Trial 0 finished with value: 0.9145000467552897 and parameters: {'eta': 0.5, 'n_estimators': 832, 'max_depth': 6, 'min_child_weight': 49, 'gamma': 23}. Best is trial 0 with value: 0.9145000467552897.\u001b[0m\n",
            "\u001b[32m[I 2023-03-14 20:35:35,596]\u001b[0m Trial 1 finished with value: 0.8834523885129387 and parameters: {'eta': 0.7, 'n_estimators': 577, 'max_depth': 3, 'min_child_weight': 36, 'gamma': 18}. Best is trial 0 with value: 0.9145000467552897.\u001b[0m\n",
            "\u001b[32m[I 2023-03-14 20:39:37,757]\u001b[0m Trial 2 finished with value: 0.9009691531639409 and parameters: {'eta': 0.5, 'n_estimators': 732, 'max_depth': 4, 'min_child_weight': 11, 'gamma': 20}. Best is trial 0 with value: 0.9145000467552897.\u001b[0m\n",
            "\u001b[32m[I 2023-03-14 20:43:36,690]\u001b[0m Trial 3 finished with value: 0.8943607949312282 and parameters: {'eta': 1.0, 'n_estimators': 640, 'max_depth': 5, 'min_child_weight': 15, 'gamma': 19}. Best is trial 0 with value: 0.9145000467552897.\u001b[0m\n",
            "\u001b[32m[I 2023-03-14 20:47:05,755]\u001b[0m Trial 4 finished with value: 0.9060116406586791 and parameters: {'eta': 0.5, 'n_estimators': 578, 'max_depth': 5, 'min_child_weight': 28, 'gamma': 19}. Best is trial 0 with value: 0.9145000467552897.\u001b[0m\n",
            "\u001b[32m[I 2023-03-14 20:47:47,175]\u001b[0m Trial 5 finished with value: 0.8829592487640079 and parameters: {'eta': 0.5, 'n_estimators': 111, 'max_depth': 5, 'min_child_weight': 9, 'gamma': 18}. Best is trial 0 with value: 0.9145000467552897.\u001b[0m\n",
            "\u001b[32m[I 2023-03-14 20:49:58,863]\u001b[0m Trial 6 finished with value: 0.8791991514211019 and parameters: {'eta': 0.6, 'n_estimators': 548, 'max_depth': 3, 'min_child_weight': 49, 'gamma': 19}. Best is trial 0 with value: 0.9145000467552897.\u001b[0m\n",
            "\u001b[32m[I 2023-03-14 20:54:38,146]\u001b[0m Trial 7 finished with value: 0.9006140406608478 and parameters: {'eta': 0.5, 'n_estimators': 721, 'max_depth': 4, 'min_child_weight': 35, 'gamma': 24}. Best is trial 0 with value: 0.9145000467552897.\u001b[0m\n",
            "\u001b[32m[I 2023-03-14 21:00:16,939]\u001b[0m Trial 8 finished with value: 0.9013278088162463 and parameters: {'eta': 0.7, 'n_estimators': 914, 'max_depth': 4, 'min_child_weight': 26, 'gamma': 23}. Best is trial 0 with value: 0.9145000467552897.\u001b[0m\n",
            "\u001b[32m[I 2023-03-14 21:02:57,417]\u001b[0m Trial 9 finished with value: 0.8763652912090026 and parameters: {'eta': 0.4, 'n_estimators': 565, 'max_depth': 3, 'min_child_weight': 46, 'gamma': 20}. Best is trial 0 with value: 0.9145000467552897.\u001b[0m\n",
            "\u001b[32m[I 2023-03-14 21:12:14,638]\u001b[0m Trial 10 finished with value: 0.9161386080428526 and parameters: {'eta': 0.3, 'n_estimators': 986, 'max_depth': 6, 'min_child_weight': 40, 'gamma': 23}. Best is trial 10 with value: 0.9161386080428526.\u001b[0m\n",
            "\u001b[32m[I 2023-03-14 21:19:36,584]\u001b[0m Trial 11 finished with value: 0.9151906806919798 and parameters: {'eta': 0.3, 'n_estimators': 965, 'max_depth': 6, 'min_child_weight': 41, 'gamma': 23}. Best is trial 10 with value: 0.9161386080428526.\u001b[0m\n",
            "\u001b[32m[I 2023-03-14 21:26:32,687]\u001b[0m Trial 12 finished with value: 0.9154654391619913 and parameters: {'eta': 0.3, 'n_estimators': 924, 'max_depth': 6, 'min_child_weight': 38, 'gamma': 22}. Best is trial 10 with value: 0.9161386080428526.\u001b[0m\n",
            "\u001b[32m[I 2023-03-14 21:29:12,315]\u001b[0m Trial 13 finished with value: 0.906166405438316 and parameters: {'eta': 0.3, 'n_estimators': 352, 'max_depth': 6, 'min_child_weight': 33, 'gamma': 22}. Best is trial 10 with value: 0.9161386080428526.\u001b[0m\n",
            "\u001b[32m[I 2023-03-14 21:36:57,442]\u001b[0m Trial 14 finished with value: 0.9206584727420315 and parameters: {'eta': 0.3, 'n_estimators': 853, 'max_depth': 7, 'min_child_weight': 19, 'gamma': 22}. Best is trial 14 with value: 0.9206584727420315.\u001b[0m\n",
            "\u001b[32m[I 2023-03-14 21:46:07,845]\u001b[0m Trial 15 finished with value: 0.8959801127317774 and parameters: {'eta': 0.9, 'n_estimators': 996, 'max_depth': 7, 'min_child_weight': 21, 'gamma': 25}. Best is trial 14 with value: 0.9206584727420315.\u001b[0m\n",
            "\u001b[32m[I 2023-03-14 21:53:37,723]\u001b[0m Trial 16 finished with value: 0.9028282271282926 and parameters: {'eta': 0.8, 'n_estimators': 796, 'max_depth': 7, 'min_child_weight': 1, 'gamma': 21}. Best is trial 14 with value: 0.9206584727420315.\u001b[0m\n",
            "\u001b[32m[I 2023-03-14 21:57:04,430]\u001b[0m Trial 17 finished with value: 0.913339495748479 and parameters: {'eta': 0.3, 'n_estimators': 376, 'max_depth': 7, 'min_child_weight': 19, 'gamma': 22}. Best is trial 14 with value: 0.9206584727420315.\u001b[0m\n",
            "\u001b[32m[I 2023-03-14 22:04:30,249]\u001b[0m Trial 18 finished with value: 0.9204377983536458 and parameters: {'eta': 0.3, 'n_estimators': 832, 'max_depth': 7, 'min_child_weight': 30, 'gamma': 24}. Best is trial 14 with value: 0.9206584727420315.\u001b[0m\n",
            "\u001b[32m[I 2023-03-14 22:12:20,132]\u001b[0m Trial 19 finished with value: 0.9126213085540361 and parameters: {'eta': 0.6, 'n_estimators': 857, 'max_depth': 7, 'min_child_weight': 28, 'gamma': 24}. Best is trial 14 with value: 0.9206584727420315.\u001b[0m\n",
            "\u001b[32m[I 2023-03-14 22:18:50,289]\u001b[0m Trial 20 finished with value: 0.8850772835694978 and parameters: {'eta': 1.0, 'n_estimators': 704, 'max_depth': 7, 'min_child_weight': 22, 'gamma': 24}. Best is trial 14 with value: 0.9206584727420315.\u001b[0m\n",
            "\u001b[32m[I 2023-03-14 22:27:15,589]\u001b[0m Trial 21 finished with value: 0.9207989691849157 and parameters: {'eta': 0.3, 'n_estimators': 874, 'max_depth': 7, 'min_child_weight': 30, 'gamma': 21}. Best is trial 21 with value: 0.9207989691849157.\u001b[0m\n",
            "\u001b[32m[I 2023-03-14 22:34:17,330]\u001b[0m Trial 22 finished with value: 0.9192665254814998 and parameters: {'eta': 0.3, 'n_estimators': 799, 'max_depth': 7, 'min_child_weight': 31, 'gamma': 21}. Best is trial 21 with value: 0.9207989691849157.\u001b[0m\n",
            "\u001b[32m[I 2023-03-14 22:41:57,537]\u001b[0m Trial 23 finished with value: 0.9210274318054902 and parameters: {'eta': 0.3, 'n_estimators': 867, 'max_depth': 7, 'min_child_weight': 23, 'gamma': 21}. Best is trial 23 with value: 0.9210274318054902.\u001b[0m\n",
            "\u001b[32m[I 2023-03-14 22:46:09,620]\u001b[0m Trial 24 finished with value: 0.895235978277251 and parameters: {'eta': 0.9, 'n_estimators': 447, 'max_depth': 7, 'min_child_weight': 17, 'gamma': 21}. Best is trial 23 with value: 0.9210274318054902.\u001b[0m\n",
            "\u001b[32m[I 2023-03-14 22:54:03,432]\u001b[0m Trial 25 finished with value: 0.9199321847676991 and parameters: {'eta': 0.4, 'n_estimators': 887, 'max_depth': 7, 'min_child_weight': 24, 'gamma': 21}. Best is trial 23 with value: 0.9210274318054902.\u001b[0m\n",
            "\u001b[32m[I 2023-03-14 23:00:51,616]\u001b[0m Trial 26 finished with value: 0.9210018936215948 and parameters: {'eta': 0.3, 'n_estimators': 751, 'max_depth': 7, 'min_child_weight': 11, 'gamma': 21}. Best is trial 23 with value: 0.9210274318054902.\u001b[0m\n",
            "\u001b[32m[I 2023-03-14 23:07:39,582]\u001b[0m Trial 27 finished with value: 0.9218888978484342 and parameters: {'eta': 0.3, 'n_estimators': 750, 'max_depth': 7, 'min_child_weight': 7, 'gamma': 21}. Best is trial 27 with value: 0.9218888978484342.\u001b[0m\n",
            "\u001b[32m[I 2023-03-14 23:13:14,592]\u001b[0m Trial 28 finished with value: 0.8995660981998995 and parameters: {'eta': 0.8, 'n_estimators': 679, 'max_depth': 7, 'min_child_weight': 3, 'gamma': 21}. Best is trial 27 with value: 0.9218888978484342.\u001b[0m\n",
            "\u001b[32m[I 2023-03-14 23:19:32,971]\u001b[0m Trial 29 finished with value: 0.9222361247205845 and parameters: {'eta': 0.3, 'n_estimators': 777, 'max_depth': 7, 'min_child_weight': 7, 'gamma': 21}. Best is trial 29 with value: 0.9222361247205845.\u001b[0m\n",
            "\u001b[32m[I 2023-03-14 23:24:45,974]\u001b[0m Trial 30 finished with value: 0.9207011053732076 and parameters: {'eta': 0.3, 'n_estimators': 650, 'max_depth': 7, 'min_child_weight': 6, 'gamma': 25}. Best is trial 29 with value: 0.9222361247205845.\u001b[0m\n",
            "\u001b[32m[I 2023-03-14 23:30:49,132]\u001b[0m Trial 31 finished with value: 0.919737681076088 and parameters: {'eta': 0.3, 'n_estimators': 765, 'max_depth': 7, 'min_child_weight': 13, 'gamma': 21}. Best is trial 29 with value: 0.9222361247205845.\u001b[0m\n",
            "\u001b[32m[I 2023-03-14 23:37:01,924]\u001b[0m Trial 32 finished with value: 0.9076553836039655 and parameters: {'eta': 0.7, 'n_estimators': 781, 'max_depth': 7, 'min_child_weight': 7, 'gamma': 21}. Best is trial 29 with value: 0.9222361247205845.\u001b[0m\n",
            "\u001b[32m[I 2023-03-14 23:38:59,753]\u001b[0m Trial 33 finished with value: 0.8768664716306065 and parameters: {'eta': 0.3, 'n_estimators': 636, 'max_depth': 3, 'min_child_weight': 5, 'gamma': 21}. Best is trial 29 with value: 0.9222361247205845.\u001b[0m\n",
            "\u001b[32m[I 2023-03-14 23:42:09,404]\u001b[0m Trial 34 finished with value: 0.8940660302064186 and parameters: {'eta': 1.0, 'n_estimators': 750, 'max_depth': 4, 'min_child_weight': 11, 'gamma': 21}. Best is trial 29 with value: 0.9222361247205845.\u001b[0m\n",
            "\u001b[32m[I 2023-03-14 23:46:31,590]\u001b[0m Trial 35 finished with value: 0.9097990955842109 and parameters: {'eta': 0.3, 'n_estimators': 816, 'max_depth': 5, 'min_child_weight': 13, 'gamma': 18}. Best is trial 29 with value: 0.9222361247205845.\u001b[0m\n",
            "\u001b[32m[I 2023-03-14 23:47:26,887]\u001b[0m Trial 36 finished with value: 0.896361329564579 and parameters: {'eta': 0.6, 'n_estimators': 114, 'max_depth': 7, 'min_child_weight': 9, 'gamma': 20}. Best is trial 29 with value: 0.9222361247205845.\u001b[0m\n",
            "\u001b[32m[I 2023-03-14 23:50:10,510]\u001b[0m Trial 37 finished with value: 0.89830082147161 and parameters: {'eta': 0.8, 'n_estimators': 503, 'max_depth': 5, 'min_child_weight': 15, 'gamma': 21}. Best is trial 29 with value: 0.9222361247205845.\u001b[0m\n",
            "\u001b[32m[I 2023-03-14 23:57:46,454]\u001b[0m Trial 38 finished with value: 0.9213573675298661 and parameters: {'eta': 0.4, 'n_estimators': 943, 'max_depth': 7, 'min_child_weight': 2, 'gamma': 21}. Best is trial 29 with value: 0.9222361247205845.\u001b[0m\n",
            "\u001b[32m[I 2023-03-15 00:00:45,903]\u001b[0m Trial 39 finished with value: 0.8885618698302634 and parameters: {'eta': 0.4, 'n_estimators': 936, 'max_depth': 3, 'min_child_weight': 1, 'gamma': 18}. Best is trial 29 with value: 0.9222361247205845.\u001b[0m\n",
            "\u001b[32m[I 2023-03-15 00:04:32,211]\u001b[0m Trial 40 finished with value: 0.9042341384226336 and parameters: {'eta': 0.4, 'n_estimators': 900, 'max_depth': 4, 'min_child_weight': 4, 'gamma': 19}. Best is trial 29 with value: 0.9222361247205845.\u001b[0m\n",
            "\u001b[32m[I 2023-03-15 00:10:26,862]\u001b[0m Trial 41 finished with value: 0.9198132537190135 and parameters: {'eta': 0.4, 'n_estimators': 746, 'max_depth': 7, 'min_child_weight': 8, 'gamma': 21}. Best is trial 29 with value: 0.9222361247205845.\u001b[0m\n",
            "\u001b[32m[I 2023-03-15 00:15:20,170]\u001b[0m Trial 42 finished with value: 0.915656787438915 and parameters: {'eta': 0.5, 'n_estimators': 615, 'max_depth': 7, 'min_child_weight': 12, 'gamma': 21}. Best is trial 29 with value: 0.9222361247205845.\u001b[0m\n",
            "\u001b[32m[I 2023-03-15 00:21:03,319]\u001b[0m Trial 43 finished with value: 0.906589982429659 and parameters: {'eta': 0.7, 'n_estimators': 707, 'max_depth': 7, 'min_child_weight': 10, 'gamma': 21}. Best is trial 29 with value: 0.9222361247205845.\u001b[0m\n",
            "\u001b[32m[I 2023-03-15 00:28:53,244]\u001b[0m Trial 44 finished with value: 0.888299858900146 and parameters: {'eta': 0.9, 'n_estimators': 931, 'max_depth': 7, 'min_child_weight': 4, 'gamma': 21}. Best is trial 29 with value: 0.9222361247205845.\u001b[0m\n",
            "\u001b[32m[I 2023-03-15 00:34:48,888]\u001b[0m Trial 45 finished with value: 0.9096674212776292 and parameters: {'eta': 0.3, 'n_estimators': 837, 'max_depth': 5, 'min_child_weight': 15, 'gamma': 20}. Best is trial 29 with value: 0.9222361247205845.\u001b[0m\n",
            "\u001b[32m[I 2023-03-15 00:42:58,273]\u001b[0m Trial 46 finished with value: 0.9213227735184423 and parameters: {'eta': 0.4, 'n_estimators': 939, 'max_depth': 7, 'min_child_weight': 2, 'gamma': 19}. Best is trial 29 with value: 0.9222361247205845.\u001b[0m\n",
            "\u001b[32m[I 2023-03-15 00:49:33,680]\u001b[0m Trial 47 finished with value: 0.9193038863072952 and parameters: {'eta': 0.4, 'n_estimators': 973, 'max_depth': 6, 'min_child_weight': 1, 'gamma': 19}. Best is trial 29 with value: 0.9222361247205845.\u001b[0m\n",
            "\u001b[32m[I 2023-03-15 00:52:31,444]\u001b[0m Trial 48 finished with value: 0.8871771186556963 and parameters: {'eta': 0.4, 'n_estimators': 953, 'max_depth': 3, 'min_child_weight': 7, 'gamma': 19}. Best is trial 29 with value: 0.9222361247205845.\u001b[0m\n",
            "\u001b[32m[I 2023-03-15 00:56:17,551]\u001b[0m Trial 49 finished with value: 0.9051837028908178 and parameters: {'eta': 0.4, 'n_estimators': 892, 'max_depth': 4, 'min_child_weight': 3, 'gamma': 19}. Best is trial 29 with value: 0.9222361247205845.\u001b[0m\n"
          ]
        }
      ]
    },
    {
      "cell_type": "code",
      "source": [
        "print(f'Best value: {study.best_trial.value}')\n",
        "print(f'Best params: {study.best_trial.params}')"
      ],
      "metadata": {
        "colab": {
          "base_uri": "https://localhost:8080/"
        },
        "id": "uPG1WR8EWeef",
        "outputId": "e341cac2-4531-4ce0-e6c8-1d1bdb580153"
      },
      "execution_count": null,
      "outputs": [
        {
          "output_type": "stream",
          "name": "stdout",
          "text": [
            "Best value: 0.9222361247205845\n",
            "Best params: {'eta': 0.3, 'n_estimators': 777, 'max_depth': 7, 'min_child_weight': 7, 'gamma': 21}\n"
          ]
        }
      ]
    },
    {
      "cell_type": "markdown",
      "source": [
        "**Обучение модели с оптимизированными гиперпараметрами**"
      ],
      "metadata": {
        "id": "LdOEllZ7j_H1"
      }
    },
    {
      "cell_type": "code",
      "source": [
        "model_xgb = xgb.XGBRegressor(random_state = 1, eta = 0.3, n_estimators = 777, max_depth = 7,\n",
        "                             min_child_weight = 7, gamma = 21)"
      ],
      "metadata": {
        "id": "0RPyrAPqYHIM"
      },
      "execution_count": null,
      "outputs": []
    },
    {
      "cell_type": "code",
      "source": [
        "model_xgb.fit(X_train, y_train)"
      ],
      "metadata": {
        "id": "cpLtenuljF32",
        "colab": {
          "base_uri": "https://localhost:8080/"
        },
        "outputId": "7325d5a0-4ba6-4add-e810-65d705395275"
      },
      "execution_count": null,
      "outputs": [
        {
          "output_type": "execute_result",
          "data": {
            "text/plain": [
              "XGBRegressor(base_score=None, booster=None, callbacks=None,\n",
              "             colsample_bylevel=None, colsample_bynode=None,\n",
              "             colsample_bytree=None, early_stopping_rounds=None,\n",
              "             enable_categorical=False, eta=0.3, eval_metric=None,\n",
              "             feature_types=None, gamma=21, gpu_id=None, grow_policy=None,\n",
              "             importance_type=None, interaction_constraints=None,\n",
              "             learning_rate=None, max_bin=None, max_cat_threshold=None,\n",
              "             max_cat_to_onehot=None, max_delta_step=None, max_depth=7,\n",
              "             max_leaves=None, min_child_weight=7, missing=nan,\n",
              "             monotone_constraints=None, n_estimators=777, n_jobs=None,\n",
              "             num_parallel_tree=None, predictor=None, ...)"
            ]
          },
          "metadata": {},
          "execution_count": 18
        }
      ]
    },
    {
      "cell_type": "code",
      "source": [
        "predictions = model_xgb.predict(X_test)"
      ],
      "metadata": {
        "id": "fAx_ZMp-jAhw"
      },
      "execution_count": null,
      "outputs": []
    },
    {
      "cell_type": "code",
      "source": [
        "print(f'R^2 score: {r2_score(y_test, predictions):.3f}')\n",
        "print(f'RMSE score: {mean_squared_error(y_test, predictions, squared=False):.2f}')"
      ],
      "metadata": {
        "id": "w7dp_DccjSnc",
        "colab": {
          "base_uri": "https://localhost:8080/"
        },
        "outputId": "4f318074-f1b5-479b-c213-f8f24bb922c0"
      },
      "execution_count": null,
      "outputs": [
        {
          "output_type": "stream",
          "name": "stdout",
          "text": [
            "R^2 score: 0.922\n",
            "RMSE score: 1427693.82\n"
          ]
        }
      ]
    },
    {
      "cell_type": "code",
      "source": [
        "cv_scores = cross_val_score(model_xgb, X, y, cv=10,scoring='r2')"
      ],
      "metadata": {
        "id": "iQknOxvoMGon"
      },
      "execution_count": null,
      "outputs": []
    },
    {
      "cell_type": "code",
      "source": [
        "print(f'cross_val_score R2: {cv_scores}',f'cross_val_score R2 mean: {cv_scores.mean()}', sep = '\\n')"
      ],
      "metadata": {
        "colab": {
          "base_uri": "https://localhost:8080/"
        },
        "id": "0k5iSN-VMUQP",
        "outputId": "38d09d29-ba48-4309-8425-71fb126b8118"
      },
      "execution_count": null,
      "outputs": [
        {
          "output_type": "stream",
          "name": "stdout",
          "text": [
            "cross_val_score R2: [0.76754208 0.88332279 0.89982332 0.90922912 0.92114924 0.94012002\n",
            " 0.92464811 0.8983894  0.87747587 0.81748271]\n",
            "cross_val_score R2 mean: 0.8839182658936302\n"
          ]
        }
      ]
    },
    {
      "cell_type": "markdown",
      "source": [
        "**Сохраняем обученную модель**"
      ],
      "metadata": {
        "id": "UcB8wqcpp_49"
      }
    },
    {
      "cell_type": "code",
      "source": [
        "!pip install joblib"
      ],
      "metadata": {
        "colab": {
          "base_uri": "https://localhost:8080/"
        },
        "id": "F4A2B6IjuCbz",
        "outputId": "2ff68074-0889-40a5-8d49-dbf750ce4ecf"
      },
      "execution_count": null,
      "outputs": [
        {
          "output_type": "stream",
          "name": "stdout",
          "text": [
            "Defaulting to user installation because normal site-packages is not writeable\n",
            "Requirement already satisfied: joblib in c:\\programdata\\anaconda3\\lib\\site-packages (1.1.0)\n"
          ]
        }
      ]
    },
    {
      "cell_type": "code",
      "source": [
        "import joblib"
      ],
      "metadata": {
        "id": "zrIQWgHytYfe"
      },
      "execution_count": null,
      "outputs": []
    },
    {
      "cell_type": "code",
      "source": [
        "joblib_file = \"model_xgb.pkl\" \n",
        "joblib.dump(model_xgb, joblib_file)"
      ],
      "metadata": {
        "colab": {
          "base_uri": "https://localhost:8080/"
        },
        "id": "-2MkZxlvuc8M",
        "outputId": "8bc83c81-d266-42b3-baa7-03a0432afe1f"
      },
      "execution_count": null,
      "outputs": [
        {
          "output_type": "execute_result",
          "data": {
            "text/plain": [
              "['model_xgb.pkl']"
            ]
          },
          "metadata": {},
          "execution_count": 23
        }
      ]
    },
    {
      "cell_type": "code",
      "source": [
        "model = joblib.load(\"model_xgb.pkl\")"
      ],
      "metadata": {
        "id": "3UQ5r0wcuvPi"
      },
      "execution_count": null,
      "outputs": []
    },
    {
      "cell_type": "code",
      "source": [
        "predictions = model.predict(X_test)"
      ],
      "metadata": {
        "id": "2uZBRgGd0yWy"
      },
      "execution_count": null,
      "outputs": []
    },
    {
      "cell_type": "code",
      "source": [
        "print(f'R^2 score: {r2_score(y_test, predictions):.3f}')\n",
        "print(f'RMSE score: {mean_squared_error(y_test, predictions, squared=False):.2f}')"
      ],
      "metadata": {
        "colab": {
          "base_uri": "https://localhost:8080/"
        },
        "id": "O-WSp87M1Mw-",
        "outputId": "1f51bbe2-d894-49a0-cad6-dc7ec2786f37"
      },
      "execution_count": null,
      "outputs": [
        {
          "output_type": "stream",
          "name": "stdout",
          "text": [
            "R^2 score: 0.922\n",
            "RMSE score: 1427693.82\n"
          ]
        }
      ]
    },
    {
      "cell_type": "markdown",
      "source": [
        "**Обучение нейросети**"
      ],
      "metadata": {
        "id": "qXmG5T-aORcu"
      }
    },
    {
      "cell_type": "code",
      "source": [
        "from sklearn import preprocessing"
      ],
      "metadata": {
        "id": "FK13eKNAg2q6"
      },
      "execution_count": null,
      "outputs": []
    },
    {
      "cell_type": "code",
      "source": [
        "scaler = preprocessing.StandardScaler().fit(X)"
      ],
      "metadata": {
        "id": "8J6UKEmyhxOA"
      },
      "execution_count": null,
      "outputs": []
    },
    {
      "cell_type": "code",
      "source": [
        "X_scaled = scaler.transform(X)"
      ],
      "metadata": {
        "id": "uFrgCJz8h2eW"
      },
      "execution_count": null,
      "outputs": []
    },
    {
      "cell_type": "code",
      "source": [
        "X_train, X_test, y_train, y_test = train_test_split(X_scaled, y, test_size=0.2, shuffle=True, random_state = 1)"
      ],
      "metadata": {
        "id": "QQhjr8LZgzl2"
      },
      "execution_count": null,
      "outputs": []
    },
    {
      "cell_type": "code",
      "source": [
        "from keras.models import Sequential\n",
        "from keras.layers import Dense\n",
        "from keras.layers import Dropout\n",
        "import tensorflow as tf"
      ],
      "metadata": {
        "id": "qrwMd6NnOZPH"
      },
      "execution_count": null,
      "outputs": []
    },
    {
      "cell_type": "code",
      "source": [
        "model = Sequential([\n",
        "    Dense(32,activation='relu', input_shape=(X_train.shape[1],)),\n",
        "    Dropout(0.2),\n",
        "    Dense(64, activation='relu'),\n",
        "    Dropout(0.2),\n",
        "    Dense(32, activation='relu'),\n",
        "    Dropout(0.2),\n",
        "    Dense(16, activation='relu'),\n",
        "    Dropout(0.2),\n",
        "    Dense(1,activation='linear')\n",
        "])"
      ],
      "metadata": {
        "id": "R70h_RL4ZpnL"
      },
      "execution_count": null,
      "outputs": []
    },
    {
      "cell_type": "code",
      "source": [
        "model.compile(optimizer= 'Adam',\n",
        "              loss='mse',\n",
        "              metrics=[tf.keras.metrics.RootMeanSquaredError(name='rmse')])"
      ],
      "metadata": {
        "id": "5y2nabkEaDXd"
      },
      "execution_count": null,
      "outputs": []
    },
    {
      "cell_type": "code",
      "source": [
        "model.summary()"
      ],
      "metadata": {
        "colab": {
          "base_uri": "https://localhost:8080/"
        },
        "id": "4mscqwHDa7rV",
        "outputId": "7a4e4309-5dd2-4c7c-a0a7-2c5c16d60493"
      },
      "execution_count": null,
      "outputs": [
        {
          "output_type": "stream",
          "name": "stdout",
          "text": [
            "Model: \"sequential\"\n",
            "_________________________________________________________________\n",
            " Layer (type)                Output Shape              Param #   \n",
            "=================================================================\n",
            " dense (Dense)               (None, 32)                384       \n",
            "                                                                 \n",
            " dropout (Dropout)           (None, 32)                0         \n",
            "                                                                 \n",
            " dense_1 (Dense)             (None, 64)                2112      \n",
            "                                                                 \n",
            " dropout_1 (Dropout)         (None, 64)                0         \n",
            "                                                                 \n",
            " dense_2 (Dense)             (None, 32)                2080      \n",
            "                                                                 \n",
            " dropout_2 (Dropout)         (None, 32)                0         \n",
            "                                                                 \n",
            " dense_3 (Dense)             (None, 16)                528       \n",
            "                                                                 \n",
            " dropout_3 (Dropout)         (None, 16)                0         \n",
            "                                                                 \n",
            " dense_4 (Dense)             (None, 1)                 17        \n",
            "                                                                 \n",
            "=================================================================\n",
            "Total params: 5,121\n",
            "Trainable params: 5,121\n",
            "Non-trainable params: 0\n",
            "_________________________________________________________________\n"
          ]
        }
      ]
    },
    {
      "cell_type": "code",
      "source": [
        "model.fit(X_train,\n",
        "          y_train, \n",
        "          epochs=50,\n",
        "          batch_size = 32)"
      ],
      "metadata": {
        "colab": {
          "base_uri": "https://localhost:8080/"
        },
        "id": "4WTmkkAxbKkE",
        "outputId": "39f10fbb-b587-4ed7-8939-0a78523511d7"
      },
      "execution_count": null,
      "outputs": [
        {
          "output_type": "stream",
          "name": "stdout",
          "text": [
            "Epoch 1/50\n",
            "10292/10292 [==============================] - 25s 2ms/step - loss: 15719204913152.0000 - rmse: 3964745.2500\n",
            "Epoch 2/50\n",
            "10292/10292 [==============================] - 27s 3ms/step - loss: 11020330336256.0000 - rmse: 3319688.2500\n",
            "Epoch 3/50\n",
            "10292/10292 [==============================] - 26s 3ms/step - loss: 10913676525568.0000 - rmse: 3303585.5000\n",
            "Epoch 4/50\n",
            "10292/10292 [==============================] - 25s 2ms/step - loss: 10846180737024.0000 - rmse: 3293354.0000\n",
            "Epoch 5/50\n",
            "10292/10292 [==============================] - 26s 3ms/step - loss: 10824872624128.0000 - rmse: 3290117.5000\n",
            "Epoch 6/50\n",
            "10292/10292 [==============================] - 26s 3ms/step - loss: 10725919555584.0000 - rmse: 3275045.0000\n",
            "Epoch 7/50\n",
            "10292/10292 [==============================] - 40s 4ms/step - loss: 10622949392384.0000 - rmse: 3259286.7500\n",
            "Epoch 8/50\n",
            "10292/10292 [==============================] - 26s 2ms/step - loss: 10623547080704.0000 - rmse: 3259378.2500\n",
            "Epoch 9/50\n",
            "10292/10292 [==============================] - 46s 4ms/step - loss: 10569984770048.0000 - rmse: 3251151.2500\n",
            "Epoch 10/50\n",
            "10292/10292 [==============================] - 38s 4ms/step - loss: 10523551727616.0000 - rmse: 3244002.5000\n",
            "Epoch 11/50\n",
            "10292/10292 [==============================] - 26s 3ms/step - loss: 10515755565056.0000 - rmse: 3242800.5000\n",
            "Epoch 12/50\n",
            "10292/10292 [==============================] - 27s 3ms/step - loss: 10577427562496.0000 - rmse: 3252295.7500\n",
            "Epoch 13/50\n",
            "10292/10292 [==============================] - 30s 3ms/step - loss: 10556944678912.0000 - rmse: 3249145.2500\n",
            "Epoch 14/50\n",
            "10292/10292 [==============================] - 26s 3ms/step - loss: 10352520593408.0000 - rmse: 3217533.2500\n",
            "Epoch 15/50\n",
            "10292/10292 [==============================] - 24s 2ms/step - loss: 10379767840768.0000 - rmse: 3221764.7500\n",
            "Epoch 16/50\n",
            "10292/10292 [==============================] - 28s 3ms/step - loss: 10291669630976.0000 - rmse: 3208063.2500\n",
            "Epoch 17/50\n",
            "10292/10292 [==============================] - 28s 3ms/step - loss: 10250945036288.0000 - rmse: 3201709.7500\n",
            "Epoch 18/50\n",
            "10292/10292 [==============================] - 27s 3ms/step - loss: 10180255285248.0000 - rmse: 3190651.2500\n",
            "Epoch 19/50\n",
            "10292/10292 [==============================] - 26s 3ms/step - loss: 10132380450816.0000 - rmse: 3183140.0000\n",
            "Epoch 20/50\n",
            "10292/10292 [==============================] - 26s 3ms/step - loss: 10138410811392.0000 - rmse: 3184087.0000\n",
            "Epoch 21/50\n",
            "10292/10292 [==============================] - 27s 3ms/step - loss: 10143488016384.0000 - rmse: 3184884.2500\n",
            "Epoch 22/50\n",
            "10292/10292 [==============================] - 25s 2ms/step - loss: 10088261615616.0000 - rmse: 3176202.5000\n",
            "Epoch 23/50\n",
            "10292/10292 [==============================] - 26s 3ms/step - loss: 10167802396672.0000 - rmse: 3188699.2500\n",
            "Epoch 24/50\n",
            "10292/10292 [==============================] - 27s 3ms/step - loss: 10153168470016.0000 - rmse: 3186403.7500\n",
            "Epoch 25/50\n",
            "10292/10292 [==============================] - 25s 2ms/step - loss: 10065339744256.0000 - rmse: 3172592.0000\n",
            "Epoch 26/50\n",
            "10292/10292 [==============================] - 26s 3ms/step - loss: 10030907654144.0000 - rmse: 3167160.7500\n",
            "Epoch 27/50\n",
            "10292/10292 [==============================] - 26s 3ms/step - loss: 10090085089280.0000 - rmse: 3176489.5000\n",
            "Epoch 28/50\n",
            "10292/10292 [==============================] - 27s 3ms/step - loss: 10041038995456.0000 - rmse: 3168759.7500\n",
            "Epoch 29/50\n",
            "10292/10292 [==============================] - 25s 2ms/step - loss: 10040764268544.0000 - rmse: 3168716.5000\n",
            "Epoch 30/50\n",
            "10292/10292 [==============================] - 27s 3ms/step - loss: 10021213569024.0000 - rmse: 3165630.0000\n",
            "Epoch 31/50\n",
            "10292/10292 [==============================] - 27s 3ms/step - loss: 9959767015424.0000 - rmse: 3155909.7500\n",
            "Epoch 32/50\n",
            "10292/10292 [==============================] - 25s 2ms/step - loss: 10051835133952.0000 - rmse: 3170463.0000\n",
            "Epoch 33/50\n",
            "10292/10292 [==============================] - 27s 3ms/step - loss: 10061752565760.0000 - rmse: 3172026.5000\n",
            "Epoch 34/50\n",
            "10292/10292 [==============================] - 26s 3ms/step - loss: 9987244949504.0000 - rmse: 3160260.2500\n",
            "Epoch 35/50\n",
            "10292/10292 [==============================] - 26s 3ms/step - loss: 10025673162752.0000 - rmse: 3166334.2500\n",
            "Epoch 36/50\n",
            "10292/10292 [==============================] - 25s 2ms/step - loss: 9967517040640.0000 - rmse: 3157137.5000\n",
            "Epoch 37/50\n",
            "10292/10292 [==============================] - 27s 3ms/step - loss: 10001275944960.0000 - rmse: 3162479.5000\n",
            "Epoch 38/50\n",
            "10292/10292 [==============================] - 26s 3ms/step - loss: 10022912262144.0000 - rmse: 3165898.2500\n",
            "Epoch 39/50\n",
            "10292/10292 [==============================] - 25s 2ms/step - loss: 10004180500480.0000 - rmse: 3162938.5000\n",
            "Epoch 40/50\n",
            "10292/10292 [==============================] - 26s 3ms/step - loss: 10034377392128.0000 - rmse: 3167708.5000\n",
            "Epoch 41/50\n",
            "10292/10292 [==============================] - 26s 3ms/step - loss: 9996251168768.0000 - rmse: 3161684.7500\n",
            "Epoch 42/50\n",
            "10292/10292 [==============================] - 25s 2ms/step - loss: 10031507439616.0000 - rmse: 3167255.5000\n",
            "Epoch 43/50\n",
            "10292/10292 [==============================] - 26s 3ms/step - loss: 9996165185536.0000 - rmse: 3161671.2500\n",
            "Epoch 44/50\n",
            "10292/10292 [==============================] - 27s 3ms/step - loss: 9975688593408.0000 - rmse: 3158431.2500\n",
            "Epoch 45/50\n",
            "10292/10292 [==============================] - 26s 3ms/step - loss: 9954885894144.0000 - rmse: 3155136.5000\n",
            "Epoch 46/50\n",
            "10292/10292 [==============================] - 25s 2ms/step - loss: 9977751142400.0000 - rmse: 3158757.7500\n",
            "Epoch 47/50\n",
            "10292/10292 [==============================] - 26s 3ms/step - loss: 9957254627328.0000 - rmse: 3155511.7500\n",
            "Epoch 48/50\n",
            "10292/10292 [==============================] - 26s 3ms/step - loss: 9937926225920.0000 - rmse: 3152447.7500\n",
            "Epoch 49/50\n",
            "10292/10292 [==============================] - 25s 2ms/step - loss: 9960104656896.0000 - rmse: 3155963.2500\n",
            "Epoch 50/50\n",
            "10292/10292 [==============================] - 26s 3ms/step - loss: 10002153603072.0000 - rmse: 3162618.2500\n"
          ]
        },
        {
          "output_type": "execute_result",
          "data": {
            "text/plain": [
              "<keras.callbacks.History at 0x7ff0598a2dc0>"
            ]
          },
          "metadata": {},
          "execution_count": 19
        }
      ]
    },
    {
      "cell_type": "code",
      "source": [
        "predictionsNN = model.predict(X_test)"
      ],
      "metadata": {
        "colab": {
          "base_uri": "https://localhost:8080/"
        },
        "id": "zu11bVthaX44",
        "outputId": "1d988752-ceb4-46f5-ded2-18c0dc6b2594"
      },
      "execution_count": null,
      "outputs": [
        {
          "output_type": "stream",
          "name": "stdout",
          "text": [
            "2573/2573 [==============================] - 4s 1ms/step\n"
          ]
        }
      ]
    },
    {
      "cell_type": "code",
      "source": [
        "print(f'R^2 score: {r2_score(y_test, predictionsNN):.3f}')\n",
        "print(f'RMSE score: {mean_squared_error(y_test, predictionsNN, squared=False):.2f}')"
      ],
      "metadata": {
        "colab": {
          "base_uri": "https://localhost:8080/"
        },
        "id": "rvtXGq7baoeQ",
        "outputId": "40fcaccc-0aa4-4a24-db0b-55ccc53a17d8"
      },
      "execution_count": null,
      "outputs": [
        {
          "output_type": "stream",
          "name": "stdout",
          "text": [
            "R^2 score: 0.731\n",
            "RMSE score: 2656792.77\n"
          ]
        }
      ]
    },
    {
      "cell_type": "markdown",
      "source": [
        "Так как модель xgboost показывает лучшие метрики по сравнению с нейросетью, в веб-приложении будем использовать модель xgboost."
      ],
      "metadata": {
        "id": "f6ohntSyTkO0"
      }
    },
    {
      "cell_type": "markdown",
      "source": [
        "#Приложение streamlit"
      ],
      "metadata": {
        "id": "RlHCaWcM7tSC"
      }
    },
    {
      "cell_type": "code",
      "source": [
        "!pip install -q streamlit"
      ],
      "metadata": {
        "colab": {
          "base_uri": "https://localhost:8080/"
        },
        "id": "vKyYHwPr7x18",
        "outputId": "7ab8d8c9-faf7-4f6e-85fa-787773309752"
      },
      "execution_count": 1,
      "outputs": [
        {
          "output_type": "stream",
          "name": "stdout",
          "text": [
            "\u001b[2K     \u001b[90m━━━━━━━━━━━━━━━━━━━━━━━━━━━━━━━━━━━━━━━━\u001b[0m \u001b[32m9.6/9.6 MB\u001b[0m \u001b[31m57.6 MB/s\u001b[0m eta \u001b[36m0:00:00\u001b[0m\n",
            "\u001b[2K     \u001b[90m━━━━━━━━━━━━━━━━━━━━━━━━━━━━━━━━━━━━━━\u001b[0m \u001b[32m238.7/238.7 KB\u001b[0m \u001b[31m15.1 MB/s\u001b[0m eta \u001b[36m0:00:00\u001b[0m\n",
            "\u001b[2K     \u001b[90m━━━━━━━━━━━━━━━━━━━━━━━━━━━━━━━━━━━━━━\u001b[0m \u001b[32m164.8/164.8 KB\u001b[0m \u001b[31m17.0 MB/s\u001b[0m eta \u001b[36m0:00:00\u001b[0m\n",
            "\u001b[2K     \u001b[90m━━━━━━━━━━━━━━━━━━━━━━━━━━━━━━━━━━━━━━━━\u001b[0m \u001b[32m4.7/4.7 MB\u001b[0m \u001b[31m39.6 MB/s\u001b[0m eta \u001b[36m0:00:00\u001b[0m\n",
            "\u001b[2K     \u001b[90m━━━━━━━━━━━━━━━━━━━━━━━━━━━━━━━━━━━━━━\u001b[0m \u001b[32m184.3/184.3 KB\u001b[0m \u001b[31m10.7 MB/s\u001b[0m eta \u001b[36m0:00:00\u001b[0m\n",
            "\u001b[2K     \u001b[90m━━━━━━━━━━━━━━━━━━━━━━━━━━━━━━━━━━━━━━━━\u001b[0m \u001b[32m80.6/80.6 KB\u001b[0m \u001b[31m9.9 MB/s\u001b[0m eta \u001b[36m0:00:00\u001b[0m\n",
            "\u001b[?25h  Preparing metadata (setup.py) ... \u001b[?25l\u001b[?25hdone\n",
            "\u001b[2K     \u001b[90m━━━━━━━━━━━━━━━━━━━━━━━━━━━━━━━━━━━━━━━━\u001b[0m \u001b[32m62.7/62.7 KB\u001b[0m \u001b[31m5.2 MB/s\u001b[0m eta \u001b[36m0:00:00\u001b[0m\n",
            "\u001b[2K     \u001b[90m━━━━━━━━━━━━━━━━━━━━━━━━━━━━━━━━━━━━━━━━\u001b[0m \u001b[32m84.5/84.5 KB\u001b[0m \u001b[31m4.8 MB/s\u001b[0m eta \u001b[36m0:00:00\u001b[0m\n",
            "\u001b[2K     \u001b[90m━━━━━━━━━━━━━━━━━━━━━━━━━━━━━━━━━━━━━━━━\u001b[0m \u001b[32m1.1/1.1 MB\u001b[0m \u001b[31m26.3 MB/s\u001b[0m eta \u001b[36m0:00:00\u001b[0m\n",
            "\u001b[?25h  Building wheel for validators (setup.py) ... \u001b[?25l\u001b[?25hdone\n",
            "\u001b[31mERROR: pip's dependency resolver does not currently take into account all the packages that are installed. This behaviour is the source of the following dependency conflicts.\n",
            "ipython 7.9.0 requires jedi>=0.10, which is not installed.\u001b[0m\u001b[31m\n",
            "\u001b[0m"
          ]
        }
      ]
    },
    {
      "cell_type": "code",
      "source": [
        "!pip install geopy"
      ],
      "metadata": {
        "colab": {
          "base_uri": "https://localhost:8080/"
        },
        "id": "lJo4RmAqYcYi",
        "outputId": "c8870ddb-4766-42c9-ec00-f1a259c37e4e"
      },
      "execution_count": 2,
      "outputs": [
        {
          "output_type": "stream",
          "name": "stdout",
          "text": [
            "Looking in indexes: https://pypi.org/simple, https://us-python.pkg.dev/colab-wheels/public/simple/\n",
            "Requirement already satisfied: geopy in /usr/local/lib/python3.9/dist-packages (1.17.0)\n",
            "Requirement already satisfied: geographiclib<2,>=1.49 in /usr/local/lib/python3.9/dist-packages (from geopy) (1.52)\n"
          ]
        }
      ]
    },
    {
      "cell_type": "code",
      "source": [
        "%%writefile streamlit_app.py\n",
        "import joblib\n",
        "import datetime\n",
        "import streamlit as st\n",
        "from geopy.geocoders import Nominatim\n",
        "import numpy as np\n",
        "\n",
        "\n",
        "st.title('Рассчитайте стоимость недвижимости')\n",
        "st.image('interer.jpeg')\n",
        "\n",
        "st.sidebar.title('Заполните параметры')\n",
        "\n",
        "adress = st.sidebar.text_input('Введите адрес.   Пример: Санкт-Петербург Фрунзе 25')\n",
        "\n",
        "building_type = st.sidebar.selectbox('Выберите тип здания', ['Монолитный','Кирпичный','Другой'])\n",
        "\n",
        "level = st.sidebar.slider('Этаж',min_value=1, max_value=50)\n",
        "\n",
        "levels = st.sidebar.slider('Всего этажей',min_value=1, max_value=50)\n",
        "\n",
        "rooms = st.sidebar.selectbox('Количество комнат', [1,2,3,4,5])\n",
        "\n",
        "area = st.sidebar.slider('Площадь',min_value=1, max_value=100)\n",
        "\n",
        "kitchen_area = st.sidebar.slider('Площадь кухни',min_value=1, max_value=50)\n",
        "\n",
        "object_type = st.sidebar.selectbox('Тип жилья', ['Новостройка','Вторичка'])\n",
        "\n",
        "date = datetime.datetime.now()\n",
        "\n",
        "month = date.month\n",
        "\n",
        "year = date.year\n",
        "\n",
        "geolocator = Nominatim(user_agent=\"my_request\")\n",
        "location = geolocator.geocode(adress)\n",
        "\n",
        "if building_type == 'Монолитный':\n",
        "  building_type = 2\n",
        "elif building_type == 'Кирпичный':\n",
        "  building_type = 3\n",
        "else:\n",
        "  building_type = 0\n",
        "\n",
        "if object_type == 'Новостройка':\n",
        "  object_type = 11\n",
        "else:\n",
        "  object_type = 1  \n",
        "\n",
        "model = joblib.load(\"model_xgb.pkl\")\n",
        "  \n",
        "\n",
        "if st.sidebar.button('Рассчитать стоимость'):\n",
        "    geo_lat = location.latitude \n",
        "    geo_lon = location.longitude\n",
        "    prediction_inp = np.array([geo_lat,geo_lon,building_type,level,levels,\\\n",
        "                 rooms,area,kitchen_area,object_type,month,year])\n",
        "    cost = model.predict(prediction_inp.reshape(1, -1))\n",
        "    cost = '{0:,}'.format(int(cost)).replace(',', ' ')\n",
        "\n",
        "    st.write(f'### Приблизительная cтоимость жилья:\\n ## {cost}')\n"
      ],
      "metadata": {
        "colab": {
          "base_uri": "https://localhost:8080/"
        },
        "id": "DDAAGQffYq4J",
        "outputId": "4b0d0a4d-6d1d-445e-b744-8c863e509efd"
      },
      "execution_count": 3,
      "outputs": [
        {
          "output_type": "stream",
          "name": "stdout",
          "text": [
            "Writing streamlit_app.py\n"
          ]
        }
      ]
    },
    {
      "cell_type": "code",
      "source": [
        "!npm install localtunnel"
      ],
      "metadata": {
        "colab": {
          "base_uri": "https://localhost:8080/"
        },
        "id": "qQK3b3YUYrzB",
        "outputId": "51908e8f-2557-4b21-c3df-d9ce56465f2a"
      },
      "execution_count": 4,
      "outputs": [
        {
          "output_type": "stream",
          "name": "stdout",
          "text": [
            "\u001b[K\u001b[?25h\u001b[37;40mnpm\u001b[0m \u001b[0m\u001b[30;43mWARN\u001b[0m \u001b[0m\u001b[35msaveError\u001b[0m ENOENT: no such file or directory, open '/content/package.json'\n",
            "\u001b[K\u001b[?25h\u001b[37;40mnpm\u001b[0m \u001b[0m\u001b[34;40mnotice\u001b[0m\u001b[35m\u001b[0m created a lockfile as package-lock.json. You should commit this file.\n",
            "\u001b[0m\u001b[37;40mnpm\u001b[0m \u001b[0m\u001b[30;43mWARN\u001b[0m \u001b[0m\u001b[35menoent\u001b[0m ENOENT: no such file or directory, open '/content/package.json'\n",
            "\u001b[0m\u001b[37;40mnpm\u001b[0m \u001b[0m\u001b[30;43mWARN\u001b[0m\u001b[35m\u001b[0m content No description\n",
            "\u001b[0m\u001b[37;40mnpm\u001b[0m \u001b[0m\u001b[30;43mWARN\u001b[0m\u001b[35m\u001b[0m content No repository field.\n",
            "\u001b[0m\u001b[37;40mnpm\u001b[0m \u001b[0m\u001b[30;43mWARN\u001b[0m\u001b[35m\u001b[0m content No README data\n",
            "\u001b[0m\u001b[37;40mnpm\u001b[0m \u001b[0m\u001b[30;43mWARN\u001b[0m\u001b[35m\u001b[0m content No license field.\n",
            "\u001b[0m\n",
            "+ localtunnel@2.0.2\n",
            "added 22 packages from 22 contributors and audited 22 packages in 2.308s\n",
            "\n",
            "3 packages are looking for funding\n",
            "  run `npm fund` for details\n",
            "\n",
            "found \u001b[92m0\u001b[0m vulnerabilities\n",
            "\n",
            "\u001b[K\u001b[?25h"
          ]
        }
      ]
    },
    {
      "cell_type": "code",
      "source": [
        "!streamlit run /content/streamlit_app.py &>/content/logs.txt &"
      ],
      "metadata": {
        "id": "AttCgZXJYw8X"
      },
      "execution_count": 5,
      "outputs": []
    },
    {
      "cell_type": "code",
      "source": [
        "!npx localtunnel --port 8501"
      ],
      "metadata": {
        "colab": {
          "base_uri": "https://localhost:8080/"
        },
        "id": "iiPne505Y0W8",
        "outputId": "a09d0f49-380d-438a-d3fe-350db893966a"
      },
      "execution_count": 6,
      "outputs": [
        {
          "output_type": "stream",
          "name": "stdout",
          "text": [
            "\u001b[K\u001b[?25hnpx: installed 22 in 2.679s\n",
            "your url is: https://cuddly-rockets-sin-34-147-12-162.loca.lt\n",
            "^C\n"
          ]
        }
      ]
    }
  ]
}