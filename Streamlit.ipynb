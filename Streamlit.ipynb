{
  "nbformat": 4,
  "nbformat_minor": 0,
  "metadata": {
    "colab": {
      "provenance": [],
      "collapsed_sections": [
        "McArKfWcuFgs",
        "pnpK0vqB1p6Y",
        "abl6lP5l3W9N"
      ],
      "authorship_tag": "ABX9TyNpFUEWsX7vA8Yp93TM1Yq9",
      "include_colab_link": true
    },
    "kernelspec": {
      "name": "python3",
      "display_name": "Python 3"
    },
    "language_info": {
      "name": "python"
    }
  },
  "cells": [
    {
      "cell_type": "markdown",
      "metadata": {
        "id": "view-in-github",
        "colab_type": "text"
      },
      "source": [
        "<a href=\"https://colab.research.google.com/github/PavelMakhanov/pet-project/blob/streamlit/Streamlit.ipynb\" target=\"_parent\"><img src=\"https://colab.research.google.com/assets/colab-badge.svg\" alt=\"Open In Colab\"/></a>"
      ]
    },
    {
      "cell_type": "markdown",
      "source": [
        "#Парсинг данных"
      ],
      "metadata": {
        "id": "McArKfWcuFgs"
      }
    },
    {
      "cell_type": "code",
      "source": [
        "import pandas as pd\n",
        "import requests\n",
        "from bs4 import BeautifulSoup\n",
        "import random\n",
        "import time\n",
        "import re"
      ],
      "metadata": {
        "id": "rTc7xskFt9rR"
      },
      "execution_count": 31,
      "outputs": []
    },
    {
      "cell_type": "code",
      "source": [
        "# HEADERS = {'User-Agent': \n",
        "#            'Mozilla/5.0 (Windows NT 10.0; Win64; x64) AppleWebKit/537.36 (KHTML,\\\n",
        "#             like Gecko) Chrome/108.0.0.0 YaBrowser/23.1.2.928 Yowser/2.5 Safari/537.36'}"
      ],
      "metadata": {
        "id": "keBQYqobuRWB"
      },
      "execution_count": 32,
      "outputs": []
    },
    {
      "cell_type": "code",
      "source": [
        "# estate= pd.DataFrame()"
      ],
      "metadata": {
        "id": "BHa44yhouVpT"
      },
      "execution_count": 33,
      "outputs": []
    },
    {
      "cell_type": "code",
      "source": [
        "# count = 1\n",
        "# for i in range(1,100):\n",
        "\n",
        "#   try:\n",
        "#       time.sleep(random.randint(1, 4))\n",
        "\n",
        "#       url_page = 'https://tvoyadres.ru/leningradskaya-oblast/sankt-peterburg/nedvizhimost/kvartiry/?page='+str(i)+'&region=77&city=842&object=2&'\n",
        "#       res = requests.get(url_page, headers=HEADERS, timeout = 3)\n",
        "#       soup = BeautifulSoup(res.text)\n",
        "\n",
        "#       refs_page = refs_page = soup.findAll('a')\n",
        "\n",
        "#       links_page = []\n",
        "\n",
        "#       for ref in refs_page:\n",
        "#           st = re.search('\\S+\\d{8}',ref.get('href'))\n",
        "#           if st:\n",
        "#             links_page.append('https://tvoyadres.ru'+st[0])\n",
        "          \n",
        "#       for link in links_page:\n",
        "#         try:\n",
        "          \n",
        "#           time.sleep(random.randint(2, 5)) \n",
        "#           res_link = requests.get(link, headers=HEADERS, timeout = 3)\n",
        "#           soup_link = BeautifulSoup(res_link.text)\n",
        "#           dic = {}\n",
        "\n",
        "#           price = int(soup_link.find(itemprop = 'price').get('content'))\n",
        "#           geo_lat = float(soup_link.find(class_ = 'map small').get('data-coordinates').split(',')[0])\n",
        "#           geo_lon = float(soup_link.find(class_ = 'map small').get('data-coordinates').split(',')[1])\n",
        "#           building_type = soup_link.find(text = ['Панельный','Монолитный','Кирпичный','Блочный','Деревянный'])\n",
        "          \n",
        "#           for i,j in zip(soup_link.findAll(class_ = 'left'),soup_link.findAll(class_ = 'right')):\n",
        "#               dic[i.text] = j.text\n",
        "          \n",
        "#           level = int(dic['Этаж'].split('/')[0])\n",
        "#           levels = int(dic['Этаж'].split('/')[1])\n",
        "#           try:\n",
        "#               rooms = int(dic['Количество комнат'])\n",
        "#           except:\n",
        "#               rooms = 1   \n",
        "#           area = int(dic['Площадь объекта'].split('/')[0])\n",
        "#           try:\n",
        "#               kitchen_area = int(dic['Площадь объекта'].split('/')[2].replace('м²',''))\n",
        "#           except:\n",
        "#               kitchen_area = int(dic['Площадь объекта'].split('/')[0])-int(dic['Площадь объекта'].split('/')[1].replace('м²','')) \n",
        "#           object_type = dic['Тип жилья'] \n",
        "#           date = dic['Дата публикации'].strip()\n",
        "\n",
        "#           row = {'price': price, 'geo_lat': geo_lat, 'geo_lon':geo_lon, 'building_type': building_type,\n",
        "#                  'level':level,'levels': levels, 'rooms': rooms, 'area': area,\n",
        "#                  'kitchen_area': kitchen_area, 'object_type': object_type, 'date': date}\n",
        "#           estate_rielty = pd.concat([estate_rielty, pd.DataFrame([row])])\n",
        "\n",
        "\n",
        "#         except:\n",
        "#            pass\n",
        "#       count+=1\n",
        "#       print(f'номер цикла: {count}, длина датафрейма: {len(estate_rielty)}')  \n",
        "\n",
        "#   except:\n",
        "#       pass"
      ],
      "metadata": {
        "id": "XiGUbuueujsR"
      },
      "execution_count": 34,
      "outputs": []
    },
    {
      "cell_type": "code",
      "source": [
        "# estate.to_csv('estate.csv',index=False)"
      ],
      "metadata": {
        "id": "0Ola0laQurNd"
      },
      "execution_count": 35,
      "outputs": []
    },
    {
      "cell_type": "markdown",
      "source": [
        "#Предобработка данных"
      ],
      "metadata": {
        "id": "pnpK0vqB1p6Y"
      }
    },
    {
      "cell_type": "code",
      "execution_count": 36,
      "metadata": {
        "id": "L9sC_H_bNzAT"
      },
      "outputs": [],
      "source": [
        "import pandas as pd"
      ]
    },
    {
      "cell_type": "code",
      "source": [
        "estate = pd.read_csv('estate.csv')"
      ],
      "metadata": {
        "id": "BtMGqtrGN8Yv"
      },
      "execution_count": 37,
      "outputs": []
    },
    {
      "cell_type": "code",
      "source": [
        "estate.info()"
      ],
      "metadata": {
        "colab": {
          "base_uri": "https://localhost:8080/"
        },
        "id": "lLjRNo0L2Mm2",
        "outputId": "96367884-4764-49d8-ccaf-085502d8e83e"
      },
      "execution_count": 38,
      "outputs": [
        {
          "output_type": "stream",
          "name": "stdout",
          "text": [
            "<class 'pandas.core.frame.DataFrame'>\n",
            "RangeIndex: 994 entries, 0 to 993\n",
            "Data columns (total 11 columns):\n",
            " #   Column         Non-Null Count  Dtype  \n",
            "---  ------         --------------  -----  \n",
            " 0   price          994 non-null    int64  \n",
            " 1   geo_lat        994 non-null    float64\n",
            " 2   geo_lon        994 non-null    float64\n",
            " 3   building_type  994 non-null    object \n",
            " 4   level          994 non-null    int64  \n",
            " 5   levels         994 non-null    int64  \n",
            " 6   rooms          994 non-null    int64  \n",
            " 7   area           994 non-null    float64\n",
            " 8   kitchen_area   994 non-null    float64\n",
            " 9   object_type    994 non-null    object \n",
            " 10  date           994 non-null    object \n",
            "dtypes: float64(4), int64(4), object(3)\n",
            "memory usage: 85.5+ KB\n"
          ]
        }
      ]
    },
    {
      "cell_type": "markdown",
      "source": [
        "Пропуски отсутствуют, преобразуем даные типа object в числовой тип данных"
      ],
      "metadata": {
        "id": "Qxr4RzvM2Vg4"
      }
    },
    {
      "cell_type": "code",
      "source": [
        "estate['building_type'] = estate['building_type'].replace({'Другой':0,'Монолитный':2,'Кирпичный':3 })"
      ],
      "metadata": {
        "id": "RdZuygivOTBp"
      },
      "execution_count": 39,
      "outputs": []
    },
    {
      "cell_type": "code",
      "source": [
        "estate['object_type'] = estate['object_type'].replace({'Вторичка':1, 'Новостройка':11})"
      ],
      "metadata": {
        "id": "YU7bXzF2OUCI"
      },
      "execution_count": 40,
      "outputs": []
    },
    {
      "cell_type": "code",
      "source": [
        "estate['year'] = estate['date'].apply(lambda x: x.split()[2])"
      ],
      "metadata": {
        "id": "Xu_hrshVOY2C"
      },
      "execution_count": 41,
      "outputs": []
    },
    {
      "cell_type": "code",
      "source": [
        "estate['month'] = estate['date'].apply(lambda x: x.split()[1])"
      ],
      "metadata": {
        "id": "r9AITZZRObxY"
      },
      "execution_count": 42,
      "outputs": []
    },
    {
      "cell_type": "code",
      "source": [
        "estate['month'] = estate['month'].replace('Март',3)"
      ],
      "metadata": {
        "id": "PsW8P-JwOfki"
      },
      "execution_count": 43,
      "outputs": []
    },
    {
      "cell_type": "code",
      "source": [
        "estate = estate[['price', 'geo_lat', 'geo_lon', 'building_type', 'level', 'levels',\n",
        "       'rooms', 'area', 'kitchen_area', 'object_type', 'year',\n",
        "       'month']]"
      ],
      "metadata": {
        "id": "0y-xUPTAOiCo"
      },
      "execution_count": 44,
      "outputs": []
    },
    {
      "cell_type": "code",
      "source": [
        "estate.info()"
      ],
      "metadata": {
        "colab": {
          "base_uri": "https://localhost:8080/"
        },
        "id": "dDvtwNIrOlWR",
        "outputId": "a15845c6-98bc-449c-f289-5c9f5b7202a9"
      },
      "execution_count": 45,
      "outputs": [
        {
          "output_type": "stream",
          "name": "stdout",
          "text": [
            "<class 'pandas.core.frame.DataFrame'>\n",
            "RangeIndex: 994 entries, 0 to 993\n",
            "Data columns (total 12 columns):\n",
            " #   Column         Non-Null Count  Dtype  \n",
            "---  ------         --------------  -----  \n",
            " 0   price          994 non-null    int64  \n",
            " 1   geo_lat        994 non-null    float64\n",
            " 2   geo_lon        994 non-null    float64\n",
            " 3   building_type  994 non-null    int64  \n",
            " 4   level          994 non-null    int64  \n",
            " 5   levels         994 non-null    int64  \n",
            " 6   rooms          994 non-null    int64  \n",
            " 7   area           994 non-null    float64\n",
            " 8   kitchen_area   994 non-null    float64\n",
            " 9   object_type    994 non-null    int64  \n",
            " 10  year           994 non-null    object \n",
            " 11  month          994 non-null    int64  \n",
            "dtypes: float64(4), int64(7), object(1)\n",
            "memory usage: 93.3+ KB\n"
          ]
        }
      ]
    },
    {
      "cell_type": "markdown",
      "source": [
        "Посмотрим основные статистики"
      ],
      "metadata": {
        "id": "LKhfHdHi2yTs"
      }
    },
    {
      "cell_type": "code",
      "source": [
        "estate.describe()"
      ],
      "metadata": {
        "colab": {
          "base_uri": "https://localhost:8080/",
          "height": 0
        },
        "id": "XemmvdlZ219i",
        "outputId": "fdf4ab9b-b809-4c91-bebc-ec2dabe0d601"
      },
      "execution_count": 46,
      "outputs": [
        {
          "output_type": "execute_result",
          "data": {
            "text/plain": [
              "              price     geo_lat     geo_lon  building_type       level  \\\n",
              "count  9.940000e+02  994.000000  994.000000     994.000000  994.000000   \n",
              "mean   1.577750e+07   60.006848   30.149278       2.001006    8.611670   \n",
              "std    6.489160e+06    0.108523    0.253082       1.097006    5.530116   \n",
              "min    7.250000e+06   59.895842   29.662643       0.000000    1.000000   \n",
              "25%    1.321760e+07   59.898002   30.207702       2.000000    4.000000   \n",
              "50%    1.405998e+07   60.004708   30.208547       2.000000    7.000000   \n",
              "75%    1.922850e+07   60.031801   30.285433       3.000000   12.000000   \n",
              "max    2.998790e+07   60.191738   30.465804       3.000000   20.000000   \n",
              "\n",
              "           levels       rooms        area  kitchen_area  object_type  month  \n",
              "count  994.000000  994.000000  994.000000    994.000000   994.000000  994.0  \n",
              "mean    11.804829    1.699195   55.870221     21.290744     9.993964    3.0  \n",
              "std      5.359779    0.640257   13.516700      9.522802     3.009546    0.0  \n",
              "min      6.000000    1.000000   35.000000     10.000000     1.000000    3.0  \n",
              "25%      6.000000    1.000000   47.000000     13.000000    11.000000    3.0  \n",
              "50%     12.000000    2.000000   51.000000     16.000000    11.000000    3.0  \n",
              "75%     12.000000    2.000000   60.000000     32.000000    11.000000    3.0  \n",
              "max     25.000000    3.000000   85.000000     34.000000    11.000000    3.0  "
            ],
            "text/html": [
              "\n",
              "  <div id=\"df-6986e70b-40fd-4d07-b70d-48abb45981bb\">\n",
              "    <div class=\"colab-df-container\">\n",
              "      <div>\n",
              "<style scoped>\n",
              "    .dataframe tbody tr th:only-of-type {\n",
              "        vertical-align: middle;\n",
              "    }\n",
              "\n",
              "    .dataframe tbody tr th {\n",
              "        vertical-align: top;\n",
              "    }\n",
              "\n",
              "    .dataframe thead th {\n",
              "        text-align: right;\n",
              "    }\n",
              "</style>\n",
              "<table border=\"1\" class=\"dataframe\">\n",
              "  <thead>\n",
              "    <tr style=\"text-align: right;\">\n",
              "      <th></th>\n",
              "      <th>price</th>\n",
              "      <th>geo_lat</th>\n",
              "      <th>geo_lon</th>\n",
              "      <th>building_type</th>\n",
              "      <th>level</th>\n",
              "      <th>levels</th>\n",
              "      <th>rooms</th>\n",
              "      <th>area</th>\n",
              "      <th>kitchen_area</th>\n",
              "      <th>object_type</th>\n",
              "      <th>month</th>\n",
              "    </tr>\n",
              "  </thead>\n",
              "  <tbody>\n",
              "    <tr>\n",
              "      <th>count</th>\n",
              "      <td>9.940000e+02</td>\n",
              "      <td>994.000000</td>\n",
              "      <td>994.000000</td>\n",
              "      <td>994.000000</td>\n",
              "      <td>994.000000</td>\n",
              "      <td>994.000000</td>\n",
              "      <td>994.000000</td>\n",
              "      <td>994.000000</td>\n",
              "      <td>994.000000</td>\n",
              "      <td>994.000000</td>\n",
              "      <td>994.0</td>\n",
              "    </tr>\n",
              "    <tr>\n",
              "      <th>mean</th>\n",
              "      <td>1.577750e+07</td>\n",
              "      <td>60.006848</td>\n",
              "      <td>30.149278</td>\n",
              "      <td>2.001006</td>\n",
              "      <td>8.611670</td>\n",
              "      <td>11.804829</td>\n",
              "      <td>1.699195</td>\n",
              "      <td>55.870221</td>\n",
              "      <td>21.290744</td>\n",
              "      <td>9.993964</td>\n",
              "      <td>3.0</td>\n",
              "    </tr>\n",
              "    <tr>\n",
              "      <th>std</th>\n",
              "      <td>6.489160e+06</td>\n",
              "      <td>0.108523</td>\n",
              "      <td>0.253082</td>\n",
              "      <td>1.097006</td>\n",
              "      <td>5.530116</td>\n",
              "      <td>5.359779</td>\n",
              "      <td>0.640257</td>\n",
              "      <td>13.516700</td>\n",
              "      <td>9.522802</td>\n",
              "      <td>3.009546</td>\n",
              "      <td>0.0</td>\n",
              "    </tr>\n",
              "    <tr>\n",
              "      <th>min</th>\n",
              "      <td>7.250000e+06</td>\n",
              "      <td>59.895842</td>\n",
              "      <td>29.662643</td>\n",
              "      <td>0.000000</td>\n",
              "      <td>1.000000</td>\n",
              "      <td>6.000000</td>\n",
              "      <td>1.000000</td>\n",
              "      <td>35.000000</td>\n",
              "      <td>10.000000</td>\n",
              "      <td>1.000000</td>\n",
              "      <td>3.0</td>\n",
              "    </tr>\n",
              "    <tr>\n",
              "      <th>25%</th>\n",
              "      <td>1.321760e+07</td>\n",
              "      <td>59.898002</td>\n",
              "      <td>30.207702</td>\n",
              "      <td>2.000000</td>\n",
              "      <td>4.000000</td>\n",
              "      <td>6.000000</td>\n",
              "      <td>1.000000</td>\n",
              "      <td>47.000000</td>\n",
              "      <td>13.000000</td>\n",
              "      <td>11.000000</td>\n",
              "      <td>3.0</td>\n",
              "    </tr>\n",
              "    <tr>\n",
              "      <th>50%</th>\n",
              "      <td>1.405998e+07</td>\n",
              "      <td>60.004708</td>\n",
              "      <td>30.208547</td>\n",
              "      <td>2.000000</td>\n",
              "      <td>7.000000</td>\n",
              "      <td>12.000000</td>\n",
              "      <td>2.000000</td>\n",
              "      <td>51.000000</td>\n",
              "      <td>16.000000</td>\n",
              "      <td>11.000000</td>\n",
              "      <td>3.0</td>\n",
              "    </tr>\n",
              "    <tr>\n",
              "      <th>75%</th>\n",
              "      <td>1.922850e+07</td>\n",
              "      <td>60.031801</td>\n",
              "      <td>30.285433</td>\n",
              "      <td>3.000000</td>\n",
              "      <td>12.000000</td>\n",
              "      <td>12.000000</td>\n",
              "      <td>2.000000</td>\n",
              "      <td>60.000000</td>\n",
              "      <td>32.000000</td>\n",
              "      <td>11.000000</td>\n",
              "      <td>3.0</td>\n",
              "    </tr>\n",
              "    <tr>\n",
              "      <th>max</th>\n",
              "      <td>2.998790e+07</td>\n",
              "      <td>60.191738</td>\n",
              "      <td>30.465804</td>\n",
              "      <td>3.000000</td>\n",
              "      <td>20.000000</td>\n",
              "      <td>25.000000</td>\n",
              "      <td>3.000000</td>\n",
              "      <td>85.000000</td>\n",
              "      <td>34.000000</td>\n",
              "      <td>11.000000</td>\n",
              "      <td>3.0</td>\n",
              "    </tr>\n",
              "  </tbody>\n",
              "</table>\n",
              "</div>\n",
              "      <button class=\"colab-df-convert\" onclick=\"convertToInteractive('df-6986e70b-40fd-4d07-b70d-48abb45981bb')\"\n",
              "              title=\"Convert this dataframe to an interactive table.\"\n",
              "              style=\"display:none;\">\n",
              "        \n",
              "  <svg xmlns=\"http://www.w3.org/2000/svg\" height=\"24px\"viewBox=\"0 0 24 24\"\n",
              "       width=\"24px\">\n",
              "    <path d=\"M0 0h24v24H0V0z\" fill=\"none\"/>\n",
              "    <path d=\"M18.56 5.44l.94 2.06.94-2.06 2.06-.94-2.06-.94-.94-2.06-.94 2.06-2.06.94zm-11 1L8.5 8.5l.94-2.06 2.06-.94-2.06-.94L8.5 2.5l-.94 2.06-2.06.94zm10 10l.94 2.06.94-2.06 2.06-.94-2.06-.94-.94-2.06-.94 2.06-2.06.94z\"/><path d=\"M17.41 7.96l-1.37-1.37c-.4-.4-.92-.59-1.43-.59-.52 0-1.04.2-1.43.59L10.3 9.45l-7.72 7.72c-.78.78-.78 2.05 0 2.83L4 21.41c.39.39.9.59 1.41.59.51 0 1.02-.2 1.41-.59l7.78-7.78 2.81-2.81c.8-.78.8-2.07 0-2.86zM5.41 20L4 18.59l7.72-7.72 1.47 1.35L5.41 20z\"/>\n",
              "  </svg>\n",
              "      </button>\n",
              "      \n",
              "  <style>\n",
              "    .colab-df-container {\n",
              "      display:flex;\n",
              "      flex-wrap:wrap;\n",
              "      gap: 12px;\n",
              "    }\n",
              "\n",
              "    .colab-df-convert {\n",
              "      background-color: #E8F0FE;\n",
              "      border: none;\n",
              "      border-radius: 50%;\n",
              "      cursor: pointer;\n",
              "      display: none;\n",
              "      fill: #1967D2;\n",
              "      height: 32px;\n",
              "      padding: 0 0 0 0;\n",
              "      width: 32px;\n",
              "    }\n",
              "\n",
              "    .colab-df-convert:hover {\n",
              "      background-color: #E2EBFA;\n",
              "      box-shadow: 0px 1px 2px rgba(60, 64, 67, 0.3), 0px 1px 3px 1px rgba(60, 64, 67, 0.15);\n",
              "      fill: #174EA6;\n",
              "    }\n",
              "\n",
              "    [theme=dark] .colab-df-convert {\n",
              "      background-color: #3B4455;\n",
              "      fill: #D2E3FC;\n",
              "    }\n",
              "\n",
              "    [theme=dark] .colab-df-convert:hover {\n",
              "      background-color: #434B5C;\n",
              "      box-shadow: 0px 1px 3px 1px rgba(0, 0, 0, 0.15);\n",
              "      filter: drop-shadow(0px 1px 2px rgba(0, 0, 0, 0.3));\n",
              "      fill: #FFFFFF;\n",
              "    }\n",
              "  </style>\n",
              "\n",
              "      <script>\n",
              "        const buttonEl =\n",
              "          document.querySelector('#df-6986e70b-40fd-4d07-b70d-48abb45981bb button.colab-df-convert');\n",
              "        buttonEl.style.display =\n",
              "          google.colab.kernel.accessAllowed ? 'block' : 'none';\n",
              "\n",
              "        async function convertToInteractive(key) {\n",
              "          const element = document.querySelector('#df-6986e70b-40fd-4d07-b70d-48abb45981bb');\n",
              "          const dataTable =\n",
              "            await google.colab.kernel.invokeFunction('convertToInteractive',\n",
              "                                                     [key], {});\n",
              "          if (!dataTable) return;\n",
              "\n",
              "          const docLinkHtml = 'Like what you see? Visit the ' +\n",
              "            '<a target=\"_blank\" href=https://colab.research.google.com/notebooks/data_table.ipynb>data table notebook</a>'\n",
              "            + ' to learn more about interactive tables.';\n",
              "          element.innerHTML = '';\n",
              "          dataTable['output_type'] = 'display_data';\n",
              "          await google.colab.output.renderOutput(dataTable, element);\n",
              "          const docLink = document.createElement('div');\n",
              "          docLink.innerHTML = docLinkHtml;\n",
              "          element.appendChild(docLink);\n",
              "        }\n",
              "      </script>\n",
              "    </div>\n",
              "  </div>\n",
              "  "
            ]
          },
          "metadata": {},
          "execution_count": 46
        }
      ]
    },
    {
      "cell_type": "markdown",
      "source": [
        "Предположительно выбросы отсутствуют"
      ],
      "metadata": {
        "id": "NxvSh-up3AUG"
      }
    },
    {
      "cell_type": "markdown",
      "source": [
        "#Анализ данных"
      ],
      "metadata": {
        "id": "abl6lP5l3W9N"
      }
    },
    {
      "cell_type": "code",
      "source": [
        "import matplotlib.pyplot as plt"
      ],
      "metadata": {
        "id": "7EdA86nL3orV"
      },
      "execution_count": 47,
      "outputs": []
    },
    {
      "cell_type": "code",
      "source": [
        "from warnings import filterwarnings\n",
        "filterwarnings('ignore')"
      ],
      "metadata": {
        "id": "ajseoA6y53O6"
      },
      "execution_count": 48,
      "outputs": []
    },
    {
      "cell_type": "code",
      "source": [
        "fig, axs = plt.subplots(1,2, figsize=(12,5), dpi = 100)\n",
        "fig.suptitle('Графики распределения целевой переменной', fontsize=18)\n",
        "axs[0].hist((estate['price']/1000000))\n",
        "axs[0].set_xlabel('Цена(млн)')\n",
        "axs[0].set_ylabel('Количество объектов')\n",
        "axs[1].boxplot((estate['price']/1000000))\n",
        "axs[1].set_ylabel('Цена(млн)')\n",
        "\n",
        "fig.tight_layout()\n",
        "plt.show()"
      ],
      "metadata": {
        "colab": {
          "base_uri": "https://localhost:8080/",
          "height": 0
        },
        "id": "TIRVkvgO2_pf",
        "outputId": "dc853e77-331a-4729-bb8f-06ee9fe104c6"
      },
      "execution_count": 49,
      "outputs": [
        {
          "output_type": "display_data",
          "data": {
            "text/plain": [
              "<Figure size 1200x500 with 2 Axes>"
            ],
            "image/png": "[encoded data removed]"
          },
          "metadata": {
            "needs_background": "light"
          }
        }
      ]
    },
    {
      "cell_type": "code",
      "source": [
        "fig, axs = plt.subplots(1,2, figsize=(12,5), dpi = 100)\n",
        "fig.suptitle('Распределение объектов недвижимости по площади недвижимости', fontsize=18)\n",
        "axs[0].hist(estate['area'])\n",
        "axs[0].set_xlabel('Площадь')\n",
        "axs[0].set_ylabel('Количество объектов')\n",
        "axs[1].boxplot(estate['area'])\n",
        "axs[1].set_ylabel('Площадь')\n",
        "plt.show()"
      ],
      "metadata": {
        "colab": {
          "base_uri": "https://localhost:8080/",
          "height": 0
        },
        "id": "P6GmJY0Z4Wud",
        "outputId": "0e05dc62-7d68-41ae-856a-c221dd2f6ad0"
      },
      "execution_count": 50,
      "outputs": [
        {
          "output_type": "display_data",
          "data": {
            "text/plain": [
              "<Figure size 1200x500 with 2 Axes>"
            ],
            "image/png": "[encoded data removed]"
          },
          "metadata": {
            "needs_background": "light"
          }
        }
      ]
    },
    {
      "cell_type": "markdown",
      "source": [
        "Судя по графикам даннные имеют распределения отличные от нормального , судя по графикам боксплот есть объекты которые можно принять за выбросы, но они их значния в пределах реальных, поэтому их не нужно обрабатывать "
      ],
      "metadata": {
        "id": "QfUKOxSM41Qi"
      }
    },
    {
      "cell_type": "code",
      "source": [
        "corr = estate.corr()\n",
        "corr.style.background_gradient(cmap='coolwarm')"
      ],
      "metadata": {
        "colab": {
          "base_uri": "https://localhost:8080/",
          "height": 0
        },
        "id": "taivAsrL4hjS",
        "outputId": "9b1e2d20-72e9-4589-9aae-167b7945ed2e"
      },
      "execution_count": 51,
      "outputs": [
        {
          "output_type": "execute_result",
          "data": {
            "text/plain": [
              "<pandas.io.formats.style.Styler at 0x7f87b0091c70>"
            ],
            "text/html": [
              "<style type=\"text/css\">\n",
              "#T_0f9d3_row0_col0, #T_0f9d3_row1_col1, #T_0f9d3_row2_col2, #T_0f9d3_row3_col3, #T_0f9d3_row4_col4, #T_0f9d3_row5_col5, #T_0f9d3_row6_col6, #T_0f9d3_row7_col7, #T_0f9d3_row8_col8, #T_0f9d3_row9_col9 {\n",
              "  background-color: #b40426;\n",
              "  color: #f1f1f1;\n",
              "}\n",
              "#T_0f9d3_row0_col1 {\n",
              "  background-color: #e7745b;\n",
              "  color: #f1f1f1;\n",
              "}\n",
              "#T_0f9d3_row0_col2 {\n",
              "  background-color: #465ecf;\n",
              "  color: #f1f1f1;\n",
              "}\n",
              "#T_0f9d3_row0_col3, #T_0f9d3_row5_col0 {\n",
              "  background-color: #8fb1fe;\n",
              "  color: #000000;\n",
              "}\n",
              "#T_0f9d3_row0_col4, #T_0f9d3_row6_col5 {\n",
              "  background-color: #6687ed;\n",
              "  color: #f1f1f1;\n",
              "}\n",
              "#T_0f9d3_row0_col5 {\n",
              "  background-color: #8badfd;\n",
              "  color: #000000;\n",
              "}\n",
              "#T_0f9d3_row0_col6, #T_0f9d3_row3_col6 {\n",
              "  background-color: #f5c0a7;\n",
              "  color: #000000;\n",
              "}\n",
              "#T_0f9d3_row0_col7 {\n",
              "  background-color: #ec8165;\n",
              "  color: #f1f1f1;\n",
              "}\n",
              "#T_0f9d3_row0_col8 {\n",
              "  background-color: #7ea1fa;\n",
              "  color: #f1f1f1;\n",
              "}\n",
              "#T_0f9d3_row0_col9, #T_0f9d3_row6_col0 {\n",
              "  background-color: #f7af91;\n",
              "  color: #000000;\n",
              "}\n",
              "#T_0f9d3_row0_col10, #T_0f9d3_row1_col10, #T_0f9d3_row2_col10, #T_0f9d3_row3_col10, #T_0f9d3_row4_col10, #T_0f9d3_row5_col10, #T_0f9d3_row6_col10, #T_0f9d3_row7_col10, #T_0f9d3_row8_col10, #T_0f9d3_row9_col10, #T_0f9d3_row10_col0, #T_0f9d3_row10_col1, #T_0f9d3_row10_col2, #T_0f9d3_row10_col3, #T_0f9d3_row10_col4, #T_0f9d3_row10_col5, #T_0f9d3_row10_col6, #T_0f9d3_row10_col7, #T_0f9d3_row10_col8, #T_0f9d3_row10_col9, #T_0f9d3_row10_col10 {\n",
              "  background-color: #000000;\n",
              "  color: #f1f1f1;\n",
              "}\n",
              "#T_0f9d3_row1_col0 {\n",
              "  background-color: #e9785d;\n",
              "  color: #f1f1f1;\n",
              "}\n",
              "#T_0f9d3_row1_col2, #T_0f9d3_row2_col0, #T_0f9d3_row2_col1, #T_0f9d3_row5_col3, #T_0f9d3_row5_col6, #T_0f9d3_row5_col7, #T_0f9d3_row5_col8, #T_0f9d3_row5_col9, #T_0f9d3_row9_col4, #T_0f9d3_row9_col5 {\n",
              "  background-color: #3b4cc0;\n",
              "  color: #f1f1f1;\n",
              "}\n",
              "#T_0f9d3_row1_col3 {\n",
              "  background-color: #3e51c5;\n",
              "  color: #f1f1f1;\n",
              "}\n",
              "#T_0f9d3_row1_col4, #T_0f9d3_row5_col2 {\n",
              "  background-color: #cfdaea;\n",
              "  color: #000000;\n",
              "}\n",
              "#T_0f9d3_row1_col5 {\n",
              "  background-color: #f2cab5;\n",
              "  color: #000000;\n",
              "}\n",
              "#T_0f9d3_row1_col6 {\n",
              "  background-color: #7a9df8;\n",
              "  color: #f1f1f1;\n",
              "}\n",
              "#T_0f9d3_row1_col7 {\n",
              "  background-color: #b9d0f9;\n",
              "  color: #000000;\n",
              "}\n",
              "#T_0f9d3_row1_col8 {\n",
              "  background-color: #7597f6;\n",
              "  color: #f1f1f1;\n",
              "}\n",
              "#T_0f9d3_row1_col9, #T_0f9d3_row7_col1 {\n",
              "  background-color: #d1dae9;\n",
              "  color: #000000;\n",
              "}\n",
              "#T_0f9d3_row2_col3 {\n",
              "  background-color: #f49a7b;\n",
              "  color: #000000;\n",
              "}\n",
              "#T_0f9d3_row2_col4 {\n",
              "  background-color: #dadce0;\n",
              "  color: #000000;\n",
              "}\n",
              "#T_0f9d3_row2_col5 {\n",
              "  background-color: #c6d6f1;\n",
              "  color: #000000;\n",
              "}\n",
              "#T_0f9d3_row2_col6 {\n",
              "  background-color: #a7c5fe;\n",
              "  color: #000000;\n",
              "}\n",
              "#T_0f9d3_row2_col7, #T_0f9d3_row8_col5 {\n",
              "  background-color: #94b6ff;\n",
              "  color: #000000;\n",
              "}\n",
              "#T_0f9d3_row2_col8, #T_0f9d3_row9_col2 {\n",
              "  background-color: #ccd9ed;\n",
              "  color: #000000;\n",
              "}\n",
              "#T_0f9d3_row2_col9 {\n",
              "  background-color: #c3d5f4;\n",
              "  color: #000000;\n",
              "}\n",
              "#T_0f9d3_row3_col0 {\n",
              "  background-color: #a5c3fe;\n",
              "  color: #000000;\n",
              "}\n",
              "#T_0f9d3_row3_col1, #T_0f9d3_row4_col3 {\n",
              "  background-color: #6384eb;\n",
              "  color: #f1f1f1;\n",
              "}\n",
              "#T_0f9d3_row3_col2 {\n",
              "  background-color: #f18f71;\n",
              "  color: #f1f1f1;\n",
              "}\n",
              "#T_0f9d3_row3_col4 {\n",
              "  background-color: #6180e9;\n",
              "  color: #f1f1f1;\n",
              "}\n",
              "#T_0f9d3_row3_col5 {\n",
              "  background-color: #4f69d9;\n",
              "  color: #f1f1f1;\n",
              "}\n",
              "#T_0f9d3_row3_col7, #T_0f9d3_row8_col3 {\n",
              "  background-color: #edd2c3;\n",
              "  color: #000000;\n",
              "}\n",
              "#T_0f9d3_row3_col8, #T_0f9d3_row6_col2 {\n",
              "  background-color: #cedaeb;\n",
              "  color: #000000;\n",
              "}\n",
              "#T_0f9d3_row3_col9 {\n",
              "  background-color: #f08a6c;\n",
              "  color: #f1f1f1;\n",
              "}\n",
              "#T_0f9d3_row4_col0 {\n",
              "  background-color: #80a3fa;\n",
              "  color: #f1f1f1;\n",
              "}\n",
              "#T_0f9d3_row4_col1 {\n",
              "  background-color: #e1dad6;\n",
              "  color: #000000;\n",
              "}\n",
              "#T_0f9d3_row4_col2 {\n",
              "  background-color: #ead5c9;\n",
              "  color: #000000;\n",
              "}\n",
              "#T_0f9d3_row4_col5 {\n",
              "  background-color: #cf453c;\n",
              "  color: #f1f1f1;\n",
              "}\n",
              "#T_0f9d3_row4_col6 {\n",
              "  background-color: #4a63d3;\n",
              "  color: #f1f1f1;\n",
              "}\n",
              "#T_0f9d3_row4_col7, #T_0f9d3_row7_col4 {\n",
              "  background-color: #445acc;\n",
              "  color: #f1f1f1;\n",
              "}\n",
              "#T_0f9d3_row4_col8 {\n",
              "  background-color: #5470de;\n",
              "  color: #f1f1f1;\n",
              "}\n",
              "#T_0f9d3_row4_col9, #T_0f9d3_row7_col5 {\n",
              "  background-color: #506bda;\n",
              "  color: #f1f1f1;\n",
              "}\n",
              "#T_0f9d3_row5_col1 {\n",
              "  background-color: #f4c5ad;\n",
              "  color: #000000;\n",
              "}\n",
              "#T_0f9d3_row5_col4 {\n",
              "  background-color: #d1493f;\n",
              "  color: #f1f1f1;\n",
              "}\n",
              "#T_0f9d3_row6_col1 {\n",
              "  background-color: #aec9fc;\n",
              "  color: #000000;\n",
              "}\n",
              "#T_0f9d3_row6_col3 {\n",
              "  background-color: #f7b89c;\n",
              "  color: #000000;\n",
              "}\n",
              "#T_0f9d3_row6_col4 {\n",
              "  background-color: #5f7fe8;\n",
              "  color: #f1f1f1;\n",
              "}\n",
              "#T_0f9d3_row6_col7 {\n",
              "  background-color: #cc403a;\n",
              "  color: #f1f1f1;\n",
              "}\n",
              "#T_0f9d3_row6_col8 {\n",
              "  background-color: #4c66d6;\n",
              "  color: #f1f1f1;\n",
              "}\n",
              "#T_0f9d3_row6_col9 {\n",
              "  background-color: #f6bda2;\n",
              "  color: #000000;\n",
              "}\n",
              "#T_0f9d3_row7_col0 {\n",
              "  background-color: #e97a5f;\n",
              "  color: #f1f1f1;\n",
              "}\n",
              "#T_0f9d3_row7_col2 {\n",
              "  background-color: #b3cdfb;\n",
              "  color: #000000;\n",
              "}\n",
              "#T_0f9d3_row7_col3 {\n",
              "  background-color: #edd1c2;\n",
              "  color: #000000;\n",
              "}\n",
              "#T_0f9d3_row7_col6 {\n",
              "  background-color: #cd423b;\n",
              "  color: #f1f1f1;\n",
              "}\n",
              "#T_0f9d3_row7_col8 {\n",
              "  background-color: #9dbdff;\n",
              "  color: #000000;\n",
              "}\n",
              "#T_0f9d3_row7_col9 {\n",
              "  background-color: #f59f80;\n",
              "  color: #000000;\n",
              "}\n",
              "#T_0f9d3_row8_col0 {\n",
              "  background-color: #cad8ef;\n",
              "  color: #000000;\n",
              "}\n",
              "#T_0f9d3_row8_col1 {\n",
              "  background-color: #cbd8ee;\n",
              "  color: #000000;\n",
              "}\n",
              "#T_0f9d3_row8_col2 {\n",
              "  background-color: #f3c7b1;\n",
              "  color: #000000;\n",
              "}\n",
              "#T_0f9d3_row8_col4 {\n",
              "  background-color: #97b8ff;\n",
              "  color: #000000;\n",
              "}\n",
              "#T_0f9d3_row8_col6 {\n",
              "  background-color: #7da0f9;\n",
              "  color: #f1f1f1;\n",
              "}\n",
              "#T_0f9d3_row8_col7 {\n",
              "  background-color: #cdd9ec;\n",
              "  color: #000000;\n",
              "}\n",
              "#T_0f9d3_row8_col9 {\n",
              "  background-color: #f7b79b;\n",
              "  color: #000000;\n",
              "}\n",
              "#T_0f9d3_row9_col0 {\n",
              "  background-color: #f7ad90;\n",
              "  color: #000000;\n",
              "}\n",
              "#T_0f9d3_row9_col1 {\n",
              "  background-color: #d8dce2;\n",
              "  color: #000000;\n",
              "}\n",
              "#T_0f9d3_row9_col3 {\n",
              "  background-color: #f29072;\n",
              "  color: #f1f1f1;\n",
              "}\n",
              "#T_0f9d3_row9_col6 {\n",
              "  background-color: #f1ccb8;\n",
              "  color: #000000;\n",
              "}\n",
              "#T_0f9d3_row9_col7 {\n",
              "  background-color: #f7a889;\n",
              "  color: #000000;\n",
              "}\n",
              "#T_0f9d3_row9_col8 {\n",
              "  background-color: #e8d6cc;\n",
              "  color: #000000;\n",
              "}\n",
              "</style>\n",
              "<table id=\"T_0f9d3\" class=\"dataframe\">\n",
              "  <thead>\n",
              "    <tr>\n",
              "      <th class=\"blank level0\" >&nbsp;</th>\n",
              "      <th id=\"T_0f9d3_level0_col0\" class=\"col_heading level0 col0\" >price</th>\n",
              "      <th id=\"T_0f9d3_level0_col1\" class=\"col_heading level0 col1\" >geo_lat</th>\n",
              "      <th id=\"T_0f9d3_level0_col2\" class=\"col_heading level0 col2\" >geo_lon</th>\n",
              "      <th id=\"T_0f9d3_level0_col3\" class=\"col_heading level0 col3\" >building_type</th>\n",
              "      <th id=\"T_0f9d3_level0_col4\" class=\"col_heading level0 col4\" >level</th>\n",
              "      <th id=\"T_0f9d3_level0_col5\" class=\"col_heading level0 col5\" >levels</th>\n",
              "      <th id=\"T_0f9d3_level0_col6\" class=\"col_heading level0 col6\" >rooms</th>\n",
              "      <th id=\"T_0f9d3_level0_col7\" class=\"col_heading level0 col7\" >area</th>\n",
              "      <th id=\"T_0f9d3_level0_col8\" class=\"col_heading level0 col8\" >kitchen_area</th>\n",
              "      <th id=\"T_0f9d3_level0_col9\" class=\"col_heading level0 col9\" >object_type</th>\n",
              "      <th id=\"T_0f9d3_level0_col10\" class=\"col_heading level0 col10\" >month</th>\n",
              "    </tr>\n",
              "  </thead>\n",
              "  <tbody>\n",
              "    <tr>\n",
              "      <th id=\"T_0f9d3_level0_row0\" class=\"row_heading level0 row0\" >price</th>\n",
              "      <td id=\"T_0f9d3_row0_col0\" class=\"data row0 col0\" >1.000000</td>\n",
              "      <td id=\"T_0f9d3_row0_col1\" class=\"data row0 col1\" >0.680588</td>\n",
              "      <td id=\"T_0f9d3_row0_col2\" class=\"data row0 col2\" >-0.847629</td>\n",
              "      <td id=\"T_0f9d3_row0_col3\" class=\"data row0 col3\" >-0.263008</td>\n",
              "      <td id=\"T_0f9d3_row0_col4\" class=\"data row0 col4\" >-0.451663</td>\n",
              "      <td id=\"T_0f9d3_row0_col5\" class=\"data row0 col5\" >-0.375248</td>\n",
              "      <td id=\"T_0f9d3_row0_col6\" class=\"data row0 col6\" >0.432445</td>\n",
              "      <td id=\"T_0f9d3_row0_col7\" class=\"data row0 col7\" >0.673769</td>\n",
              "      <td id=\"T_0f9d3_row0_col8\" class=\"data row0 col8\" >-0.047547</td>\n",
              "      <td id=\"T_0f9d3_row0_col9\" class=\"data row0 col9\" >0.439727</td>\n",
              "      <td id=\"T_0f9d3_row0_col10\" class=\"data row0 col10\" >nan</td>\n",
              "    </tr>\n",
              "    <tr>\n",
              "      <th id=\"T_0f9d3_level0_row1\" class=\"row_heading level0 row1\" >geo_lat</th>\n",
              "      <td id=\"T_0f9d3_row1_col0\" class=\"data row1 col0\" >0.680588</td>\n",
              "      <td id=\"T_0f9d3_row1_col1\" class=\"data row1 col1\" >1.000000</td>\n",
              "      <td id=\"T_0f9d3_row1_col2\" class=\"data row1 col2\" >-0.925505</td>\n",
              "      <td id=\"T_0f9d3_row1_col3\" class=\"data row1 col3\" >-0.675244</td>\n",
              "      <td id=\"T_0f9d3_row1_col4\" class=\"data row1 col4\" >0.072122</td>\n",
              "      <td id=\"T_0f9d3_row1_col5\" class=\"data row1 col5\" >0.275603</td>\n",
              "      <td id=\"T_0f9d3_row1_col6\" class=\"data row1 col6\" >-0.260851</td>\n",
              "      <td id=\"T_0f9d3_row1_col7\" class=\"data row1 col7\" >-0.050629</td>\n",
              "      <td id=\"T_0f9d3_row1_col8\" class=\"data row1 col8\" >-0.086831</td>\n",
              "      <td id=\"T_0f9d3_row1_col9\" class=\"data row1 col9\" >0.006597</td>\n",
              "      <td id=\"T_0f9d3_row1_col10\" class=\"data row1 col10\" >nan</td>\n",
              "    </tr>\n",
              "    <tr>\n",
              "      <th id=\"T_0f9d3_level0_row2\" class=\"row_heading level0 row2\" >geo_lon</th>\n",
              "      <td id=\"T_0f9d3_row2_col0\" class=\"data row2 col0\" >-0.847629</td>\n",
              "      <td id=\"T_0f9d3_row2_col1\" class=\"data row2 col1\" >-0.925505</td>\n",
              "      <td id=\"T_0f9d3_row2_col2\" class=\"data row2 col2\" >1.000000</td>\n",
              "      <td id=\"T_0f9d3_row2_col3\" class=\"data row2 col3\" >0.569597</td>\n",
              "      <td id=\"T_0f9d3_row2_col4\" class=\"data row2 col4\" >0.141947</td>\n",
              "      <td id=\"T_0f9d3_row2_col5\" class=\"data row2 col5\" >-0.054458</td>\n",
              "      <td id=\"T_0f9d3_row2_col6\" class=\"data row2 col6\" >-0.062305</td>\n",
              "      <td id=\"T_0f9d3_row2_col7\" class=\"data row2 col7\" >-0.231341</td>\n",
              "      <td id=\"T_0f9d3_row2_col8\" class=\"data row2 col8\" >0.258143</td>\n",
              "      <td id=\"T_0f9d3_row2_col9\" class=\"data row2 col9\" >-0.077246</td>\n",
              "      <td id=\"T_0f9d3_row2_col10\" class=\"data row2 col10\" >nan</td>\n",
              "    </tr>\n",
              "    <tr>\n",
              "      <th id=\"T_0f9d3_level0_row3\" class=\"row_heading level0 row3\" >building_type</th>\n",
              "      <td id=\"T_0f9d3_row3_col0\" class=\"data row3 col0\" >-0.263008</td>\n",
              "      <td id=\"T_0f9d3_row3_col1\" class=\"data row3 col1\" >-0.675244</td>\n",
              "      <td id=\"T_0f9d3_row3_col2\" class=\"data row3 col2\" >0.569597</td>\n",
              "      <td id=\"T_0f9d3_row3_col3\" class=\"data row3 col3\" >1.000000</td>\n",
              "      <td id=\"T_0f9d3_row3_col4\" class=\"data row3 col4\" >-0.481169</td>\n",
              "      <td id=\"T_0f9d3_row3_col5\" class=\"data row3 col5\" >-0.701168</td>\n",
              "      <td id=\"T_0f9d3_row3_col6\" class=\"data row3 col6\" >0.429136</td>\n",
              "      <td id=\"T_0f9d3_row3_col7\" class=\"data row3 col7\" >0.271876</td>\n",
              "      <td id=\"T_0f9d3_row3_col8\" class=\"data row3 col8\" >0.267578</td>\n",
              "      <td id=\"T_0f9d3_row3_col9\" class=\"data row3 col9\" >0.610364</td>\n",
              "      <td id=\"T_0f9d3_row3_col10\" class=\"data row3 col10\" >nan</td>\n",
              "    </tr>\n",
              "    <tr>\n",
              "      <th id=\"T_0f9d3_level0_row4\" class=\"row_heading level0 row4\" >level</th>\n",
              "      <td id=\"T_0f9d3_row4_col0\" class=\"data row4 col0\" >-0.451663</td>\n",
              "      <td id=\"T_0f9d3_row4_col1\" class=\"data row4 col1\" >0.072122</td>\n",
              "      <td id=\"T_0f9d3_row4_col2\" class=\"data row4 col2\" >0.141947</td>\n",
              "      <td id=\"T_0f9d3_row4_col3\" class=\"data row4 col3\" >-0.481169</td>\n",
              "      <td id=\"T_0f9d3_row4_col4\" class=\"data row4 col4\" >1.000000</td>\n",
              "      <td id=\"T_0f9d3_row4_col5\" class=\"data row4 col5\" >0.859406</td>\n",
              "      <td id=\"T_0f9d3_row4_col6\" class=\"data row4 col6\" >-0.487530</td>\n",
              "      <td id=\"T_0f9d3_row4_col7\" class=\"data row4 col7\" >-0.635846</td>\n",
              "      <td id=\"T_0f9d3_row4_col8\" class=\"data row4 col8\" >-0.215261</td>\n",
              "      <td id=\"T_0f9d3_row4_col9\" class=\"data row4 col9\" >-0.689089</td>\n",
              "      <td id=\"T_0f9d3_row4_col10\" class=\"data row4 col10\" >nan</td>\n",
              "    </tr>\n",
              "    <tr>\n",
              "      <th id=\"T_0f9d3_level0_row5\" class=\"row_heading level0 row5\" >levels</th>\n",
              "      <td id=\"T_0f9d3_row5_col0\" class=\"data row5 col0\" >-0.375248</td>\n",
              "      <td id=\"T_0f9d3_row5_col1\" class=\"data row5 col1\" >0.275603</td>\n",
              "      <td id=\"T_0f9d3_row5_col2\" class=\"data row5 col2\" >-0.054458</td>\n",
              "      <td id=\"T_0f9d3_row5_col3\" class=\"data row5 col3\" >-0.701168</td>\n",
              "      <td id=\"T_0f9d3_row5_col4\" class=\"data row5 col4\" >0.859406</td>\n",
              "      <td id=\"T_0f9d3_row5_col5\" class=\"data row5 col5\" >1.000000</td>\n",
              "      <td id=\"T_0f9d3_row5_col6\" class=\"data row5 col6\" >-0.572939</td>\n",
              "      <td id=\"T_0f9d3_row5_col7\" class=\"data row5 col7\" >-0.690181</td>\n",
              "      <td id=\"T_0f9d3_row5_col8\" class=\"data row5 col8\" >-0.327203</td>\n",
              "      <td id=\"T_0f9d3_row5_col9\" class=\"data row5 col9\" >-0.823793</td>\n",
              "      <td id=\"T_0f9d3_row5_col10\" class=\"data row5 col10\" >nan</td>\n",
              "    </tr>\n",
              "    <tr>\n",
              "      <th id=\"T_0f9d3_level0_row6\" class=\"row_heading level0 row6\" >rooms</th>\n",
              "      <td id=\"T_0f9d3_row6_col0\" class=\"data row6 col0\" >0.432445</td>\n",
              "      <td id=\"T_0f9d3_row6_col1\" class=\"data row6 col1\" >-0.260851</td>\n",
              "      <td id=\"T_0f9d3_row6_col2\" class=\"data row6 col2\" >-0.062305</td>\n",
              "      <td id=\"T_0f9d3_row6_col3\" class=\"data row6 col3\" >0.429136</td>\n",
              "      <td id=\"T_0f9d3_row6_col4\" class=\"data row6 col4\" >-0.487530</td>\n",
              "      <td id=\"T_0f9d3_row6_col5\" class=\"data row6 col5\" >-0.572939</td>\n",
              "      <td id=\"T_0f9d3_row6_col6\" class=\"data row6 col6\" >1.000000</td>\n",
              "      <td id=\"T_0f9d3_row6_col7\" class=\"data row6 col7\" >0.886033</td>\n",
              "      <td id=\"T_0f9d3_row6_col8\" class=\"data row6 col8\" >-0.247601</td>\n",
              "      <td id=\"T_0f9d3_row6_col9\" class=\"data row6 col9\" >0.365421</td>\n",
              "      <td id=\"T_0f9d3_row6_col10\" class=\"data row6 col10\" >nan</td>\n",
              "    </tr>\n",
              "    <tr>\n",
              "      <th id=\"T_0f9d3_level0_row7\" class=\"row_heading level0 row7\" >area</th>\n",
              "      <td id=\"T_0f9d3_row7_col0\" class=\"data row7 col0\" >0.673769</td>\n",
              "      <td id=\"T_0f9d3_row7_col1\" class=\"data row7 col1\" >-0.050629</td>\n",
              "      <td id=\"T_0f9d3_row7_col2\" class=\"data row7 col2\" >-0.231341</td>\n",
              "      <td id=\"T_0f9d3_row7_col3\" class=\"data row7 col3\" >0.271876</td>\n",
              "      <td id=\"T_0f9d3_row7_col4\" class=\"data row7 col4\" >-0.635846</td>\n",
              "      <td id=\"T_0f9d3_row7_col5\" class=\"data row7 col5\" >-0.690181</td>\n",
              "      <td id=\"T_0f9d3_row7_col6\" class=\"data row7 col6\" >0.886033</td>\n",
              "      <td id=\"T_0f9d3_row7_col7\" class=\"data row7 col7\" >1.000000</td>\n",
              "      <td id=\"T_0f9d3_row7_col8\" class=\"data row7 col8\" >0.061741</td>\n",
              "      <td id=\"T_0f9d3_row7_col9\" class=\"data row7 col9\" >0.516662</td>\n",
              "      <td id=\"T_0f9d3_row7_col10\" class=\"data row7 col10\" >nan</td>\n",
              "    </tr>\n",
              "    <tr>\n",
              "      <th id=\"T_0f9d3_level0_row8\" class=\"row_heading level0 row8\" >kitchen_area</th>\n",
              "      <td id=\"T_0f9d3_row8_col0\" class=\"data row8 col0\" >-0.047547</td>\n",
              "      <td id=\"T_0f9d3_row8_col1\" class=\"data row8 col1\" >-0.086831</td>\n",
              "      <td id=\"T_0f9d3_row8_col2\" class=\"data row8 col2\" >0.258143</td>\n",
              "      <td id=\"T_0f9d3_row8_col3\" class=\"data row8 col3\" >0.267578</td>\n",
              "      <td id=\"T_0f9d3_row8_col4\" class=\"data row8 col4\" >-0.215261</td>\n",
              "      <td id=\"T_0f9d3_row8_col5\" class=\"data row8 col5\" >-0.327203</td>\n",
              "      <td id=\"T_0f9d3_row8_col6\" class=\"data row8 col6\" >-0.247601</td>\n",
              "      <td id=\"T_0f9d3_row8_col7\" class=\"data row8 col7\" >0.061741</td>\n",
              "      <td id=\"T_0f9d3_row8_col8\" class=\"data row8 col8\" >1.000000</td>\n",
              "      <td id=\"T_0f9d3_row8_col9\" class=\"data row8 col9\" >0.396741</td>\n",
              "      <td id=\"T_0f9d3_row8_col10\" class=\"data row8 col10\" >nan</td>\n",
              "    </tr>\n",
              "    <tr>\n",
              "      <th id=\"T_0f9d3_level0_row9\" class=\"row_heading level0 row9\" >object_type</th>\n",
              "      <td id=\"T_0f9d3_row9_col0\" class=\"data row9 col0\" >0.439727</td>\n",
              "      <td id=\"T_0f9d3_row9_col1\" class=\"data row9 col1\" >0.006597</td>\n",
              "      <td id=\"T_0f9d3_row9_col2\" class=\"data row9 col2\" >-0.077246</td>\n",
              "      <td id=\"T_0f9d3_row9_col3\" class=\"data row9 col3\" >0.610364</td>\n",
              "      <td id=\"T_0f9d3_row9_col4\" class=\"data row9 col4\" >-0.689089</td>\n",
              "      <td id=\"T_0f9d3_row9_col5\" class=\"data row9 col5\" >-0.823793</td>\n",
              "      <td id=\"T_0f9d3_row9_col6\" class=\"data row9 col6\" >0.365421</td>\n",
              "      <td id=\"T_0f9d3_row9_col7\" class=\"data row9 col7\" >0.516662</td>\n",
              "      <td id=\"T_0f9d3_row9_col8\" class=\"data row9 col8\" >0.396741</td>\n",
              "      <td id=\"T_0f9d3_row9_col9\" class=\"data row9 col9\" >1.000000</td>\n",
              "      <td id=\"T_0f9d3_row9_col10\" class=\"data row9 col10\" >nan</td>\n",
              "    </tr>\n",
              "    <tr>\n",
              "      <th id=\"T_0f9d3_level0_row10\" class=\"row_heading level0 row10\" >month</th>\n",
              "      <td id=\"T_0f9d3_row10_col0\" class=\"data row10 col0\" >nan</td>\n",
              "      <td id=\"T_0f9d3_row10_col1\" class=\"data row10 col1\" >nan</td>\n",
              "      <td id=\"T_0f9d3_row10_col2\" class=\"data row10 col2\" >nan</td>\n",
              "      <td id=\"T_0f9d3_row10_col3\" class=\"data row10 col3\" >nan</td>\n",
              "      <td id=\"T_0f9d3_row10_col4\" class=\"data row10 col4\" >nan</td>\n",
              "      <td id=\"T_0f9d3_row10_col5\" class=\"data row10 col5\" >nan</td>\n",
              "      <td id=\"T_0f9d3_row10_col6\" class=\"data row10 col6\" >nan</td>\n",
              "      <td id=\"T_0f9d3_row10_col7\" class=\"data row10 col7\" >nan</td>\n",
              "      <td id=\"T_0f9d3_row10_col8\" class=\"data row10 col8\" >nan</td>\n",
              "      <td id=\"T_0f9d3_row10_col9\" class=\"data row10 col9\" >nan</td>\n",
              "      <td id=\"T_0f9d3_row10_col10\" class=\"data row10 col10\" >nan</td>\n",
              "    </tr>\n",
              "  </tbody>\n",
              "</table>\n"
            ]
          },
          "metadata": {},
          "execution_count": 51
        }
      ]
    },
    {
      "cell_type": "markdown",
      "source": [
        "Мультиколлениарность отсутствует"
      ],
      "metadata": {
        "id": "-nlSjPTL5pxk"
      }
    },
    {
      "cell_type": "markdown",
      "source": [
        "#Обучение модели "
      ],
      "metadata": {
        "id": "gpygTqMn5-4a"
      }
    },
    {
      "cell_type": "code",
      "source": [
        "from sklearn.ensemble import RandomForestRegressor\n",
        "from sklearn.model_selection import train_test_split\n",
        "from sklearn.metrics import r2_score\n",
        "from sklearn.metrics import mean_squared_error"
      ],
      "metadata": {
        "id": "DFvJ1junOogX"
      },
      "execution_count": 52,
      "outputs": []
    },
    {
      "cell_type": "code",
      "source": [
        "y = estate['price']"
      ],
      "metadata": {
        "id": "sJSV-2ZLOxEJ"
      },
      "execution_count": 53,
      "outputs": []
    },
    {
      "cell_type": "code",
      "source": [
        "X = estate.drop('price', axis=1)"
      ],
      "metadata": {
        "id": "d-fSBDAIO1jX"
      },
      "execution_count": 54,
      "outputs": []
    },
    {
      "cell_type": "code",
      "source": [
        "X_train, X_test, y_train, y_test = train_test_split(X, y, test_size=0.2, shuffle=True, random_state = 1)"
      ],
      "metadata": {
        "id": "NuNkDSVFO44f"
      },
      "execution_count": 55,
      "outputs": []
    },
    {
      "cell_type": "markdown",
      "source": [
        "Для обучения возьмем ансабль решающих деревьев - RandomForest. Он является одним из самых популярных алгоритмов для решения задач регрессии из-за его простоты и высокой точности, и редко переобучается."
      ],
      "metadata": {
        "id": "FmjSxcum9d7w"
      }
    },
    {
      "cell_type": "markdown",
      "source": [
        "**Baseline Model**"
      ],
      "metadata": {
        "id": "-3xbtzhD6wUy"
      }
    },
    {
      "cell_type": "code",
      "source": [
        "rfr = RandomForestRegressor(random_state= 116)"
      ],
      "metadata": {
        "id": "tOcmWzXUO7X4"
      },
      "execution_count": 56,
      "outputs": []
    },
    {
      "cell_type": "markdown",
      "source": [
        "Скор на тестовых данных"
      ],
      "metadata": {
        "id": "XSAcCL3h7Fvw"
      }
    },
    {
      "cell_type": "code",
      "source": [
        "rfr.fit(X_train, y_train)\n",
        "preds = rfr.predict(X_test)"
      ],
      "metadata": {
        "id": "VeTabGscO-cQ"
      },
      "execution_count": 57,
      "outputs": []
    },
    {
      "cell_type": "code",
      "source": [
        "print(f'R^2 score: {r2_score(y_test, preds):.3f}')\n",
        "print(f'RMSE score: {mean_squared_error(y_test, preds, squared=False):.2f}')"
      ],
      "metadata": {
        "colab": {
          "base_uri": "https://localhost:8080/"
        },
        "id": "hf-MtejzPBIQ",
        "outputId": "9fd16165-f7fc-472c-a61b-845f19aa1b7c"
      },
      "execution_count": 58,
      "outputs": [
        {
          "output_type": "stream",
          "name": "stdout",
          "text": [
            "R^2 score: 1.000\n",
            "RMSE score: 7580.70\n"
          ]
        }
      ]
    },
    {
      "cell_type": "markdown",
      "source": [
        "Скор на тренировочных данных"
      ],
      "metadata": {
        "id": "2InUlaOz7N3v"
      }
    },
    {
      "cell_type": "code",
      "source": [
        "preds_tr = rfr.predict(X_train)\n",
        "print(f'R^2 score: {r2_score(y_train, preds_tr):.3f}')\n",
        "print(f'RMSE score: {mean_squared_error(y_train, preds_tr, squared=False):.2f}')"
      ],
      "metadata": {
        "colab": {
          "base_uri": "https://localhost:8080/"
        },
        "id": "rO1UPxt-7J5Z",
        "outputId": "87af85b7-c8f9-41b8-8c59-e87dd33d9081"
      },
      "execution_count": 59,
      "outputs": [
        {
          "output_type": "stream",
          "name": "stdout",
          "text": [
            "R^2 score: 1.000\n",
            "RMSE score: 8068.74\n"
          ]
        }
      ]
    },
    {
      "cell_type": "markdown",
      "source": [
        "Модель достаточно хорошо обучилась и ей не требуется оптимизация гиперпараметров"
      ],
      "metadata": {
        "id": "3S13Sw-o-toP"
      }
    },
    {
      "cell_type": "code",
      "source": [
        "import joblib"
      ],
      "metadata": {
        "id": "vne1J054PEWf"
      },
      "execution_count": 60,
      "outputs": []
    },
    {
      "cell_type": "code",
      "source": [
        "joblib_file = \"ml_rfr.pkl\" \n",
        "joblib.dump(rfr, joblib_file)"
      ],
      "metadata": {
        "colab": {
          "base_uri": "https://localhost:8080/"
        },
        "id": "hzUe3rXNPOvQ",
        "outputId": "ef2a0e9a-8d77-4871-c0ae-86b728209ffb"
      },
      "execution_count": 61,
      "outputs": [
        {
          "output_type": "execute_result",
          "data": {
            "text/plain": [
              "['ml_rfr.pkl']"
            ]
          },
          "metadata": {},
          "execution_count": 61
        }
      ]
    },
    {
      "cell_type": "markdown",
      "source": [
        "#Приложение streamlit"
      ],
      "metadata": {
        "id": "WSjHK_oUeA0_"
      }
    },
    {
      "cell_type": "code",
      "source": [
        "model = joblib.load(\"ml_rfr.pkl\")"
      ],
      "metadata": {
        "id": "5g0xyCUtPWae"
      },
      "execution_count": 62,
      "outputs": []
    },
    {
      "cell_type": "code",
      "source": [
        "!pip install -q streamlit"
      ],
      "metadata": {
        "id": "lzJMOYlMPdbB",
        "colab": {
          "base_uri": "https://localhost:8080/"
        },
        "outputId": "16502715-2615-4a3d-bbbb-5708ad27aa5b"
      },
      "execution_count": 63,
      "outputs": [
        {
          "output_type": "stream",
          "name": "stdout",
          "text": [
            "\u001b[2K     \u001b[90m━━━━━━━━━━━━━━━━━━━━━━━━━━━━━━━━━━━━━━━━\u001b[0m \u001b[32m9.6/9.6 MB\u001b[0m \u001b[31m51.1 MB/s\u001b[0m eta \u001b[36m0:00:00\u001b[0m\n",
            "\u001b[?25h  Preparing metadata (setup.py) ... \u001b[?25l\u001b[?25hdone\n",
            "\u001b[2K     \u001b[90m━━━━━━━━━━━━━━━━━━━━━━━━━━━━━━━━━━━━━━━━\u001b[0m \u001b[32m4.7/4.7 MB\u001b[0m \u001b[31m73.2 MB/s\u001b[0m eta \u001b[36m0:00:00\u001b[0m\n",
            "\u001b[2K     \u001b[90m━━━━━━━━━━━━━━━━━━━━━━━━━━━━━━━━━━━━━━━━\u001b[0m \u001b[32m80.6/80.6 KB\u001b[0m \u001b[31m7.6 MB/s\u001b[0m eta \u001b[36m0:00:00\u001b[0m\n",
            "\u001b[2K     \u001b[90m━━━━━━━━━━━━━━━━━━━━━━━━━━━━━━━━━━━━━━\u001b[0m \u001b[32m164.8/164.8 KB\u001b[0m \u001b[31m14.5 MB/s\u001b[0m eta \u001b[36m0:00:00\u001b[0m\n",
            "\u001b[2K     \u001b[90m━━━━━━━━━━━━━━━━━━━━━━━━━━━━━━━━━━━━━━\u001b[0m \u001b[32m238.7/238.7 KB\u001b[0m \u001b[31m22.8 MB/s\u001b[0m eta \u001b[36m0:00:00\u001b[0m\n",
            "\u001b[2K     \u001b[90m━━━━━━━━━━━━━━━━━━━━━━━━━━━━━━━━━━━━━━\u001b[0m \u001b[32m184.3/184.3 KB\u001b[0m \u001b[31m13.2 MB/s\u001b[0m eta \u001b[36m0:00:00\u001b[0m\n",
            "\u001b[2K     \u001b[90m━━━━━━━━━━━━━━━━━━━━━━━━━━━━━━━━━━━━━━━━\u001b[0m \u001b[32m62.7/62.7 KB\u001b[0m \u001b[31m5.8 MB/s\u001b[0m eta \u001b[36m0:00:00\u001b[0m\n",
            "\u001b[2K     \u001b[90m━━━━━━━━━━━━━━━━━━━━━━━━━━━━━━━━━━━━━━━━\u001b[0m \u001b[32m84.5/84.5 KB\u001b[0m \u001b[31m7.9 MB/s\u001b[0m eta \u001b[36m0:00:00\u001b[0m\n",
            "\u001b[2K     \u001b[90m━━━━━━━━━━━━━━━━━━━━━━━━━━━━━━━━━━━━━━━━\u001b[0m \u001b[32m1.1/1.1 MB\u001b[0m \u001b[31m40.3 MB/s\u001b[0m eta \u001b[36m0:00:00\u001b[0m\n",
            "\u001b[?25h  Building wheel for validators (setup.py) ... \u001b[?25l\u001b[?25hdone\n",
            "\u001b[31mERROR: pip's dependency resolver does not currently take into account all the packages that are installed. This behaviour is the source of the following dependency conflicts.\n",
            "ipython 7.9.0 requires jedi>=0.10, which is not installed.\u001b[0m\u001b[31m\n",
            "\u001b[0m"
          ]
        }
      ]
    },
    {
      "cell_type": "code",
      "source": [
        "!pip install geopy"
      ],
      "metadata": {
        "colab": {
          "base_uri": "https://localhost:8080/"
        },
        "id": "0UYN8e7ot12A",
        "outputId": "581e3918-9910-4703-ed54-2ff0c641a7d1"
      },
      "execution_count": 64,
      "outputs": [
        {
          "output_type": "stream",
          "name": "stdout",
          "text": [
            "Looking in indexes: https://pypi.org/simple, https://us-python.pkg.dev/colab-wheels/public/simple/\n",
            "Requirement already satisfied: geopy in /usr/local/lib/python3.9/dist-packages (1.17.0)\n",
            "Requirement already satisfied: geographiclib<2,>=1.49 in /usr/local/lib/python3.9/dist-packages (from geopy) (1.52)\n"
          ]
        }
      ]
    },
    {
      "cell_type": "code",
      "source": [
        "%%writefile app.py\n",
        "import joblib\n",
        "import datetime\n",
        "import streamlit as st\n",
        "from geopy.geocoders import Nominatim\n",
        "import numpy as np\n",
        "\n",
        "adress = st.text_input('Введите адрес.   Пример: Санкт-Петербург Фрунзе 25')\n",
        "\n",
        "building_type = st.selectbox('Выберите тип здания', ['Монолитный','Кирпичный','Другой'])\n",
        "\n",
        "level = st.slider('Этаж',min_value=1, max_value=50)\n",
        "\n",
        "levels = st.slider('Всего этажей',min_value=1, max_value=50)\n",
        "\n",
        "rooms = st.selectbox('Количество комнат', [1,2,3,4,5])\n",
        "\n",
        "area = st.slider('Площадь',min_value=1, max_value=100)\n",
        "\n",
        "kitchen_area = st.slider('Площадь кухни',min_value=1, max_value=50)\n",
        "\n",
        "object_type = st.selectbox('Тип жилья', ['Новостройка','Вторичка'])\n",
        "\n",
        "date = datetime.datetime.now()\n",
        "\n",
        "month = date.month\n",
        "\n",
        "year = date.year\n",
        "\n",
        "geolocator = Nominatim(user_agent=\"my_request\")\n",
        "location = geolocator.geocode(adress)\n",
        "\n",
        "if building_type == 'Монолитный':\n",
        "  building_type = 2\n",
        "elif building_type == 'Кирпичный':\n",
        "  building_type = 3\n",
        "else:\n",
        "  building_type = 0\n",
        "\n",
        "if object_type == 'Новостройка':\n",
        "  object_type = 11\n",
        "else:\n",
        "  object_type = 1  \n",
        "\n",
        "model = joblib.load(\"ml_rfr.pkl\")\n",
        "  \n",
        "\n",
        "if st.button('Рассчитать стоимость'):\n",
        "    geo_lat = location.latitude \n",
        "    geo_lon = location.longitude\n",
        "    prediction_inp = np.array([geo_lat,geo_lon,building_type,level,levels,\\\n",
        "                 rooms,area,kitchen_area,object_type,month,year])\n",
        "    cost = model.predict(prediction_inp.reshape(1, -1))\n",
        "    st.write(f'### Приблизительная cтоимость жилья:\\n ## {int(cost)}')\n"
      ],
      "metadata": {
        "colab": {
          "base_uri": "https://localhost:8080/"
        },
        "id": "7cSiUikAPtfz",
        "outputId": "80e80462-3c37-454d-d35a-f052b44a31e7"
      },
      "execution_count": 69,
      "outputs": [
        {
          "output_type": "stream",
          "name": "stdout",
          "text": [
            "Overwriting app.py\n"
          ]
        }
      ]
    },
    {
      "cell_type": "code",
      "source": [
        "!npm install localtunnel"
      ],
      "metadata": {
        "colab": {
          "base_uri": "https://localhost:8080/"
        },
        "id": "DzGn55L0PyL4",
        "outputId": "524f2250-2059-4614-ed27-7e67600aa6ed"
      },
      "execution_count": 66,
      "outputs": [
        {
          "output_type": "stream",
          "name": "stdout",
          "text": [
            "\u001b[K\u001b[?25h\u001b[37;40mnpm\u001b[0m \u001b[0m\u001b[30;43mWARN\u001b[0m \u001b[0m\u001b[35msaveError\u001b[0m ENOENT: no such file or directory, open '/content/package.json'\n",
            "\u001b[K\u001b[?25h\u001b[37;40mnpm\u001b[0m \u001b[0m\u001b[34;40mnotice\u001b[0m\u001b[35m\u001b[0m created a lockfile as package-lock.json. You should commit this file.\n",
            "\u001b[0m\u001b[37;40mnpm\u001b[0m \u001b[0m\u001b[30;43mWARN\u001b[0m \u001b[0m\u001b[35menoent\u001b[0m ENOENT: no such file or directory, open '/content/package.json'\n",
            "\u001b[0m\u001b[37;40mnpm\u001b[0m \u001b[0m\u001b[30;43mWARN\u001b[0m\u001b[35m\u001b[0m content No description\n",
            "\u001b[0m\u001b[37;40mnpm\u001b[0m \u001b[0m\u001b[30;43mWARN\u001b[0m\u001b[35m\u001b[0m content No repository field.\n",
            "\u001b[0m\u001b[37;40mnpm\u001b[0m \u001b[0m\u001b[30;43mWARN\u001b[0m\u001b[35m\u001b[0m content No README data\n",
            "\u001b[0m\u001b[37;40mnpm\u001b[0m \u001b[0m\u001b[30;43mWARN\u001b[0m\u001b[35m\u001b[0m content No license field.\n",
            "\u001b[0m\n",
            "+ localtunnel@2.0.2\n",
            "added 22 packages from 22 contributors and audited 22 packages in 2.979s\n",
            "\n",
            "3 packages are looking for funding\n",
            "  run `npm fund` for details\n",
            "\n",
            "found \u001b[92m0\u001b[0m vulnerabilities\n",
            "\n",
            "\u001b[K\u001b[?25h"
          ]
        }
      ]
    },
    {
      "cell_type": "code",
      "source": [
        "!streamlit run /content/app.py &>/content/logs.txt &"
      ],
      "metadata": {
        "id": "ab_HB4Y2P2DQ"
      },
      "execution_count": 70,
      "outputs": []
    },
    {
      "cell_type": "code",
      "source": [
        "!npx localtunnel --port 8501"
      ],
      "metadata": {
        "colab": {
          "base_uri": "https://localhost:8080/"
        },
        "id": "RK5sBHj3P8TQ",
        "outputId": "77e9c35a-20a7-4a28-9510-4acfb9c4943a"
      },
      "execution_count": 71,
      "outputs": [
        {
          "output_type": "stream",
          "name": "stdout",
          "text": [
            "\u001b[K\u001b[?25hnpx: installed 22 in 2.247s\n",
            "your url is: https://large-cases-call-35-196-59-216.loca.lt\n",
            "^C\n"
          ]
        }
      ]
    }
  ]
}