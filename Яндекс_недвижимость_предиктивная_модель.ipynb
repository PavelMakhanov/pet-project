{
  "nbformat": 4,
  "nbformat_minor": 0,
  "metadata": {
    "colab": {
      "provenance": [],
      "authorship_tag": "ABX9TyPscFuFi4uw1rIs+xUOqZi6",
      "include_colab_link": true
    },
    "kernelspec": {
      "name": "python3",
      "display_name": "Python 3"
    },
    "language_info": {
      "name": "python"
    }
  },
  "cells": [
    {
      "cell_type": "markdown",
      "metadata": {
        "id": "view-in-github",
        "colab_type": "text"
      },
      "source": [
        "<a href=\"https://colab.research.google.com/github/PavelMakhanov/pet-project/blob/main/%D0%AF%D0%BD%D0%B4%D0%B5%D0%BA%D1%81_%D0%BD%D0%B5%D0%B4%D0%B2%D0%B8%D0%B6%D0%B8%D0%BC%D0%BE%D1%81%D1%82%D1%8C_%D0%BF%D1%80%D0%B5%D0%B4%D0%B8%D0%BA%D1%82%D0%B8%D0%B2%D0%BD%D0%B0%D1%8F_%D0%BC%D0%BE%D0%B4%D0%B5%D0%BB%D1%8C.ipynb\" target=\"_parent\"><img src=\"https://colab.research.google.com/assets/colab-badge.svg\" alt=\"Open In Colab\"/></a>"
      ]
    },
    {
      "cell_type": "markdown",
      "source": [
        "Архивный датасет ЯндексНедвижимости.\n",
        "\n",
        "**Цель:**\n",
        "Обучить модель предсказывать цену на недвижимость в Санкт-Петербурге "
      ],
      "metadata": {
        "id": "y_JT-rArDedQ"
      }
    },
    {
      "cell_type": "code",
      "execution_count": 3,
      "metadata": {
        "id": "B8pw81Y_c05l"
      },
      "outputs": [],
      "source": [
        "import pandas as pd\n",
        "import matplotlib.pyplot as plt\n",
        "from sklearn.linear_model import LinearRegression\n",
        "from sklearn.model_selection import train_test_split\n",
        "from sklearn.metrics import r2_score\n",
        "from sklearn.metrics import mean_squared_error\n",
        "from sklearn.preprocessing import LabelEncoder"
      ]
    },
    {
      "cell_type": "code",
      "source": [
        "estate = pd.read_csv('real_estate_data.csv')"
      ],
      "metadata": {
        "id": "wV2TaQg5dHA5"
      },
      "execution_count": 4,
      "outputs": []
    },
    {
      "cell_type": "code",
      "source": [
        "pd.set_option('max_columns', None)"
      ],
      "metadata": {
        "id": "RS6daB5TeAAz"
      },
      "execution_count": 5,
      "outputs": []
    },
    {
      "cell_type": "code",
      "source": [
        "estate.head()"
      ],
      "metadata": {
        "colab": {
          "base_uri": "https://localhost:8080/",
          "height": 374
        },
        "id": "ecCQuei0dRAI",
        "outputId": "12357591-be78-4056-93ea-670bdc8d55cf"
      },
      "execution_count": 6,
      "outputs": [
        {
          "output_type": "execute_result",
          "data": {
            "text/plain": [
              "   Unnamed: 0  total_images  last_price  total_area first_day_exposition  \\\n",
              "0           0            20  13000000.0       108.0  2019-03-07T00:00:00   \n",
              "1           1             7   3350000.0        40.4  2018-12-04T00:00:00   \n",
              "2           2            10   5196000.0        56.0  2015-08-20T00:00:00   \n",
              "3           3             0  64900000.0       159.0  2015-07-24T00:00:00   \n",
              "4           4             2  10000000.0       100.0  2018-06-19T00:00:00   \n",
              "\n",
              "   rooms  ceiling_height  floors_total  living_area  floor is_apartment  \\\n",
              "0      3            2.70          16.0         51.0      8          NaN   \n",
              "1      1             NaN          11.0         18.6      1          NaN   \n",
              "2      2             NaN           5.0         34.3      4          NaN   \n",
              "3      3             NaN          14.0          NaN      9          NaN   \n",
              "4      2            3.03          14.0         32.0     13          NaN   \n",
              "\n",
              "   studio  open_plan  kitchen_area  balcony    locality_name  \\\n",
              "0   False      False          25.0      NaN  Санкт-Петербург   \n",
              "1   False      False          11.0      2.0   посёлок Шушары   \n",
              "2   False      False           8.3      0.0  Санкт-Петербург   \n",
              "3   False      False           NaN      0.0  Санкт-Петербург   \n",
              "4   False      False          41.0      NaN  Санкт-Петербург   \n",
              "\n",
              "   airports_nearest  cityCenters_nearest  parks_around3000  parks_nearest  \\\n",
              "0           18863.0              16028.0               1.0          482.0   \n",
              "1           12817.0              18603.0               0.0            NaN   \n",
              "2           21741.0              13933.0               1.0           90.0   \n",
              "3           28098.0               6800.0               2.0           84.0   \n",
              "4           31856.0               8098.0               2.0          112.0   \n",
              "\n",
              "   ponds_around3000  ponds_nearest  days_exposition  \n",
              "0               2.0          755.0              NaN  \n",
              "1               0.0            NaN             81.0  \n",
              "2               2.0          574.0            558.0  \n",
              "3               3.0          234.0            424.0  \n",
              "4               1.0           48.0            121.0  "
            ],
            "text/html": [
              "\n",
              "  <div id=\"df-76071725-b06b-4e06-a96c-3146a73ad02e\">\n",
              "    <div class=\"colab-df-container\">\n",
              "      <div>\n",
              "<style scoped>\n",
              "    .dataframe tbody tr th:only-of-type {\n",
              "        vertical-align: middle;\n",
              "    }\n",
              "\n",
              "    .dataframe tbody tr th {\n",
              "        vertical-align: top;\n",
              "    }\n",
              "\n",
              "    .dataframe thead th {\n",
              "        text-align: right;\n",
              "    }\n",
              "</style>\n",
              "<table border=\"1\" class=\"dataframe\">\n",
              "  <thead>\n",
              "    <tr style=\"text-align: right;\">\n",
              "      <th></th>\n",
              "      <th>Unnamed: 0</th>\n",
              "      <th>total_images</th>\n",
              "      <th>last_price</th>\n",
              "      <th>total_area</th>\n",
              "      <th>first_day_exposition</th>\n",
              "      <th>rooms</th>\n",
              "      <th>ceiling_height</th>\n",
              "      <th>floors_total</th>\n",
              "      <th>living_area</th>\n",
              "      <th>floor</th>\n",
              "      <th>is_apartment</th>\n",
              "      <th>studio</th>\n",
              "      <th>open_plan</th>\n",
              "      <th>kitchen_area</th>\n",
              "      <th>balcony</th>\n",
              "      <th>locality_name</th>\n",
              "      <th>airports_nearest</th>\n",
              "      <th>cityCenters_nearest</th>\n",
              "      <th>parks_around3000</th>\n",
              "      <th>parks_nearest</th>\n",
              "      <th>ponds_around3000</th>\n",
              "      <th>ponds_nearest</th>\n",
              "      <th>days_exposition</th>\n",
              "    </tr>\n",
              "  </thead>\n",
              "  <tbody>\n",
              "    <tr>\n",
              "      <th>0</th>\n",
              "      <td>0</td>\n",
              "      <td>20</td>\n",
              "      <td>13000000.0</td>\n",
              "      <td>108.0</td>\n",
              "      <td>2019-03-07T00:00:00</td>\n",
              "      <td>3</td>\n",
              "      <td>2.70</td>\n",
              "      <td>16.0</td>\n",
              "      <td>51.0</td>\n",
              "      <td>8</td>\n",
              "      <td>NaN</td>\n",
              "      <td>False</td>\n",
              "      <td>False</td>\n",
              "      <td>25.0</td>\n",
              "      <td>NaN</td>\n",
              "      <td>Санкт-Петербург</td>\n",
              "      <td>18863.0</td>\n",
              "      <td>16028.0</td>\n",
              "      <td>1.0</td>\n",
              "      <td>482.0</td>\n",
              "      <td>2.0</td>\n",
              "      <td>755.0</td>\n",
              "      <td>NaN</td>\n",
              "    </tr>\n",
              "    <tr>\n",
              "      <th>1</th>\n",
              "      <td>1</td>\n",
              "      <td>7</td>\n",
              "      <td>3350000.0</td>\n",
              "      <td>40.4</td>\n",
              "      <td>2018-12-04T00:00:00</td>\n",
              "      <td>1</td>\n",
              "      <td>NaN</td>\n",
              "      <td>11.0</td>\n",
              "      <td>18.6</td>\n",
              "      <td>1</td>\n",
              "      <td>NaN</td>\n",
              "      <td>False</td>\n",
              "      <td>False</td>\n",
              "      <td>11.0</td>\n",
              "      <td>2.0</td>\n",
              "      <td>посёлок Шушары</td>\n",
              "      <td>12817.0</td>\n",
              "      <td>18603.0</td>\n",
              "      <td>0.0</td>\n",
              "      <td>NaN</td>\n",
              "      <td>0.0</td>\n",
              "      <td>NaN</td>\n",
              "      <td>81.0</td>\n",
              "    </tr>\n",
              "    <tr>\n",
              "      <th>2</th>\n",
              "      <td>2</td>\n",
              "      <td>10</td>\n",
              "      <td>5196000.0</td>\n",
              "      <td>56.0</td>\n",
              "      <td>2015-08-20T00:00:00</td>\n",
              "      <td>2</td>\n",
              "      <td>NaN</td>\n",
              "      <td>5.0</td>\n",
              "      <td>34.3</td>\n",
              "      <td>4</td>\n",
              "      <td>NaN</td>\n",
              "      <td>False</td>\n",
              "      <td>False</td>\n",
              "      <td>8.3</td>\n",
              "      <td>0.0</td>\n",
              "      <td>Санкт-Петербург</td>\n",
              "      <td>21741.0</td>\n",
              "      <td>13933.0</td>\n",
              "      <td>1.0</td>\n",
              "      <td>90.0</td>\n",
              "      <td>2.0</td>\n",
              "      <td>574.0</td>\n",
              "      <td>558.0</td>\n",
              "    </tr>\n",
              "    <tr>\n",
              "      <th>3</th>\n",
              "      <td>3</td>\n",
              "      <td>0</td>\n",
              "      <td>64900000.0</td>\n",
              "      <td>159.0</td>\n",
              "      <td>2015-07-24T00:00:00</td>\n",
              "      <td>3</td>\n",
              "      <td>NaN</td>\n",
              "      <td>14.0</td>\n",
              "      <td>NaN</td>\n",
              "      <td>9</td>\n",
              "      <td>NaN</td>\n",
              "      <td>False</td>\n",
              "      <td>False</td>\n",
              "      <td>NaN</td>\n",
              "      <td>0.0</td>\n",
              "      <td>Санкт-Петербург</td>\n",
              "      <td>28098.0</td>\n",
              "      <td>6800.0</td>\n",
              "      <td>2.0</td>\n",
              "      <td>84.0</td>\n",
              "      <td>3.0</td>\n",
              "      <td>234.0</td>\n",
              "      <td>424.0</td>\n",
              "    </tr>\n",
              "    <tr>\n",
              "      <th>4</th>\n",
              "      <td>4</td>\n",
              "      <td>2</td>\n",
              "      <td>10000000.0</td>\n",
              "      <td>100.0</td>\n",
              "      <td>2018-06-19T00:00:00</td>\n",
              "      <td>2</td>\n",
              "      <td>3.03</td>\n",
              "      <td>14.0</td>\n",
              "      <td>32.0</td>\n",
              "      <td>13</td>\n",
              "      <td>NaN</td>\n",
              "      <td>False</td>\n",
              "      <td>False</td>\n",
              "      <td>41.0</td>\n",
              "      <td>NaN</td>\n",
              "      <td>Санкт-Петербург</td>\n",
              "      <td>31856.0</td>\n",
              "      <td>8098.0</td>\n",
              "      <td>2.0</td>\n",
              "      <td>112.0</td>\n",
              "      <td>1.0</td>\n",
              "      <td>48.0</td>\n",
              "      <td>121.0</td>\n",
              "    </tr>\n",
              "  </tbody>\n",
              "</table>\n",
              "</div>\n",
              "      <button class=\"colab-df-convert\" onclick=\"convertToInteractive('df-76071725-b06b-4e06-a96c-3146a73ad02e')\"\n",
              "              title=\"Convert this dataframe to an interactive table.\"\n",
              "              style=\"display:none;\">\n",
              "        \n",
              "  <svg xmlns=\"http://www.w3.org/2000/svg\" height=\"24px\"viewBox=\"0 0 24 24\"\n",
              "       width=\"24px\">\n",
              "    <path d=\"M0 0h24v24H0V0z\" fill=\"none\"/>\n",
              "    <path d=\"M18.56 5.44l.94 2.06.94-2.06 2.06-.94-2.06-.94-.94-2.06-.94 2.06-2.06.94zm-11 1L8.5 8.5l.94-2.06 2.06-.94-2.06-.94L8.5 2.5l-.94 2.06-2.06.94zm10 10l.94 2.06.94-2.06 2.06-.94-2.06-.94-.94-2.06-.94 2.06-2.06.94z\"/><path d=\"M17.41 7.96l-1.37-1.37c-.4-.4-.92-.59-1.43-.59-.52 0-1.04.2-1.43.59L10.3 9.45l-7.72 7.72c-.78.78-.78 2.05 0 2.83L4 21.41c.39.39.9.59 1.41.59.51 0 1.02-.2 1.41-.59l7.78-7.78 2.81-2.81c.8-.78.8-2.07 0-2.86zM5.41 20L4 18.59l7.72-7.72 1.47 1.35L5.41 20z\"/>\n",
              "  </svg>\n",
              "      </button>\n",
              "      \n",
              "  <style>\n",
              "    .colab-df-container {\n",
              "      display:flex;\n",
              "      flex-wrap:wrap;\n",
              "      gap: 12px;\n",
              "    }\n",
              "\n",
              "    .colab-df-convert {\n",
              "      background-color: #E8F0FE;\n",
              "      border: none;\n",
              "      border-radius: 50%;\n",
              "      cursor: pointer;\n",
              "      display: none;\n",
              "      fill: #1967D2;\n",
              "      height: 32px;\n",
              "      padding: 0 0 0 0;\n",
              "      width: 32px;\n",
              "    }\n",
              "\n",
              "    .colab-df-convert:hover {\n",
              "      background-color: #E2EBFA;\n",
              "      box-shadow: 0px 1px 2px rgba(60, 64, 67, 0.3), 0px 1px 3px 1px rgba(60, 64, 67, 0.15);\n",
              "      fill: #174EA6;\n",
              "    }\n",
              "\n",
              "    [theme=dark] .colab-df-convert {\n",
              "      background-color: #3B4455;\n",
              "      fill: #D2E3FC;\n",
              "    }\n",
              "\n",
              "    [theme=dark] .colab-df-convert:hover {\n",
              "      background-color: #434B5C;\n",
              "      box-shadow: 0px 1px 3px 1px rgba(0, 0, 0, 0.15);\n",
              "      filter: drop-shadow(0px 1px 2px rgba(0, 0, 0, 0.3));\n",
              "      fill: #FFFFFF;\n",
              "    }\n",
              "  </style>\n",
              "\n",
              "      <script>\n",
              "        const buttonEl =\n",
              "          document.querySelector('#df-76071725-b06b-4e06-a96c-3146a73ad02e button.colab-df-convert');\n",
              "        buttonEl.style.display =\n",
              "          google.colab.kernel.accessAllowed ? 'block' : 'none';\n",
              "\n",
              "        async function convertToInteractive(key) {\n",
              "          const element = document.querySelector('#df-76071725-b06b-4e06-a96c-3146a73ad02e');\n",
              "          const dataTable =\n",
              "            await google.colab.kernel.invokeFunction('convertToInteractive',\n",
              "                                                     [key], {});\n",
              "          if (!dataTable) return;\n",
              "\n",
              "          const docLinkHtml = 'Like what you see? Visit the ' +\n",
              "            '<a target=\"_blank\" href=https://colab.research.google.com/notebooks/data_table.ipynb>data table notebook</a>'\n",
              "            + ' to learn more about interactive tables.';\n",
              "          element.innerHTML = '';\n",
              "          dataTable['output_type'] = 'display_data';\n",
              "          await google.colab.output.renderOutput(dataTable, element);\n",
              "          const docLink = document.createElement('div');\n",
              "          docLink.innerHTML = docLinkHtml;\n",
              "          element.appendChild(docLink);\n",
              "        }\n",
              "      </script>\n",
              "    </div>\n",
              "  </div>\n",
              "  "
            ]
          },
          "metadata": {},
          "execution_count": 6
        }
      ]
    },
    {
      "cell_type": "code",
      "source": [
        "estate.info()"
      ],
      "metadata": {
        "colab": {
          "base_uri": "https://localhost:8080/"
        },
        "id": "7HLHS25FdZuI",
        "outputId": "c6990e51-a178-4980-cac6-bcffa449f702"
      },
      "execution_count": 7,
      "outputs": [
        {
          "output_type": "stream",
          "name": "stdout",
          "text": [
            "<class 'pandas.core.frame.DataFrame'>\n",
            "RangeIndex: 23699 entries, 0 to 23698\n",
            "Data columns (total 23 columns):\n",
            " #   Column                Non-Null Count  Dtype  \n",
            "---  ------                --------------  -----  \n",
            " 0   Unnamed: 0            23699 non-null  int64  \n",
            " 1   total_images          23699 non-null  int64  \n",
            " 2   last_price            23699 non-null  float64\n",
            " 3   total_area            23699 non-null  float64\n",
            " 4   first_day_exposition  23699 non-null  object \n",
            " 5   rooms                 23699 non-null  int64  \n",
            " 6   ceiling_height        14504 non-null  float64\n",
            " 7   floors_total          23613 non-null  float64\n",
            " 8   living_area           21796 non-null  float64\n",
            " 9   floor                 23699 non-null  int64  \n",
            " 10  is_apartment          2775 non-null   object \n",
            " 11  studio                23699 non-null  bool   \n",
            " 12  open_plan             23699 non-null  bool   \n",
            " 13  kitchen_area          21421 non-null  float64\n",
            " 14  balcony               12180 non-null  float64\n",
            " 15  locality_name         23650 non-null  object \n",
            " 16  airports_nearest      18157 non-null  float64\n",
            " 17  cityCenters_nearest   18180 non-null  float64\n",
            " 18  parks_around3000      18181 non-null  float64\n",
            " 19  parks_nearest         8079 non-null   float64\n",
            " 20  ponds_around3000      18181 non-null  float64\n",
            " 21  ponds_nearest         9110 non-null   float64\n",
            " 22  days_exposition       20518 non-null  float64\n",
            "dtypes: bool(2), float64(14), int64(4), object(3)\n",
            "memory usage: 3.8+ MB\n"
          ]
        }
      ]
    },
    {
      "cell_type": "markdown",
      "source": [
        "**Удалим ненужные колонки, которые не будут использоваться при обучении модели**"
      ],
      "metadata": {
        "id": "2ruBHs2DgYRu"
      }
    },
    {
      "cell_type": "markdown",
      "source": [
        "Unnamed: 0 - данная колонка показывает все-лишь порядок строк"
      ],
      "metadata": {
        "id": "sBiysnp4gyHf"
      }
    },
    {
      "cell_type": "code",
      "source": [
        "estate = estate.drop('Unnamed: 0', axis = 1)"
      ],
      "metadata": {
        "id": "jPklgUeTdo4p"
      },
      "execution_count": 8,
      "outputs": []
    },
    {
      "cell_type": "markdown",
      "source": [
        "total_images - это количество изображений в объявлении, оно влияет на скорость продажи недвижимости, но данный показатель уже у нас есть в виде признака days_exposition       "
      ],
      "metadata": {
        "id": "GfKBarjSg33r"
      }
    },
    {
      "cell_type": "code",
      "source": [
        "estate = estate.drop('total_images', axis = 1)"
      ],
      "metadata": {
        "id": "sekqzNMedw4Y"
      },
      "execution_count": 9,
      "outputs": []
    },
    {
      "cell_type": "markdown",
      "source": [
        "parks_around3000','ponds_around3000 являются отображением количества парков колонок parks_nearest и ponds_nearest, поэтому удалим их тоже"
      ],
      "metadata": {
        "id": "E63XhBJIhP4K"
      }
    },
    {
      "cell_type": "code",
      "source": [
        "estate = estate.drop(['parks_around3000','ponds_around3000'], axis = 1)"
      ],
      "metadata": {
        "id": "mtA9Fw-seYcY"
      },
      "execution_count": 10,
      "outputs": []
    },
    {
      "cell_type": "markdown",
      "source": [
        "Так же оставим в датасете только интересующий нас город Санкт-Петербург"
      ],
      "metadata": {
        "id": "sHKNUx6ChndY"
      }
    },
    {
      "cell_type": "code",
      "source": [
        "estate = estate.loc[estate['locality_name'] == 'Санкт-Петербург']"
      ],
      "metadata": {
        "id": "GsMs_q7beRso"
      },
      "execution_count": 11,
      "outputs": []
    },
    {
      "cell_type": "markdown",
      "source": [
        "Преобразуем колонку first_day_exposition в datetime и создадим новые колонки с месяцем и годом, а исходную удалим"
      ],
      "metadata": {
        "id": "1k0ftYUgh30q"
      }
    },
    {
      "cell_type": "code",
      "source": [
        "estate['first_day_exposition']= pd.to_datetime(estate['first_day_exposition'])"
      ],
      "metadata": {
        "id": "hwHC9Ecofn35"
      },
      "execution_count": 12,
      "outputs": []
    },
    {
      "cell_type": "code",
      "source": [
        "estate['month_exposition'] = estate['first_day_exposition'].dt.month"
      ],
      "metadata": {
        "id": "qtm-au0FiKof"
      },
      "execution_count": 13,
      "outputs": []
    },
    {
      "cell_type": "code",
      "source": [
        "estate['year_exposition'] = estate['first_day_exposition'].dt.year"
      ],
      "metadata": {
        "id": "UVl7kudRj9Rb"
      },
      "execution_count": 14,
      "outputs": []
    },
    {
      "cell_type": "code",
      "source": [
        "estate = estate.drop(['first_day_exposition'], axis = 1)"
      ],
      "metadata": {
        "id": "rS4dtg7ZkMR-"
      },
      "execution_count": 15,
      "outputs": []
    },
    {
      "cell_type": "code",
      "source": [
        "estate.info()"
      ],
      "metadata": {
        "colab": {
          "base_uri": "https://localhost:8080/"
        },
        "id": "FufXl3eqh0ET",
        "outputId": "1a16465c-2a29-43e6-ea5f-619a59981608"
      },
      "execution_count": 16,
      "outputs": [
        {
          "output_type": "stream",
          "name": "stdout",
          "text": [
            "<class 'pandas.core.frame.DataFrame'>\n",
            "Int64Index: 15721 entries, 0 to 23697\n",
            "Data columns (total 20 columns):\n",
            " #   Column               Non-Null Count  Dtype  \n",
            "---  ------               --------------  -----  \n",
            " 0   last_price           15721 non-null  float64\n",
            " 1   total_area           15721 non-null  float64\n",
            " 2   rooms                15721 non-null  int64  \n",
            " 3   ceiling_height       10104 non-null  float64\n",
            " 4   floors_total         15651 non-null  float64\n",
            " 5   living_area          14581 non-null  float64\n",
            " 6   floor                15721 non-null  int64  \n",
            " 7   is_apartment         1833 non-null   object \n",
            " 8   studio               15721 non-null  bool   \n",
            " 9   open_plan            15721 non-null  bool   \n",
            " 10  kitchen_area         14342 non-null  float64\n",
            " 11  balcony              8009 non-null   float64\n",
            " 12  locality_name        15721 non-null  object \n",
            " 13  airports_nearest     15636 non-null  float64\n",
            " 14  cityCenters_nearest  15660 non-null  float64\n",
            " 15  parks_nearest        7284 non-null   float64\n",
            " 16  ponds_nearest        7983 non-null   float64\n",
            " 17  days_exposition      13638 non-null  float64\n",
            " 18  month_exposition     15721 non-null  int64  \n",
            " 19  year_exposition      15721 non-null  int64  \n",
            "dtypes: bool(2), float64(12), int64(4), object(2)\n",
            "memory usage: 2.3+ MB\n"
          ]
        }
      ]
    },
    {
      "cell_type": "markdown",
      "source": [
        "**Посмотрим основные статистики**"
      ],
      "metadata": {
        "id": "X2PCWNK5lMk1"
      }
    },
    {
      "cell_type": "code",
      "source": [
        "estate.describe()"
      ],
      "metadata": {
        "colab": {
          "base_uri": "https://localhost:8080/",
          "height": 364
        },
        "id": "mObexuxLk9Aj",
        "outputId": "6790f212-004e-4cbe-9941-10512f8f5d3a"
      },
      "execution_count": 17,
      "outputs": [
        {
          "output_type": "execute_result",
          "data": {
            "text/plain": [
              "         last_price    total_area         rooms  ceiling_height  floors_total  \\\n",
              "count  1.572100e+04  15721.000000  15721.000000    10104.000000  15651.000000   \n",
              "mean   8.062507e+06     64.751488      2.171618        2.803709     11.395885   \n",
              "std    1.301313e+07     40.417095      1.148098        1.296912      6.372330   \n",
              "min    1.219000e+04     12.000000      0.000000        1.000000      1.000000   \n",
              "25%    4.200000e+06     42.000000      1.000000        2.550000      5.000000   \n",
              "50%    5.500000e+06     55.000000      2.000000        2.700000      9.000000   \n",
              "75%    8.160000e+06     74.600000      3.000000        2.870000     16.000000   \n",
              "max    7.630000e+08    900.000000     19.000000      100.000000     52.000000   \n",
              "\n",
              "        living_area         floor  kitchen_area      balcony  \\\n",
              "count  14581.000000  15721.000000  14342.000000  8009.000000   \n",
              "mean      36.959148      6.242033     11.155806     1.141965   \n",
              "std       24.701374      4.900486      6.543392     1.093276   \n",
              "min        2.000000      1.000000      1.300000     0.000000   \n",
              "25%       19.900000      3.000000      7.200000     0.000000   \n",
              "50%       31.300000      5.000000      9.900000     1.000000   \n",
              "75%       44.000000      8.000000     12.500000     2.000000   \n",
              "max      409.700000     33.000000    112.000000     5.000000   \n",
              "\n",
              "       airports_nearest  cityCenters_nearest  parks_nearest  ponds_nearest  \\\n",
              "count      15636.000000         15660.000000    7284.000000    7983.000000   \n",
              "mean       28046.186237         11601.291571     498.597886     520.213955   \n",
              "std        11557.063820          4842.035279     345.181284     280.260745   \n",
              "min            0.000000           181.000000       1.000000      13.000000   \n",
              "25%        18584.250000          8327.000000     295.000000     293.000000   \n",
              "50%        26757.500000         12244.500000     460.000000     503.000000   \n",
              "75%        36614.000000         14943.000000     619.000000     738.000000   \n",
              "max        54784.000000         29493.000000    3190.000000    1337.000000   \n",
              "\n",
              "       days_exposition  month_exposition  year_exposition  \n",
              "count     13638.000000      15721.000000     15721.000000  \n",
              "mean        182.792198          6.421983      2017.351886  \n",
              "std         224.719204          3.465502         1.057608  \n",
              "min           1.000000          1.000000      2014.000000  \n",
              "25%          42.000000          3.000000      2017.000000  \n",
              "50%          95.000000          6.000000      2017.000000  \n",
              "75%         231.000000         10.000000      2018.000000  \n",
              "max        1572.000000         12.000000      2019.000000  "
            ],
            "text/html": [
              "\n",
              "  <div id=\"df-c678ce14-2a6c-4ef0-ae5c-3fc2d6cf6a3d\">\n",
              "    <div class=\"colab-df-container\">\n",
              "      <div>\n",
              "<style scoped>\n",
              "    .dataframe tbody tr th:only-of-type {\n",
              "        vertical-align: middle;\n",
              "    }\n",
              "\n",
              "    .dataframe tbody tr th {\n",
              "        vertical-align: top;\n",
              "    }\n",
              "\n",
              "    .dataframe thead th {\n",
              "        text-align: right;\n",
              "    }\n",
              "</style>\n",
              "<table border=\"1\" class=\"dataframe\">\n",
              "  <thead>\n",
              "    <tr style=\"text-align: right;\">\n",
              "      <th></th>\n",
              "      <th>last_price</th>\n",
              "      <th>total_area</th>\n",
              "      <th>rooms</th>\n",
              "      <th>ceiling_height</th>\n",
              "      <th>floors_total</th>\n",
              "      <th>living_area</th>\n",
              "      <th>floor</th>\n",
              "      <th>kitchen_area</th>\n",
              "      <th>balcony</th>\n",
              "      <th>airports_nearest</th>\n",
              "      <th>cityCenters_nearest</th>\n",
              "      <th>parks_nearest</th>\n",
              "      <th>ponds_nearest</th>\n",
              "      <th>days_exposition</th>\n",
              "      <th>month_exposition</th>\n",
              "      <th>year_exposition</th>\n",
              "    </tr>\n",
              "  </thead>\n",
              "  <tbody>\n",
              "    <tr>\n",
              "      <th>count</th>\n",
              "      <td>1.572100e+04</td>\n",
              "      <td>15721.000000</td>\n",
              "      <td>15721.000000</td>\n",
              "      <td>10104.000000</td>\n",
              "      <td>15651.000000</td>\n",
              "      <td>14581.000000</td>\n",
              "      <td>15721.000000</td>\n",
              "      <td>14342.000000</td>\n",
              "      <td>8009.000000</td>\n",
              "      <td>15636.000000</td>\n",
              "      <td>15660.000000</td>\n",
              "      <td>7284.000000</td>\n",
              "      <td>7983.000000</td>\n",
              "      <td>13638.000000</td>\n",
              "      <td>15721.000000</td>\n",
              "      <td>15721.000000</td>\n",
              "    </tr>\n",
              "    <tr>\n",
              "      <th>mean</th>\n",
              "      <td>8.062507e+06</td>\n",
              "      <td>64.751488</td>\n",
              "      <td>2.171618</td>\n",
              "      <td>2.803709</td>\n",
              "      <td>11.395885</td>\n",
              "      <td>36.959148</td>\n",
              "      <td>6.242033</td>\n",
              "      <td>11.155806</td>\n",
              "      <td>1.141965</td>\n",
              "      <td>28046.186237</td>\n",
              "      <td>11601.291571</td>\n",
              "      <td>498.597886</td>\n",
              "      <td>520.213955</td>\n",
              "      <td>182.792198</td>\n",
              "      <td>6.421983</td>\n",
              "      <td>2017.351886</td>\n",
              "    </tr>\n",
              "    <tr>\n",
              "      <th>std</th>\n",
              "      <td>1.301313e+07</td>\n",
              "      <td>40.417095</td>\n",
              "      <td>1.148098</td>\n",
              "      <td>1.296912</td>\n",
              "      <td>6.372330</td>\n",
              "      <td>24.701374</td>\n",
              "      <td>4.900486</td>\n",
              "      <td>6.543392</td>\n",
              "      <td>1.093276</td>\n",
              "      <td>11557.063820</td>\n",
              "      <td>4842.035279</td>\n",
              "      <td>345.181284</td>\n",
              "      <td>280.260745</td>\n",
              "      <td>224.719204</td>\n",
              "      <td>3.465502</td>\n",
              "      <td>1.057608</td>\n",
              "    </tr>\n",
              "    <tr>\n",
              "      <th>min</th>\n",
              "      <td>1.219000e+04</td>\n",
              "      <td>12.000000</td>\n",
              "      <td>0.000000</td>\n",
              "      <td>1.000000</td>\n",
              "      <td>1.000000</td>\n",
              "      <td>2.000000</td>\n",
              "      <td>1.000000</td>\n",
              "      <td>1.300000</td>\n",
              "      <td>0.000000</td>\n",
              "      <td>0.000000</td>\n",
              "      <td>181.000000</td>\n",
              "      <td>1.000000</td>\n",
              "      <td>13.000000</td>\n",
              "      <td>1.000000</td>\n",
              "      <td>1.000000</td>\n",
              "      <td>2014.000000</td>\n",
              "    </tr>\n",
              "    <tr>\n",
              "      <th>25%</th>\n",
              "      <td>4.200000e+06</td>\n",
              "      <td>42.000000</td>\n",
              "      <td>1.000000</td>\n",
              "      <td>2.550000</td>\n",
              "      <td>5.000000</td>\n",
              "      <td>19.900000</td>\n",
              "      <td>3.000000</td>\n",
              "      <td>7.200000</td>\n",
              "      <td>0.000000</td>\n",
              "      <td>18584.250000</td>\n",
              "      <td>8327.000000</td>\n",
              "      <td>295.000000</td>\n",
              "      <td>293.000000</td>\n",
              "      <td>42.000000</td>\n",
              "      <td>3.000000</td>\n",
              "      <td>2017.000000</td>\n",
              "    </tr>\n",
              "    <tr>\n",
              "      <th>50%</th>\n",
              "      <td>5.500000e+06</td>\n",
              "      <td>55.000000</td>\n",
              "      <td>2.000000</td>\n",
              "      <td>2.700000</td>\n",
              "      <td>9.000000</td>\n",
              "      <td>31.300000</td>\n",
              "      <td>5.000000</td>\n",
              "      <td>9.900000</td>\n",
              "      <td>1.000000</td>\n",
              "      <td>26757.500000</td>\n",
              "      <td>12244.500000</td>\n",
              "      <td>460.000000</td>\n",
              "      <td>503.000000</td>\n",
              "      <td>95.000000</td>\n",
              "      <td>6.000000</td>\n",
              "      <td>2017.000000</td>\n",
              "    </tr>\n",
              "    <tr>\n",
              "      <th>75%</th>\n",
              "      <td>8.160000e+06</td>\n",
              "      <td>74.600000</td>\n",
              "      <td>3.000000</td>\n",
              "      <td>2.870000</td>\n",
              "      <td>16.000000</td>\n",
              "      <td>44.000000</td>\n",
              "      <td>8.000000</td>\n",
              "      <td>12.500000</td>\n",
              "      <td>2.000000</td>\n",
              "      <td>36614.000000</td>\n",
              "      <td>14943.000000</td>\n",
              "      <td>619.000000</td>\n",
              "      <td>738.000000</td>\n",
              "      <td>231.000000</td>\n",
              "      <td>10.000000</td>\n",
              "      <td>2018.000000</td>\n",
              "    </tr>\n",
              "    <tr>\n",
              "      <th>max</th>\n",
              "      <td>7.630000e+08</td>\n",
              "      <td>900.000000</td>\n",
              "      <td>19.000000</td>\n",
              "      <td>100.000000</td>\n",
              "      <td>52.000000</td>\n",
              "      <td>409.700000</td>\n",
              "      <td>33.000000</td>\n",
              "      <td>112.000000</td>\n",
              "      <td>5.000000</td>\n",
              "      <td>54784.000000</td>\n",
              "      <td>29493.000000</td>\n",
              "      <td>3190.000000</td>\n",
              "      <td>1337.000000</td>\n",
              "      <td>1572.000000</td>\n",
              "      <td>12.000000</td>\n",
              "      <td>2019.000000</td>\n",
              "    </tr>\n",
              "  </tbody>\n",
              "</table>\n",
              "</div>\n",
              "      <button class=\"colab-df-convert\" onclick=\"convertToInteractive('df-c678ce14-2a6c-4ef0-ae5c-3fc2d6cf6a3d')\"\n",
              "              title=\"Convert this dataframe to an interactive table.\"\n",
              "              style=\"display:none;\">\n",
              "        \n",
              "  <svg xmlns=\"http://www.w3.org/2000/svg\" height=\"24px\"viewBox=\"0 0 24 24\"\n",
              "       width=\"24px\">\n",
              "    <path d=\"M0 0h24v24H0V0z\" fill=\"none\"/>\n",
              "    <path d=\"M18.56 5.44l.94 2.06.94-2.06 2.06-.94-2.06-.94-.94-2.06-.94 2.06-2.06.94zm-11 1L8.5 8.5l.94-2.06 2.06-.94-2.06-.94L8.5 2.5l-.94 2.06-2.06.94zm10 10l.94 2.06.94-2.06 2.06-.94-2.06-.94-.94-2.06-.94 2.06-2.06.94z\"/><path d=\"M17.41 7.96l-1.37-1.37c-.4-.4-.92-.59-1.43-.59-.52 0-1.04.2-1.43.59L10.3 9.45l-7.72 7.72c-.78.78-.78 2.05 0 2.83L4 21.41c.39.39.9.59 1.41.59.51 0 1.02-.2 1.41-.59l7.78-7.78 2.81-2.81c.8-.78.8-2.07 0-2.86zM5.41 20L4 18.59l7.72-7.72 1.47 1.35L5.41 20z\"/>\n",
              "  </svg>\n",
              "      </button>\n",
              "      \n",
              "  <style>\n",
              "    .colab-df-container {\n",
              "      display:flex;\n",
              "      flex-wrap:wrap;\n",
              "      gap: 12px;\n",
              "    }\n",
              "\n",
              "    .colab-df-convert {\n",
              "      background-color: #E8F0FE;\n",
              "      border: none;\n",
              "      border-radius: 50%;\n",
              "      cursor: pointer;\n",
              "      display: none;\n",
              "      fill: #1967D2;\n",
              "      height: 32px;\n",
              "      padding: 0 0 0 0;\n",
              "      width: 32px;\n",
              "    }\n",
              "\n",
              "    .colab-df-convert:hover {\n",
              "      background-color: #E2EBFA;\n",
              "      box-shadow: 0px 1px 2px rgba(60, 64, 67, 0.3), 0px 1px 3px 1px rgba(60, 64, 67, 0.15);\n",
              "      fill: #174EA6;\n",
              "    }\n",
              "\n",
              "    [theme=dark] .colab-df-convert {\n",
              "      background-color: #3B4455;\n",
              "      fill: #D2E3FC;\n",
              "    }\n",
              "\n",
              "    [theme=dark] .colab-df-convert:hover {\n",
              "      background-color: #434B5C;\n",
              "      box-shadow: 0px 1px 3px 1px rgba(0, 0, 0, 0.15);\n",
              "      filter: drop-shadow(0px 1px 2px rgba(0, 0, 0, 0.3));\n",
              "      fill: #FFFFFF;\n",
              "    }\n",
              "  </style>\n",
              "\n",
              "      <script>\n",
              "        const buttonEl =\n",
              "          document.querySelector('#df-c678ce14-2a6c-4ef0-ae5c-3fc2d6cf6a3d button.colab-df-convert');\n",
              "        buttonEl.style.display =\n",
              "          google.colab.kernel.accessAllowed ? 'block' : 'none';\n",
              "\n",
              "        async function convertToInteractive(key) {\n",
              "          const element = document.querySelector('#df-c678ce14-2a6c-4ef0-ae5c-3fc2d6cf6a3d');\n",
              "          const dataTable =\n",
              "            await google.colab.kernel.invokeFunction('convertToInteractive',\n",
              "                                                     [key], {});\n",
              "          if (!dataTable) return;\n",
              "\n",
              "          const docLinkHtml = 'Like what you see? Visit the ' +\n",
              "            '<a target=\"_blank\" href=https://colab.research.google.com/notebooks/data_table.ipynb>data table notebook</a>'\n",
              "            + ' to learn more about interactive tables.';\n",
              "          element.innerHTML = '';\n",
              "          dataTable['output_type'] = 'display_data';\n",
              "          await google.colab.output.renderOutput(dataTable, element);\n",
              "          const docLink = document.createElement('div');\n",
              "          docLink.innerHTML = docLinkHtml;\n",
              "          element.appendChild(docLink);\n",
              "        }\n",
              "      </script>\n",
              "    </div>\n",
              "  </div>\n",
              "  "
            ]
          },
          "metadata": {},
          "execution_count": 17
        }
      ]
    },
    {
      "cell_type": "markdown",
      "source": [
        "**Поищем выбросы в данных и сразу заполним пропуски**"
      ],
      "metadata": {
        "id": "CL2-HOQNkyRu"
      }
    },
    {
      "cell_type": "code",
      "source": [
        "estate['last_price'].plot(kind='box')"
      ],
      "metadata": {
        "colab": {
          "base_uri": "https://localhost:8080/",
          "height": 294
        },
        "id": "gw75TLsmkwHf",
        "outputId": "521a74cd-3ed0-4d7a-8466-71b0fe4baeb0"
      },
      "execution_count": 18,
      "outputs": [
        {
          "output_type": "execute_result",
          "data": {
            "text/plain": [
              "<matplotlib.axes._subplots.AxesSubplot at 0x7f036e2420a0>"
            ]
          },
          "metadata": {},
          "execution_count": 18
        },
        {
          "output_type": "display_data",
          "data": {
            "text/plain": [
              "<Figure size 432x288 with 1 Axes>"
            ],
            "image/png": "[encoded data removed]"
          },
          "metadata": {
            "needs_background": "light"
          }
        }
      ]
    },
    {
      "cell_type": "markdown",
      "source": [
        "Видим один объект, очень похожий на выброс, теоритически он может столько стоить, например из-за исторической ценности, но в данном случае нет возможности его проверить, поэтому удалим, считая его выбросом. Пропусков нет"
      ],
      "metadata": {
        "id": "7CTi0jDNlbBv"
      }
    },
    {
      "cell_type": "code",
      "source": [
        "estate = estate.loc[estate['last_price']<7.6e+08]"
      ],
      "metadata": {
        "id": "9kFU2Wyilb44"
      },
      "execution_count": 19,
      "outputs": []
    },
    {
      "cell_type": "code",
      "source": [
        "estate['total_area'].plot(kind='box')"
      ],
      "metadata": {
        "colab": {
          "base_uri": "https://localhost:8080/",
          "height": 283
        },
        "id": "uI32yDKylnOn",
        "outputId": "7d7e158f-d52a-433d-b6c3-453622267ade"
      },
      "execution_count": 20,
      "outputs": [
        {
          "output_type": "execute_result",
          "data": {
            "text/plain": [
              "<matplotlib.axes._subplots.AxesSubplot at 0x7f036e1797f0>"
            ]
          },
          "metadata": {},
          "execution_count": 20
        },
        {
          "output_type": "display_data",
          "data": {
            "text/plain": [
              "<Figure size 432x288 with 1 Axes>"
            ],
            "image/png": "[encoded data removed]"
          },
          "metadata": {
            "needs_background": "light"
          }
        }
      ]
    },
    {
      "cell_type": "markdown",
      "source": [
        "Похоже есть еще один объект похожий на выброс, так как он сильно отличается от всех остальных, теоритически это это может быть очень большой жилой дом, но всякий случай удалим этот объект. Пропусков нет  "
      ],
      "metadata": {
        "id": "kpHGNUQdl4qG"
      }
    },
    {
      "cell_type": "code",
      "source": [
        "estate = estate.loc[estate['total_area']<800]"
      ],
      "metadata": {
        "id": "5vPUgfWZmQvm"
      },
      "execution_count": 21,
      "outputs": []
    },
    {
      "cell_type": "code",
      "source": [
        "estate['rooms'].plot(kind='box')"
      ],
      "metadata": {
        "colab": {
          "base_uri": "https://localhost:8080/",
          "height": 282
        },
        "id": "WoNFAQ6em9eJ",
        "outputId": "55dca072-fcf5-4def-d8ea-82c4b20b500a"
      },
      "execution_count": 22,
      "outputs": [
        {
          "output_type": "execute_result",
          "data": {
            "text/plain": [
              "<matplotlib.axes._subplots.AxesSubplot at 0x7f036e36c910>"
            ]
          },
          "metadata": {},
          "execution_count": 22
        },
        {
          "output_type": "display_data",
          "data": {
            "text/plain": [
              "<Figure size 432x288 with 1 Axes>"
            ],
            "image/png": "[encoded data removed]"
          },
          "metadata": {
            "needs_background": "light"
          }
        }
      ]
    },
    {
      "cell_type": "markdown",
      "source": [
        "Максимальное количество комнат 19, в частном доме вполне вероятно , поэтому будем считать, что выбросов нет. Пропусков нет"
      ],
      "metadata": {
        "id": "4lc4xX-3nPgq"
      }
    },
    {
      "cell_type": "code",
      "source": [
        "estate['ceiling_height'].plot(kind='box')"
      ],
      "metadata": {
        "colab": {
          "base_uri": "https://localhost:8080/",
          "height": 283
        },
        "id": "oXgP_QqCnhd-",
        "outputId": "f84ba3b3-f547-48ef-eaf7-1a08018bc123"
      },
      "execution_count": 23,
      "outputs": [
        {
          "output_type": "execute_result",
          "data": {
            "text/plain": [
              "<matplotlib.axes._subplots.AxesSubplot at 0x7f036e360d30>"
            ]
          },
          "metadata": {},
          "execution_count": 23
        },
        {
          "output_type": "display_data",
          "data": {
            "text/plain": [
              "<Figure size 432x288 with 1 Axes>"
            ],
            "image/png": "[encoded data removed]"
          },
          "metadata": {
            "needs_background": "light"
          }
        }
      ]
    },
    {
      "cell_type": "markdown",
      "source": [
        "Судя по графику очень много неточных данных, высота потолков никак не может быть меньше 2.5 м и больше 3.4 м, поэтому напишем функцию и заменим значения. Если ниже 2.5м заменим на 2.5 если больше 3.4м то заменим на 75% квантиль "
      ],
      "metadata": {
        "id": "hdWPFMY9xq0m"
      }
    },
    {
      "cell_type": "code",
      "source": [
        "q = estate['ceiling_height'].quantile(0.75)"
      ],
      "metadata": {
        "id": "zJf2p7nMvuuB"
      },
      "execution_count": 24,
      "outputs": []
    },
    {
      "cell_type": "code",
      "source": [
        "def repl(x):\n",
        "  if x > 3.4:\n",
        "    x = q\n",
        "  elif x < 2.5:\n",
        "    x = 2.5 \n",
        "  return x  "
      ],
      "metadata": {
        "id": "RczGJgBlvOoR"
      },
      "execution_count": 25,
      "outputs": []
    },
    {
      "cell_type": "code",
      "source": [
        "estate['ceiling_height'] = estate['ceiling_height'].apply(repl) "
      ],
      "metadata": {
        "id": "-Oihd6Lcosvh"
      },
      "execution_count": 26,
      "outputs": []
    },
    {
      "cell_type": "code",
      "source": [
        "estate['ceiling_height'].plot(kind='box')"
      ],
      "metadata": {
        "colab": {
          "base_uri": "https://localhost:8080/",
          "height": 283
        },
        "id": "GHIupEEpp8Zx",
        "outputId": "249cc9ac-8046-44e5-8dbd-fb282753c9dd"
      },
      "execution_count": 27,
      "outputs": [
        {
          "output_type": "execute_result",
          "data": {
            "text/plain": [
              "<matplotlib.axes._subplots.AxesSubplot at 0x7f036dc99e20>"
            ]
          },
          "metadata": {},
          "execution_count": 27
        },
        {
          "output_type": "display_data",
          "data": {
            "text/plain": [
              "<Figure size 432x288 with 1 Axes>"
            ],
            "image/png": "[encoded data removed]"
          },
          "metadata": {
            "needs_background": "light"
          }
        }
      ]
    },
    {
      "cell_type": "markdown",
      "source": [
        "Так же в признаке много пустых значений, заменим их на медиану"
      ],
      "metadata": {
        "id": "bHFYVWucykWI"
      }
    },
    {
      "cell_type": "code",
      "source": [
        "estate['ceiling_height'] = estate['ceiling_height'].fillna(estate['ceiling_height'].median())"
      ],
      "metadata": {
        "id": "CmJ2pWUeyrdR"
      },
      "execution_count": 28,
      "outputs": []
    },
    {
      "cell_type": "code",
      "source": [
        "estate['ceiling_height'].plot(kind='box')"
      ],
      "metadata": {
        "colab": {
          "base_uri": "https://localhost:8080/",
          "height": 283
        },
        "id": "DTUpHL6C0AyZ",
        "outputId": "a069a2cf-7515-4db0-ea6f-748100116545"
      },
      "execution_count": 29,
      "outputs": [
        {
          "output_type": "execute_result",
          "data": {
            "text/plain": [
              "<matplotlib.axes._subplots.AxesSubplot at 0x7f036dbb2f40>"
            ]
          },
          "metadata": {},
          "execution_count": 29
        },
        {
          "output_type": "display_data",
          "data": {
            "text/plain": [
              "<Figure size 432x288 with 1 Axes>"
            ],
            "image/png": "[encoded data removed]"
          },
          "metadata": {
            "needs_background": "light"
          }
        }
      ]
    },
    {
      "cell_type": "code",
      "source": [
        "estate['floors_total'].plot(kind='box')"
      ],
      "metadata": {
        "colab": {
          "base_uri": "https://localhost:8080/",
          "height": 283
        },
        "id": "MI6MKecE0tuK",
        "outputId": "746a7dc4-4450-4d33-8934-befa820507d8"
      },
      "execution_count": 30,
      "outputs": [
        {
          "output_type": "execute_result",
          "data": {
            "text/plain": [
              "<matplotlib.axes._subplots.AxesSubplot at 0x7f036db81520>"
            ]
          },
          "metadata": {},
          "execution_count": 30
        },
        {
          "output_type": "display_data",
          "data": {
            "text/plain": [
              "<Figure size 432x288 with 1 Axes>"
            ],
            "image/png": "[encoded data removed]"
          },
          "metadata": {
            "needs_background": "light"
          }
        }
      ]
    },
    {
      "cell_type": "markdown",
      "source": [
        "Высота в 52 этажа вполне реальна, поэтому будем считать, что выбросов нет.\n",
        "\n",
        "Так как в признаке floor у нас пропусков нет , то будем считать что в отсутствующих значениях floors_total ровняется floor "
      ],
      "metadata": {
        "id": "h_Rnj2IW0-lf"
      }
    },
    {
      "cell_type": "code",
      "source": [
        "estate.loc[estate['floors_total'].isna(),'floors_total'] = estate['floor']"
      ],
      "metadata": {
        "id": "Q4LixXcf1Qd3"
      },
      "execution_count": 31,
      "outputs": []
    },
    {
      "cell_type": "code",
      "source": [
        "estate['living_area'].plot(kind='box')"
      ],
      "metadata": {
        "colab": {
          "base_uri": "https://localhost:8080/",
          "height": 283
        },
        "id": "06UUx6gK3Xnc",
        "outputId": "463c1a7d-cb57-4072-996b-e2d1fca7885c"
      },
      "execution_count": 32,
      "outputs": [
        {
          "output_type": "execute_result",
          "data": {
            "text/plain": [
              "<matplotlib.axes._subplots.AxesSubplot at 0x7f036db83d00>"
            ]
          },
          "metadata": {},
          "execution_count": 32
        },
        {
          "output_type": "display_data",
          "data": {
            "text/plain": [
              "<Figure size 432x288 with 1 Axes>"
            ],
            "image/png": "[encoded data removed]"
          },
          "metadata": {
            "needs_background": "light"
          }
        }
      ]
    },
    {
      "cell_type": "markdown",
      "source": [
        "Жилая площадь в 400 кв.м. вполне может быть, поэтому не будем считать большую площадь выбросами, но на всякий случай сравним с общей площадью"
      ],
      "metadata": {
        "id": "6yhfTa0Z3oNj"
      }
    },
    {
      "cell_type": "code",
      "source": [
        "estate[estate['living_area']>300]"
      ],
      "metadata": {
        "colab": {
          "base_uri": "https://localhost:8080/",
          "height": 406
        },
        "id": "f45Nu7Gp4JqB",
        "outputId": "a5942a1e-d33d-44de-9275-2ec2680a108f"
      },
      "execution_count": 33,
      "outputs": [
        {
          "output_type": "execute_result",
          "data": {
            "text/plain": [
              "        last_price  total_area  rooms  ceiling_height  floors_total  \\\n",
              "660     49950000.0       483.9      7            3.20           6.0   \n",
              "4237    50000000.0       517.0      7            2.70           4.0   \n",
              "5358    65000000.0       590.0     15            2.87           6.0   \n",
              "8018    84000000.0       507.0      5            2.87           7.0   \n",
              "12401   91500000.0       495.0      7            2.87           7.0   \n",
              "12859  140000000.0       631.2      7            2.87           4.0   \n",
              "\n",
              "       living_area  floor is_apartment  studio  open_plan  kitchen_area  \\\n",
              "660          312.5      4          NaN   False      False          26.4   \n",
              "4237         332.0      3          NaN   False      False          22.0   \n",
              "5358         409.0      3          NaN   False      False         100.0   \n",
              "8018         301.5      7         True   False      False          45.5   \n",
              "12401        347.5      7          NaN   False      False          25.0   \n",
              "12859        322.3      4          NaN   False      False          19.5   \n",
              "\n",
              "       balcony    locality_name  airports_nearest  cityCenters_nearest  \\\n",
              "660        NaN  Санкт-Петербург           23079.0                945.0   \n",
              "4237       NaN  Санкт-Петербург           22835.0               1847.0   \n",
              "5358       NaN  Санкт-Петербург           24447.0               4666.0   \n",
              "8018       1.0  Санкт-Петербург               NaN               5735.0   \n",
              "12401      0.0  Санкт-Петербург               NaN               5735.0   \n",
              "12859      1.0  Санкт-Петербург           25707.0               4972.0   \n",
              "\n",
              "       parks_nearest  ponds_nearest  days_exposition  month_exposition  \\\n",
              "660            461.0           22.0            391.0                10   \n",
              "4237           477.0          540.0              NaN                10   \n",
              "5358           767.0            NaN             14.0                 2   \n",
              "8018           110.0            NaN           1078.0                12   \n",
              "12401          110.0            NaN             14.0                 6   \n",
              "12859            NaN          210.0              NaN                 4   \n",
              "\n",
              "       year_exposition  \n",
              "660               2017  \n",
              "4237              2017  \n",
              "5358              2019  \n",
              "8018              2015  \n",
              "12401             2017  \n",
              "12859             2019  "
            ],
            "text/html": [
              "\n",
              "  <div id=\"df-4f6493a1-16c1-4e3e-b0c7-da99925f3b8d\">\n",
              "    <div class=\"colab-df-container\">\n",
              "      <div>\n",
              "<style scoped>\n",
              "    .dataframe tbody tr th:only-of-type {\n",
              "        vertical-align: middle;\n",
              "    }\n",
              "\n",
              "    .dataframe tbody tr th {\n",
              "        vertical-align: top;\n",
              "    }\n",
              "\n",
              "    .dataframe thead th {\n",
              "        text-align: right;\n",
              "    }\n",
              "</style>\n",
              "<table border=\"1\" class=\"dataframe\">\n",
              "  <thead>\n",
              "    <tr style=\"text-align: right;\">\n",
              "      <th></th>\n",
              "      <th>last_price</th>\n",
              "      <th>total_area</th>\n",
              "      <th>rooms</th>\n",
              "      <th>ceiling_height</th>\n",
              "      <th>floors_total</th>\n",
              "      <th>living_area</th>\n",
              "      <th>floor</th>\n",
              "      <th>is_apartment</th>\n",
              "      <th>studio</th>\n",
              "      <th>open_plan</th>\n",
              "      <th>kitchen_area</th>\n",
              "      <th>balcony</th>\n",
              "      <th>locality_name</th>\n",
              "      <th>airports_nearest</th>\n",
              "      <th>cityCenters_nearest</th>\n",
              "      <th>parks_nearest</th>\n",
              "      <th>ponds_nearest</th>\n",
              "      <th>days_exposition</th>\n",
              "      <th>month_exposition</th>\n",
              "      <th>year_exposition</th>\n",
              "    </tr>\n",
              "  </thead>\n",
              "  <tbody>\n",
              "    <tr>\n",
              "      <th>660</th>\n",
              "      <td>49950000.0</td>\n",
              "      <td>483.9</td>\n",
              "      <td>7</td>\n",
              "      <td>3.20</td>\n",
              "      <td>6.0</td>\n",
              "      <td>312.5</td>\n",
              "      <td>4</td>\n",
              "      <td>NaN</td>\n",
              "      <td>False</td>\n",
              "      <td>False</td>\n",
              "      <td>26.4</td>\n",
              "      <td>NaN</td>\n",
              "      <td>Санкт-Петербург</td>\n",
              "      <td>23079.0</td>\n",
              "      <td>945.0</td>\n",
              "      <td>461.0</td>\n",
              "      <td>22.0</td>\n",
              "      <td>391.0</td>\n",
              "      <td>10</td>\n",
              "      <td>2017</td>\n",
              "    </tr>\n",
              "    <tr>\n",
              "      <th>4237</th>\n",
              "      <td>50000000.0</td>\n",
              "      <td>517.0</td>\n",
              "      <td>7</td>\n",
              "      <td>2.70</td>\n",
              "      <td>4.0</td>\n",
              "      <td>332.0</td>\n",
              "      <td>3</td>\n",
              "      <td>NaN</td>\n",
              "      <td>False</td>\n",
              "      <td>False</td>\n",
              "      <td>22.0</td>\n",
              "      <td>NaN</td>\n",
              "      <td>Санкт-Петербург</td>\n",
              "      <td>22835.0</td>\n",
              "      <td>1847.0</td>\n",
              "      <td>477.0</td>\n",
              "      <td>540.0</td>\n",
              "      <td>NaN</td>\n",
              "      <td>10</td>\n",
              "      <td>2017</td>\n",
              "    </tr>\n",
              "    <tr>\n",
              "      <th>5358</th>\n",
              "      <td>65000000.0</td>\n",
              "      <td>590.0</td>\n",
              "      <td>15</td>\n",
              "      <td>2.87</td>\n",
              "      <td>6.0</td>\n",
              "      <td>409.0</td>\n",
              "      <td>3</td>\n",
              "      <td>NaN</td>\n",
              "      <td>False</td>\n",
              "      <td>False</td>\n",
              "      <td>100.0</td>\n",
              "      <td>NaN</td>\n",
              "      <td>Санкт-Петербург</td>\n",
              "      <td>24447.0</td>\n",
              "      <td>4666.0</td>\n",
              "      <td>767.0</td>\n",
              "      <td>NaN</td>\n",
              "      <td>14.0</td>\n",
              "      <td>2</td>\n",
              "      <td>2019</td>\n",
              "    </tr>\n",
              "    <tr>\n",
              "      <th>8018</th>\n",
              "      <td>84000000.0</td>\n",
              "      <td>507.0</td>\n",
              "      <td>5</td>\n",
              "      <td>2.87</td>\n",
              "      <td>7.0</td>\n",
              "      <td>301.5</td>\n",
              "      <td>7</td>\n",
              "      <td>True</td>\n",
              "      <td>False</td>\n",
              "      <td>False</td>\n",
              "      <td>45.5</td>\n",
              "      <td>1.0</td>\n",
              "      <td>Санкт-Петербург</td>\n",
              "      <td>NaN</td>\n",
              "      <td>5735.0</td>\n",
              "      <td>110.0</td>\n",
              "      <td>NaN</td>\n",
              "      <td>1078.0</td>\n",
              "      <td>12</td>\n",
              "      <td>2015</td>\n",
              "    </tr>\n",
              "    <tr>\n",
              "      <th>12401</th>\n",
              "      <td>91500000.0</td>\n",
              "      <td>495.0</td>\n",
              "      <td>7</td>\n",
              "      <td>2.87</td>\n",
              "      <td>7.0</td>\n",
              "      <td>347.5</td>\n",
              "      <td>7</td>\n",
              "      <td>NaN</td>\n",
              "      <td>False</td>\n",
              "      <td>False</td>\n",
              "      <td>25.0</td>\n",
              "      <td>0.0</td>\n",
              "      <td>Санкт-Петербург</td>\n",
              "      <td>NaN</td>\n",
              "      <td>5735.0</td>\n",
              "      <td>110.0</td>\n",
              "      <td>NaN</td>\n",
              "      <td>14.0</td>\n",
              "      <td>6</td>\n",
              "      <td>2017</td>\n",
              "    </tr>\n",
              "    <tr>\n",
              "      <th>12859</th>\n",
              "      <td>140000000.0</td>\n",
              "      <td>631.2</td>\n",
              "      <td>7</td>\n",
              "      <td>2.87</td>\n",
              "      <td>4.0</td>\n",
              "      <td>322.3</td>\n",
              "      <td>4</td>\n",
              "      <td>NaN</td>\n",
              "      <td>False</td>\n",
              "      <td>False</td>\n",
              "      <td>19.5</td>\n",
              "      <td>1.0</td>\n",
              "      <td>Санкт-Петербург</td>\n",
              "      <td>25707.0</td>\n",
              "      <td>4972.0</td>\n",
              "      <td>NaN</td>\n",
              "      <td>210.0</td>\n",
              "      <td>NaN</td>\n",
              "      <td>4</td>\n",
              "      <td>2019</td>\n",
              "    </tr>\n",
              "  </tbody>\n",
              "</table>\n",
              "</div>\n",
              "      <button class=\"colab-df-convert\" onclick=\"convertToInteractive('df-4f6493a1-16c1-4e3e-b0c7-da99925f3b8d')\"\n",
              "              title=\"Convert this dataframe to an interactive table.\"\n",
              "              style=\"display:none;\">\n",
              "        \n",
              "  <svg xmlns=\"http://www.w3.org/2000/svg\" height=\"24px\"viewBox=\"0 0 24 24\"\n",
              "       width=\"24px\">\n",
              "    <path d=\"M0 0h24v24H0V0z\" fill=\"none\"/>\n",
              "    <path d=\"M18.56 5.44l.94 2.06.94-2.06 2.06-.94-2.06-.94-.94-2.06-.94 2.06-2.06.94zm-11 1L8.5 8.5l.94-2.06 2.06-.94-2.06-.94L8.5 2.5l-.94 2.06-2.06.94zm10 10l.94 2.06.94-2.06 2.06-.94-2.06-.94-.94-2.06-.94 2.06-2.06.94z\"/><path d=\"M17.41 7.96l-1.37-1.37c-.4-.4-.92-.59-1.43-.59-.52 0-1.04.2-1.43.59L10.3 9.45l-7.72 7.72c-.78.78-.78 2.05 0 2.83L4 21.41c.39.39.9.59 1.41.59.51 0 1.02-.2 1.41-.59l7.78-7.78 2.81-2.81c.8-.78.8-2.07 0-2.86zM5.41 20L4 18.59l7.72-7.72 1.47 1.35L5.41 20z\"/>\n",
              "  </svg>\n",
              "      </button>\n",
              "      \n",
              "  <style>\n",
              "    .colab-df-container {\n",
              "      display:flex;\n",
              "      flex-wrap:wrap;\n",
              "      gap: 12px;\n",
              "    }\n",
              "\n",
              "    .colab-df-convert {\n",
              "      background-color: #E8F0FE;\n",
              "      border: none;\n",
              "      border-radius: 50%;\n",
              "      cursor: pointer;\n",
              "      display: none;\n",
              "      fill: #1967D2;\n",
              "      height: 32px;\n",
              "      padding: 0 0 0 0;\n",
              "      width: 32px;\n",
              "    }\n",
              "\n",
              "    .colab-df-convert:hover {\n",
              "      background-color: #E2EBFA;\n",
              "      box-shadow: 0px 1px 2px rgba(60, 64, 67, 0.3), 0px 1px 3px 1px rgba(60, 64, 67, 0.15);\n",
              "      fill: #174EA6;\n",
              "    }\n",
              "\n",
              "    [theme=dark] .colab-df-convert {\n",
              "      background-color: #3B4455;\n",
              "      fill: #D2E3FC;\n",
              "    }\n",
              "\n",
              "    [theme=dark] .colab-df-convert:hover {\n",
              "      background-color: #434B5C;\n",
              "      box-shadow: 0px 1px 3px 1px rgba(0, 0, 0, 0.15);\n",
              "      filter: drop-shadow(0px 1px 2px rgba(0, 0, 0, 0.3));\n",
              "      fill: #FFFFFF;\n",
              "    }\n",
              "  </style>\n",
              "\n",
              "      <script>\n",
              "        const buttonEl =\n",
              "          document.querySelector('#df-4f6493a1-16c1-4e3e-b0c7-da99925f3b8d button.colab-df-convert');\n",
              "        buttonEl.style.display =\n",
              "          google.colab.kernel.accessAllowed ? 'block' : 'none';\n",
              "\n",
              "        async function convertToInteractive(key) {\n",
              "          const element = document.querySelector('#df-4f6493a1-16c1-4e3e-b0c7-da99925f3b8d');\n",
              "          const dataTable =\n",
              "            await google.colab.kernel.invokeFunction('convertToInteractive',\n",
              "                                                     [key], {});\n",
              "          if (!dataTable) return;\n",
              "\n",
              "          const docLinkHtml = 'Like what you see? Visit the ' +\n",
              "            '<a target=\"_blank\" href=https://colab.research.google.com/notebooks/data_table.ipynb>data table notebook</a>'\n",
              "            + ' to learn more about interactive tables.';\n",
              "          element.innerHTML = '';\n",
              "          dataTable['output_type'] = 'display_data';\n",
              "          await google.colab.output.renderOutput(dataTable, element);\n",
              "          const docLink = document.createElement('div');\n",
              "          docLink.innerHTML = docLinkHtml;\n",
              "          element.appendChild(docLink);\n",
              "        }\n",
              "      </script>\n",
              "    </div>\n",
              "  </div>\n",
              "  "
            ]
          },
          "metadata": {},
          "execution_count": 33
        }
      ]
    },
    {
      "cell_type": "markdown",
      "source": [
        "С минимальным значением не понятно , минимальный размер комнаты в общежитиии 6 кв.м. посмотрим, какие объекты меньше этого значения"
      ],
      "metadata": {
        "id": "QZvCyyqk4-dS"
      }
    },
    {
      "cell_type": "code",
      "source": [
        "estate[estate['living_area']<6]"
      ],
      "metadata": {
        "colab": {
          "base_uri": "https://localhost:8080/",
          "height": 357
        },
        "id": "Cc3gCkgq5PEl",
        "outputId": "2b34883b-9eff-44ef-9f5c-045b7360763a"
      },
      "execution_count": 34,
      "outputs": [
        {
          "output_type": "execute_result",
          "data": {
            "text/plain": [
              "       last_price  total_area  rooms  ceiling_height  floors_total  \\\n",
              "3242    4440000.0        41.0      1             2.7          17.0   \n",
              "13915   6350000.0        52.0      2             3.0           6.0   \n",
              "17582   2680000.0        22.0      0             2.7          25.0   \n",
              "21943   6100000.0        77.6      4             2.5           9.0   \n",
              "23574  64990000.0       139.0      3             3.0           8.0   \n",
              "\n",
              "       living_area  floor is_apartment  studio  open_plan  kitchen_area  \\\n",
              "3242           3.0     17          NaN   False      False          11.0   \n",
              "13915          2.0      2          NaN   False      False           9.0   \n",
              "17582          5.0      8          NaN    True      False           NaN   \n",
              "21943          5.4      1          NaN   False      False           9.8   \n",
              "23574          3.0      8          NaN   False      False          16.0   \n",
              "\n",
              "       balcony    locality_name  airports_nearest  cityCenters_nearest  \\\n",
              "3242       NaN  Санкт-Петербург           19272.0              13073.0   \n",
              "13915      NaN  Санкт-Петербург           32453.0               6521.0   \n",
              "17582      2.0  Санкт-Петербург           22735.0              11618.0   \n",
              "21943      NaN  Санкт-Петербург           29338.0              11270.0   \n",
              "23574      1.0  Санкт-Петербург           33255.0               5975.0   \n",
              "\n",
              "       parks_nearest  ponds_nearest  days_exposition  month_exposition  \\\n",
              "3242             NaN            NaN            216.0                 7   \n",
              "13915            NaN         1012.0             91.0                 2   \n",
              "17582          835.0          652.0             70.0                 8   \n",
              "21943          584.0            NaN             33.0                 2   \n",
              "23574          630.0          100.0            280.0                11   \n",
              "\n",
              "       year_exposition  \n",
              "3242              2017  \n",
              "13915             2018  \n",
              "17582             2018  \n",
              "21943             2019  \n",
              "23574             2015  "
            ],
            "text/html": [
              "\n",
              "  <div id=\"df-4bb4ed17-c23d-4c18-b12b-ccc70e6aaede\">\n",
              "    <div class=\"colab-df-container\">\n",
              "      <div>\n",
              "<style scoped>\n",
              "    .dataframe tbody tr th:only-of-type {\n",
              "        vertical-align: middle;\n",
              "    }\n",
              "\n",
              "    .dataframe tbody tr th {\n",
              "        vertical-align: top;\n",
              "    }\n",
              "\n",
              "    .dataframe thead th {\n",
              "        text-align: right;\n",
              "    }\n",
              "</style>\n",
              "<table border=\"1\" class=\"dataframe\">\n",
              "  <thead>\n",
              "    <tr style=\"text-align: right;\">\n",
              "      <th></th>\n",
              "      <th>last_price</th>\n",
              "      <th>total_area</th>\n",
              "      <th>rooms</th>\n",
              "      <th>ceiling_height</th>\n",
              "      <th>floors_total</th>\n",
              "      <th>living_area</th>\n",
              "      <th>floor</th>\n",
              "      <th>is_apartment</th>\n",
              "      <th>studio</th>\n",
              "      <th>open_plan</th>\n",
              "      <th>kitchen_area</th>\n",
              "      <th>balcony</th>\n",
              "      <th>locality_name</th>\n",
              "      <th>airports_nearest</th>\n",
              "      <th>cityCenters_nearest</th>\n",
              "      <th>parks_nearest</th>\n",
              "      <th>ponds_nearest</th>\n",
              "      <th>days_exposition</th>\n",
              "      <th>month_exposition</th>\n",
              "      <th>year_exposition</th>\n",
              "    </tr>\n",
              "  </thead>\n",
              "  <tbody>\n",
              "    <tr>\n",
              "      <th>3242</th>\n",
              "      <td>4440000.0</td>\n",
              "      <td>41.0</td>\n",
              "      <td>1</td>\n",
              "      <td>2.7</td>\n",
              "      <td>17.0</td>\n",
              "      <td>3.0</td>\n",
              "      <td>17</td>\n",
              "      <td>NaN</td>\n",
              "      <td>False</td>\n",
              "      <td>False</td>\n",
              "      <td>11.0</td>\n",
              "      <td>NaN</td>\n",
              "      <td>Санкт-Петербург</td>\n",
              "      <td>19272.0</td>\n",
              "      <td>13073.0</td>\n",
              "      <td>NaN</td>\n",
              "      <td>NaN</td>\n",
              "      <td>216.0</td>\n",
              "      <td>7</td>\n",
              "      <td>2017</td>\n",
              "    </tr>\n",
              "    <tr>\n",
              "      <th>13915</th>\n",
              "      <td>6350000.0</td>\n",
              "      <td>52.0</td>\n",
              "      <td>2</td>\n",
              "      <td>3.0</td>\n",
              "      <td>6.0</td>\n",
              "      <td>2.0</td>\n",
              "      <td>2</td>\n",
              "      <td>NaN</td>\n",
              "      <td>False</td>\n",
              "      <td>False</td>\n",
              "      <td>9.0</td>\n",
              "      <td>NaN</td>\n",
              "      <td>Санкт-Петербург</td>\n",
              "      <td>32453.0</td>\n",
              "      <td>6521.0</td>\n",
              "      <td>NaN</td>\n",
              "      <td>1012.0</td>\n",
              "      <td>91.0</td>\n",
              "      <td>2</td>\n",
              "      <td>2018</td>\n",
              "    </tr>\n",
              "    <tr>\n",
              "      <th>17582</th>\n",
              "      <td>2680000.0</td>\n",
              "      <td>22.0</td>\n",
              "      <td>0</td>\n",
              "      <td>2.7</td>\n",
              "      <td>25.0</td>\n",
              "      <td>5.0</td>\n",
              "      <td>8</td>\n",
              "      <td>NaN</td>\n",
              "      <td>True</td>\n",
              "      <td>False</td>\n",
              "      <td>NaN</td>\n",
              "      <td>2.0</td>\n",
              "      <td>Санкт-Петербург</td>\n",
              "      <td>22735.0</td>\n",
              "      <td>11618.0</td>\n",
              "      <td>835.0</td>\n",
              "      <td>652.0</td>\n",
              "      <td>70.0</td>\n",
              "      <td>8</td>\n",
              "      <td>2018</td>\n",
              "    </tr>\n",
              "    <tr>\n",
              "      <th>21943</th>\n",
              "      <td>6100000.0</td>\n",
              "      <td>77.6</td>\n",
              "      <td>4</td>\n",
              "      <td>2.5</td>\n",
              "      <td>9.0</td>\n",
              "      <td>5.4</td>\n",
              "      <td>1</td>\n",
              "      <td>NaN</td>\n",
              "      <td>False</td>\n",
              "      <td>False</td>\n",
              "      <td>9.8</td>\n",
              "      <td>NaN</td>\n",
              "      <td>Санкт-Петербург</td>\n",
              "      <td>29338.0</td>\n",
              "      <td>11270.0</td>\n",
              "      <td>584.0</td>\n",
              "      <td>NaN</td>\n",
              "      <td>33.0</td>\n",
              "      <td>2</td>\n",
              "      <td>2019</td>\n",
              "    </tr>\n",
              "    <tr>\n",
              "      <th>23574</th>\n",
              "      <td>64990000.0</td>\n",
              "      <td>139.0</td>\n",
              "      <td>3</td>\n",
              "      <td>3.0</td>\n",
              "      <td>8.0</td>\n",
              "      <td>3.0</td>\n",
              "      <td>8</td>\n",
              "      <td>NaN</td>\n",
              "      <td>False</td>\n",
              "      <td>False</td>\n",
              "      <td>16.0</td>\n",
              "      <td>1.0</td>\n",
              "      <td>Санкт-Петербург</td>\n",
              "      <td>33255.0</td>\n",
              "      <td>5975.0</td>\n",
              "      <td>630.0</td>\n",
              "      <td>100.0</td>\n",
              "      <td>280.0</td>\n",
              "      <td>11</td>\n",
              "      <td>2015</td>\n",
              "    </tr>\n",
              "  </tbody>\n",
              "</table>\n",
              "</div>\n",
              "      <button class=\"colab-df-convert\" onclick=\"convertToInteractive('df-4bb4ed17-c23d-4c18-b12b-ccc70e6aaede')\"\n",
              "              title=\"Convert this dataframe to an interactive table.\"\n",
              "              style=\"display:none;\">\n",
              "        \n",
              "  <svg xmlns=\"http://www.w3.org/2000/svg\" height=\"24px\"viewBox=\"0 0 24 24\"\n",
              "       width=\"24px\">\n",
              "    <path d=\"M0 0h24v24H0V0z\" fill=\"none\"/>\n",
              "    <path d=\"M18.56 5.44l.94 2.06.94-2.06 2.06-.94-2.06-.94-.94-2.06-.94 2.06-2.06.94zm-11 1L8.5 8.5l.94-2.06 2.06-.94-2.06-.94L8.5 2.5l-.94 2.06-2.06.94zm10 10l.94 2.06.94-2.06 2.06-.94-2.06-.94-.94-2.06-.94 2.06-2.06.94z\"/><path d=\"M17.41 7.96l-1.37-1.37c-.4-.4-.92-.59-1.43-.59-.52 0-1.04.2-1.43.59L10.3 9.45l-7.72 7.72c-.78.78-.78 2.05 0 2.83L4 21.41c.39.39.9.59 1.41.59.51 0 1.02-.2 1.41-.59l7.78-7.78 2.81-2.81c.8-.78.8-2.07 0-2.86zM5.41 20L4 18.59l7.72-7.72 1.47 1.35L5.41 20z\"/>\n",
              "  </svg>\n",
              "      </button>\n",
              "      \n",
              "  <style>\n",
              "    .colab-df-container {\n",
              "      display:flex;\n",
              "      flex-wrap:wrap;\n",
              "      gap: 12px;\n",
              "    }\n",
              "\n",
              "    .colab-df-convert {\n",
              "      background-color: #E8F0FE;\n",
              "      border: none;\n",
              "      border-radius: 50%;\n",
              "      cursor: pointer;\n",
              "      display: none;\n",
              "      fill: #1967D2;\n",
              "      height: 32px;\n",
              "      padding: 0 0 0 0;\n",
              "      width: 32px;\n",
              "    }\n",
              "\n",
              "    .colab-df-convert:hover {\n",
              "      background-color: #E2EBFA;\n",
              "      box-shadow: 0px 1px 2px rgba(60, 64, 67, 0.3), 0px 1px 3px 1px rgba(60, 64, 67, 0.15);\n",
              "      fill: #174EA6;\n",
              "    }\n",
              "\n",
              "    [theme=dark] .colab-df-convert {\n",
              "      background-color: #3B4455;\n",
              "      fill: #D2E3FC;\n",
              "    }\n",
              "\n",
              "    [theme=dark] .colab-df-convert:hover {\n",
              "      background-color: #434B5C;\n",
              "      box-shadow: 0px 1px 3px 1px rgba(0, 0, 0, 0.15);\n",
              "      filter: drop-shadow(0px 1px 2px rgba(0, 0, 0, 0.3));\n",
              "      fill: #FFFFFF;\n",
              "    }\n",
              "  </style>\n",
              "\n",
              "      <script>\n",
              "        const buttonEl =\n",
              "          document.querySelector('#df-4bb4ed17-c23d-4c18-b12b-ccc70e6aaede button.colab-df-convert');\n",
              "        buttonEl.style.display =\n",
              "          google.colab.kernel.accessAllowed ? 'block' : 'none';\n",
              "\n",
              "        async function convertToInteractive(key) {\n",
              "          const element = document.querySelector('#df-4bb4ed17-c23d-4c18-b12b-ccc70e6aaede');\n",
              "          const dataTable =\n",
              "            await google.colab.kernel.invokeFunction('convertToInteractive',\n",
              "                                                     [key], {});\n",
              "          if (!dataTable) return;\n",
              "\n",
              "          const docLinkHtml = 'Like what you see? Visit the ' +\n",
              "            '<a target=\"_blank\" href=https://colab.research.google.com/notebooks/data_table.ipynb>data table notebook</a>'\n",
              "            + ' to learn more about interactive tables.';\n",
              "          element.innerHTML = '';\n",
              "          dataTable['output_type'] = 'display_data';\n",
              "          await google.colab.output.renderOutput(dataTable, element);\n",
              "          const docLink = document.createElement('div');\n",
              "          docLink.innerHTML = docLinkHtml;\n",
              "          element.appendChild(docLink);\n",
              "        }\n",
              "      </script>\n",
              "    </div>\n",
              "  </div>\n",
              "  "
            ]
          },
          "metadata": {},
          "execution_count": 34
        }
      ]
    },
    {
      "cell_type": "markdown",
      "source": [
        "Можно предположить, что просто неверно поставили точку в цифре , но так как объектов мало , лучше их просто удалить"
      ],
      "metadata": {
        "id": "hPjjp-pl5k00"
      }
    },
    {
      "cell_type": "code",
      "source": [
        "estate = estate[estate['living_area']>6]"
      ],
      "metadata": {
        "id": "O0hdex8g56kQ"
      },
      "execution_count": 35,
      "outputs": []
    },
    {
      "cell_type": "code",
      "source": [
        "estate['floor'].plot(kind='box')"
      ],
      "metadata": {
        "colab": {
          "base_uri": "https://localhost:8080/",
          "height": 282
        },
        "id": "jgxLsi5f6UJF",
        "outputId": "995dc79c-5257-4a32-a2d2-becee870299f"
      },
      "execution_count": 36,
      "outputs": [
        {
          "output_type": "execute_result",
          "data": {
            "text/plain": [
              "<matplotlib.axes._subplots.AxesSubplot at 0x7f036dac8730>"
            ]
          },
          "metadata": {},
          "execution_count": 36
        },
        {
          "output_type": "display_data",
          "data": {
            "text/plain": [
              "<Figure size 432x288 with 1 Axes>"
            ],
            "image/png": "[encoded data removed]"
          },
          "metadata": {
            "needs_background": "light"
          }
        }
      ]
    },
    {
      "cell_type": "markdown",
      "source": [
        "В данном признаке выбросов и пропусков нет"
      ],
      "metadata": {
        "id": "pj3L16tj6byz"
      }
    },
    {
      "cell_type": "code",
      "source": [
        "estate['is_apartment'].value_counts()"
      ],
      "metadata": {
        "colab": {
          "base_uri": "https://localhost:8080/"
        },
        "id": "0HMdg_bo_zoj",
        "outputId": "497ccc8a-4a04-405b-f1b0-3a3d43a1f83c"
      },
      "execution_count": 37,
      "outputs": [
        {
          "output_type": "execute_result",
          "data": {
            "text/plain": [
              "False    1736\n",
              "True       33\n",
              "Name: is_apartment, dtype: int64"
            ]
          },
          "metadata": {},
          "execution_count": 37
        }
      ]
    },
    {
      "cell_type": "markdown",
      "source": [
        "Здесь вполне вероятно, что отсутствующие значения означают отрицание, поэтому заменим их на False"
      ],
      "metadata": {
        "id": "sQWR8xQJ60LS"
      }
    },
    {
      "cell_type": "code",
      "source": [
        "estate.loc[estate['is_apartment'].isna(),'is_apartment'] = False"
      ],
      "metadata": {
        "id": "mfD2rgwQXeVV"
      },
      "execution_count": 38,
      "outputs": []
    },
    {
      "cell_type": "code",
      "source": [
        "estate['is_apartment'].value_counts()"
      ],
      "metadata": {
        "colab": {
          "base_uri": "https://localhost:8080/"
        },
        "id": "FziU5SBAX1WT",
        "outputId": "9a9f4a6b-19cd-44ae-82da-cac89a0d2c39"
      },
      "execution_count": 39,
      "outputs": [
        {
          "output_type": "execute_result",
          "data": {
            "text/plain": [
              "False    14540\n",
              "True        33\n",
              "Name: is_apartment, dtype: int64"
            ]
          },
          "metadata": {},
          "execution_count": 39
        }
      ]
    },
    {
      "cell_type": "markdown",
      "source": [
        "И сразу сделаем бинарное кодирование данного признака для обучения модели и то же самое сделаем со следующими двумя, так как пропущенных значений нет"
      ],
      "metadata": {
        "id": "n2sYbUDY7Rco"
      }
    },
    {
      "cell_type": "code",
      "source": [
        "le = LabelEncoder()\n",
        "estate['is_apartment'] = le.fit_transform(estate['is_apartment'])\n",
        "estate['studio'] = le.fit_transform(estate['studio'])\n",
        "estate['open_plan'] = le.fit_transform(estate['open_plan'])"
      ],
      "metadata": {
        "id": "wrqkXz6b76j7"
      },
      "execution_count": 40,
      "outputs": []
    },
    {
      "cell_type": "code",
      "source": [
        "estate['is_apartment'].value_counts()"
      ],
      "metadata": {
        "colab": {
          "base_uri": "https://localhost:8080/"
        },
        "id": "ffZ08Ri8EeWJ",
        "outputId": "6d8e0d95-8205-4de3-dc28-515b3626d1f9"
      },
      "execution_count": 41,
      "outputs": [
        {
          "output_type": "execute_result",
          "data": {
            "text/plain": [
              "0    14540\n",
              "1       33\n",
              "Name: is_apartment, dtype: int64"
            ]
          },
          "metadata": {},
          "execution_count": 41
        }
      ]
    },
    {
      "cell_type": "code",
      "source": [
        "estate['studio'].value_counts()"
      ],
      "metadata": {
        "colab": {
          "base_uri": "https://localhost:8080/"
        },
        "id": "4GxbzyZnLff9",
        "outputId": "819044eb-4c1f-40a9-baa6-8a14d4d5e555"
      },
      "execution_count": 42,
      "outputs": [
        {
          "output_type": "execute_result",
          "data": {
            "text/plain": [
              "0    14492\n",
              "1       81\n",
              "Name: studio, dtype: int64"
            ]
          },
          "metadata": {},
          "execution_count": 42
        }
      ]
    },
    {
      "cell_type": "code",
      "source": [
        "estate['open_plan'].value_counts()"
      ],
      "metadata": {
        "colab": {
          "base_uri": "https://localhost:8080/"
        },
        "id": "cyCAE4evLiFU",
        "outputId": "d2fa384b-b8bf-4f80-efa3-6a4fb778291f"
      },
      "execution_count": 43,
      "outputs": [
        {
          "output_type": "execute_result",
          "data": {
            "text/plain": [
              "0    14544\n",
              "1       29\n",
              "Name: open_plan, dtype: int64"
            ]
          },
          "metadata": {},
          "execution_count": 43
        }
      ]
    },
    {
      "cell_type": "code",
      "source": [
        "estate['kitchen_area'].plot(kind='box')"
      ],
      "metadata": {
        "colab": {
          "base_uri": "https://localhost:8080/",
          "height": 283
        },
        "id": "_eB7abX2OGsP",
        "outputId": "8e146782-504f-40c4-f6b1-15611e440616"
      },
      "execution_count": 44,
      "outputs": [
        {
          "output_type": "execute_result",
          "data": {
            "text/plain": [
              "<matplotlib.axes._subplots.AxesSubplot at 0x7f036da2f820>"
            ]
          },
          "metadata": {},
          "execution_count": 44
        },
        {
          "output_type": "display_data",
          "data": {
            "text/plain": [
              "<Figure size 432x288 with 1 Axes>"
            ],
            "image/png": "[encoded data removed]"
          },
          "metadata": {
            "needs_background": "light"
          }
        }
      ]
    },
    {
      "cell_type": "markdown",
      "source": [
        "Довольно большая кухня с планировкой типа остров занимает 20 кв.м., но в то же время на рынке есть предложения объектов недвижимости с площадью кухни 35 кв.м. но их очень мало , а в нашем случае их достаточно большое количество. Считаю нужным преобразовать значения с площадью более 35 к значению 35 и заполним пропущенные значения медианой"
      ],
      "metadata": {
        "id": "0HyqTnUHQ6Zt"
      }
    },
    {
      "cell_type": "code",
      "source": [
        "estate.loc[estate['kitchen_area']>35,'kitchen_area'] = 35"
      ],
      "metadata": {
        "id": "TeKGAWYJRMfx"
      },
      "execution_count": 45,
      "outputs": []
    },
    {
      "cell_type": "code",
      "source": [
        "estate['kitchen_area'] = estate['kitchen_area'].fillna(estate['kitchen_area'].median())"
      ],
      "metadata": {
        "id": "8NkF54BRa1yD"
      },
      "execution_count": 46,
      "outputs": []
    },
    {
      "cell_type": "code",
      "source": [
        "estate['balcony'].plot(kind='box')"
      ],
      "metadata": {
        "colab": {
          "base_uri": "https://localhost:8080/",
          "height": 282
        },
        "id": "5GkdD6ibbGC1",
        "outputId": "efe99225-af9d-43f4-8ecb-d5704b6bc24a"
      },
      "execution_count": 47,
      "outputs": [
        {
          "output_type": "execute_result",
          "data": {
            "text/plain": [
              "<matplotlib.axes._subplots.AxesSubplot at 0x7f036da0d340>"
            ]
          },
          "metadata": {},
          "execution_count": 47
        },
        {
          "output_type": "display_data",
          "data": {
            "text/plain": [
              "<Figure size 432x288 with 1 Axes>"
            ],
            "image/png": "[encoded data removed]"
          },
          "metadata": {
            "needs_background": "light"
          }
        }
      ]
    },
    {
      "cell_type": "markdown",
      "source": [
        "5 балконов вполне может быть, например в частном доме, поэтому будем считать, что выбростов нет. Пропуски заполним нулями, так как скорее всего отсутствие данных о балконе говорит об отсутствии балкона"
      ],
      "metadata": {
        "id": "JBIvG8JWbPPO"
      }
    },
    {
      "cell_type": "code",
      "source": [
        "estate.loc[estate['balcony'].isna(),'balcony'] = 0"
      ],
      "metadata": {
        "id": "s9XXAcdbbnTh"
      },
      "execution_count": 48,
      "outputs": []
    },
    {
      "cell_type": "markdown",
      "source": [
        "Следующий признак мы удалим, так как рассматриваем недвижимость только по Санкт-Петербургу, а другие объекты мы отсортировали ранее"
      ],
      "metadata": {
        "id": "UTw-TqMZcCzM"
      }
    },
    {
      "cell_type": "code",
      "source": [
        "estate = estate.drop('locality_name', axis = 1)"
      ],
      "metadata": {
        "id": "SV4vd1bVb7S2"
      },
      "execution_count": 49,
      "outputs": []
    },
    {
      "cell_type": "code",
      "source": [
        "estate['airports_nearest'].plot(kind='box')"
      ],
      "metadata": {
        "colab": {
          "base_uri": "https://localhost:8080/",
          "height": 283
        },
        "id": "yA7gglUlcqPQ",
        "outputId": "b98df1db-c4e5-40ef-da63-065f272624ee"
      },
      "execution_count": 50,
      "outputs": [
        {
          "output_type": "execute_result",
          "data": {
            "text/plain": [
              "<matplotlib.axes._subplots.AxesSubplot at 0x7f036d957850>"
            ]
          },
          "metadata": {},
          "execution_count": 50
        },
        {
          "output_type": "display_data",
          "data": {
            "text/plain": [
              "<Figure size 432x288 with 1 Axes>"
            ],
            "image/png": "[encoded data removed]"
          },
          "metadata": {
            "needs_background": "light"
          }
        }
      ]
    },
    {
      "cell_type": "markdown",
      "source": [
        "54 км до аэропорта, вполне реальная цифра, могут ли находиться объекты на территории аэропорта(расстояние до аэропорта = 0), я сомневаюсь , а так как такой объект один , лучше удалить. Пропуски заполним так же медианой"
      ],
      "metadata": {
        "id": "GnqxT3fjc10-"
      }
    },
    {
      "cell_type": "code",
      "source": [
        "estate = estate[estate['airports_nearest']!=0]"
      ],
      "metadata": {
        "id": "a70aaXkxdkxr"
      },
      "execution_count": 51,
      "outputs": []
    },
    {
      "cell_type": "code",
      "source": [
        "estate['airports_nearest'] = estate['airports_nearest'].fillna(estate['airports_nearest'].median())"
      ],
      "metadata": {
        "colab": {
          "base_uri": "https://localhost:8080/"
        },
        "id": "CpHVoYddeLXB",
        "outputId": "fe111e7a-9bcb-4ad7-8f49-e263a535dcc0"
      },
      "execution_count": 52,
      "outputs": [
        {
          "output_type": "stream",
          "name": "stderr",
          "text": [
            "<ipython-input-52-27e2ea71311b>:1: SettingWithCopyWarning: \n",
            "A value is trying to be set on a copy of a slice from a DataFrame.\n",
            "Try using .loc[row_indexer,col_indexer] = value instead\n",
            "\n",
            "See the caveats in the documentation: https://pandas.pydata.org/pandas-docs/stable/user_guide/indexing.html#returning-a-view-versus-a-copy\n",
            "  estate['airports_nearest'] = estate['airports_nearest'].fillna(estate['airports_nearest'].median())\n"
          ]
        }
      ]
    },
    {
      "cell_type": "code",
      "source": [
        "estate['cityCenters_nearest'].plot(kind='box')"
      ],
      "metadata": {
        "colab": {
          "base_uri": "https://localhost:8080/",
          "height": 283
        },
        "id": "idXvJSmVkhG2",
        "outputId": "8f1b3804-42c5-4cfa-f8be-39aebde1e413"
      },
      "execution_count": 53,
      "outputs": [
        {
          "output_type": "execute_result",
          "data": {
            "text/plain": [
              "<matplotlib.axes._subplots.AxesSubplot at 0x7f036d94f040>"
            ]
          },
          "metadata": {},
          "execution_count": 53
        },
        {
          "output_type": "display_data",
          "data": {
            "text/plain": [
              "<Figure size 432x288 with 1 Axes>"
            ],
            "image/png": "[encoded data removed]"
          },
          "metadata": {
            "needs_background": "light"
          }
        }
      ]
    },
    {
      "cell_type": "markdown",
      "source": [
        "В данном признаке выбросов нет, пропуски заполним медианой"
      ],
      "metadata": {
        "id": "K6mjaw3Uk0KJ"
      }
    },
    {
      "cell_type": "code",
      "source": [
        "estate['cityCenters_nearest'] = estate['cityCenters_nearest'].fillna(estate['cityCenters_nearest'].median())"
      ],
      "metadata": {
        "id": "bWHL_2xnk56i"
      },
      "execution_count": 54,
      "outputs": []
    },
    {
      "cell_type": "code",
      "source": [
        "estate['parks_nearest'].plot(kind='box')"
      ],
      "metadata": {
        "colab": {
          "base_uri": "https://localhost:8080/",
          "height": 283
        },
        "id": "UMJyvTjBeUxC",
        "outputId": "1eb9daf2-d6ed-4e50-c4ca-f603a328e8ea"
      },
      "execution_count": 55,
      "outputs": [
        {
          "output_type": "execute_result",
          "data": {
            "text/plain": [
              "<matplotlib.axes._subplots.AxesSubplot at 0x7f036d8a6d00>"
            ]
          },
          "metadata": {},
          "execution_count": 55
        },
        {
          "output_type": "display_data",
          "data": {
            "text/plain": [
              "<Figure size 432x288 with 1 Axes>"
            ],
            "image/png": "[encoded data removed]"
          },
          "metadata": {
            "needs_background": "light"
          }
        }
      ]
    },
    {
      "cell_type": "markdown",
      "source": [
        "Выбросов в данном признаке нет, так как максимальное значение 3190, получается что парки которые были дальше этого расстояния не учитывались , поэтому заполним пропуски значеним 5000 на таком расстоянии парк в Санкт-Петербурге точно будет находиться"
      ],
      "metadata": {
        "id": "eWsfNAreedR0"
      }
    },
    {
      "cell_type": "code",
      "source": [
        "estate.loc[estate['parks_nearest'].isna(),'parks_nearest'] = 5000"
      ],
      "metadata": {
        "id": "imVpmyRnfAWd"
      },
      "execution_count": 56,
      "outputs": []
    },
    {
      "cell_type": "code",
      "source": [
        "estate['ponds_nearest'].plot(kind='box')"
      ],
      "metadata": {
        "colab": {
          "base_uri": "https://localhost:8080/",
          "height": 287
        },
        "id": "hlgDrTyPfJ1i",
        "outputId": "0b3536a0-4f4a-43d5-8165-84145afd88ea"
      },
      "execution_count": 57,
      "outputs": [
        {
          "output_type": "execute_result",
          "data": {
            "text/plain": [
              "<matplotlib.axes._subplots.AxesSubplot at 0x7f036d88d640>"
            ]
          },
          "metadata": {},
          "execution_count": 57
        },
        {
          "output_type": "display_data",
          "data": {
            "text/plain": [
              "<Figure size 432x288 with 1 Axes>"
            ],
            "image/png": "[encoded data removed]"
          },
          "metadata": {
            "needs_background": "light"
          }
        }
      ]
    },
    {
      "cell_type": "markdown",
      "source": [
        "Выбросов нет , по пропускам поступим аналогично как и с предыдущим признаком"
      ],
      "metadata": {
        "id": "dNJLWI1YfQks"
      }
    },
    {
      "cell_type": "code",
      "source": [
        "estate.loc[estate['ponds_nearest'].isna(),'ponds_nearest'] = 5000"
      ],
      "metadata": {
        "id": "UtRml2qTfWjF"
      },
      "execution_count": 58,
      "outputs": []
    },
    {
      "cell_type": "code",
      "source": [
        "estate['days_exposition'].plot(kind='box')"
      ],
      "metadata": {
        "colab": {
          "base_uri": "https://localhost:8080/",
          "height": 283
        },
        "id": "oKEibKcKfnND",
        "outputId": "acfa27da-2e1e-4efb-d940-5d379d38ee3d"
      },
      "execution_count": 59,
      "outputs": [
        {
          "output_type": "execute_result",
          "data": {
            "text/plain": [
              "<matplotlib.axes._subplots.AxesSubplot at 0x7f036d7ecaf0>"
            ]
          },
          "metadata": {},
          "execution_count": 59
        },
        {
          "output_type": "display_data",
          "data": {
            "text/plain": [
              "<Figure size 432x288 with 1 Axes>"
            ],
            "image/png": "[encoded data removed]"
          },
          "metadata": {
            "needs_background": "light"
          }
        }
      ]
    },
    {
      "cell_type": "markdown",
      "source": [
        "Здесь тоже можно большие значения за выбросы не считать , вполне такое возможно, что квартира продается не один год. Промущенные значения заполним медианой"
      ],
      "metadata": {
        "id": "sbJaN_qkfvAd"
      }
    },
    {
      "cell_type": "code",
      "source": [
        "estate['days_exposition'] = estate['days_exposition'].fillna(estate['days_exposition'].median())"
      ],
      "metadata": {
        "id": "Aq-n8bP6gA-1"
      },
      "execution_count": 60,
      "outputs": []
    },
    {
      "cell_type": "code",
      "source": [
        "estate.info()"
      ],
      "metadata": {
        "colab": {
          "base_uri": "https://localhost:8080/"
        },
        "id": "oT145FgCmgJn",
        "outputId": "50bd5ec0-7f99-4098-b21b-95bebbc501e0"
      },
      "execution_count": 61,
      "outputs": [
        {
          "output_type": "stream",
          "name": "stdout",
          "text": [
            "<class 'pandas.core.frame.DataFrame'>\n",
            "Int64Index: 14572 entries, 0 to 23694\n",
            "Data columns (total 19 columns):\n",
            " #   Column               Non-Null Count  Dtype  \n",
            "---  ------               --------------  -----  \n",
            " 0   last_price           14572 non-null  float64\n",
            " 1   total_area           14572 non-null  float64\n",
            " 2   rooms                14572 non-null  int64  \n",
            " 3   ceiling_height       14572 non-null  float64\n",
            " 4   floors_total         14572 non-null  float64\n",
            " 5   living_area          14572 non-null  float64\n",
            " 6   floor                14572 non-null  int64  \n",
            " 7   is_apartment         14572 non-null  int64  \n",
            " 8   studio               14572 non-null  int64  \n",
            " 9   open_plan            14572 non-null  int64  \n",
            " 10  kitchen_area         14572 non-null  float64\n",
            " 11  balcony              14572 non-null  float64\n",
            " 12  airports_nearest     14572 non-null  float64\n",
            " 13  cityCenters_nearest  14572 non-null  float64\n",
            " 14  parks_nearest        14572 non-null  float64\n",
            " 15  ponds_nearest        14572 non-null  float64\n",
            " 16  days_exposition      14572 non-null  float64\n",
            " 17  month_exposition     14572 non-null  int64  \n",
            " 18  year_exposition      14572 non-null  int64  \n",
            "dtypes: float64(12), int64(7)\n",
            "memory usage: 2.2 MB\n"
          ]
        }
      ]
    },
    {
      "cell_type": "code",
      "source": [
        "estate.describe()"
      ],
      "metadata": {
        "colab": {
          "base_uri": "https://localhost:8080/",
          "height": 364
        },
        "id": "-CsDHFqZWi5P",
        "outputId": "bc8c54dc-d020-46b3-cfd1-c3bfa1c7d86c"
      },
      "execution_count": 62,
      "outputs": [
        {
          "output_type": "execute_result",
          "data": {
            "text/plain": [
              "         last_price    total_area         rooms  ceiling_height  floors_total  \\\n",
              "count  1.457200e+04  14572.000000  14572.000000    14572.000000  14572.000000   \n",
              "mean   7.867627e+06     64.232448      2.174581        2.719502     11.336742   \n",
              "std    1.081006e+07     38.371243      1.144968        0.178792      6.338779   \n",
              "min    1.219000e+04     12.000000      0.000000        2.500000      1.000000   \n",
              "25%    4.200000e+06     42.000000      1.000000        2.600000      5.000000   \n",
              "50%    5.500000e+06     55.000000      2.000000        2.700000      9.000000   \n",
              "75%    8.000000e+06     74.100000      3.000000        2.750000     16.000000   \n",
              "max    4.013000e+08    631.200000     19.000000        3.400000     52.000000   \n",
              "\n",
              "        living_area         floor  is_apartment        studio     open_plan  \\\n",
              "count  14572.000000  14572.000000  14572.000000  14572.000000  14572.000000   \n",
              "mean      36.933670      6.228383      0.002265      0.005559      0.001990   \n",
              "std       24.442127      4.883517      0.047536      0.074351      0.044568   \n",
              "min        6.500000      1.000000      0.000000      0.000000      0.000000   \n",
              "25%       19.900000      3.000000      0.000000      0.000000      0.000000   \n",
              "50%       31.300000      5.000000      0.000000      0.000000      0.000000   \n",
              "75%       44.000000      8.000000      0.000000      0.000000      0.000000   \n",
              "max      409.000000     33.000000      1.000000      1.000000      1.000000   \n",
              "\n",
              "       kitchen_area       balcony  airports_nearest  cityCenters_nearest  \\\n",
              "count  14572.000000  14572.000000      14572.000000         14572.000000   \n",
              "mean      10.890314      0.599712      28001.639789         11604.263794   \n",
              "std        5.396792      0.969939      11560.631938          4807.836360   \n",
              "min        1.300000      0.000000       6450.000000           181.000000   \n",
              "25%        7.300000      0.000000      18522.000000          8389.750000   \n",
              "50%        9.800000      0.000000      26646.000000         12258.000000   \n",
              "75%       12.200000      1.000000      36553.000000         14931.000000   \n",
              "max       35.000000      5.000000      54784.000000         29493.000000   \n",
              "\n",
              "       parks_nearest  ponds_nearest  days_exposition  month_exposition  \\\n",
              "count   14572.000000   14572.000000     14572.000000      14572.000000   \n",
              "mean     2915.283626    2745.339212       173.506108          6.440640   \n",
              "std      2257.985270    2248.085450       211.904037          3.449705   \n",
              "min         1.000000      13.000000         1.000000          1.000000   \n",
              "25%       482.000000     502.000000        47.000000          3.000000   \n",
              "50%      5000.000000    1180.000000        99.000000          6.000000   \n",
              "75%      5000.000000    5000.000000       203.000000         10.000000   \n",
              "max      5000.000000    5000.000000      1572.000000         12.000000   \n",
              "\n",
              "       year_exposition  \n",
              "count     14572.000000  \n",
              "mean       2017.338251  \n",
              "std           1.063096  \n",
              "min        2014.000000  \n",
              "25%        2017.000000  \n",
              "50%        2017.000000  \n",
              "75%        2018.000000  \n",
              "max        2019.000000  "
            ],
            "text/html": [
              "\n",
              "  <div id=\"df-08026f6f-0b49-45d3-a3d6-c8cd8c5a4afa\">\n",
              "    <div class=\"colab-df-container\">\n",
              "      <div>\n",
              "<style scoped>\n",
              "    .dataframe tbody tr th:only-of-type {\n",
              "        vertical-align: middle;\n",
              "    }\n",
              "\n",
              "    .dataframe tbody tr th {\n",
              "        vertical-align: top;\n",
              "    }\n",
              "\n",
              "    .dataframe thead th {\n",
              "        text-align: right;\n",
              "    }\n",
              "</style>\n",
              "<table border=\"1\" class=\"dataframe\">\n",
              "  <thead>\n",
              "    <tr style=\"text-align: right;\">\n",
              "      <th></th>\n",
              "      <th>last_price</th>\n",
              "      <th>total_area</th>\n",
              "      <th>rooms</th>\n",
              "      <th>ceiling_height</th>\n",
              "      <th>floors_total</th>\n",
              "      <th>living_area</th>\n",
              "      <th>floor</th>\n",
              "      <th>is_apartment</th>\n",
              "      <th>studio</th>\n",
              "      <th>open_plan</th>\n",
              "      <th>kitchen_area</th>\n",
              "      <th>balcony</th>\n",
              "      <th>airports_nearest</th>\n",
              "      <th>cityCenters_nearest</th>\n",
              "      <th>parks_nearest</th>\n",
              "      <th>ponds_nearest</th>\n",
              "      <th>days_exposition</th>\n",
              "      <th>month_exposition</th>\n",
              "      <th>year_exposition</th>\n",
              "    </tr>\n",
              "  </thead>\n",
              "  <tbody>\n",
              "    <tr>\n",
              "      <th>count</th>\n",
              "      <td>1.457200e+04</td>\n",
              "      <td>14572.000000</td>\n",
              "      <td>14572.000000</td>\n",
              "      <td>14572.000000</td>\n",
              "      <td>14572.000000</td>\n",
              "      <td>14572.000000</td>\n",
              "      <td>14572.000000</td>\n",
              "      <td>14572.000000</td>\n",
              "      <td>14572.000000</td>\n",
              "      <td>14572.000000</td>\n",
              "      <td>14572.000000</td>\n",
              "      <td>14572.000000</td>\n",
              "      <td>14572.000000</td>\n",
              "      <td>14572.000000</td>\n",
              "      <td>14572.000000</td>\n",
              "      <td>14572.000000</td>\n",
              "      <td>14572.000000</td>\n",
              "      <td>14572.000000</td>\n",
              "      <td>14572.000000</td>\n",
              "    </tr>\n",
              "    <tr>\n",
              "      <th>mean</th>\n",
              "      <td>7.867627e+06</td>\n",
              "      <td>64.232448</td>\n",
              "      <td>2.174581</td>\n",
              "      <td>2.719502</td>\n",
              "      <td>11.336742</td>\n",
              "      <td>36.933670</td>\n",
              "      <td>6.228383</td>\n",
              "      <td>0.002265</td>\n",
              "      <td>0.005559</td>\n",
              "      <td>0.001990</td>\n",
              "      <td>10.890314</td>\n",
              "      <td>0.599712</td>\n",
              "      <td>28001.639789</td>\n",
              "      <td>11604.263794</td>\n",
              "      <td>2915.283626</td>\n",
              "      <td>2745.339212</td>\n",
              "      <td>173.506108</td>\n",
              "      <td>6.440640</td>\n",
              "      <td>2017.338251</td>\n",
              "    </tr>\n",
              "    <tr>\n",
              "      <th>std</th>\n",
              "      <td>1.081006e+07</td>\n",
              "      <td>38.371243</td>\n",
              "      <td>1.144968</td>\n",
              "      <td>0.178792</td>\n",
              "      <td>6.338779</td>\n",
              "      <td>24.442127</td>\n",
              "      <td>4.883517</td>\n",
              "      <td>0.047536</td>\n",
              "      <td>0.074351</td>\n",
              "      <td>0.044568</td>\n",
              "      <td>5.396792</td>\n",
              "      <td>0.969939</td>\n",
              "      <td>11560.631938</td>\n",
              "      <td>4807.836360</td>\n",
              "      <td>2257.985270</td>\n",
              "      <td>2248.085450</td>\n",
              "      <td>211.904037</td>\n",
              "      <td>3.449705</td>\n",
              "      <td>1.063096</td>\n",
              "    </tr>\n",
              "    <tr>\n",
              "      <th>min</th>\n",
              "      <td>1.219000e+04</td>\n",
              "      <td>12.000000</td>\n",
              "      <td>0.000000</td>\n",
              "      <td>2.500000</td>\n",
              "      <td>1.000000</td>\n",
              "      <td>6.500000</td>\n",
              "      <td>1.000000</td>\n",
              "      <td>0.000000</td>\n",
              "      <td>0.000000</td>\n",
              "      <td>0.000000</td>\n",
              "      <td>1.300000</td>\n",
              "      <td>0.000000</td>\n",
              "      <td>6450.000000</td>\n",
              "      <td>181.000000</td>\n",
              "      <td>1.000000</td>\n",
              "      <td>13.000000</td>\n",
              "      <td>1.000000</td>\n",
              "      <td>1.000000</td>\n",
              "      <td>2014.000000</td>\n",
              "    </tr>\n",
              "    <tr>\n",
              "      <th>25%</th>\n",
              "      <td>4.200000e+06</td>\n",
              "      <td>42.000000</td>\n",
              "      <td>1.000000</td>\n",
              "      <td>2.600000</td>\n",
              "      <td>5.000000</td>\n",
              "      <td>19.900000</td>\n",
              "      <td>3.000000</td>\n",
              "      <td>0.000000</td>\n",
              "      <td>0.000000</td>\n",
              "      <td>0.000000</td>\n",
              "      <td>7.300000</td>\n",
              "      <td>0.000000</td>\n",
              "      <td>18522.000000</td>\n",
              "      <td>8389.750000</td>\n",
              "      <td>482.000000</td>\n",
              "      <td>502.000000</td>\n",
              "      <td>47.000000</td>\n",
              "      <td>3.000000</td>\n",
              "      <td>2017.000000</td>\n",
              "    </tr>\n",
              "    <tr>\n",
              "      <th>50%</th>\n",
              "      <td>5.500000e+06</td>\n",
              "      <td>55.000000</td>\n",
              "      <td>2.000000</td>\n",
              "      <td>2.700000</td>\n",
              "      <td>9.000000</td>\n",
              "      <td>31.300000</td>\n",
              "      <td>5.000000</td>\n",
              "      <td>0.000000</td>\n",
              "      <td>0.000000</td>\n",
              "      <td>0.000000</td>\n",
              "      <td>9.800000</td>\n",
              "      <td>0.000000</td>\n",
              "      <td>26646.000000</td>\n",
              "      <td>12258.000000</td>\n",
              "      <td>5000.000000</td>\n",
              "      <td>1180.000000</td>\n",
              "      <td>99.000000</td>\n",
              "      <td>6.000000</td>\n",
              "      <td>2017.000000</td>\n",
              "    </tr>\n",
              "    <tr>\n",
              "      <th>75%</th>\n",
              "      <td>8.000000e+06</td>\n",
              "      <td>74.100000</td>\n",
              "      <td>3.000000</td>\n",
              "      <td>2.750000</td>\n",
              "      <td>16.000000</td>\n",
              "      <td>44.000000</td>\n",
              "      <td>8.000000</td>\n",
              "      <td>0.000000</td>\n",
              "      <td>0.000000</td>\n",
              "      <td>0.000000</td>\n",
              "      <td>12.200000</td>\n",
              "      <td>1.000000</td>\n",
              "      <td>36553.000000</td>\n",
              "      <td>14931.000000</td>\n",
              "      <td>5000.000000</td>\n",
              "      <td>5000.000000</td>\n",
              "      <td>203.000000</td>\n",
              "      <td>10.000000</td>\n",
              "      <td>2018.000000</td>\n",
              "    </tr>\n",
              "    <tr>\n",
              "      <th>max</th>\n",
              "      <td>4.013000e+08</td>\n",
              "      <td>631.200000</td>\n",
              "      <td>19.000000</td>\n",
              "      <td>3.400000</td>\n",
              "      <td>52.000000</td>\n",
              "      <td>409.000000</td>\n",
              "      <td>33.000000</td>\n",
              "      <td>1.000000</td>\n",
              "      <td>1.000000</td>\n",
              "      <td>1.000000</td>\n",
              "      <td>35.000000</td>\n",
              "      <td>5.000000</td>\n",
              "      <td>54784.000000</td>\n",
              "      <td>29493.000000</td>\n",
              "      <td>5000.000000</td>\n",
              "      <td>5000.000000</td>\n",
              "      <td>1572.000000</td>\n",
              "      <td>12.000000</td>\n",
              "      <td>2019.000000</td>\n",
              "    </tr>\n",
              "  </tbody>\n",
              "</table>\n",
              "</div>\n",
              "      <button class=\"colab-df-convert\" onclick=\"convertToInteractive('df-08026f6f-0b49-45d3-a3d6-c8cd8c5a4afa')\"\n",
              "              title=\"Convert this dataframe to an interactive table.\"\n",
              "              style=\"display:none;\">\n",
              "        \n",
              "  <svg xmlns=\"http://www.w3.org/2000/svg\" height=\"24px\"viewBox=\"0 0 24 24\"\n",
              "       width=\"24px\">\n",
              "    <path d=\"M0 0h24v24H0V0z\" fill=\"none\"/>\n",
              "    <path d=\"M18.56 5.44l.94 2.06.94-2.06 2.06-.94-2.06-.94-.94-2.06-.94 2.06-2.06.94zm-11 1L8.5 8.5l.94-2.06 2.06-.94-2.06-.94L8.5 2.5l-.94 2.06-2.06.94zm10 10l.94 2.06.94-2.06 2.06-.94-2.06-.94-.94-2.06-.94 2.06-2.06.94z\"/><path d=\"M17.41 7.96l-1.37-1.37c-.4-.4-.92-.59-1.43-.59-.52 0-1.04.2-1.43.59L10.3 9.45l-7.72 7.72c-.78.78-.78 2.05 0 2.83L4 21.41c.39.39.9.59 1.41.59.51 0 1.02-.2 1.41-.59l7.78-7.78 2.81-2.81c.8-.78.8-2.07 0-2.86zM5.41 20L4 18.59l7.72-7.72 1.47 1.35L5.41 20z\"/>\n",
              "  </svg>\n",
              "      </button>\n",
              "      \n",
              "  <style>\n",
              "    .colab-df-container {\n",
              "      display:flex;\n",
              "      flex-wrap:wrap;\n",
              "      gap: 12px;\n",
              "    }\n",
              "\n",
              "    .colab-df-convert {\n",
              "      background-color: #E8F0FE;\n",
              "      border: none;\n",
              "      border-radius: 50%;\n",
              "      cursor: pointer;\n",
              "      display: none;\n",
              "      fill: #1967D2;\n",
              "      height: 32px;\n",
              "      padding: 0 0 0 0;\n",
              "      width: 32px;\n",
              "    }\n",
              "\n",
              "    .colab-df-convert:hover {\n",
              "      background-color: #E2EBFA;\n",
              "      box-shadow: 0px 1px 2px rgba(60, 64, 67, 0.3), 0px 1px 3px 1px rgba(60, 64, 67, 0.15);\n",
              "      fill: #174EA6;\n",
              "    }\n",
              "\n",
              "    [theme=dark] .colab-df-convert {\n",
              "      background-color: #3B4455;\n",
              "      fill: #D2E3FC;\n",
              "    }\n",
              "\n",
              "    [theme=dark] .colab-df-convert:hover {\n",
              "      background-color: #434B5C;\n",
              "      box-shadow: 0px 1px 3px 1px rgba(0, 0, 0, 0.15);\n",
              "      filter: drop-shadow(0px 1px 2px rgba(0, 0, 0, 0.3));\n",
              "      fill: #FFFFFF;\n",
              "    }\n",
              "  </style>\n",
              "\n",
              "      <script>\n",
              "        const buttonEl =\n",
              "          document.querySelector('#df-08026f6f-0b49-45d3-a3d6-c8cd8c5a4afa button.colab-df-convert');\n",
              "        buttonEl.style.display =\n",
              "          google.colab.kernel.accessAllowed ? 'block' : 'none';\n",
              "\n",
              "        async function convertToInteractive(key) {\n",
              "          const element = document.querySelector('#df-08026f6f-0b49-45d3-a3d6-c8cd8c5a4afa');\n",
              "          const dataTable =\n",
              "            await google.colab.kernel.invokeFunction('convertToInteractive',\n",
              "                                                     [key], {});\n",
              "          if (!dataTable) return;\n",
              "\n",
              "          const docLinkHtml = 'Like what you see? Visit the ' +\n",
              "            '<a target=\"_blank\" href=https://colab.research.google.com/notebooks/data_table.ipynb>data table notebook</a>'\n",
              "            + ' to learn more about interactive tables.';\n",
              "          element.innerHTML = '';\n",
              "          dataTable['output_type'] = 'display_data';\n",
              "          await google.colab.output.renderOutput(dataTable, element);\n",
              "          const docLink = document.createElement('div');\n",
              "          docLink.innerHTML = docLinkHtml;\n",
              "          element.appendChild(docLink);\n",
              "        }\n",
              "      </script>\n",
              "    </div>\n",
              "  </div>\n",
              "  "
            ]
          },
          "metadata": {},
          "execution_count": 62
        }
      ]
    },
    {
      "cell_type": "markdown",
      "source": [
        "**Приступим к обучению модели линейной регрессии**"
      ],
      "metadata": {
        "id": "unRXHRctgJVD"
      }
    },
    {
      "cell_type": "markdown",
      "source": [
        "Напишем функцию которая принимает на вход целевую переменную и признаки, а возвращает три метрики(accuracy, rmse, r2)"
      ],
      "metadata": {
        "id": "B_wNmK7xiWOn"
      }
    },
    {
      "cell_type": "code",
      "source": [
        "estate.columns"
      ],
      "metadata": {
        "colab": {
          "base_uri": "https://localhost:8080/"
        },
        "id": "iVWdGeowjz-e",
        "outputId": "d2f955b9-0794-4b1a-b56d-6ac2199a2b95"
      },
      "execution_count": 63,
      "outputs": [
        {
          "output_type": "execute_result",
          "data": {
            "text/plain": [
              "Index(['last_price', 'total_area', 'rooms', 'ceiling_height', 'floors_total',\n",
              "       'living_area', 'floor', 'is_apartment', 'studio', 'open_plan',\n",
              "       'kitchen_area', 'balcony', 'airports_nearest', 'cityCenters_nearest',\n",
              "       'parks_nearest', 'ponds_nearest', 'days_exposition', 'month_exposition',\n",
              "       'year_exposition'],\n",
              "      dtype='object')"
            ]
          },
          "metadata": {},
          "execution_count": 63
        }
      ]
    },
    {
      "cell_type": "code",
      "source": [
        "X = estate[['total_area', 'rooms', 'ceiling_height', 'floors_total',\n",
        "       'living_area', 'floor', 'is_apartment', 'studio', 'open_plan',\n",
        "       'kitchen_area', 'balcony', 'airports_nearest', 'cityCenters_nearest',\n",
        "       'parks_nearest', 'ponds_nearest', 'days_exposition', 'month_exposition',\n",
        "       'year_exposition']]"
      ],
      "metadata": {
        "id": "5MRRs5tcjvh-"
      },
      "execution_count": 64,
      "outputs": []
    },
    {
      "cell_type": "code",
      "source": [
        "y = estate['last_price']"
      ],
      "metadata": {
        "id": "W-EKB1dWj6oL"
      },
      "execution_count": 65,
      "outputs": []
    },
    {
      "cell_type": "code",
      "source": [
        "def score(X,y):\n",
        "  X_train, X_test, y_train, y_test = train_test_split(X, y, test_size=0.2, random_state=42)\n",
        "  lr = LinearRegression()\n",
        "  lr.fit(X_train,y_train)\n",
        "  predict = lr.predict(X_test)\n",
        "  print(f'Accuracy на тренировочной выборке: {lr.score(X_train, y_train)}\\nAccuracy на тестовой выборке: {lr.score(X_test, y_test)}')\n",
        "  print(f'RMSE:  {mean_squared_error(y_test,predict,squared=False)}')\n",
        "  print(f'R2:    {r2_score(y_test,predict)}')"
      ],
      "metadata": {
        "id": "mF6pYgddgNnv"
      },
      "execution_count": 66,
      "outputs": []
    },
    {
      "cell_type": "code",
      "source": [
        "score(X,y)"
      ],
      "metadata": {
        "colab": {
          "base_uri": "https://localhost:8080/"
        },
        "id": "1gxP0SKikBsI",
        "outputId": "4a52c34b-318a-4785-fa84-2d905816ff30"
      },
      "execution_count": 67,
      "outputs": [
        {
          "output_type": "stream",
          "name": "stdout",
          "text": [
            "Accuracy на тренировочной выборке: 0.516789407985566\n",
            "Accuracy на тестовой выборке: 0.5712966071392989\n",
            "RMSE:  6255538.813517126\n",
            "R2:    0.5712966071392989\n"
          ]
        }
      ]
    },
    {
      "cell_type": "markdown",
      "source": [
        "Создадим матрицу корреляции и попробуем убрать поочередно коррелирующие между собой признаки"
      ],
      "metadata": {
        "id": "svhgsXsKmGHv"
      }
    },
    {
      "cell_type": "code",
      "source": [
        "corr = estate.corr()\n",
        "corr.style.background_gradient(cmap='coolwarm')"
      ],
      "metadata": {
        "colab": {
          "base_uri": "https://localhost:8080/",
          "height": 665
        },
        "id": "qTd08N2HmSnL",
        "outputId": "47e491ff-64b1-4dad-827a-c79b821ac0dc"
      },
      "execution_count": 68,
      "outputs": [
        {
          "output_type": "execute_result",
          "data": {
            "text/plain": [
              "<pandas.io.formats.style.Styler at 0x7f036d76c9a0>"
            ],
            "text/html": [
              "<style type=\"text/css\">\n",
              "#T_d179a_row0_col0, #T_d179a_row1_col1, #T_d179a_row2_col2, #T_d179a_row3_col3, #T_d179a_row4_col4, #T_d179a_row5_col5, #T_d179a_row6_col6, #T_d179a_row7_col7, #T_d179a_row8_col8, #T_d179a_row9_col9, #T_d179a_row10_col10, #T_d179a_row11_col11, #T_d179a_row12_col12, #T_d179a_row13_col13, #T_d179a_row14_col14, #T_d179a_row15_col15, #T_d179a_row16_col16, #T_d179a_row17_col17, #T_d179a_row18_col18 {\n",
              "  background-color: #b40426;\n",
              "  color: #f1f1f1;\n",
              "}\n",
              "#T_d179a_row0_col1 {\n",
              "  background-color: #f29274;\n",
              "  color: #f1f1f1;\n",
              "}\n",
              "#T_d179a_row0_col2, #T_d179a_row2_col0 {\n",
              "  background-color: #e6d7cf;\n",
              "  color: #000000;\n",
              "}\n",
              "#T_d179a_row0_col3, #T_d179a_row13_col4 {\n",
              "  background-color: #dbdcde;\n",
              "  color: #000000;\n",
              "}\n",
              "#T_d179a_row0_col4, #T_d179a_row11_col8, #T_d179a_row12_col14 {\n",
              "  background-color: #6a8bef;\n",
              "  color: #f1f1f1;\n",
              "}\n",
              "#T_d179a_row0_col5 {\n",
              "  background-color: #f7a889;\n",
              "  color: #000000;\n",
              "}\n",
              "#T_d179a_row0_col6, #T_d179a_row17_col8, #T_d179a_row18_col8, #T_d179a_row18_col10 {\n",
              "  background-color: #6384eb;\n",
              "  color: #f1f1f1;\n",
              "}\n",
              "#T_d179a_row0_col7, #T_d179a_row0_col9, #T_d179a_row5_col13, #T_d179a_row18_col9 {\n",
              "  background-color: #4a63d3;\n",
              "  color: #f1f1f1;\n",
              "}\n",
              "#T_d179a_row0_col8, #T_d179a_row3_col6, #T_d179a_row8_col11, #T_d179a_row10_col11, #T_d179a_row17_col9 {\n",
              "  background-color: #5875e1;\n",
              "  color: #f1f1f1;\n",
              "}\n",
              "#T_d179a_row0_col10 {\n",
              "  background-color: #eed0c0;\n",
              "  color: #000000;\n",
              "}\n",
              "#T_d179a_row0_col11, #T_d179a_row1_col8, #T_d179a_row7_col9, #T_d179a_row8_col9, #T_d179a_row11_col7, #T_d179a_row16_col15, #T_d179a_row18_col11 {\n",
              "  background-color: #4e68d8;\n",
              "  color: #f1f1f1;\n",
              "}\n",
              "#T_d179a_row0_col12, #T_d179a_row10_col9, #T_d179a_row15_col9 {\n",
              "  background-color: #4c66d6;\n",
              "  color: #f1f1f1;\n",
              "}\n",
              "#T_d179a_row0_col13, #T_d179a_row2_col13, #T_d179a_row7_col12 {\n",
              "  background-color: #5673e0;\n",
              "  color: #f1f1f1;\n",
              "}\n",
              "#T_d179a_row0_col14, #T_d179a_row12_col7 {\n",
              "  background-color: #465ecf;\n",
              "  color: #f1f1f1;\n",
              "}\n",
              "#T_d179a_row0_col15, #T_d179a_row2_col7, #T_d179a_row15_col7 {\n",
              "  background-color: #3d50c3;\n",
              "  color: #f1f1f1;\n",
              "}\n",
              "#T_d179a_row0_col16, #T_d179a_row2_col10 {\n",
              "  background-color: #c7d7f0;\n",
              "  color: #000000;\n",
              "}\n",
              "#T_d179a_row0_col17, #T_d179a_row2_col17, #T_d179a_row12_col6, #T_d179a_row16_col17, #T_d179a_row18_col5 {\n",
              "  background-color: #7b9ff9;\n",
              "  color: #f1f1f1;\n",
              "}\n",
              "#T_d179a_row0_col18 {\n",
              "  background-color: #aac7fd;\n",
              "  color: #000000;\n",
              "}\n",
              "#T_d179a_row1_col0 {\n",
              "  background-color: #f39577;\n",
              "  color: #000000;\n",
              "}\n",
              "#T_d179a_row1_col2 {\n",
              "  background-color: #e9785d;\n",
              "  color: #f1f1f1;\n",
              "}\n",
              "#T_d179a_row1_col3 {\n",
              "  background-color: #ead4c8;\n",
              "  color: #000000;\n",
              "}\n",
              "#T_d179a_row1_col4, #T_d179a_row7_col8, #T_d179a_row8_col2, #T_d179a_row9_col8, #T_d179a_row16_col6 {\n",
              "  background-color: #5f7fe8;\n",
              "  color: #f1f1f1;\n",
              "}\n",
              "#T_d179a_row1_col5 {\n",
              "  background-color: #c32e31;\n",
              "  color: #f1f1f1;\n",
              "}\n",
              "#T_d179a_row1_col6, #T_d179a_row4_col9, #T_d179a_row6_col9, #T_d179a_row12_col8 {\n",
              "  background-color: #5a78e4;\n",
              "  color: #f1f1f1;\n",
              "}\n",
              "#T_d179a_row1_col7, #T_d179a_row5_col4, #T_d179a_row5_col7, #T_d179a_row5_col9 {\n",
              "  background-color: #485fd1;\n",
              "  color: #f1f1f1;\n",
              "}\n",
              "#T_d179a_row1_col9, #T_d179a_row1_col14, #T_d179a_row5_col11, #T_d179a_row5_col12, #T_d179a_row13_col7 {\n",
              "  background-color: #445acc;\n",
              "  color: #f1f1f1;\n",
              "}\n",
              "#T_d179a_row1_col10 {\n",
              "  background-color: #f7b599;\n",
              "  color: #000000;\n",
              "}\n",
              "#T_d179a_row1_col11, #T_d179a_row1_col12, #T_d179a_row1_col13, #T_d179a_row2_col15, #T_d179a_row8_col12, #T_d179a_row9_col12, #T_d179a_row16_col12 {\n",
              "  background-color: #4b64d5;\n",
              "  color: #f1f1f1;\n",
              "}\n",
              "#T_d179a_row1_col15 {\n",
              "  background-color: #3c4ec2;\n",
              "  color: #f1f1f1;\n",
              "}\n",
              "#T_d179a_row1_col16 {\n",
              "  background-color: #d1dae9;\n",
              "  color: #000000;\n",
              "}\n",
              "#T_d179a_row1_col17, #T_d179a_row7_col17, #T_d179a_row12_col10, #T_d179a_row15_col17 {\n",
              "  background-color: #7ea1fa;\n",
              "  color: #f1f1f1;\n",
              "}\n",
              "#T_d179a_row1_col18, #T_d179a_row7_col13, #T_d179a_row8_col3, #T_d179a_row17_col13 {\n",
              "  background-color: #a1c0ff;\n",
              "  color: #000000;\n",
              "}\n",
              "#T_d179a_row2_col1 {\n",
              "  background-color: #e7745b;\n",
              "  color: #f1f1f1;\n",
              "}\n",
              "#T_d179a_row2_col3 {\n",
              "  background-color: #d5dbe5;\n",
              "  color: #000000;\n",
              "}\n",
              "#T_d179a_row2_col4, #T_d179a_row2_col6, #T_d179a_row2_col8, #T_d179a_row2_col9, #T_d179a_row3_col11, #T_d179a_row3_col12, #T_d179a_row3_col13, #T_d179a_row3_col14, #T_d179a_row3_col15, #T_d179a_row4_col7, #T_d179a_row10_col15, #T_d179a_row13_col0, #T_d179a_row13_col1, #T_d179a_row13_col2, #T_d179a_row13_col3, #T_d179a_row13_col5, #T_d179a_row13_col10, #T_d179a_row16_col18, #T_d179a_row18_col16, #T_d179a_row18_col17 {\n",
              "  background-color: #3b4cc0;\n",
              "  color: #f1f1f1;\n",
              "}\n",
              "#T_d179a_row2_col5 {\n",
              "  background-color: #da5a49;\n",
              "  color: #f1f1f1;\n",
              "}\n",
              "#T_d179a_row2_col11, #T_d179a_row2_col12 {\n",
              "  background-color: #4358cb;\n",
              "  color: #f1f1f1;\n",
              "}\n",
              "#T_d179a_row2_col14, #T_d179a_row5_col6, #T_d179a_row10_col7, #T_d179a_row12_col9, #T_d179a_row16_col7, #T_d179a_row16_col9 {\n",
              "  background-color: #4961d2;\n",
              "  color: #f1f1f1;\n",
              "}\n",
              "#T_d179a_row2_col16, #T_d179a_row3_col0 {\n",
              "  background-color: #ccd9ed;\n",
              "  color: #000000;\n",
              "}\n",
              "#T_d179a_row2_col18, #T_d179a_row4_col14, #T_d179a_row7_col3, #T_d179a_row15_col16 {\n",
              "  background-color: #a9c6fd;\n",
              "  color: #000000;\n",
              "}\n",
              "#T_d179a_row3_col1 {\n",
              "  background-color: #e4d9d2;\n",
              "  color: #000000;\n",
              "}\n",
              "#T_d179a_row3_col2, #T_d179a_row13_col18 {\n",
              "  background-color: #c5d6f2;\n",
              "  color: #000000;\n",
              "}\n",
              "#T_d179a_row3_col4, #T_d179a_row11_col12 {\n",
              "  background-color: #6282ea;\n",
              "  color: #f1f1f1;\n",
              "}\n",
              "#T_d179a_row3_col5 {\n",
              "  background-color: #dedcdb;\n",
              "  color: #000000;\n",
              "}\n",
              "#T_d179a_row3_col7 {\n",
              "  background-color: #4f69d9;\n",
              "  color: #f1f1f1;\n",
              "}\n",
              "#T_d179a_row3_col8, #T_d179a_row6_col15, #T_d179a_row7_col6, #T_d179a_row10_col13, #T_d179a_row14_col0, #T_d179a_row14_col10, #T_d179a_row15_col0 {\n",
              "  background-color: #6485ec;\n",
              "  color: #f1f1f1;\n",
              "}\n",
              "#T_d179a_row3_col9 {\n",
              "  background-color: #506bda;\n",
              "  color: #f1f1f1;\n",
              "}\n",
              "#T_d179a_row3_col10 {\n",
              "  background-color: #d7dce3;\n",
              "  color: #000000;\n",
              "}\n",
              "#T_d179a_row3_col16 {\n",
              "  background-color: #cbd8ee;\n",
              "  color: #000000;\n",
              "}\n",
              "#T_d179a_row3_col17, #T_d179a_row5_col17, #T_d179a_row8_col0, #T_d179a_row8_col1, #T_d179a_row13_col11 {\n",
              "  background-color: #7da0f9;\n",
              "  color: #f1f1f1;\n",
              "}\n",
              "#T_d179a_row3_col18, #T_d179a_row8_col13 {\n",
              "  background-color: #a2c1ff;\n",
              "  color: #000000;\n",
              "}\n",
              "#T_d179a_row4_col0, #T_d179a_row4_col1, #T_d179a_row9_col2 {\n",
              "  background-color: #7093f3;\n",
              "  color: #f1f1f1;\n",
              "}\n",
              "#T_d179a_row4_col2, #T_d179a_row5_col15, #T_d179a_row8_col7, #T_d179a_row9_col7 {\n",
              "  background-color: #4055c8;\n",
              "  color: #f1f1f1;\n",
              "}\n",
              "#T_d179a_row4_col3, #T_d179a_row6_col1, #T_d179a_row8_col5, #T_d179a_row18_col4 {\n",
              "  background-color: #84a7fc;\n",
              "  color: #f1f1f1;\n",
              "}\n",
              "#T_d179a_row4_col5, #T_d179a_row8_col15, #T_d179a_row9_col15, #T_d179a_row10_col8, #T_d179a_row16_col8, #T_d179a_row16_col14 {\n",
              "  background-color: #5b7ae5;\n",
              "  color: #f1f1f1;\n",
              "}\n",
              "#T_d179a_row4_col6, #T_d179a_row10_col1 {\n",
              "  background-color: #f7ac8e;\n",
              "  color: #000000;\n",
              "}\n",
              "#T_d179a_row4_col8, #T_d179a_row4_col12, #T_d179a_row6_col5, #T_d179a_row8_col10 {\n",
              "  background-color: #7396f5;\n",
              "  color: #f1f1f1;\n",
              "}\n",
              "#T_d179a_row4_col10, #T_d179a_row9_col3, #T_d179a_row9_col13 {\n",
              "  background-color: #9fbfff;\n",
              "  color: #000000;\n",
              "}\n",
              "#T_d179a_row4_col11, #T_d179a_row15_col14 {\n",
              "  background-color: #93b5fe;\n",
              "  color: #000000;\n",
              "}\n",
              "#T_d179a_row4_col13 {\n",
              "  background-color: #ead5c9;\n",
              "  color: #000000;\n",
              "}\n",
              "#T_d179a_row4_col15, #T_d179a_row14_col1 {\n",
              "  background-color: #6e90f2;\n",
              "  color: #f1f1f1;\n",
              "}\n",
              "#T_d179a_row4_col16, #T_d179a_row13_col6, #T_d179a_row14_col16 {\n",
              "  background-color: #adc9fd;\n",
              "  color: #000000;\n",
              "}\n",
              "#T_d179a_row4_col17, #T_d179a_row7_col10, #T_d179a_row9_col0, #T_d179a_row10_col17, #T_d179a_row12_col0, #T_d179a_row14_col17, #T_d179a_row15_col3, #T_d179a_row17_col4 {\n",
              "  background-color: #80a3fa;\n",
              "  color: #f1f1f1;\n",
              "}\n",
              "#T_d179a_row4_col18, #T_d179a_row16_col3 {\n",
              "  background-color: #b9d0f9;\n",
              "  color: #000000;\n",
              "}\n",
              "#T_d179a_row5_col0 {\n",
              "  background-color: #f7ad90;\n",
              "  color: #000000;\n",
              "}\n",
              "#T_d179a_row5_col1 {\n",
              "  background-color: #c43032;\n",
              "  color: #f1f1f1;\n",
              "}\n",
              "#T_d179a_row5_col2 {\n",
              "  background-color: #dc5d4a;\n",
              "  color: #f1f1f1;\n",
              "}\n",
              "#T_d179a_row5_col3 {\n",
              "  background-color: #e5d8d1;\n",
              "  color: #000000;\n",
              "}\n",
              "#T_d179a_row5_col8, #T_d179a_row10_col14 {\n",
              "  background-color: #536edd;\n",
              "  color: #f1f1f1;\n",
              "}\n",
              "#T_d179a_row5_col10 {\n",
              "  background-color: #e7d7ce;\n",
              "  color: #000000;\n",
              "}\n",
              "#T_d179a_row5_col14, #T_d179a_row14_col7, #T_d179a_row16_col11, #T_d179a_row17_col7, #T_d179a_row18_col7 {\n",
              "  background-color: #4257c9;\n",
              "  color: #f1f1f1;\n",
              "}\n",
              "#T_d179a_row5_col16, #T_d179a_row10_col2 {\n",
              "  background-color: #cfdaea;\n",
              "  color: #000000;\n",
              "}\n",
              "#T_d179a_row5_col18, #T_d179a_row11_col6 {\n",
              "  background-color: #a3c2fe;\n",
              "  color: #000000;\n",
              "}\n",
              "#T_d179a_row6_col0, #T_d179a_row6_col17, #T_d179a_row7_col2, #T_d179a_row8_col17, #T_d179a_row11_col10, #T_d179a_row15_col12, #T_d179a_row16_col13, #T_d179a_row17_col2 {\n",
              "  background-color: #81a4fb;\n",
              "  color: #f1f1f1;\n",
              "}\n",
              "#T_d179a_row6_col2, #T_d179a_row7_col11, #T_d179a_row7_col15, #T_d179a_row10_col12, #T_d179a_row15_col11 {\n",
              "  background-color: #5977e3;\n",
              "  color: #f1f1f1;\n",
              "}\n",
              "#T_d179a_row6_col3 {\n",
              "  background-color: #92b4fe;\n",
              "  color: #000000;\n",
              "}\n",
              "#T_d179a_row6_col4 {\n",
              "  background-color: #f6a385;\n",
              "  color: #000000;\n",
              "}\n",
              "#T_d179a_row6_col7 {\n",
              "  background-color: #3f53c6;\n",
              "  color: #f1f1f1;\n",
              "}\n",
              "#T_d179a_row6_col8, #T_d179a_row11_col15, #T_d179a_row17_col6, #T_d179a_row17_col14, #T_d179a_row18_col15 {\n",
              "  background-color: #688aef;\n",
              "  color: #f1f1f1;\n",
              "}\n",
              "#T_d179a_row6_col10, #T_d179a_row16_col10 {\n",
              "  background-color: #9abbff;\n",
              "  color: #000000;\n",
              "}\n",
              "#T_d179a_row6_col11, #T_d179a_row11_col3 {\n",
              "  background-color: #8db0fe;\n",
              "  color: #000000;\n",
              "}\n",
              "#T_d179a_row6_col12, #T_d179a_row7_col14, #T_d179a_row14_col2 {\n",
              "  background-color: #6788ee;\n",
              "  color: #f1f1f1;\n",
              "}\n",
              "#T_d179a_row6_col13 {\n",
              "  background-color: #d3dbe7;\n",
              "  color: #000000;\n",
              "}\n",
              "#T_d179a_row6_col14, #T_d179a_row8_col4, #T_d179a_row14_col6 {\n",
              "  background-color: #90b2fe;\n",
              "  color: #000000;\n",
              "}\n",
              "#T_d179a_row6_col16, #T_d179a_row12_col16 {\n",
              "  background-color: #afcafc;\n",
              "  color: #000000;\n",
              "}\n",
              "#T_d179a_row6_col18, #T_d179a_row8_col18, #T_d179a_row12_col18 {\n",
              "  background-color: #b7cff9;\n",
              "  color: #000000;\n",
              "}\n",
              "#T_d179a_row7_col0, #T_d179a_row11_col1 {\n",
              "  background-color: #8caffe;\n",
              "  color: #000000;\n",
              "}\n",
              "#T_d179a_row7_col1 {\n",
              "  background-color: #94b6ff;\n",
              "  color: #000000;\n",
              "}\n",
              "#T_d179a_row7_col4, #T_d179a_row11_col14, #T_d179a_row18_col0, #T_d179a_row18_col1 {\n",
              "  background-color: #779af7;\n",
              "  color: #f1f1f1;\n",
              "}\n",
              "#T_d179a_row7_col5 {\n",
              "  background-color: #96b7ff;\n",
              "  color: #000000;\n",
              "}\n",
              "#T_d179a_row7_col16, #T_d179a_row11_col4 {\n",
              "  background-color: #bad0f8;\n",
              "  color: #000000;\n",
              "}\n",
              "#T_d179a_row7_col18, #T_d179a_row11_col18 {\n",
              "  background-color: #b5cdfa;\n",
              "  color: #000000;\n",
              "}\n",
              "#T_d179a_row8_col6, #T_d179a_row15_col1, #T_d179a_row15_col6, #T_d179a_row18_col14 {\n",
              "  background-color: #6f92f3;\n",
              "  color: #f1f1f1;\n",
              "}\n",
              "#T_d179a_row8_col14, #T_d179a_row9_col6 {\n",
              "  background-color: #7295f4;\n",
              "  color: #f1f1f1;\n",
              "}\n",
              "#T_d179a_row8_col16, #T_d179a_row9_col16, #T_d179a_row9_col18 {\n",
              "  background-color: #b1cbfc;\n",
              "  color: #000000;\n",
              "}\n",
              "#T_d179a_row9_col1, #T_d179a_row11_col0, #T_d179a_row12_col5 {\n",
              "  background-color: #85a8fc;\n",
              "  color: #f1f1f1;\n",
              "}\n",
              "#T_d179a_row9_col4, #T_d179a_row9_col5, #T_d179a_row12_col1, #T_d179a_row12_col3, #T_d179a_row18_col3 {\n",
              "  background-color: #89acfd;\n",
              "  color: #000000;\n",
              "}\n",
              "#T_d179a_row9_col10, #T_d179a_row12_col2, #T_d179a_row15_col5 {\n",
              "  background-color: #7699f6;\n",
              "  color: #f1f1f1;\n",
              "}\n",
              "#T_d179a_row9_col11, #T_d179a_row14_col9, #T_d179a_row14_col12, #T_d179a_row18_col12 {\n",
              "  background-color: #5470de;\n",
              "  color: #f1f1f1;\n",
              "}\n",
              "#T_d179a_row9_col14, #T_d179a_row14_col5 {\n",
              "  background-color: #6c8ff1;\n",
              "  color: #f1f1f1;\n",
              "}\n",
              "#T_d179a_row9_col17 {\n",
              "  background-color: #86a9fc;\n",
              "  color: #f1f1f1;\n",
              "}\n",
              "#T_d179a_row10_col0 {\n",
              "  background-color: #f1cdba;\n",
              "  color: #000000;\n",
              "}\n",
              "#T_d179a_row10_col3 {\n",
              "  background-color: #e8d6cc;\n",
              "  color: #000000;\n",
              "}\n",
              "#T_d179a_row10_col4, #T_d179a_row10_col18, #T_d179a_row16_col2 {\n",
              "  background-color: #a5c3fe;\n",
              "  color: #000000;\n",
              "}\n",
              "#T_d179a_row10_col5 {\n",
              "  background-color: #efcfbf;\n",
              "  color: #000000;\n",
              "}\n",
              "#T_d179a_row10_col6, #T_d179a_row12_col15, #T_d179a_row13_col15, #T_d179a_row14_col15 {\n",
              "  background-color: #8badfd;\n",
              "  color: #000000;\n",
              "}\n",
              "#T_d179a_row10_col16 {\n",
              "  background-color: #cdd9ec;\n",
              "  color: #000000;\n",
              "}\n",
              "#T_d179a_row11_col2, #T_d179a_row17_col18 {\n",
              "  background-color: #7a9df8;\n",
              "  color: #f1f1f1;\n",
              "}\n",
              "#T_d179a_row11_col5, #T_d179a_row13_col12 {\n",
              "  background-color: #88abfd;\n",
              "  color: #000000;\n",
              "}\n",
              "#T_d179a_row11_col9, #T_d179a_row15_col10, #T_d179a_row17_col12 {\n",
              "  background-color: #5572df;\n",
              "  color: #f1f1f1;\n",
              "}\n",
              "#T_d179a_row11_col13, #T_d179a_row15_col13 {\n",
              "  background-color: #c1d4f4;\n",
              "  color: #000000;\n",
              "}\n",
              "#T_d179a_row11_col16 {\n",
              "  background-color: #abc8fd;\n",
              "  color: #000000;\n",
              "}\n",
              "#T_d179a_row11_col17, #T_d179a_row12_col17, #T_d179a_row13_col17, #T_d179a_row17_col0 {\n",
              "  background-color: #82a6fb;\n",
              "  color: #f1f1f1;\n",
              "}\n",
              "#T_d179a_row12_col4, #T_d179a_row17_col3 {\n",
              "  background-color: #9dbdff;\n",
              "  color: #000000;\n",
              "}\n",
              "#T_d179a_row12_col11, #T_d179a_row14_col11, #T_d179a_row15_col8 {\n",
              "  background-color: #5e7de7;\n",
              "  color: #f1f1f1;\n",
              "}\n",
              "#T_d179a_row12_col13 {\n",
              "  background-color: #c6d6f1;\n",
              "  color: #000000;\n",
              "}\n",
              "#T_d179a_row13_col8 {\n",
              "  background-color: #6687ed;\n",
              "  color: #f1f1f1;\n",
              "}\n",
              "#T_d179a_row13_col9, #T_d179a_row17_col11 {\n",
              "  background-color: #516ddb;\n",
              "  color: #f1f1f1;\n",
              "}\n",
              "#T_d179a_row13_col14, #T_d179a_row15_col18 {\n",
              "  background-color: #bcd2f7;\n",
              "  color: #000000;\n",
              "}\n",
              "#T_d179a_row13_col16 {\n",
              "  background-color: #9bbcff;\n",
              "  color: #000000;\n",
              "}\n",
              "#T_d179a_row14_col3, #T_d179a_row15_col2, #T_d179a_row16_col4, #T_d179a_row18_col2 {\n",
              "  background-color: #7597f6;\n",
              "  color: #f1f1f1;\n",
              "}\n",
              "#T_d179a_row14_col4, #T_d179a_row14_col18 {\n",
              "  background-color: #bbd1f8;\n",
              "  color: #000000;\n",
              "}\n",
              "#T_d179a_row14_col8, #T_d179a_row18_col6 {\n",
              "  background-color: #6b8df0;\n",
              "  color: #f1f1f1;\n",
              "}\n",
              "#T_d179a_row14_col13 {\n",
              "  background-color: #dcdddd;\n",
              "  color: #000000;\n",
              "}\n",
              "#T_d179a_row15_col4, #T_d179a_row17_col1, #T_d179a_row17_col5 {\n",
              "  background-color: #8fb1fe;\n",
              "  color: #000000;\n",
              "}\n",
              "#T_d179a_row16_col0 {\n",
              "  background-color: #9ebeff;\n",
              "  color: #000000;\n",
              "}\n",
              "#T_d179a_row16_col1 {\n",
              "  background-color: #b3cdfb;\n",
              "  color: #000000;\n",
              "}\n",
              "#T_d179a_row16_col5, #T_d179a_row17_col16, #T_d179a_row18_col13 {\n",
              "  background-color: #b2ccfb;\n",
              "  color: #000000;\n",
              "}\n",
              "#T_d179a_row17_col10 {\n",
              "  background-color: #799cf8;\n",
              "  color: #f1f1f1;\n",
              "}\n",
              "#T_d179a_row17_col15 {\n",
              "  background-color: #5d7ce6;\n",
              "  color: #f1f1f1;\n",
              "}\n",
              "</style>\n",
              "<table id=\"T_d179a_\" class=\"dataframe\">\n",
              "  <thead>\n",
              "    <tr>\n",
              "      <th class=\"blank level0\" >&nbsp;</th>\n",
              "      <th class=\"col_heading level0 col0\" >last_price</th>\n",
              "      <th class=\"col_heading level0 col1\" >total_area</th>\n",
              "      <th class=\"col_heading level0 col2\" >rooms</th>\n",
              "      <th class=\"col_heading level0 col3\" >ceiling_height</th>\n",
              "      <th class=\"col_heading level0 col4\" >floors_total</th>\n",
              "      <th class=\"col_heading level0 col5\" >living_area</th>\n",
              "      <th class=\"col_heading level0 col6\" >floor</th>\n",
              "      <th class=\"col_heading level0 col7\" >is_apartment</th>\n",
              "      <th class=\"col_heading level0 col8\" >studio</th>\n",
              "      <th class=\"col_heading level0 col9\" >open_plan</th>\n",
              "      <th class=\"col_heading level0 col10\" >kitchen_area</th>\n",
              "      <th class=\"col_heading level0 col11\" >balcony</th>\n",
              "      <th class=\"col_heading level0 col12\" >airports_nearest</th>\n",
              "      <th class=\"col_heading level0 col13\" >cityCenters_nearest</th>\n",
              "      <th class=\"col_heading level0 col14\" >parks_nearest</th>\n",
              "      <th class=\"col_heading level0 col15\" >ponds_nearest</th>\n",
              "      <th class=\"col_heading level0 col16\" >days_exposition</th>\n",
              "      <th class=\"col_heading level0 col17\" >month_exposition</th>\n",
              "      <th class=\"col_heading level0 col18\" >year_exposition</th>\n",
              "    </tr>\n",
              "  </thead>\n",
              "  <tbody>\n",
              "    <tr>\n",
              "      <th id=\"T_d179a_level0_row0\" class=\"row_heading level0 row0\" >last_price</th>\n",
              "      <td id=\"T_d179a_row0_col0\" class=\"data row0 col0\" >1.000000</td>\n",
              "      <td id=\"T_d179a_row0_col1\" class=\"data row0 col1\" >0.687901</td>\n",
              "      <td id=\"T_d179a_row0_col2\" class=\"data row0 col2\" >0.399900</td>\n",
              "      <td id=\"T_d179a_row0_col3\" class=\"data row0 col3\" >0.276219</td>\n",
              "      <td id=\"T_d179a_row0_col4\" class=\"data row0 col4\" >-0.072640</td>\n",
              "      <td id=\"T_d179a_row0_col5\" class=\"data row0 col5\" >0.610848</td>\n",
              "      <td id=\"T_d179a_row0_col6\" class=\"data row0 col6\" >-0.013154</td>\n",
              "      <td id=\"T_d179a_row0_col7\" class=\"data row0 col7\" >0.028926</td>\n",
              "      <td id=\"T_d179a_row0_col8\" class=\"data row0 col8\" >-0.028780</td>\n",
              "      <td id=\"T_d179a_row0_col9\" class=\"data row0 col9\" >-0.017228</td>\n",
              "      <td id=\"T_d179a_row0_col10\" class=\"data row0 col10\" >0.473571</td>\n",
              "      <td id=\"T_d179a_row0_col11\" class=\"data row0 col11\" >0.001726</td>\n",
              "      <td id=\"T_d179a_row0_col12\" class=\"data row0 col12\" >-0.018399</td>\n",
              "      <td id=\"T_d179a_row0_col13\" class=\"data row0 col13\" >-0.293589</td>\n",
              "      <td id=\"T_d179a_row0_col14\" class=\"data row0 col14\" >-0.117604</td>\n",
              "      <td id=\"T_d179a_row0_col15\" class=\"data row0 col15\" >-0.117250</td>\n",
              "      <td id=\"T_d179a_row0_col16\" class=\"data row0 col16\" >0.091511</td>\n",
              "      <td id=\"T_d179a_row0_col17\" class=\"data row0 col17\" >-0.009273</td>\n",
              "      <td id=\"T_d179a_row0_col18\" class=\"data row0 col18\" >-0.046824</td>\n",
              "    </tr>\n",
              "    <tr>\n",
              "      <th id=\"T_d179a_level0_row1\" class=\"row_heading level0 row1\" >total_area</th>\n",
              "      <td id=\"T_d179a_row1_col0\" class=\"data row1 col0\" >0.687901</td>\n",
              "      <td id=\"T_d179a_row1_col1\" class=\"data row1 col1\" >1.000000</td>\n",
              "      <td id=\"T_d179a_row1_col2\" class=\"data row1 col2\" >0.776161</td>\n",
              "      <td id=\"T_d179a_row1_col3\" class=\"data row1 col3\" >0.367559</td>\n",
              "      <td id=\"T_d179a_row1_col4\" class=\"data row1 col4\" >-0.116712</td>\n",
              "      <td id=\"T_d179a_row1_col5\" class=\"data row1 col5\" >0.942107</td>\n",
              "      <td id=\"T_d179a_row1_col6\" class=\"data row1 col6\" >-0.043414</td>\n",
              "      <td id=\"T_d179a_row1_col7\" class=\"data row1 col7\" >0.022332</td>\n",
              "      <td id=\"T_d179a_row1_col8\" class=\"data row1 col8\" >-0.066855</td>\n",
              "      <td id=\"T_d179a_row1_col9\" class=\"data row1 col9\" >-0.038029</td>\n",
              "      <td id=\"T_d179a_row1_col10\" class=\"data row1 col10\" >0.596698</td>\n",
              "      <td id=\"T_d179a_row1_col11\" class=\"data row1 col11\" >-0.009030</td>\n",
              "      <td id=\"T_d179a_row1_col12\" class=\"data row1 col12\" >-0.020202</td>\n",
              "      <td id=\"T_d179a_row1_col13\" class=\"data row1 col13\" >-0.344081</td>\n",
              "      <td id=\"T_d179a_row1_col14\" class=\"data row1 col14\" >-0.128556</td>\n",
              "      <td id=\"T_d179a_row1_col15\" class=\"data row1 col15\" >-0.118492</td>\n",
              "      <td id=\"T_d179a_row1_col16\" class=\"data row1 col16\" >0.142587</td>\n",
              "      <td id=\"T_d179a_row1_col17\" class=\"data row1 col17\" >-0.002807</td>\n",
              "      <td id=\"T_d179a_row1_col18\" class=\"data row1 col18\" >-0.090848</td>\n",
              "    </tr>\n",
              "    <tr>\n",
              "      <th id=\"T_d179a_level0_row2\" class=\"row_heading level0 row2\" >rooms</th>\n",
              "      <td id=\"T_d179a_row2_col0\" class=\"data row2 col0\" >0.399900</td>\n",
              "      <td id=\"T_d179a_row2_col1\" class=\"data row2 col1\" >0.776161</td>\n",
              "      <td id=\"T_d179a_row2_col2\" class=\"data row2 col2\" >1.000000</td>\n",
              "      <td id=\"T_d179a_row2_col3\" class=\"data row2 col3\" >0.242479</td>\n",
              "      <td id=\"T_d179a_row2_col4\" class=\"data row2 col4\" >-0.265013</td>\n",
              "      <td id=\"T_d179a_row2_col5\" class=\"data row2 col5\" >0.843929</td>\n",
              "      <td id=\"T_d179a_row2_col6\" class=\"data row2 col6\" >-0.165576</td>\n",
              "      <td id=\"T_d179a_row2_col7\" class=\"data row2 col7\" >-0.013569</td>\n",
              "      <td id=\"T_d179a_row2_col8\" class=\"data row2 col8\" >-0.138776</td>\n",
              "      <td id=\"T_d179a_row2_col9\" class=\"data row2 col9\" >-0.072710</td>\n",
              "      <td id=\"T_d179a_row2_col10\" class=\"data row2 col10\" >0.289227</td>\n",
              "      <td id=\"T_d179a_row2_col11\" class=\"data row2 col11\" >-0.039097</td>\n",
              "      <td id=\"T_d179a_row2_col12\" class=\"data row2 col12\" >-0.053062</td>\n",
              "      <td id=\"T_d179a_row2_col13\" class=\"data row2 col13\" >-0.294988</td>\n",
              "      <td id=\"T_d179a_row2_col14\" class=\"data row2 col14\" >-0.110078</td>\n",
              "      <td id=\"T_d179a_row2_col15\" class=\"data row2 col15\" >-0.061888</td>\n",
              "      <td id=\"T_d179a_row2_col16\" class=\"data row2 col16\" >0.117482</td>\n",
              "      <td id=\"T_d179a_row2_col17\" class=\"data row2 col17\" >-0.011832</td>\n",
              "      <td id=\"T_d179a_row2_col18\" class=\"data row2 col18\" >-0.058892</td>\n",
              "    </tr>\n",
              "    <tr>\n",
              "      <th id=\"T_d179a_level0_row3\" class=\"row_heading level0 row3\" >ceiling_height</th>\n",
              "      <td id=\"T_d179a_row3_col0\" class=\"data row3 col0\" >0.276219</td>\n",
              "      <td id=\"T_d179a_row3_col1\" class=\"data row3 col1\" >0.367559</td>\n",
              "      <td id=\"T_d179a_row3_col2\" class=\"data row3 col2\" >0.242479</td>\n",
              "      <td id=\"T_d179a_row3_col3\" class=\"data row3 col3\" >1.000000</td>\n",
              "      <td id=\"T_d179a_row3_col4\" class=\"data row3 col4\" >-0.106138</td>\n",
              "      <td id=\"T_d179a_row3_col5\" class=\"data row3 col5\" >0.333093</td>\n",
              "      <td id=\"T_d179a_row3_col6\" class=\"data row3 col6\" >-0.052556</td>\n",
              "      <td id=\"T_d179a_row3_col7\" class=\"data row3 col7\" >0.043657</td>\n",
              "      <td id=\"T_d179a_row3_col8\" class=\"data row3 col8\" >0.013115</td>\n",
              "      <td id=\"T_d179a_row3_col9\" class=\"data row3 col9\" >0.005034</td>\n",
              "      <td id=\"T_d179a_row3_col10\" class=\"data row3 col10\" >0.352464</td>\n",
              "      <td id=\"T_d179a_row3_col11\" class=\"data row3 col11\" >-0.068576</td>\n",
              "      <td id=\"T_d179a_row3_col12\" class=\"data row3 col12\" >-0.082703</td>\n",
              "      <td id=\"T_d179a_row3_col13\" class=\"data row3 col13\" >-0.427245</td>\n",
              "      <td id=\"T_d179a_row3_col14\" class=\"data row3 col14\" >-0.166269</td>\n",
              "      <td id=\"T_d179a_row3_col15\" class=\"data row3 col15\" >-0.123270</td>\n",
              "      <td id=\"T_d179a_row3_col16\" class=\"data row3 col16\" >0.110335</td>\n",
              "      <td id=\"T_d179a_row3_col17\" class=\"data row3 col17\" >-0.004325</td>\n",
              "      <td id=\"T_d179a_row3_col18\" class=\"data row3 col18\" >-0.085154</td>\n",
              "    </tr>\n",
              "    <tr>\n",
              "      <th id=\"T_d179a_level0_row4\" class=\"row_heading level0 row4\" >floors_total</th>\n",
              "      <td id=\"T_d179a_row4_col0\" class=\"data row4 col0\" >-0.072640</td>\n",
              "      <td id=\"T_d179a_row4_col1\" class=\"data row4 col1\" >-0.116712</td>\n",
              "      <td id=\"T_d179a_row4_col2\" class=\"data row4 col2\" >-0.265013</td>\n",
              "      <td id=\"T_d179a_row4_col3\" class=\"data row4 col3\" >-0.106138</td>\n",
              "      <td id=\"T_d179a_row4_col4\" class=\"data row4 col4\" >1.000000</td>\n",
              "      <td id=\"T_d179a_row4_col5\" class=\"data row4 col5\" >-0.207172</td>\n",
              "      <td id=\"T_d179a_row4_col6\" class=\"data row4 col6\" >0.650268</td>\n",
              "      <td id=\"T_d179a_row4_col7\" class=\"data row4 col7\" >-0.025535</td>\n",
              "      <td id=\"T_d179a_row4_col8\" class=\"data row4 col8\" >0.061848</td>\n",
              "      <td id=\"T_d179a_row4_col9\" class=\"data row4 col9\" >0.038683</td>\n",
              "      <td id=\"T_d179a_row4_col10\" class=\"data row4 col10\" >0.137218</td>\n",
              "      <td id=\"T_d179a_row4_col11\" class=\"data row4 col11\" >0.218887</td>\n",
              "      <td id=\"T_d179a_row4_col12\" class=\"data row4 col12\" >0.109649</td>\n",
              "      <td id=\"T_d179a_row4_col13\" class=\"data row4 col13\" >0.360418</td>\n",
              "      <td id=\"T_d179a_row4_col14\" class=\"data row4 col14\" >0.220593</td>\n",
              "      <td id=\"T_d179a_row4_col15\" class=\"data row4 col15\" >0.057199</td>\n",
              "      <td id=\"T_d179a_row4_col16\" class=\"data row4 col16\" >-0.035880</td>\n",
              "      <td id=\"T_d179a_row4_col17\" class=\"data row4 col17\" >0.003122</td>\n",
              "      <td id=\"T_d179a_row4_col18\" class=\"data row4 col18\" >0.019037</td>\n",
              "    </tr>\n",
              "    <tr>\n",
              "      <th id=\"T_d179a_level0_row5\" class=\"row_heading level0 row5\" >living_area</th>\n",
              "      <td id=\"T_d179a_row5_col0\" class=\"data row5 col0\" >0.610848</td>\n",
              "      <td id=\"T_d179a_row5_col1\" class=\"data row5 col1\" >0.942107</td>\n",
              "      <td id=\"T_d179a_row5_col2\" class=\"data row5 col2\" >0.843929</td>\n",
              "      <td id=\"T_d179a_row5_col3\" class=\"data row5 col3\" >0.333093</td>\n",
              "      <td id=\"T_d179a_row5_col4\" class=\"data row5 col4\" >-0.207172</td>\n",
              "      <td id=\"T_d179a_row5_col5\" class=\"data row5 col5\" >1.000000</td>\n",
              "      <td id=\"T_d179a_row5_col6\" class=\"data row5 col6\" >-0.110913</td>\n",
              "      <td id=\"T_d179a_row5_col7\" class=\"data row5 col7\" >0.020321</td>\n",
              "      <td id=\"T_d179a_row5_col8\" class=\"data row5 col8\" >-0.049722</td>\n",
              "      <td id=\"T_d179a_row5_col9\" class=\"data row5 col9\" >-0.025886</td>\n",
              "      <td id=\"T_d179a_row5_col10\" class=\"data row5 col10\" >0.430030</td>\n",
              "      <td id=\"T_d179a_row5_col11\" class=\"data row5 col11\" >-0.031511</td>\n",
              "      <td id=\"T_d179a_row5_col12\" class=\"data row5 col12\" >-0.045478</td>\n",
              "      <td id=\"T_d179a_row5_col13\" class=\"data row5 col13\" >-0.353264</td>\n",
              "      <td id=\"T_d179a_row5_col14\" class=\"data row5 col14\" >-0.137386</td>\n",
              "      <td id=\"T_d179a_row5_col15\" class=\"data row5 col15\" >-0.102328</td>\n",
              "      <td id=\"T_d179a_row5_col16\" class=\"data row5 col16\" >0.132280</td>\n",
              "      <td id=\"T_d179a_row5_col17\" class=\"data row5 col17\" >-0.007508</td>\n",
              "      <td id=\"T_d179a_row5_col18\" class=\"data row5 col18\" >-0.080361</td>\n",
              "    </tr>\n",
              "    <tr>\n",
              "      <th id=\"T_d179a_level0_row6\" class=\"row_heading level0 row6\" >floor</th>\n",
              "      <td id=\"T_d179a_row6_col0\" class=\"data row6 col0\" >-0.013154</td>\n",
              "      <td id=\"T_d179a_row6_col1\" class=\"data row6 col1\" >-0.043414</td>\n",
              "      <td id=\"T_d179a_row6_col2\" class=\"data row6 col2\" >-0.165576</td>\n",
              "      <td id=\"T_d179a_row6_col3\" class=\"data row6 col3\" >-0.052556</td>\n",
              "      <td id=\"T_d179a_row6_col4\" class=\"data row6 col4\" >0.650268</td>\n",
              "      <td id=\"T_d179a_row6_col5\" class=\"data row6 col5\" >-0.110913</td>\n",
              "      <td id=\"T_d179a_row6_col6\" class=\"data row6 col6\" >1.000000</td>\n",
              "      <td id=\"T_d179a_row6_col7\" class=\"data row6 col7\" >-0.009323</td>\n",
              "      <td id=\"T_d179a_row6_col8\" class=\"data row6 col8\" >0.027312</td>\n",
              "      <td id=\"T_d179a_row6_col9\" class=\"data row6 col9\" >0.037012</td>\n",
              "      <td id=\"T_d179a_row6_col10\" class=\"data row6 col10\" >0.119335</td>\n",
              "      <td id=\"T_d179a_row6_col11\" class=\"data row6 col11\" >0.199050</td>\n",
              "      <td id=\"T_d179a_row6_col12\" class=\"data row6 col12\" >0.071045</td>\n",
              "      <td id=\"T_d179a_row6_col13\" class=\"data row6 col13\" >0.231438</td>\n",
              "      <td id=\"T_d179a_row6_col14\" class=\"data row6 col14\" >0.138784</td>\n",
              "      <td id=\"T_d179a_row6_col15\" class=\"data row6 col15\" >0.026963</td>\n",
              "      <td id=\"T_d179a_row6_col16\" class=\"data row6 col16\" >-0.027612</td>\n",
              "      <td id=\"T_d179a_row6_col17\" class=\"data row6 col17\" >0.005669</td>\n",
              "      <td id=\"T_d179a_row6_col18\" class=\"data row6 col18\" >0.013699</td>\n",
              "    </tr>\n",
              "    <tr>\n",
              "      <th id=\"T_d179a_level0_row7\" class=\"row_heading level0 row7\" >is_apartment</th>\n",
              "      <td id=\"T_d179a_row7_col0\" class=\"data row7 col0\" >0.028926</td>\n",
              "      <td id=\"T_d179a_row7_col1\" class=\"data row7 col1\" >0.022332</td>\n",
              "      <td id=\"T_d179a_row7_col2\" class=\"data row7 col2\" >-0.013569</td>\n",
              "      <td id=\"T_d179a_row7_col3\" class=\"data row7 col3\" >0.043657</td>\n",
              "      <td id=\"T_d179a_row7_col4\" class=\"data row7 col4\" >-0.025535</td>\n",
              "      <td id=\"T_d179a_row7_col5\" class=\"data row7 col5\" >0.020321</td>\n",
              "      <td id=\"T_d179a_row7_col6\" class=\"data row7 col6\" >-0.009323</td>\n",
              "      <td id=\"T_d179a_row7_col7\" class=\"data row7 col7\" >1.000000</td>\n",
              "      <td id=\"T_d179a_row7_col8\" class=\"data row7 col8\" >-0.003562</td>\n",
              "      <td id=\"T_d179a_row7_col9\" class=\"data row7 col9\" >-0.002127</td>\n",
              "      <td id=\"T_d179a_row7_col10\" class=\"data row7 col10\" >0.024392</td>\n",
              "      <td id=\"T_d179a_row7_col11\" class=\"data row7 col11\" >0.039013</td>\n",
              "      <td id=\"T_d179a_row7_col12\" class=\"data row7 col12\" >0.014819</td>\n",
              "      <td id=\"T_d179a_row7_col13\" class=\"data row7 col13\" >0.008860</td>\n",
              "      <td id=\"T_d179a_row7_col14\" class=\"data row7 col14\" >0.001613</td>\n",
              "      <td id=\"T_d179a_row7_col15\" class=\"data row7 col15\" >-0.015125</td>\n",
              "      <td id=\"T_d179a_row7_col16\" class=\"data row7 col16\" >0.024005</td>\n",
              "      <td id=\"T_d179a_row7_col17\" class=\"data row7 col17\" >0.000611</td>\n",
              "      <td id=\"T_d179a_row7_col18\" class=\"data row7 col18\" >0.001138</td>\n",
              "    </tr>\n",
              "    <tr>\n",
              "      <th id=\"T_d179a_level0_row8\" class=\"row_heading level0 row8\" >studio</th>\n",
              "      <td id=\"T_d179a_row8_col0\" class=\"data row8 col0\" >-0.028780</td>\n",
              "      <td id=\"T_d179a_row8_col1\" class=\"data row8 col1\" >-0.066855</td>\n",
              "      <td id=\"T_d179a_row8_col2\" class=\"data row8 col2\" >-0.138776</td>\n",
              "      <td id=\"T_d179a_row8_col3\" class=\"data row8 col3\" >0.013115</td>\n",
              "      <td id=\"T_d179a_row8_col4\" class=\"data row8 col4\" >0.061848</td>\n",
              "      <td id=\"T_d179a_row8_col5\" class=\"data row8 col5\" >-0.049722</td>\n",
              "      <td id=\"T_d179a_row8_col6\" class=\"data row8 col6\" >0.027312</td>\n",
              "      <td id=\"T_d179a_row8_col7\" class=\"data row8 col7\" >-0.003562</td>\n",
              "      <td id=\"T_d179a_row8_col8\" class=\"data row8 col8\" >1.000000</td>\n",
              "      <td id=\"T_d179a_row8_col9\" class=\"data row8 col9\" >-0.003339</td>\n",
              "      <td id=\"T_d179a_row8_col10\" class=\"data row8 col10\" >-0.015105</td>\n",
              "      <td id=\"T_d179a_row8_col11\" class=\"data row8 col11\" >0.031807</td>\n",
              "      <td id=\"T_d179a_row8_col12\" class=\"data row8 col12\" >-0.019674</td>\n",
              "      <td id=\"T_d179a_row8_col13\" class=\"data row8 col13\" >0.017007</td>\n",
              "      <td id=\"T_d179a_row8_col14\" class=\"data row8 col14\" >0.036197</td>\n",
              "      <td id=\"T_d179a_row8_col15\" class=\"data row8 col15\" >-0.005517</td>\n",
              "      <td id=\"T_d179a_row8_col16\" class=\"data row8 col16\" >-0.018487</td>\n",
              "      <td id=\"T_d179a_row8_col17\" class=\"data row8 col17\" >0.008912</td>\n",
              "      <td id=\"T_d179a_row8_col18\" class=\"data row8 col18\" >0.010073</td>\n",
              "    </tr>\n",
              "    <tr>\n",
              "      <th id=\"T_d179a_level0_row9\" class=\"row_heading level0 row9\" >open_plan</th>\n",
              "      <td id=\"T_d179a_row9_col0\" class=\"data row9 col0\" >-0.017228</td>\n",
              "      <td id=\"T_d179a_row9_col1\" class=\"data row9 col1\" >-0.038029</td>\n",
              "      <td id=\"T_d179a_row9_col2\" class=\"data row9 col2\" >-0.072710</td>\n",
              "      <td id=\"T_d179a_row9_col3\" class=\"data row9 col3\" >0.005034</td>\n",
              "      <td id=\"T_d179a_row9_col4\" class=\"data row9 col4\" >0.038683</td>\n",
              "      <td id=\"T_d179a_row9_col5\" class=\"data row9 col5\" >-0.025886</td>\n",
              "      <td id=\"T_d179a_row9_col6\" class=\"data row9 col6\" >0.037012</td>\n",
              "      <td id=\"T_d179a_row9_col7\" class=\"data row9 col7\" >-0.002127</td>\n",
              "      <td id=\"T_d179a_row9_col8\" class=\"data row9 col8\" >-0.003339</td>\n",
              "      <td id=\"T_d179a_row9_col9\" class=\"data row9 col9\" >1.000000</td>\n",
              "      <td id=\"T_d179a_row9_col10\" class=\"data row9 col10\" >-0.009022</td>\n",
              "      <td id=\"T_d179a_row9_col11\" class=\"data row9 col11\" >0.020017</td>\n",
              "      <td id=\"T_d179a_row9_col12\" class=\"data row9 col12\" >-0.021695</td>\n",
              "      <td id=\"T_d179a_row9_col13\" class=\"data row9 col13\" >0.006967</td>\n",
              "      <td id=\"T_d179a_row9_col14\" class=\"data row9 col14\" >0.017154</td>\n",
              "      <td id=\"T_d179a_row9_col15\" class=\"data row9 col15\" >-0.007704</td>\n",
              "      <td id=\"T_d179a_row9_col16\" class=\"data row9 col16\" >-0.020011</td>\n",
              "      <td id=\"T_d179a_row9_col17\" class=\"data row9 col17\" >0.030006</td>\n",
              "      <td id=\"T_d179a_row9_col18\" class=\"data row9 col18\" >-0.017106</td>\n",
              "    </tr>\n",
              "    <tr>\n",
              "      <th id=\"T_d179a_level0_row10\" class=\"row_heading level0 row10\" >kitchen_area</th>\n",
              "      <td id=\"T_d179a_row10_col0\" class=\"data row10 col0\" >0.473571</td>\n",
              "      <td id=\"T_d179a_row10_col1\" class=\"data row10 col1\" >0.596698</td>\n",
              "      <td id=\"T_d179a_row10_col2\" class=\"data row10 col2\" >0.289227</td>\n",
              "      <td id=\"T_d179a_row10_col3\" class=\"data row10 col3\" >0.352464</td>\n",
              "      <td id=\"T_d179a_row10_col4\" class=\"data row10 col4\" >0.137218</td>\n",
              "      <td id=\"T_d179a_row10_col5\" class=\"data row10 col5\" >0.430030</td>\n",
              "      <td id=\"T_d179a_row10_col6\" class=\"data row10 col6\" >0.119335</td>\n",
              "      <td id=\"T_d179a_row10_col7\" class=\"data row10 col7\" >0.024392</td>\n",
              "      <td id=\"T_d179a_row10_col8\" class=\"data row10 col8\" >-0.015105</td>\n",
              "      <td id=\"T_d179a_row10_col9\" class=\"data row10 col9\" >-0.009022</td>\n",
              "      <td id=\"T_d179a_row10_col10\" class=\"data row10 col10\" >1.000000</td>\n",
              "      <td id=\"T_d179a_row10_col11\" class=\"data row10 col11\" >0.032492</td>\n",
              "      <td id=\"T_d179a_row10_col12\" class=\"data row10 col12\" >0.023700</td>\n",
              "      <td id=\"T_d179a_row10_col13\" class=\"data row10 col13\" >-0.237239</td>\n",
              "      <td id=\"T_d179a_row10_col14\" class=\"data row10 col14\" >-0.072411</td>\n",
              "      <td id=\"T_d179a_row10_col15\" class=\"data row10 col15\" >-0.127107</td>\n",
              "      <td id=\"T_d179a_row10_col16\" class=\"data row10 col16\" >0.119988</td>\n",
              "      <td id=\"T_d179a_row10_col17\" class=\"data row10 col17\" >0.001337</td>\n",
              "      <td id=\"T_d179a_row10_col18\" class=\"data row10 col18\" >-0.077258</td>\n",
              "    </tr>\n",
              "    <tr>\n",
              "      <th id=\"T_d179a_level0_row11\" class=\"row_heading level0 row11\" >balcony</th>\n",
              "      <td id=\"T_d179a_row11_col0\" class=\"data row11 col0\" >0.001726</td>\n",
              "      <td id=\"T_d179a_row11_col1\" class=\"data row11 col1\" >-0.009030</td>\n",
              "      <td id=\"T_d179a_row11_col2\" class=\"data row11 col2\" >-0.039097</td>\n",
              "      <td id=\"T_d179a_row11_col3\" class=\"data row11 col3\" >-0.068576</td>\n",
              "      <td id=\"T_d179a_row11_col4\" class=\"data row11 col4\" >0.218887</td>\n",
              "      <td id=\"T_d179a_row11_col5\" class=\"data row11 col5\" >-0.031511</td>\n",
              "      <td id=\"T_d179a_row11_col6\" class=\"data row11 col6\" >0.199050</td>\n",
              "      <td id=\"T_d179a_row11_col7\" class=\"data row11 col7\" >0.039013</td>\n",
              "      <td id=\"T_d179a_row11_col8\" class=\"data row11 col8\" >0.031807</td>\n",
              "      <td id=\"T_d179a_row11_col9\" class=\"data row11 col9\" >0.020017</td>\n",
              "      <td id=\"T_d179a_row11_col10\" class=\"data row11 col10\" >0.032492</td>\n",
              "      <td id=\"T_d179a_row11_col11\" class=\"data row11 col11\" >1.000000</td>\n",
              "      <td id=\"T_d179a_row11_col12\" class=\"data row11 col12\" >0.056169</td>\n",
              "      <td id=\"T_d179a_row11_col13\" class=\"data row11 col13\" >0.148771</td>\n",
              "      <td id=\"T_d179a_row11_col14\" class=\"data row11 col14\" >0.054656</td>\n",
              "      <td id=\"T_d179a_row11_col15\" class=\"data row11 col15\" >0.037943</td>\n",
              "      <td id=\"T_d179a_row11_col16\" class=\"data row11 col16\" >-0.041206</td>\n",
              "      <td id=\"T_d179a_row11_col17\" class=\"data row11 col17\" >0.011081</td>\n",
              "      <td id=\"T_d179a_row11_col18\" class=\"data row11 col18\" >-0.000664</td>\n",
              "    </tr>\n",
              "    <tr>\n",
              "      <th id=\"T_d179a_level0_row12\" class=\"row_heading level0 row12\" >airports_nearest</th>\n",
              "      <td id=\"T_d179a_row12_col0\" class=\"data row12 col0\" >-0.018399</td>\n",
              "      <td id=\"T_d179a_row12_col1\" class=\"data row12 col1\" >-0.020202</td>\n",
              "      <td id=\"T_d179a_row12_col2\" class=\"data row12 col2\" >-0.053062</td>\n",
              "      <td id=\"T_d179a_row12_col3\" class=\"data row12 col3\" >-0.082703</td>\n",
              "      <td id=\"T_d179a_row12_col4\" class=\"data row12 col4\" >0.109649</td>\n",
              "      <td id=\"T_d179a_row12_col5\" class=\"data row12 col5\" >-0.045478</td>\n",
              "      <td id=\"T_d179a_row12_col6\" class=\"data row12 col6\" >0.071045</td>\n",
              "      <td id=\"T_d179a_row12_col7\" class=\"data row12 col7\" >0.014819</td>\n",
              "      <td id=\"T_d179a_row12_col8\" class=\"data row12 col8\" >-0.019674</td>\n",
              "      <td id=\"T_d179a_row12_col9\" class=\"data row12 col9\" >-0.021695</td>\n",
              "      <td id=\"T_d179a_row12_col10\" class=\"data row12 col10\" >0.023700</td>\n",
              "      <td id=\"T_d179a_row12_col11\" class=\"data row12 col11\" >0.056169</td>\n",
              "      <td id=\"T_d179a_row12_col12\" class=\"data row12 col12\" >1.000000</td>\n",
              "      <td id=\"T_d179a_row12_col13\" class=\"data row12 col13\" >0.174343</td>\n",
              "      <td id=\"T_d179a_row12_col14\" class=\"data row12 col14\" >0.008072</td>\n",
              "      <td id=\"T_d179a_row12_col15\" class=\"data row12 col15\" >0.150171</td>\n",
              "      <td id=\"T_d179a_row12_col16\" class=\"data row12 col16\" >-0.022773</td>\n",
              "      <td id=\"T_d179a_row12_col17\" class=\"data row12 col17\" >0.012032</td>\n",
              "      <td id=\"T_d179a_row12_col18\" class=\"data row12 col18\" >0.008906</td>\n",
              "    </tr>\n",
              "    <tr>\n",
              "      <th id=\"T_d179a_level0_row13\" class=\"row_heading level0 row13\" >cityCenters_nearest</th>\n",
              "      <td id=\"T_d179a_row13_col0\" class=\"data row13 col0\" >-0.293589</td>\n",
              "      <td id=\"T_d179a_row13_col1\" class=\"data row13 col1\" >-0.344081</td>\n",
              "      <td id=\"T_d179a_row13_col2\" class=\"data row13 col2\" >-0.294988</td>\n",
              "      <td id=\"T_d179a_row13_col3\" class=\"data row13 col3\" >-0.427245</td>\n",
              "      <td id=\"T_d179a_row13_col4\" class=\"data row13 col4\" >0.360418</td>\n",
              "      <td id=\"T_d179a_row13_col5\" class=\"data row13 col5\" >-0.353264</td>\n",
              "      <td id=\"T_d179a_row13_col6\" class=\"data row13 col6\" >0.231438</td>\n",
              "      <td id=\"T_d179a_row13_col7\" class=\"data row13 col7\" >0.008860</td>\n",
              "      <td id=\"T_d179a_row13_col8\" class=\"data row13 col8\" >0.017007</td>\n",
              "      <td id=\"T_d179a_row13_col9\" class=\"data row13 col9\" >0.006967</td>\n",
              "      <td id=\"T_d179a_row13_col10\" class=\"data row13 col10\" >-0.237239</td>\n",
              "      <td id=\"T_d179a_row13_col11\" class=\"data row13 col11\" >0.148771</td>\n",
              "      <td id=\"T_d179a_row13_col12\" class=\"data row13 col12\" >0.174343</td>\n",
              "      <td id=\"T_d179a_row13_col13\" class=\"data row13 col13\" >1.000000</td>\n",
              "      <td id=\"T_d179a_row13_col14\" class=\"data row13 col14\" >0.284931</td>\n",
              "      <td id=\"T_d179a_row13_col15\" class=\"data row13 col15\" >0.148940</td>\n",
              "      <td id=\"T_d179a_row13_col16\" class=\"data row13 col16\" >-0.118168</td>\n",
              "      <td id=\"T_d179a_row13_col17\" class=\"data row13 col17\" >0.011831</td>\n",
              "      <td id=\"T_d179a_row13_col18\" class=\"data row13 col18\" >0.082468</td>\n",
              "    </tr>\n",
              "    <tr>\n",
              "      <th id=\"T_d179a_level0_row14\" class=\"row_heading level0 row14\" >parks_nearest</th>\n",
              "      <td id=\"T_d179a_row14_col0\" class=\"data row14 col0\" >-0.117604</td>\n",
              "      <td id=\"T_d179a_row14_col1\" class=\"data row14 col1\" >-0.128556</td>\n",
              "      <td id=\"T_d179a_row14_col2\" class=\"data row14 col2\" >-0.110078</td>\n",
              "      <td id=\"T_d179a_row14_col3\" class=\"data row14 col3\" >-0.166269</td>\n",
              "      <td id=\"T_d179a_row14_col4\" class=\"data row14 col4\" >0.220593</td>\n",
              "      <td id=\"T_d179a_row14_col5\" class=\"data row14 col5\" >-0.137386</td>\n",
              "      <td id=\"T_d179a_row14_col6\" class=\"data row14 col6\" >0.138784</td>\n",
              "      <td id=\"T_d179a_row14_col7\" class=\"data row14 col7\" >0.001613</td>\n",
              "      <td id=\"T_d179a_row14_col8\" class=\"data row14 col8\" >0.036197</td>\n",
              "      <td id=\"T_d179a_row14_col9\" class=\"data row14 col9\" >0.017154</td>\n",
              "      <td id=\"T_d179a_row14_col10\" class=\"data row14 col10\" >-0.072411</td>\n",
              "      <td id=\"T_d179a_row14_col11\" class=\"data row14 col11\" >0.054656</td>\n",
              "      <td id=\"T_d179a_row14_col12\" class=\"data row14 col12\" >0.008072</td>\n",
              "      <td id=\"T_d179a_row14_col13\" class=\"data row14 col13\" >0.284931</td>\n",
              "      <td id=\"T_d179a_row14_col14\" class=\"data row14 col14\" >1.000000</td>\n",
              "      <td id=\"T_d179a_row14_col15\" class=\"data row14 col15\" >0.146104</td>\n",
              "      <td id=\"T_d179a_row14_col16\" class=\"data row14 col16\" >-0.039709</td>\n",
              "      <td id=\"T_d179a_row14_col17\" class=\"data row14 col17\" >0.002913</td>\n",
              "      <td id=\"T_d179a_row14_col18\" class=\"data row14 col18\" >0.028365</td>\n",
              "    </tr>\n",
              "    <tr>\n",
              "      <th id=\"T_d179a_level0_row15\" class=\"row_heading level0 row15\" >ponds_nearest</th>\n",
              "      <td id=\"T_d179a_row15_col0\" class=\"data row15 col0\" >-0.117250</td>\n",
              "      <td id=\"T_d179a_row15_col1\" class=\"data row15 col1\" >-0.118492</td>\n",
              "      <td id=\"T_d179a_row15_col2\" class=\"data row15 col2\" >-0.061888</td>\n",
              "      <td id=\"T_d179a_row15_col3\" class=\"data row15 col3\" >-0.123270</td>\n",
              "      <td id=\"T_d179a_row15_col4\" class=\"data row15 col4\" >0.057199</td>\n",
              "      <td id=\"T_d179a_row15_col5\" class=\"data row15 col5\" >-0.102328</td>\n",
              "      <td id=\"T_d179a_row15_col6\" class=\"data row15 col6\" >0.026963</td>\n",
              "      <td id=\"T_d179a_row15_col7\" class=\"data row15 col7\" >-0.015125</td>\n",
              "      <td id=\"T_d179a_row15_col8\" class=\"data row15 col8\" >-0.005517</td>\n",
              "      <td id=\"T_d179a_row15_col9\" class=\"data row15 col9\" >-0.007704</td>\n",
              "      <td id=\"T_d179a_row15_col10\" class=\"data row15 col10\" >-0.127107</td>\n",
              "      <td id=\"T_d179a_row15_col11\" class=\"data row15 col11\" >0.037943</td>\n",
              "      <td id=\"T_d179a_row15_col12\" class=\"data row15 col12\" >0.150171</td>\n",
              "      <td id=\"T_d179a_row15_col13\" class=\"data row15 col13\" >0.148940</td>\n",
              "      <td id=\"T_d179a_row15_col14\" class=\"data row15 col14\" >0.146104</td>\n",
              "      <td id=\"T_d179a_row15_col15\" class=\"data row15 col15\" >1.000000</td>\n",
              "      <td id=\"T_d179a_row15_col16\" class=\"data row15 col16\" >-0.054811</td>\n",
              "      <td id=\"T_d179a_row15_col17\" class=\"data row15 col17\" >-0.003459</td>\n",
              "      <td id=\"T_d179a_row15_col18\" class=\"data row15 col18\" >0.037941</td>\n",
              "    </tr>\n",
              "    <tr>\n",
              "      <th id=\"T_d179a_level0_row16\" class=\"row_heading level0 row16\" >days_exposition</th>\n",
              "      <td id=\"T_d179a_row16_col0\" class=\"data row16 col0\" >0.091511</td>\n",
              "      <td id=\"T_d179a_row16_col1\" class=\"data row16 col1\" >0.142587</td>\n",
              "      <td id=\"T_d179a_row16_col2\" class=\"data row16 col2\" >0.117482</td>\n",
              "      <td id=\"T_d179a_row16_col3\" class=\"data row16 col3\" >0.110335</td>\n",
              "      <td id=\"T_d179a_row16_col4\" class=\"data row16 col4\" >-0.035880</td>\n",
              "      <td id=\"T_d179a_row16_col5\" class=\"data row16 col5\" >0.132280</td>\n",
              "      <td id=\"T_d179a_row16_col6\" class=\"data row16 col6\" >-0.027612</td>\n",
              "      <td id=\"T_d179a_row16_col7\" class=\"data row16 col7\" >0.024005</td>\n",
              "      <td id=\"T_d179a_row16_col8\" class=\"data row16 col8\" >-0.018487</td>\n",
              "      <td id=\"T_d179a_row16_col9\" class=\"data row16 col9\" >-0.020011</td>\n",
              "      <td id=\"T_d179a_row16_col10\" class=\"data row16 col10\" >0.119988</td>\n",
              "      <td id=\"T_d179a_row16_col11\" class=\"data row16 col11\" >-0.041206</td>\n",
              "      <td id=\"T_d179a_row16_col12\" class=\"data row16 col12\" >-0.022773</td>\n",
              "      <td id=\"T_d179a_row16_col13\" class=\"data row16 col13\" >-0.118168</td>\n",
              "      <td id=\"T_d179a_row16_col14\" class=\"data row16 col14\" >-0.039709</td>\n",
              "      <td id=\"T_d179a_row16_col15\" class=\"data row16 col15\" >-0.054811</td>\n",
              "      <td id=\"T_d179a_row16_col16\" class=\"data row16 col16\" >1.000000</td>\n",
              "      <td id=\"T_d179a_row16_col17\" class=\"data row16 col17\" >-0.013437</td>\n",
              "      <td id=\"T_d179a_row16_col18\" class=\"data row16 col18\" >-0.576057</td>\n",
              "    </tr>\n",
              "    <tr>\n",
              "      <th id=\"T_d179a_level0_row17\" class=\"row_heading level0 row17\" >month_exposition</th>\n",
              "      <td id=\"T_d179a_row17_col0\" class=\"data row17 col0\" >-0.009273</td>\n",
              "      <td id=\"T_d179a_row17_col1\" class=\"data row17 col1\" >-0.002807</td>\n",
              "      <td id=\"T_d179a_row17_col2\" class=\"data row17 col2\" >-0.011832</td>\n",
              "      <td id=\"T_d179a_row17_col3\" class=\"data row17 col3\" >-0.004325</td>\n",
              "      <td id=\"T_d179a_row17_col4\" class=\"data row17 col4\" >0.003122</td>\n",
              "      <td id=\"T_d179a_row17_col5\" class=\"data row17 col5\" >-0.007508</td>\n",
              "      <td id=\"T_d179a_row17_col6\" class=\"data row17 col6\" >0.005669</td>\n",
              "      <td id=\"T_d179a_row17_col7\" class=\"data row17 col7\" >0.000611</td>\n",
              "      <td id=\"T_d179a_row17_col8\" class=\"data row17 col8\" >0.008912</td>\n",
              "      <td id=\"T_d179a_row17_col9\" class=\"data row17 col9\" >0.030006</td>\n",
              "      <td id=\"T_d179a_row17_col10\" class=\"data row17 col10\" >0.001337</td>\n",
              "      <td id=\"T_d179a_row17_col11\" class=\"data row17 col11\" >0.011081</td>\n",
              "      <td id=\"T_d179a_row17_col12\" class=\"data row17 col12\" >0.012032</td>\n",
              "      <td id=\"T_d179a_row17_col13\" class=\"data row17 col13\" >0.011831</td>\n",
              "      <td id=\"T_d179a_row17_col14\" class=\"data row17 col14\" >0.002913</td>\n",
              "      <td id=\"T_d179a_row17_col15\" class=\"data row17 col15\" >-0.003459</td>\n",
              "      <td id=\"T_d179a_row17_col16\" class=\"data row17 col16\" >-0.013437</td>\n",
              "      <td id=\"T_d179a_row17_col17\" class=\"data row17 col17\" >1.000000</td>\n",
              "      <td id=\"T_d179a_row17_col18\" class=\"data row17 col18\" >-0.266479</td>\n",
              "    </tr>\n",
              "    <tr>\n",
              "      <th id=\"T_d179a_level0_row18\" class=\"row_heading level0 row18\" >year_exposition</th>\n",
              "      <td id=\"T_d179a_row18_col0\" class=\"data row18 col0\" >-0.046824</td>\n",
              "      <td id=\"T_d179a_row18_col1\" class=\"data row18 col1\" >-0.090848</td>\n",
              "      <td id=\"T_d179a_row18_col2\" class=\"data row18 col2\" >-0.058892</td>\n",
              "      <td id=\"T_d179a_row18_col3\" class=\"data row18 col3\" >-0.085154</td>\n",
              "      <td id=\"T_d179a_row18_col4\" class=\"data row18 col4\" >0.019037</td>\n",
              "      <td id=\"T_d179a_row18_col5\" class=\"data row18 col5\" >-0.080361</td>\n",
              "      <td id=\"T_d179a_row18_col6\" class=\"data row18 col6\" >0.013699</td>\n",
              "      <td id=\"T_d179a_row18_col7\" class=\"data row18 col7\" >0.001138</td>\n",
              "      <td id=\"T_d179a_row18_col8\" class=\"data row18 col8\" >0.010073</td>\n",
              "      <td id=\"T_d179a_row18_col9\" class=\"data row18 col9\" >-0.017106</td>\n",
              "      <td id=\"T_d179a_row18_col10\" class=\"data row18 col10\" >-0.077258</td>\n",
              "      <td id=\"T_d179a_row18_col11\" class=\"data row18 col11\" >-0.000664</td>\n",
              "      <td id=\"T_d179a_row18_col12\" class=\"data row18 col12\" >0.008906</td>\n",
              "      <td id=\"T_d179a_row18_col13\" class=\"data row18 col13\" >0.082468</td>\n",
              "      <td id=\"T_d179a_row18_col14\" class=\"data row18 col14\" >0.028365</td>\n",
              "      <td id=\"T_d179a_row18_col15\" class=\"data row18 col15\" >0.037941</td>\n",
              "      <td id=\"T_d179a_row18_col16\" class=\"data row18 col16\" >-0.576057</td>\n",
              "      <td id=\"T_d179a_row18_col17\" class=\"data row18 col17\" >-0.266479</td>\n",
              "      <td id=\"T_d179a_row18_col18\" class=\"data row18 col18\" >1.000000</td>\n",
              "    </tr>\n",
              "  </tbody>\n",
              "</table>\n"
            ]
          },
          "metadata": {},
          "execution_count": 68
        }
      ]
    },
    {
      "cell_type": "markdown",
      "source": [
        "Очень сильная корреляция у living_area сразу с тремя признаками, попробуем убрать сначала его"
      ],
      "metadata": {
        "id": "tXdDwPdlm8Ut"
      }
    },
    {
      "cell_type": "code",
      "source": [
        "X2 = estate[['total_area', 'rooms', 'ceiling_height', 'floors_total',\n",
        "       'floor', 'is_apartment', 'studio', 'open_plan',\n",
        "       'kitchen_area', 'balcony', 'airports_nearest', 'cityCenters_nearest',\n",
        "       'parks_nearest', 'ponds_nearest', 'days_exposition', 'month_exposition',\n",
        "       'year_exposition']]"
      ],
      "metadata": {
        "id": "-gEr0lt4mqIL"
      },
      "execution_count": 69,
      "outputs": []
    },
    {
      "cell_type": "code",
      "source": [
        "score(X2,y)"
      ],
      "metadata": {
        "colab": {
          "base_uri": "https://localhost:8080/"
        },
        "id": "iUSr5qfFnPsP",
        "outputId": "9f739159-4838-4771-97ca-65db07559552"
      },
      "execution_count": 70,
      "outputs": [
        {
          "output_type": "stream",
          "name": "stdout",
          "text": [
            "Accuracy на тренировочной выборке: 0.5163433683495153\n",
            "Accuracy на тестовой выборке: 0.5757108747985062\n",
            "RMSE:  6223249.503038799\n",
            "R2:    0.5757108747985062\n"
          ]
        }
      ]
    },
    {
      "cell_type": "markdown",
      "source": [
        "Метрики хоть и немного, но улучшились. Попробуем убрать признак total_area"
      ],
      "metadata": {
        "id": "ccUXhUYpni6S"
      }
    },
    {
      "cell_type": "code",
      "source": [
        "X3 = estate[['rooms', 'ceiling_height', 'floors_total',\n",
        "       'floor', 'is_apartment', 'studio', 'open_plan',\n",
        "       'kitchen_area', 'balcony', 'airports_nearest', 'cityCenters_nearest',\n",
        "       'parks_nearest', 'ponds_nearest', 'days_exposition', 'month_exposition',\n",
        "       'year_exposition']]"
      ],
      "metadata": {
        "id": "unz7f99xn4cP"
      },
      "execution_count": 71,
      "outputs": []
    },
    {
      "cell_type": "code",
      "source": [
        "score(X3,y)"
      ],
      "metadata": {
        "colab": {
          "base_uri": "https://localhost:8080/"
        },
        "id": "cEsprK5_n-Qk",
        "outputId": "f28fbfbe-93a7-463e-d72a-c2462bac2756"
      },
      "execution_count": 72,
      "outputs": [
        {
          "output_type": "stream",
          "name": "stdout",
          "text": [
            "Accuracy на тренировочной выборке: 0.30300736087211655\n",
            "Accuracy на тестовой выборке: 0.41046703917053184\n",
            "RMSE:  7335678.82501804\n",
            "R2:    0.41046703917053184\n"
          ]
        }
      ]
    },
    {
      "cell_type": "markdown",
      "source": [
        "Метрики заметно ухудшились, поэтому данный признак оставляем, попробуем убрать признак rooms"
      ],
      "metadata": {
        "id": "6WWU3f4EoIvg"
      }
    },
    {
      "cell_type": "code",
      "source": [
        "X4 = estate[['total_area','ceiling_height', 'floors_total',\n",
        "       'floor', 'is_apartment', 'studio', 'open_plan',\n",
        "       'kitchen_area', 'balcony', 'airports_nearest', 'cityCenters_nearest',\n",
        "       'parks_nearest', 'ponds_nearest', 'days_exposition', 'month_exposition',\n",
        "       'year_exposition']]"
      ],
      "metadata": {
        "id": "dCPhsUC1oF5p"
      },
      "execution_count": 73,
      "outputs": []
    },
    {
      "cell_type": "code",
      "source": [
        "score(X4,y)"
      ],
      "metadata": {
        "colab": {
          "base_uri": "https://localhost:8080/"
        },
        "id": "e33I5TVWoh_M",
        "outputId": "daebe4e5-9a51-449f-b35d-1c82098f03e3"
      },
      "execution_count": 74,
      "outputs": [
        {
          "output_type": "stream",
          "name": "stdout",
          "text": [
            "Accuracy на тренировочной выборке: 0.46994427112133264\n",
            "Accuracy на тестовой выборке: 0.5652037882181606\n",
            "RMSE:  6299834.472525046\n",
            "R2:    0.5652037882181606\n"
          ]
        }
      ]
    },
    {
      "cell_type": "markdown",
      "source": [
        "Метрики хуже по сравнению с нашей лучшей метрикой, попробуем убрать total_area, а оставить living_area"
      ],
      "metadata": {
        "id": "iLDuxVgxow12"
      }
    },
    {
      "cell_type": "code",
      "source": [
        "X5 = estate[['rooms', 'ceiling_height', 'floors_total',\n",
        "       'living_area', 'floor', 'is_apartment', 'studio', 'open_plan',\n",
        "       'kitchen_area', 'balcony', 'airports_nearest', 'cityCenters_nearest',\n",
        "       'parks_nearest', 'ponds_nearest', 'days_exposition', 'month_exposition',\n",
        "       'year_exposition']]"
      ],
      "metadata": {
        "id": "g7lhzv-no3Ks"
      },
      "execution_count": 75,
      "outputs": []
    },
    {
      "cell_type": "code",
      "source": [
        "score(X5,y)"
      ],
      "metadata": {
        "colab": {
          "base_uri": "https://localhost:8080/"
        },
        "id": "I8Vu5wVWpRRE",
        "outputId": "93f31b70-be49-4c40-aa3f-d499eae1e7a1"
      },
      "execution_count": 76,
      "outputs": [
        {
          "output_type": "stream",
          "name": "stdout",
          "text": [
            "Accuracy на тренировочной выборке: 0.4476589986912888\n",
            "Accuracy на тестовой выборке: 0.5742701667930175\n",
            "RMSE:  6233806.3222508915\n",
            "R2:    0.5742701667930175\n"
          ]
        }
      ]
    },
    {
      "cell_type": "markdown",
      "source": [
        "Метрика немного похуже, чем наша лучшая метрика. Значит оставим признаки X2 и уберем следующий коррелирующий признак floors_total"
      ],
      "metadata": {
        "id": "o9VNO_YgpdwR"
      }
    },
    {
      "cell_type": "code",
      "source": [
        "X6 = estate[['total_area', 'rooms', 'ceiling_height',\n",
        "       'floor', 'is_apartment', 'studio', 'open_plan',\n",
        "       'kitchen_area', 'balcony', 'airports_nearest', 'cityCenters_nearest',\n",
        "       'parks_nearest', 'ponds_nearest', 'days_exposition', 'month_exposition',\n",
        "       'year_exposition']]"
      ],
      "metadata": {
        "id": "9q721bCVp2bl"
      },
      "execution_count": 77,
      "outputs": []
    },
    {
      "cell_type": "code",
      "source": [
        "score(X6,y)"
      ],
      "metadata": {
        "colab": {
          "base_uri": "https://localhost:8080/"
        },
        "id": "cxGt9-ikp-ZD",
        "outputId": "a170d178-08db-4fc6-d530-1df5f8fed50a"
      },
      "execution_count": 78,
      "outputs": [
        {
          "output_type": "stream",
          "name": "stdout",
          "text": [
            "Accuracy на тренировочной выборке: 0.5153991249339166\n",
            "Accuracy на тестовой выборке: 0.5753555435588045\n",
            "RMSE:  6225854.863444559\n",
            "R2:    0.5753555435588045\n"
          ]
        }
      ]
    },
    {
      "cell_type": "markdown",
      "source": [
        "Метрика немного хуже, попробуем убирать другие признаки, в попытке попысить скор"
      ],
      "metadata": {
        "id": "8Ce3M0wUqQj2"
      }
    },
    {
      "cell_type": "code",
      "source": [
        "X7 = estate[['total_area', 'rooms', 'ceiling_height', 'floors_total',\n",
        "       'floor','studio', 'open_plan',\n",
        "       'kitchen_area', 'balcony', 'airports_nearest', 'cityCenters_nearest',\n",
        "       'parks_nearest', 'ponds_nearest', 'days_exposition', 'month_exposition',\n",
        "       'year_exposition']]"
      ],
      "metadata": {
        "id": "DSPojUwAqTVR"
      },
      "execution_count": 79,
      "outputs": []
    },
    {
      "cell_type": "code",
      "source": [
        "score(X7,y)"
      ],
      "metadata": {
        "colab": {
          "base_uri": "https://localhost:8080/"
        },
        "id": "79uXTKlnqmrO",
        "outputId": "0b240647-b43b-4fab-a3b3-1fc5996bb080"
      },
      "execution_count": 80,
      "outputs": [
        {
          "output_type": "stream",
          "name": "stdout",
          "text": [
            "Accuracy на тренировочной выборке: 0.516297799323909\n",
            "Accuracy на тестовой выборке: 0.5761154202769677\n",
            "RMSE:  6220281.965464394\n",
            "R2:    0.5761154202769677\n"
          ]
        }
      ]
    },
    {
      "cell_type": "markdown",
      "source": [
        "Убрав признак is_apartment мы повысили метрику, пробуем дальше"
      ],
      "metadata": {
        "id": "3_Gw4kJRq3l3"
      }
    },
    {
      "cell_type": "code",
      "source": [
        "X8 = estate[['total_area', 'rooms', 'ceiling_height', 'floors_total',\n",
        "       'floor','open_plan',\n",
        "       'kitchen_area', 'balcony', 'airports_nearest', 'cityCenters_nearest',\n",
        "       'parks_nearest', 'ponds_nearest', 'days_exposition', 'month_exposition',\n",
        "       'year_exposition']]"
      ],
      "metadata": {
        "id": "NIsVjekfrGKl"
      },
      "execution_count": 81,
      "outputs": []
    },
    {
      "cell_type": "code",
      "source": [
        "score(X8,y)"
      ],
      "metadata": {
        "colab": {
          "base_uri": "https://localhost:8080/"
        },
        "id": "_TolN4GArOSm",
        "outputId": "5aac7365-956c-4733-fd0d-4ed4801c4bf4"
      },
      "execution_count": 82,
      "outputs": [
        {
          "output_type": "stream",
          "name": "stdout",
          "text": [
            "Accuracy на тренировочной выборке: 0.5161075616567425\n",
            "Accuracy на тестовой выборке: 0.5762551326103444\n",
            "RMSE:  6219256.778690975\n",
            "R2:    0.5762551326103444\n"
          ]
        }
      ]
    },
    {
      "cell_type": "markdown",
      "source": [
        "Убрав признак 'studio',  мы повысили метрику, пробуем дальше"
      ],
      "metadata": {
        "id": "lmmDfq43rYVW"
      }
    },
    {
      "cell_type": "code",
      "source": [
        "X9 = estate[['total_area', 'rooms', 'ceiling_height', 'floors_total','floor',\n",
        "       'kitchen_area', 'balcony', 'airports_nearest', 'cityCenters_nearest',\n",
        "       'parks_nearest', 'ponds_nearest', 'days_exposition', 'month_exposition',\n",
        "       'year_exposition']]"
      ],
      "metadata": {
        "id": "_8iuWfaHrWH0"
      },
      "execution_count": 83,
      "outputs": []
    },
    {
      "cell_type": "code",
      "source": [
        "score(X9,y)"
      ],
      "metadata": {
        "colab": {
          "base_uri": "https://localhost:8080/"
        },
        "id": "_4yMhFI0rlrw",
        "outputId": "1679173a-730e-460d-d26e-ecf32c1ec4f7"
      },
      "execution_count": 84,
      "outputs": [
        {
          "output_type": "stream",
          "name": "stdout",
          "text": [
            "Accuracy на тренировочной выборке: 0.5160707528300883\n",
            "Accuracy на тестовой выборке: 0.5762924944477659\n",
            "RMSE:  6218982.594859324\n",
            "R2:    0.5762924944477659\n"
          ]
        }
      ]
    },
    {
      "cell_type": "markdown",
      "source": [
        "Убрав признак 'open_plan',  мы повысили метрику, пробуем дальше"
      ],
      "metadata": {
        "id": "Sff-EqAKrwO3"
      }
    },
    {
      "cell_type": "code",
      "source": [
        "X10 = estate[['total_area', 'rooms', 'ceiling_height', 'floors_total','floor',\n",
        "       'kitchen_area','airports_nearest', 'cityCenters_nearest',\n",
        "       'parks_nearest', 'ponds_nearest', 'days_exposition', 'month_exposition',\n",
        "       'year_exposition']]"
      ],
      "metadata": {
        "id": "r9KIdumNr12k"
      },
      "execution_count": 85,
      "outputs": []
    },
    {
      "cell_type": "code",
      "source": [
        "score(X10,y)"
      ],
      "metadata": {
        "colab": {
          "base_uri": "https://localhost:8080/"
        },
        "id": "22kRAn4Fr69e",
        "outputId": "5ce9b42a-e8ea-4249-9ea6-1d9cb10b70a6"
      },
      "execution_count": 86,
      "outputs": [
        {
          "output_type": "stream",
          "name": "stdout",
          "text": [
            "Accuracy на тренировочной выборке: 0.5158227951146706\n",
            "Accuracy на тестовой выборке: 0.5765727806981583\n",
            "RMSE:  6216925.29866615\n",
            "R2:    0.5765727806981583\n"
          ]
        }
      ]
    },
    {
      "cell_type": "markdown",
      "source": [
        "Убрав признак 'balcony', мы повысили метрику, пробуем дальше"
      ],
      "metadata": {
        "id": "PvQHdhdasJ88"
      }
    },
    {
      "cell_type": "code",
      "source": [
        "X11 = estate[['total_area', 'rooms', 'floors_total','floor',\n",
        "       'kitchen_area','airports_nearest', 'cityCenters_nearest',\n",
        "       'parks_nearest', 'ponds_nearest', 'days_exposition', 'month_exposition',\n",
        "       'year_exposition']]"
      ],
      "metadata": {
        "id": "qDCo5I7zsOvK"
      },
      "execution_count": 87,
      "outputs": []
    },
    {
      "cell_type": "code",
      "source": [
        "score(X11,y)"
      ],
      "metadata": {
        "colab": {
          "base_uri": "https://localhost:8080/"
        },
        "id": "dPh7vWECsRk5",
        "outputId": "2304334e-039a-4968-c84f-4640bd8134dc"
      },
      "execution_count": 88,
      "outputs": [
        {
          "output_type": "stream",
          "name": "stdout",
          "text": [
            "Accuracy на тренировочной выборке: 0.5154184982488931\n",
            "Accuracy на тестовой выборке: 0.5770017445066851\n",
            "RMSE:  6213775.392849003\n",
            "R2:    0.5770017445066851\n"
          ]
        }
      ]
    },
    {
      "cell_type": "markdown",
      "source": [
        "Убрав признак 'ceiling_height', мы повысили метрику, пробуем дальше"
      ],
      "metadata": {
        "id": "m2ER3RR2skAz"
      }
    },
    {
      "cell_type": "code",
      "source": [
        "X12 = estate[['total_area', 'rooms', 'floors_total','floor',\n",
        "       'kitchen_area','cityCenters_nearest',\n",
        "       'parks_nearest', 'ponds_nearest', 'days_exposition', 'month_exposition',\n",
        "       'year_exposition']]"
      ],
      "metadata": {
        "id": "ckhokqsEsjmx"
      },
      "execution_count": 89,
      "outputs": []
    },
    {
      "cell_type": "code",
      "source": [
        "score(X12,y)"
      ],
      "metadata": {
        "colab": {
          "base_uri": "https://localhost:8080/"
        },
        "id": "jh3f4GpfsrN-",
        "outputId": "4b0d2939-c400-4d42-8a6d-fefc3ce66885"
      },
      "execution_count": 90,
      "outputs": [
        {
          "output_type": "stream",
          "name": "stdout",
          "text": [
            "Accuracy на тренировочной выборке: 0.5154083528844868\n",
            "Accuracy на тестовой выборке: 0.5770346143476158\n",
            "RMSE:  6213533.961857189\n",
            "R2:    0.5770346143476158\n"
          ]
        }
      ]
    },
    {
      "cell_type": "markdown",
      "source": [
        "Убрав признак 'airports_nearest', мы повысили метрику, пробуем дальше"
      ],
      "metadata": {
        "id": "VcVHfrvas2ix"
      }
    },
    {
      "cell_type": "code",
      "source": [
        "X13 = estate[['total_area', 'rooms', 'floors_total','floor',\n",
        "       'kitchen_area','cityCenters_nearest','parks_nearest', \n",
        "       'days_exposition', 'month_exposition',\n",
        "       'year_exposition']]"
      ],
      "metadata": {
        "id": "bd0sxS2Es100"
      },
      "execution_count": 91,
      "outputs": []
    },
    {
      "cell_type": "code",
      "source": [
        "score(X13,y)"
      ],
      "metadata": {
        "colab": {
          "base_uri": "https://localhost:8080/"
        },
        "id": "75GLkKLWs9vX",
        "outputId": "ff5980b0-0a8b-4227-dc4f-565cd78c95b7"
      },
      "execution_count": 92,
      "outputs": [
        {
          "output_type": "stream",
          "name": "stdout",
          "text": [
            "Accuracy на тренировочной выборке: 0.515111721154001\n",
            "Accuracy на тестовой выборке: 0.5770872735215227\n",
            "RMSE:  6213147.157450386\n",
            "R2:    0.5770872735215227\n"
          ]
        }
      ]
    },
    {
      "cell_type": "markdown",
      "source": [
        "Убрав признак 'ponds_nearest', мы повысили метрику, дальнейший перебор признаков не принес улучшение качества метрик"
      ],
      "metadata": {
        "id": "fs45Sr93tUjD"
      }
    },
    {
      "cell_type": "markdown",
      "source": [
        "**Попробуем нормализовать данные**"
      ],
      "metadata": {
        "id": "8JRQBj6B5GBZ"
      }
    },
    {
      "cell_type": "code",
      "source": [
        "X_train, X_test, y_train, y_test = train_test_split(X13, y, test_size=0.2, random_state=42)"
      ],
      "metadata": {
        "id": "4nPwxXAk6gu7"
      },
      "execution_count": 93,
      "outputs": []
    },
    {
      "cell_type": "code",
      "source": [
        "from sklearn.preprocessing import MinMaxScaler"
      ],
      "metadata": {
        "id": "6vd69z7L5TCD"
      },
      "execution_count": 94,
      "outputs": []
    },
    {
      "cell_type": "code",
      "source": [
        "mms = MinMaxScaler()\n",
        "mms.fit(X_train)"
      ],
      "metadata": {
        "colab": {
          "base_uri": "https://localhost:8080/"
        },
        "id": "loSEs16g6jQw",
        "outputId": "9ce22d30-4d22-43f3-bbaf-a63e5d304fd6"
      },
      "execution_count": 95,
      "outputs": [
        {
          "output_type": "execute_result",
          "data": {
            "text/plain": [
              "MinMaxScaler()"
            ]
          },
          "metadata": {},
          "execution_count": 95
        }
      ]
    },
    {
      "cell_type": "code",
      "source": [
        "mms.transform(X_train)"
      ],
      "metadata": {
        "colab": {
          "base_uri": "https://localhost:8080/"
        },
        "id": "FBkIXEF16thb",
        "outputId": "6f8f4f23-8212-4eb7-f044-da8802e32e21"
      },
      "execution_count": 96,
      "outputs": [
        {
          "output_type": "execute_result",
          "data": {
            "text/plain": [
              "array([[0.1750646 , 0.21052632, 0.19607843, ..., 0.06314433, 0.18181818,\n",
              "        0.2       ],\n",
              "       [0.30846253, 0.36842105, 0.09803922, ..., 0.06314433, 0.54545455,\n",
              "        0.6       ],\n",
              "       [0.10981912, 0.10526316, 0.37254902, ..., 0.03543814, 0.18181818,\n",
              "        0.8       ],\n",
              "       ...,\n",
              "       [0.04909561, 0.10526316, 0.07843137, ..., 0.04123711, 0.09090909,\n",
              "        0.8       ],\n",
              "       [0.06540698, 0.10526316, 0.05882353, ..., 0.10889175, 0.81818182,\n",
              "        0.6       ],\n",
              "       [0.09932171, 0.21052632, 0.15686275, ..., 0.00708763, 0.54545455,\n",
              "        0.8       ]])"
            ]
          },
          "metadata": {},
          "execution_count": 96
        }
      ]
    },
    {
      "cell_type": "code",
      "source": [
        "X_train_norm = pd.DataFrame(mms.transform(X_train), columns=X_train.columns)\n",
        "X_train_norm"
      ],
      "metadata": {
        "colab": {
          "base_uri": "https://localhost:8080/",
          "height": 488
        },
        "id": "7XowGmlM6x4g",
        "outputId": "1494c77f-a843-4caf-c420-a095bec55df1"
      },
      "execution_count": 97,
      "outputs": [
        {
          "output_type": "execute_result",
          "data": {
            "text/plain": [
              "       total_area     rooms  floors_total    floor  kitchen_area  \\\n",
              "0        0.175065  0.210526      0.196078  0.28125      0.483383   \n",
              "1        0.308463  0.368421      0.098039  0.09375      0.376855   \n",
              "2        0.109819  0.105263      0.372549  0.28125      0.406528   \n",
              "3        0.161822  0.210526      0.196078  0.15625      0.317507   \n",
              "4        0.038275  0.052632      0.352941  0.21875      0.237389   \n",
              "...           ...       ...           ...      ...           ...   \n",
              "11652    0.153424  0.105263      0.078431  0.09375      0.525223   \n",
              "11653    0.063953  0.105263      0.294118  0.03125      0.270030   \n",
              "11654    0.049096  0.105263      0.078431  0.09375      0.139466   \n",
              "11655    0.065407  0.105263      0.058824  0.09375      0.258160   \n",
              "11656    0.099322  0.210526      0.156863  0.09375      0.148368   \n",
              "\n",
              "       cityCenters_nearest  parks_nearest  days_exposition  month_exposition  \\\n",
              "0                 0.139874       0.187037         0.063144          0.181818   \n",
              "1                 0.153145       0.088418         0.063144          0.545455   \n",
              "2                 0.346240       0.077015         0.035438          0.181818   \n",
              "3                 0.175730       0.448890         0.282216          0.818182   \n",
              "4                 0.340543       0.126825         0.077964          0.545455   \n",
              "...                    ...            ...              ...               ...   \n",
              "11652             0.161743       0.139828         0.080541          0.000000   \n",
              "11653             0.428425       1.000000         0.023840          1.000000   \n",
              "11654             0.291860       0.099020         0.041237          0.090909   \n",
              "11655             0.703500       1.000000         0.108892          0.818182   \n",
              "11656             0.455479       0.063613         0.007088          0.545455   \n",
              "\n",
              "       year_exposition  \n",
              "0                  0.2  \n",
              "1                  0.6  \n",
              "2                  0.8  \n",
              "3                  0.6  \n",
              "4                  0.8  \n",
              "...                ...  \n",
              "11652              0.8  \n",
              "11653              0.6  \n",
              "11654              0.8  \n",
              "11655              0.6  \n",
              "11656              0.8  \n",
              "\n",
              "[11657 rows x 10 columns]"
            ],
            "text/html": [
              "\n",
              "  <div id=\"df-5db3bc3c-40b8-462e-8398-aa1fc41c2179\">\n",
              "    <div class=\"colab-df-container\">\n",
              "      <div>\n",
              "<style scoped>\n",
              "    .dataframe tbody tr th:only-of-type {\n",
              "        vertical-align: middle;\n",
              "    }\n",
              "\n",
              "    .dataframe tbody tr th {\n",
              "        vertical-align: top;\n",
              "    }\n",
              "\n",
              "    .dataframe thead th {\n",
              "        text-align: right;\n",
              "    }\n",
              "</style>\n",
              "<table border=\"1\" class=\"dataframe\">\n",
              "  <thead>\n",
              "    <tr style=\"text-align: right;\">\n",
              "      <th></th>\n",
              "      <th>total_area</th>\n",
              "      <th>rooms</th>\n",
              "      <th>floors_total</th>\n",
              "      <th>floor</th>\n",
              "      <th>kitchen_area</th>\n",
              "      <th>cityCenters_nearest</th>\n",
              "      <th>parks_nearest</th>\n",
              "      <th>days_exposition</th>\n",
              "      <th>month_exposition</th>\n",
              "      <th>year_exposition</th>\n",
              "    </tr>\n",
              "  </thead>\n",
              "  <tbody>\n",
              "    <tr>\n",
              "      <th>0</th>\n",
              "      <td>0.175065</td>\n",
              "      <td>0.210526</td>\n",
              "      <td>0.196078</td>\n",
              "      <td>0.28125</td>\n",
              "      <td>0.483383</td>\n",
              "      <td>0.139874</td>\n",
              "      <td>0.187037</td>\n",
              "      <td>0.063144</td>\n",
              "      <td>0.181818</td>\n",
              "      <td>0.2</td>\n",
              "    </tr>\n",
              "    <tr>\n",
              "      <th>1</th>\n",
              "      <td>0.308463</td>\n",
              "      <td>0.368421</td>\n",
              "      <td>0.098039</td>\n",
              "      <td>0.09375</td>\n",
              "      <td>0.376855</td>\n",
              "      <td>0.153145</td>\n",
              "      <td>0.088418</td>\n",
              "      <td>0.063144</td>\n",
              "      <td>0.545455</td>\n",
              "      <td>0.6</td>\n",
              "    </tr>\n",
              "    <tr>\n",
              "      <th>2</th>\n",
              "      <td>0.109819</td>\n",
              "      <td>0.105263</td>\n",
              "      <td>0.372549</td>\n",
              "      <td>0.28125</td>\n",
              "      <td>0.406528</td>\n",
              "      <td>0.346240</td>\n",
              "      <td>0.077015</td>\n",
              "      <td>0.035438</td>\n",
              "      <td>0.181818</td>\n",
              "      <td>0.8</td>\n",
              "    </tr>\n",
              "    <tr>\n",
              "      <th>3</th>\n",
              "      <td>0.161822</td>\n",
              "      <td>0.210526</td>\n",
              "      <td>0.196078</td>\n",
              "      <td>0.15625</td>\n",
              "      <td>0.317507</td>\n",
              "      <td>0.175730</td>\n",
              "      <td>0.448890</td>\n",
              "      <td>0.282216</td>\n",
              "      <td>0.818182</td>\n",
              "      <td>0.6</td>\n",
              "    </tr>\n",
              "    <tr>\n",
              "      <th>4</th>\n",
              "      <td>0.038275</td>\n",
              "      <td>0.052632</td>\n",
              "      <td>0.352941</td>\n",
              "      <td>0.21875</td>\n",
              "      <td>0.237389</td>\n",
              "      <td>0.340543</td>\n",
              "      <td>0.126825</td>\n",
              "      <td>0.077964</td>\n",
              "      <td>0.545455</td>\n",
              "      <td>0.8</td>\n",
              "    </tr>\n",
              "    <tr>\n",
              "      <th>...</th>\n",
              "      <td>...</td>\n",
              "      <td>...</td>\n",
              "      <td>...</td>\n",
              "      <td>...</td>\n",
              "      <td>...</td>\n",
              "      <td>...</td>\n",
              "      <td>...</td>\n",
              "      <td>...</td>\n",
              "      <td>...</td>\n",
              "      <td>...</td>\n",
              "    </tr>\n",
              "    <tr>\n",
              "      <th>11652</th>\n",
              "      <td>0.153424</td>\n",
              "      <td>0.105263</td>\n",
              "      <td>0.078431</td>\n",
              "      <td>0.09375</td>\n",
              "      <td>0.525223</td>\n",
              "      <td>0.161743</td>\n",
              "      <td>0.139828</td>\n",
              "      <td>0.080541</td>\n",
              "      <td>0.000000</td>\n",
              "      <td>0.8</td>\n",
              "    </tr>\n",
              "    <tr>\n",
              "      <th>11653</th>\n",
              "      <td>0.063953</td>\n",
              "      <td>0.105263</td>\n",
              "      <td>0.294118</td>\n",
              "      <td>0.03125</td>\n",
              "      <td>0.270030</td>\n",
              "      <td>0.428425</td>\n",
              "      <td>1.000000</td>\n",
              "      <td>0.023840</td>\n",
              "      <td>1.000000</td>\n",
              "      <td>0.6</td>\n",
              "    </tr>\n",
              "    <tr>\n",
              "      <th>11654</th>\n",
              "      <td>0.049096</td>\n",
              "      <td>0.105263</td>\n",
              "      <td>0.078431</td>\n",
              "      <td>0.09375</td>\n",
              "      <td>0.139466</td>\n",
              "      <td>0.291860</td>\n",
              "      <td>0.099020</td>\n",
              "      <td>0.041237</td>\n",
              "      <td>0.090909</td>\n",
              "      <td>0.8</td>\n",
              "    </tr>\n",
              "    <tr>\n",
              "      <th>11655</th>\n",
              "      <td>0.065407</td>\n",
              "      <td>0.105263</td>\n",
              "      <td>0.058824</td>\n",
              "      <td>0.09375</td>\n",
              "      <td>0.258160</td>\n",
              "      <td>0.703500</td>\n",
              "      <td>1.000000</td>\n",
              "      <td>0.108892</td>\n",
              "      <td>0.818182</td>\n",
              "      <td>0.6</td>\n",
              "    </tr>\n",
              "    <tr>\n",
              "      <th>11656</th>\n",
              "      <td>0.099322</td>\n",
              "      <td>0.210526</td>\n",
              "      <td>0.156863</td>\n",
              "      <td>0.09375</td>\n",
              "      <td>0.148368</td>\n",
              "      <td>0.455479</td>\n",
              "      <td>0.063613</td>\n",
              "      <td>0.007088</td>\n",
              "      <td>0.545455</td>\n",
              "      <td>0.8</td>\n",
              "    </tr>\n",
              "  </tbody>\n",
              "</table>\n",
              "<p>11657 rows × 10 columns</p>\n",
              "</div>\n",
              "      <button class=\"colab-df-convert\" onclick=\"convertToInteractive('df-5db3bc3c-40b8-462e-8398-aa1fc41c2179')\"\n",
              "              title=\"Convert this dataframe to an interactive table.\"\n",
              "              style=\"display:none;\">\n",
              "        \n",
              "  <svg xmlns=\"http://www.w3.org/2000/svg\" height=\"24px\"viewBox=\"0 0 24 24\"\n",
              "       width=\"24px\">\n",
              "    <path d=\"M0 0h24v24H0V0z\" fill=\"none\"/>\n",
              "    <path d=\"M18.56 5.44l.94 2.06.94-2.06 2.06-.94-2.06-.94-.94-2.06-.94 2.06-2.06.94zm-11 1L8.5 8.5l.94-2.06 2.06-.94-2.06-.94L8.5 2.5l-.94 2.06-2.06.94zm10 10l.94 2.06.94-2.06 2.06-.94-2.06-.94-.94-2.06-.94 2.06-2.06.94z\"/><path d=\"M17.41 7.96l-1.37-1.37c-.4-.4-.92-.59-1.43-.59-.52 0-1.04.2-1.43.59L10.3 9.45l-7.72 7.72c-.78.78-.78 2.05 0 2.83L4 21.41c.39.39.9.59 1.41.59.51 0 1.02-.2 1.41-.59l7.78-7.78 2.81-2.81c.8-.78.8-2.07 0-2.86zM5.41 20L4 18.59l7.72-7.72 1.47 1.35L5.41 20z\"/>\n",
              "  </svg>\n",
              "      </button>\n",
              "      \n",
              "  <style>\n",
              "    .colab-df-container {\n",
              "      display:flex;\n",
              "      flex-wrap:wrap;\n",
              "      gap: 12px;\n",
              "    }\n",
              "\n",
              "    .colab-df-convert {\n",
              "      background-color: #E8F0FE;\n",
              "      border: none;\n",
              "      border-radius: 50%;\n",
              "      cursor: pointer;\n",
              "      display: none;\n",
              "      fill: #1967D2;\n",
              "      height: 32px;\n",
              "      padding: 0 0 0 0;\n",
              "      width: 32px;\n",
              "    }\n",
              "\n",
              "    .colab-df-convert:hover {\n",
              "      background-color: #E2EBFA;\n",
              "      box-shadow: 0px 1px 2px rgba(60, 64, 67, 0.3), 0px 1px 3px 1px rgba(60, 64, 67, 0.15);\n",
              "      fill: #174EA6;\n",
              "    }\n",
              "\n",
              "    [theme=dark] .colab-df-convert {\n",
              "      background-color: #3B4455;\n",
              "      fill: #D2E3FC;\n",
              "    }\n",
              "\n",
              "    [theme=dark] .colab-df-convert:hover {\n",
              "      background-color: #434B5C;\n",
              "      box-shadow: 0px 1px 3px 1px rgba(0, 0, 0, 0.15);\n",
              "      filter: drop-shadow(0px 1px 2px rgba(0, 0, 0, 0.3));\n",
              "      fill: #FFFFFF;\n",
              "    }\n",
              "  </style>\n",
              "\n",
              "      <script>\n",
              "        const buttonEl =\n",
              "          document.querySelector('#df-5db3bc3c-40b8-462e-8398-aa1fc41c2179 button.colab-df-convert');\n",
              "        buttonEl.style.display =\n",
              "          google.colab.kernel.accessAllowed ? 'block' : 'none';\n",
              "\n",
              "        async function convertToInteractive(key) {\n",
              "          const element = document.querySelector('#df-5db3bc3c-40b8-462e-8398-aa1fc41c2179');\n",
              "          const dataTable =\n",
              "            await google.colab.kernel.invokeFunction('convertToInteractive',\n",
              "                                                     [key], {});\n",
              "          if (!dataTable) return;\n",
              "\n",
              "          const docLinkHtml = 'Like what you see? Visit the ' +\n",
              "            '<a target=\"_blank\" href=https://colab.research.google.com/notebooks/data_table.ipynb>data table notebook</a>'\n",
              "            + ' to learn more about interactive tables.';\n",
              "          element.innerHTML = '';\n",
              "          dataTable['output_type'] = 'display_data';\n",
              "          await google.colab.output.renderOutput(dataTable, element);\n",
              "          const docLink = document.createElement('div');\n",
              "          docLink.innerHTML = docLinkHtml;\n",
              "          element.appendChild(docLink);\n",
              "        }\n",
              "      </script>\n",
              "    </div>\n",
              "  </div>\n",
              "  "
            ]
          },
          "metadata": {},
          "execution_count": 97
        }
      ]
    },
    {
      "cell_type": "code",
      "source": [
        "X_train_norm.describe()"
      ],
      "metadata": {
        "colab": {
          "base_uri": "https://localhost:8080/",
          "height": 364
        },
        "id": "CPWp3RP06-6c",
        "outputId": "deb23a1d-a96d-4ae3-8bae-13a40fadabae"
      },
      "execution_count": 98,
      "outputs": [
        {
          "output_type": "execute_result",
          "data": {
            "text/plain": [
              "         total_area         rooms  floors_total         floor  kitchen_area  \\\n",
              "count  11657.000000  11657.000000  11657.000000  11657.000000  11657.000000   \n",
              "mean       0.084276      0.114289      0.202972      0.163609      0.284888   \n",
              "std        0.062139      0.060584      0.124157      0.152820      0.160597   \n",
              "min        0.000000      0.000000      0.000000      0.000000      0.000000   \n",
              "25%        0.048450      0.052632      0.078431      0.062500      0.178042   \n",
              "50%        0.069444      0.105263      0.156863      0.125000      0.252226   \n",
              "75%        0.100452      0.157895      0.294118      0.218750      0.323442   \n",
              "max        1.000000      1.000000      1.000000      1.000000      1.000000   \n",
              "\n",
              "       cityCenters_nearest  parks_nearest  days_exposition  month_exposition  \\\n",
              "count         11657.000000   11657.000000     11657.000000      11657.000000   \n",
              "mean              0.389405       0.583310         0.109729          0.494132   \n",
              "std               0.163731       0.451429         0.135782          0.314063   \n",
              "min               0.000000       0.000000         0.000000          0.000000   \n",
              "25%               0.279954       0.096419         0.028995          0.181818   \n",
              "50%               0.411947       1.000000         0.063144          0.454545   \n",
              "75%               0.502593       1.000000         0.126933          0.818182   \n",
              "max               1.000000       1.000000         1.000000          1.000000   \n",
              "\n",
              "       year_exposition  \n",
              "count     11657.000000  \n",
              "mean          0.669726  \n",
              "std           0.212166  \n",
              "min           0.000000  \n",
              "25%           0.600000  \n",
              "50%           0.600000  \n",
              "75%           0.800000  \n",
              "max           1.000000  "
            ],
            "text/html": [
              "\n",
              "  <div id=\"df-1af6cae1-d847-40eb-a7fc-3f141fe185af\">\n",
              "    <div class=\"colab-df-container\">\n",
              "      <div>\n",
              "<style scoped>\n",
              "    .dataframe tbody tr th:only-of-type {\n",
              "        vertical-align: middle;\n",
              "    }\n",
              "\n",
              "    .dataframe tbody tr th {\n",
              "        vertical-align: top;\n",
              "    }\n",
              "\n",
              "    .dataframe thead th {\n",
              "        text-align: right;\n",
              "    }\n",
              "</style>\n",
              "<table border=\"1\" class=\"dataframe\">\n",
              "  <thead>\n",
              "    <tr style=\"text-align: right;\">\n",
              "      <th></th>\n",
              "      <th>total_area</th>\n",
              "      <th>rooms</th>\n",
              "      <th>floors_total</th>\n",
              "      <th>floor</th>\n",
              "      <th>kitchen_area</th>\n",
              "      <th>cityCenters_nearest</th>\n",
              "      <th>parks_nearest</th>\n",
              "      <th>days_exposition</th>\n",
              "      <th>month_exposition</th>\n",
              "      <th>year_exposition</th>\n",
              "    </tr>\n",
              "  </thead>\n",
              "  <tbody>\n",
              "    <tr>\n",
              "      <th>count</th>\n",
              "      <td>11657.000000</td>\n",
              "      <td>11657.000000</td>\n",
              "      <td>11657.000000</td>\n",
              "      <td>11657.000000</td>\n",
              "      <td>11657.000000</td>\n",
              "      <td>11657.000000</td>\n",
              "      <td>11657.000000</td>\n",
              "      <td>11657.000000</td>\n",
              "      <td>11657.000000</td>\n",
              "      <td>11657.000000</td>\n",
              "    </tr>\n",
              "    <tr>\n",
              "      <th>mean</th>\n",
              "      <td>0.084276</td>\n",
              "      <td>0.114289</td>\n",
              "      <td>0.202972</td>\n",
              "      <td>0.163609</td>\n",
              "      <td>0.284888</td>\n",
              "      <td>0.389405</td>\n",
              "      <td>0.583310</td>\n",
              "      <td>0.109729</td>\n",
              "      <td>0.494132</td>\n",
              "      <td>0.669726</td>\n",
              "    </tr>\n",
              "    <tr>\n",
              "      <th>std</th>\n",
              "      <td>0.062139</td>\n",
              "      <td>0.060584</td>\n",
              "      <td>0.124157</td>\n",
              "      <td>0.152820</td>\n",
              "      <td>0.160597</td>\n",
              "      <td>0.163731</td>\n",
              "      <td>0.451429</td>\n",
              "      <td>0.135782</td>\n",
              "      <td>0.314063</td>\n",
              "      <td>0.212166</td>\n",
              "    </tr>\n",
              "    <tr>\n",
              "      <th>min</th>\n",
              "      <td>0.000000</td>\n",
              "      <td>0.000000</td>\n",
              "      <td>0.000000</td>\n",
              "      <td>0.000000</td>\n",
              "      <td>0.000000</td>\n",
              "      <td>0.000000</td>\n",
              "      <td>0.000000</td>\n",
              "      <td>0.000000</td>\n",
              "      <td>0.000000</td>\n",
              "      <td>0.000000</td>\n",
              "    </tr>\n",
              "    <tr>\n",
              "      <th>25%</th>\n",
              "      <td>0.048450</td>\n",
              "      <td>0.052632</td>\n",
              "      <td>0.078431</td>\n",
              "      <td>0.062500</td>\n",
              "      <td>0.178042</td>\n",
              "      <td>0.279954</td>\n",
              "      <td>0.096419</td>\n",
              "      <td>0.028995</td>\n",
              "      <td>0.181818</td>\n",
              "      <td>0.600000</td>\n",
              "    </tr>\n",
              "    <tr>\n",
              "      <th>50%</th>\n",
              "      <td>0.069444</td>\n",
              "      <td>0.105263</td>\n",
              "      <td>0.156863</td>\n",
              "      <td>0.125000</td>\n",
              "      <td>0.252226</td>\n",
              "      <td>0.411947</td>\n",
              "      <td>1.000000</td>\n",
              "      <td>0.063144</td>\n",
              "      <td>0.454545</td>\n",
              "      <td>0.600000</td>\n",
              "    </tr>\n",
              "    <tr>\n",
              "      <th>75%</th>\n",
              "      <td>0.100452</td>\n",
              "      <td>0.157895</td>\n",
              "      <td>0.294118</td>\n",
              "      <td>0.218750</td>\n",
              "      <td>0.323442</td>\n",
              "      <td>0.502593</td>\n",
              "      <td>1.000000</td>\n",
              "      <td>0.126933</td>\n",
              "      <td>0.818182</td>\n",
              "      <td>0.800000</td>\n",
              "    </tr>\n",
              "    <tr>\n",
              "      <th>max</th>\n",
              "      <td>1.000000</td>\n",
              "      <td>1.000000</td>\n",
              "      <td>1.000000</td>\n",
              "      <td>1.000000</td>\n",
              "      <td>1.000000</td>\n",
              "      <td>1.000000</td>\n",
              "      <td>1.000000</td>\n",
              "      <td>1.000000</td>\n",
              "      <td>1.000000</td>\n",
              "      <td>1.000000</td>\n",
              "    </tr>\n",
              "  </tbody>\n",
              "</table>\n",
              "</div>\n",
              "      <button class=\"colab-df-convert\" onclick=\"convertToInteractive('df-1af6cae1-d847-40eb-a7fc-3f141fe185af')\"\n",
              "              title=\"Convert this dataframe to an interactive table.\"\n",
              "              style=\"display:none;\">\n",
              "        \n",
              "  <svg xmlns=\"http://www.w3.org/2000/svg\" height=\"24px\"viewBox=\"0 0 24 24\"\n",
              "       width=\"24px\">\n",
              "    <path d=\"M0 0h24v24H0V0z\" fill=\"none\"/>\n",
              "    <path d=\"M18.56 5.44l.94 2.06.94-2.06 2.06-.94-2.06-.94-.94-2.06-.94 2.06-2.06.94zm-11 1L8.5 8.5l.94-2.06 2.06-.94-2.06-.94L8.5 2.5l-.94 2.06-2.06.94zm10 10l.94 2.06.94-2.06 2.06-.94-2.06-.94-.94-2.06-.94 2.06-2.06.94z\"/><path d=\"M17.41 7.96l-1.37-1.37c-.4-.4-.92-.59-1.43-.59-.52 0-1.04.2-1.43.59L10.3 9.45l-7.72 7.72c-.78.78-.78 2.05 0 2.83L4 21.41c.39.39.9.59 1.41.59.51 0 1.02-.2 1.41-.59l7.78-7.78 2.81-2.81c.8-.78.8-2.07 0-2.86zM5.41 20L4 18.59l7.72-7.72 1.47 1.35L5.41 20z\"/>\n",
              "  </svg>\n",
              "      </button>\n",
              "      \n",
              "  <style>\n",
              "    .colab-df-container {\n",
              "      display:flex;\n",
              "      flex-wrap:wrap;\n",
              "      gap: 12px;\n",
              "    }\n",
              "\n",
              "    .colab-df-convert {\n",
              "      background-color: #E8F0FE;\n",
              "      border: none;\n",
              "      border-radius: 50%;\n",
              "      cursor: pointer;\n",
              "      display: none;\n",
              "      fill: #1967D2;\n",
              "      height: 32px;\n",
              "      padding: 0 0 0 0;\n",
              "      width: 32px;\n",
              "    }\n",
              "\n",
              "    .colab-df-convert:hover {\n",
              "      background-color: #E2EBFA;\n",
              "      box-shadow: 0px 1px 2px rgba(60, 64, 67, 0.3), 0px 1px 3px 1px rgba(60, 64, 67, 0.15);\n",
              "      fill: #174EA6;\n",
              "    }\n",
              "\n",
              "    [theme=dark] .colab-df-convert {\n",
              "      background-color: #3B4455;\n",
              "      fill: #D2E3FC;\n",
              "    }\n",
              "\n",
              "    [theme=dark] .colab-df-convert:hover {\n",
              "      background-color: #434B5C;\n",
              "      box-shadow: 0px 1px 3px 1px rgba(0, 0, 0, 0.15);\n",
              "      filter: drop-shadow(0px 1px 2px rgba(0, 0, 0, 0.3));\n",
              "      fill: #FFFFFF;\n",
              "    }\n",
              "  </style>\n",
              "\n",
              "      <script>\n",
              "        const buttonEl =\n",
              "          document.querySelector('#df-1af6cae1-d847-40eb-a7fc-3f141fe185af button.colab-df-convert');\n",
              "        buttonEl.style.display =\n",
              "          google.colab.kernel.accessAllowed ? 'block' : 'none';\n",
              "\n",
              "        async function convertToInteractive(key) {\n",
              "          const element = document.querySelector('#df-1af6cae1-d847-40eb-a7fc-3f141fe185af');\n",
              "          const dataTable =\n",
              "            await google.colab.kernel.invokeFunction('convertToInteractive',\n",
              "                                                     [key], {});\n",
              "          if (!dataTable) return;\n",
              "\n",
              "          const docLinkHtml = 'Like what you see? Visit the ' +\n",
              "            '<a target=\"_blank\" href=https://colab.research.google.com/notebooks/data_table.ipynb>data table notebook</a>'\n",
              "            + ' to learn more about interactive tables.';\n",
              "          element.innerHTML = '';\n",
              "          dataTable['output_type'] = 'display_data';\n",
              "          await google.colab.output.renderOutput(dataTable, element);\n",
              "          const docLink = document.createElement('div');\n",
              "          docLink.innerHTML = docLinkHtml;\n",
              "          element.appendChild(docLink);\n",
              "        }\n",
              "      </script>\n",
              "    </div>\n",
              "  </div>\n",
              "  "
            ]
          },
          "metadata": {},
          "execution_count": 98
        }
      ]
    },
    {
      "cell_type": "code",
      "source": [
        "X_test_norm = pd.DataFrame(mms.transform(X_test), columns=X_train.columns)\n",
        "X_test_norm.describe()"
      ],
      "metadata": {
        "colab": {
          "base_uri": "https://localhost:8080/",
          "height": 364
        },
        "id": "k-wnjT5762CZ",
        "outputId": "d73a7fa0-ba10-4d79-c727-987dd249c1f9"
      },
      "execution_count": 99,
      "outputs": [
        {
          "output_type": "execute_result",
          "data": {
            "text/plain": [
              "        total_area        rooms  floors_total       floor  kitchen_area  \\\n",
              "count  2915.000000  2915.000000   2915.000000  2915.00000   2915.000000   \n",
              "mean      0.084669     0.115103      0.201520     0.16250      0.283345   \n",
              "std       0.061296     0.058962      0.124833     0.15179      0.158333   \n",
              "min       0.009044     0.000000      0.000000     0.00000      0.065282   \n",
              "25%       0.048450     0.052632      0.078431     0.06250      0.175074   \n",
              "50%       0.069444     0.105263      0.156863     0.12500      0.252226   \n",
              "75%       0.100129     0.157895      0.294118     0.21875      0.326409   \n",
              "max       0.799419     0.578947      0.705882     0.81250      1.000000   \n",
              "\n",
              "       cityCenters_nearest  parks_nearest  days_exposition  month_exposition  \\\n",
              "count          2915.000000    2915.000000      2915.000000       2915.000000   \n",
              "mean              0.390942       0.581629         0.116839          0.496492   \n",
              "std               0.165207       0.452793         0.139388          0.311834   \n",
              "min               0.000921       0.003001         0.001289          0.000000   \n",
              "25%               0.280534       0.095619         0.032861          0.181818   \n",
              "50%               0.414881       1.000000         0.063144          0.545455   \n",
              "75%               0.506431       1.000000         0.144330          0.818182   \n",
              "max               0.949679       1.000000         1.012242          1.000000   \n",
              "\n",
              "       year_exposition  \n",
              "count      2915.000000  \n",
              "mean          0.659348  \n",
              "std           0.214259  \n",
              "min           0.000000  \n",
              "25%           0.600000  \n",
              "50%           0.600000  \n",
              "75%           0.800000  \n",
              "max           1.000000  "
            ],
            "text/html": [
              "\n",
              "  <div id=\"df-253a614d-0209-4987-8acb-b0f4f9fa6fd7\">\n",
              "    <div class=\"colab-df-container\">\n",
              "      <div>\n",
              "<style scoped>\n",
              "    .dataframe tbody tr th:only-of-type {\n",
              "        vertical-align: middle;\n",
              "    }\n",
              "\n",
              "    .dataframe tbody tr th {\n",
              "        vertical-align: top;\n",
              "    }\n",
              "\n",
              "    .dataframe thead th {\n",
              "        text-align: right;\n",
              "    }\n",
              "</style>\n",
              "<table border=\"1\" class=\"dataframe\">\n",
              "  <thead>\n",
              "    <tr style=\"text-align: right;\">\n",
              "      <th></th>\n",
              "      <th>total_area</th>\n",
              "      <th>rooms</th>\n",
              "      <th>floors_total</th>\n",
              "      <th>floor</th>\n",
              "      <th>kitchen_area</th>\n",
              "      <th>cityCenters_nearest</th>\n",
              "      <th>parks_nearest</th>\n",
              "      <th>days_exposition</th>\n",
              "      <th>month_exposition</th>\n",
              "      <th>year_exposition</th>\n",
              "    </tr>\n",
              "  </thead>\n",
              "  <tbody>\n",
              "    <tr>\n",
              "      <th>count</th>\n",
              "      <td>2915.000000</td>\n",
              "      <td>2915.000000</td>\n",
              "      <td>2915.000000</td>\n",
              "      <td>2915.00000</td>\n",
              "      <td>2915.000000</td>\n",
              "      <td>2915.000000</td>\n",
              "      <td>2915.000000</td>\n",
              "      <td>2915.000000</td>\n",
              "      <td>2915.000000</td>\n",
              "      <td>2915.000000</td>\n",
              "    </tr>\n",
              "    <tr>\n",
              "      <th>mean</th>\n",
              "      <td>0.084669</td>\n",
              "      <td>0.115103</td>\n",
              "      <td>0.201520</td>\n",
              "      <td>0.16250</td>\n",
              "      <td>0.283345</td>\n",
              "      <td>0.390942</td>\n",
              "      <td>0.581629</td>\n",
              "      <td>0.116839</td>\n",
              "      <td>0.496492</td>\n",
              "      <td>0.659348</td>\n",
              "    </tr>\n",
              "    <tr>\n",
              "      <th>std</th>\n",
              "      <td>0.061296</td>\n",
              "      <td>0.058962</td>\n",
              "      <td>0.124833</td>\n",
              "      <td>0.15179</td>\n",
              "      <td>0.158333</td>\n",
              "      <td>0.165207</td>\n",
              "      <td>0.452793</td>\n",
              "      <td>0.139388</td>\n",
              "      <td>0.311834</td>\n",
              "      <td>0.214259</td>\n",
              "    </tr>\n",
              "    <tr>\n",
              "      <th>min</th>\n",
              "      <td>0.009044</td>\n",
              "      <td>0.000000</td>\n",
              "      <td>0.000000</td>\n",
              "      <td>0.00000</td>\n",
              "      <td>0.065282</td>\n",
              "      <td>0.000921</td>\n",
              "      <td>0.003001</td>\n",
              "      <td>0.001289</td>\n",
              "      <td>0.000000</td>\n",
              "      <td>0.000000</td>\n",
              "    </tr>\n",
              "    <tr>\n",
              "      <th>25%</th>\n",
              "      <td>0.048450</td>\n",
              "      <td>0.052632</td>\n",
              "      <td>0.078431</td>\n",
              "      <td>0.06250</td>\n",
              "      <td>0.175074</td>\n",
              "      <td>0.280534</td>\n",
              "      <td>0.095619</td>\n",
              "      <td>0.032861</td>\n",
              "      <td>0.181818</td>\n",
              "      <td>0.600000</td>\n",
              "    </tr>\n",
              "    <tr>\n",
              "      <th>50%</th>\n",
              "      <td>0.069444</td>\n",
              "      <td>0.105263</td>\n",
              "      <td>0.156863</td>\n",
              "      <td>0.12500</td>\n",
              "      <td>0.252226</td>\n",
              "      <td>0.414881</td>\n",
              "      <td>1.000000</td>\n",
              "      <td>0.063144</td>\n",
              "      <td>0.545455</td>\n",
              "      <td>0.600000</td>\n",
              "    </tr>\n",
              "    <tr>\n",
              "      <th>75%</th>\n",
              "      <td>0.100129</td>\n",
              "      <td>0.157895</td>\n",
              "      <td>0.294118</td>\n",
              "      <td>0.21875</td>\n",
              "      <td>0.326409</td>\n",
              "      <td>0.506431</td>\n",
              "      <td>1.000000</td>\n",
              "      <td>0.144330</td>\n",
              "      <td>0.818182</td>\n",
              "      <td>0.800000</td>\n",
              "    </tr>\n",
              "    <tr>\n",
              "      <th>max</th>\n",
              "      <td>0.799419</td>\n",
              "      <td>0.578947</td>\n",
              "      <td>0.705882</td>\n",
              "      <td>0.81250</td>\n",
              "      <td>1.000000</td>\n",
              "      <td>0.949679</td>\n",
              "      <td>1.000000</td>\n",
              "      <td>1.012242</td>\n",
              "      <td>1.000000</td>\n",
              "      <td>1.000000</td>\n",
              "    </tr>\n",
              "  </tbody>\n",
              "</table>\n",
              "</div>\n",
              "      <button class=\"colab-df-convert\" onclick=\"convertToInteractive('df-253a614d-0209-4987-8acb-b0f4f9fa6fd7')\"\n",
              "              title=\"Convert this dataframe to an interactive table.\"\n",
              "              style=\"display:none;\">\n",
              "        \n",
              "  <svg xmlns=\"http://www.w3.org/2000/svg\" height=\"24px\"viewBox=\"0 0 24 24\"\n",
              "       width=\"24px\">\n",
              "    <path d=\"M0 0h24v24H0V0z\" fill=\"none\"/>\n",
              "    <path d=\"M18.56 5.44l.94 2.06.94-2.06 2.06-.94-2.06-.94-.94-2.06-.94 2.06-2.06.94zm-11 1L8.5 8.5l.94-2.06 2.06-.94-2.06-.94L8.5 2.5l-.94 2.06-2.06.94zm10 10l.94 2.06.94-2.06 2.06-.94-2.06-.94-.94-2.06-.94 2.06-2.06.94z\"/><path d=\"M17.41 7.96l-1.37-1.37c-.4-.4-.92-.59-1.43-.59-.52 0-1.04.2-1.43.59L10.3 9.45l-7.72 7.72c-.78.78-.78 2.05 0 2.83L4 21.41c.39.39.9.59 1.41.59.51 0 1.02-.2 1.41-.59l7.78-7.78 2.81-2.81c.8-.78.8-2.07 0-2.86zM5.41 20L4 18.59l7.72-7.72 1.47 1.35L5.41 20z\"/>\n",
              "  </svg>\n",
              "      </button>\n",
              "      \n",
              "  <style>\n",
              "    .colab-df-container {\n",
              "      display:flex;\n",
              "      flex-wrap:wrap;\n",
              "      gap: 12px;\n",
              "    }\n",
              "\n",
              "    .colab-df-convert {\n",
              "      background-color: #E8F0FE;\n",
              "      border: none;\n",
              "      border-radius: 50%;\n",
              "      cursor: pointer;\n",
              "      display: none;\n",
              "      fill: #1967D2;\n",
              "      height: 32px;\n",
              "      padding: 0 0 0 0;\n",
              "      width: 32px;\n",
              "    }\n",
              "\n",
              "    .colab-df-convert:hover {\n",
              "      background-color: #E2EBFA;\n",
              "      box-shadow: 0px 1px 2px rgba(60, 64, 67, 0.3), 0px 1px 3px 1px rgba(60, 64, 67, 0.15);\n",
              "      fill: #174EA6;\n",
              "    }\n",
              "\n",
              "    [theme=dark] .colab-df-convert {\n",
              "      background-color: #3B4455;\n",
              "      fill: #D2E3FC;\n",
              "    }\n",
              "\n",
              "    [theme=dark] .colab-df-convert:hover {\n",
              "      background-color: #434B5C;\n",
              "      box-shadow: 0px 1px 3px 1px rgba(0, 0, 0, 0.15);\n",
              "      filter: drop-shadow(0px 1px 2px rgba(0, 0, 0, 0.3));\n",
              "      fill: #FFFFFF;\n",
              "    }\n",
              "  </style>\n",
              "\n",
              "      <script>\n",
              "        const buttonEl =\n",
              "          document.querySelector('#df-253a614d-0209-4987-8acb-b0f4f9fa6fd7 button.colab-df-convert');\n",
              "        buttonEl.style.display =\n",
              "          google.colab.kernel.accessAllowed ? 'block' : 'none';\n",
              "\n",
              "        async function convertToInteractive(key) {\n",
              "          const element = document.querySelector('#df-253a614d-0209-4987-8acb-b0f4f9fa6fd7');\n",
              "          const dataTable =\n",
              "            await google.colab.kernel.invokeFunction('convertToInteractive',\n",
              "                                                     [key], {});\n",
              "          if (!dataTable) return;\n",
              "\n",
              "          const docLinkHtml = 'Like what you see? Visit the ' +\n",
              "            '<a target=\"_blank\" href=https://colab.research.google.com/notebooks/data_table.ipynb>data table notebook</a>'\n",
              "            + ' to learn more about interactive tables.';\n",
              "          element.innerHTML = '';\n",
              "          dataTable['output_type'] = 'display_data';\n",
              "          await google.colab.output.renderOutput(dataTable, element);\n",
              "          const docLink = document.createElement('div');\n",
              "          docLink.innerHTML = docLinkHtml;\n",
              "          element.appendChild(docLink);\n",
              "        }\n",
              "      </script>\n",
              "    </div>\n",
              "  </div>\n",
              "  "
            ]
          },
          "metadata": {},
          "execution_count": 99
        }
      ]
    },
    {
      "cell_type": "code",
      "source": [
        "lr = LinearRegression()\n",
        "lr.fit(X_train_norm, y_train)"
      ],
      "metadata": {
        "colab": {
          "base_uri": "https://localhost:8080/"
        },
        "id": "Q5L45dM67OXn",
        "outputId": "d7b12918-272e-4a8d-b472-de2011d8514a"
      },
      "execution_count": 100,
      "outputs": [
        {
          "output_type": "execute_result",
          "data": {
            "text/plain": [
              "LinearRegression()"
            ]
          },
          "metadata": {},
          "execution_count": 100
        }
      ]
    },
    {
      "cell_type": "code",
      "source": [
        "predict = lr.predict(X_test_norm)"
      ],
      "metadata": {
        "id": "Vh1BK1WO7bi5"
      },
      "execution_count": 101,
      "outputs": []
    },
    {
      "cell_type": "code",
      "source": [
        "print(f'Accuracy на тренировочной выборке: {lr.score(X_train_norm, y_train)}\\nAccuracy на тестовой выборке: {lr.score(X_test_norm, y_test)}')\n",
        "print(f'RMSE:  {mean_squared_error(y_test,predict,squared=False)}')\n",
        "print(f'R2:    {r2_score(y_test,predict)}')"
      ],
      "metadata": {
        "colab": {
          "base_uri": "https://localhost:8080/"
        },
        "id": "UcdSP50N7eIy",
        "outputId": "65112b5b-8e6b-4e95-8e88-afb3cfd0f49d"
      },
      "execution_count": 102,
      "outputs": [
        {
          "output_type": "stream",
          "name": "stdout",
          "text": [
            "Accuracy на тренировочной выборке: 0.515111721154001\n",
            "Accuracy на тестовой выборке: 0.5770872735215469\n",
            "RMSE:  6213147.157450208\n",
            "R2:    0.5770872735215469\n"
          ]
        }
      ]
    },
    {
      "cell_type": "markdown",
      "source": [
        "После нормализации, метрики немного улучшились"
      ],
      "metadata": {
        "id": "GkEuYhfJ8B0r"
      }
    },
    {
      "cell_type": "markdown",
      "source": [
        "**Попробуем стандартизировать данные**"
      ],
      "metadata": {
        "id": "_CdF1_xM996z"
      }
    },
    {
      "cell_type": "code",
      "source": [
        "from sklearn.preprocessing import StandardScaler"
      ],
      "metadata": {
        "id": "BbNiNmYi8RRM"
      },
      "execution_count": 103,
      "outputs": []
    },
    {
      "cell_type": "code",
      "source": [
        "scaler = StandardScaler()\n",
        "scaler.fit(X_train)"
      ],
      "metadata": {
        "colab": {
          "base_uri": "https://localhost:8080/"
        },
        "id": "q--DDtEE8bRR",
        "outputId": "7650e189-9b29-475e-b25e-2d36f39fed63"
      },
      "execution_count": 104,
      "outputs": [
        {
          "output_type": "execute_result",
          "data": {
            "text/plain": [
              "StandardScaler()"
            ]
          },
          "metadata": {},
          "execution_count": 104
        }
      ]
    },
    {
      "cell_type": "code",
      "source": [
        "X_train_std = pd.DataFrame(scaler.transform(X_train), columns=X_train.columns)\n",
        "X_train_std"
      ],
      "metadata": {
        "colab": {
          "base_uri": "https://localhost:8080/",
          "height": 488
        },
        "id": "7dU7bQO78hrK",
        "outputId": "b1790ca1-9d23-4590-ffbb-0bbba4a88e32"
      },
      "execution_count": 105,
      "outputs": [
        {
          "output_type": "execute_result",
          "data": {
            "text/plain": [
              "       total_area     rooms  floors_total     floor  kitchen_area  \\\n",
              "0        1.461127  1.588580     -0.055522  0.769836      1.236038   \n",
              "1        3.607999  4.194926     -0.845193 -0.457151      0.572682   \n",
              "2        0.411083 -0.148983      1.365887  0.769836      0.757461   \n",
              "3        1.247999  1.588580     -0.055522 -0.048155      0.203125   \n",
              "4       -0.740327 -1.017765      1.207952  0.360840     -0.295778   \n",
              "...           ...       ...           ...       ...           ...   \n",
              "11652    1.112845 -0.148983     -1.003127 -0.457151      1.496576   \n",
              "11653   -0.327067 -0.148983      0.734150 -0.866146     -0.092521   \n",
              "11654   -0.566186 -0.148983     -1.003127 -0.457151     -0.905548   \n",
              "11655   -0.303675 -0.148983     -1.161061 -0.457151     -0.166433   \n",
              "11656    0.242140  1.588580     -0.371390 -0.457151     -0.850115   \n",
              "\n",
              "       cityCenters_nearest  parks_nearest  days_exposition  month_exposition  \\\n",
              "0                -1.524095      -0.877854        -0.343094         -0.994470   \n",
              "1                -1.443038      -1.096325        -0.343094          0.163423   \n",
              "2                -0.263645      -1.121584        -0.547151         -0.994470   \n",
              "3                -1.305095      -0.297778         1.270380          1.031843   \n",
              "4                -0.298443      -1.011241        -0.233948          0.163423   \n",
              "...                    ...            ...              ...               ...   \n",
              "11652            -1.390528      -0.982437        -0.214966         -1.573417   \n",
              "11653             0.238327       0.923087        -0.632571          1.610790   \n",
              "11654            -0.595792      -1.072838        -0.504442         -1.283943   \n",
              "11655             1.918441       0.923087        -0.006163          1.031843   \n",
              "11656             0.403567      -1.151275        -0.755954          0.163423   \n",
              "\n",
              "       year_exposition  \n",
              "0            -2.214055  \n",
              "1            -0.328655  \n",
              "2             0.614045  \n",
              "3            -0.328655  \n",
              "4             0.614045  \n",
              "...                ...  \n",
              "11652         0.614045  \n",
              "11653        -0.328655  \n",
              "11654         0.614045  \n",
              "11655        -0.328655  \n",
              "11656         0.614045  \n",
              "\n",
              "[11657 rows x 10 columns]"
            ],
            "text/html": [
              "\n",
              "  <div id=\"df-6c8a2e4b-74bb-47d1-ba9f-5e946e292716\">\n",
              "    <div class=\"colab-df-container\">\n",
              "      <div>\n",
              "<style scoped>\n",
              "    .dataframe tbody tr th:only-of-type {\n",
              "        vertical-align: middle;\n",
              "    }\n",
              "\n",
              "    .dataframe tbody tr th {\n",
              "        vertical-align: top;\n",
              "    }\n",
              "\n",
              "    .dataframe thead th {\n",
              "        text-align: right;\n",
              "    }\n",
              "</style>\n",
              "<table border=\"1\" class=\"dataframe\">\n",
              "  <thead>\n",
              "    <tr style=\"text-align: right;\">\n",
              "      <th></th>\n",
              "      <th>total_area</th>\n",
              "      <th>rooms</th>\n",
              "      <th>floors_total</th>\n",
              "      <th>floor</th>\n",
              "      <th>kitchen_area</th>\n",
              "      <th>cityCenters_nearest</th>\n",
              "      <th>parks_nearest</th>\n",
              "      <th>days_exposition</th>\n",
              "      <th>month_exposition</th>\n",
              "      <th>year_exposition</th>\n",
              "    </tr>\n",
              "  </thead>\n",
              "  <tbody>\n",
              "    <tr>\n",
              "      <th>0</th>\n",
              "      <td>1.461127</td>\n",
              "      <td>1.588580</td>\n",
              "      <td>-0.055522</td>\n",
              "      <td>0.769836</td>\n",
              "      <td>1.236038</td>\n",
              "      <td>-1.524095</td>\n",
              "      <td>-0.877854</td>\n",
              "      <td>-0.343094</td>\n",
              "      <td>-0.994470</td>\n",
              "      <td>-2.214055</td>\n",
              "    </tr>\n",
              "    <tr>\n",
              "      <th>1</th>\n",
              "      <td>3.607999</td>\n",
              "      <td>4.194926</td>\n",
              "      <td>-0.845193</td>\n",
              "      <td>-0.457151</td>\n",
              "      <td>0.572682</td>\n",
              "      <td>-1.443038</td>\n",
              "      <td>-1.096325</td>\n",
              "      <td>-0.343094</td>\n",
              "      <td>0.163423</td>\n",
              "      <td>-0.328655</td>\n",
              "    </tr>\n",
              "    <tr>\n",
              "      <th>2</th>\n",
              "      <td>0.411083</td>\n",
              "      <td>-0.148983</td>\n",
              "      <td>1.365887</td>\n",
              "      <td>0.769836</td>\n",
              "      <td>0.757461</td>\n",
              "      <td>-0.263645</td>\n",
              "      <td>-1.121584</td>\n",
              "      <td>-0.547151</td>\n",
              "      <td>-0.994470</td>\n",
              "      <td>0.614045</td>\n",
              "    </tr>\n",
              "    <tr>\n",
              "      <th>3</th>\n",
              "      <td>1.247999</td>\n",
              "      <td>1.588580</td>\n",
              "      <td>-0.055522</td>\n",
              "      <td>-0.048155</td>\n",
              "      <td>0.203125</td>\n",
              "      <td>-1.305095</td>\n",
              "      <td>-0.297778</td>\n",
              "      <td>1.270380</td>\n",
              "      <td>1.031843</td>\n",
              "      <td>-0.328655</td>\n",
              "    </tr>\n",
              "    <tr>\n",
              "      <th>4</th>\n",
              "      <td>-0.740327</td>\n",
              "      <td>-1.017765</td>\n",
              "      <td>1.207952</td>\n",
              "      <td>0.360840</td>\n",
              "      <td>-0.295778</td>\n",
              "      <td>-0.298443</td>\n",
              "      <td>-1.011241</td>\n",
              "      <td>-0.233948</td>\n",
              "      <td>0.163423</td>\n",
              "      <td>0.614045</td>\n",
              "    </tr>\n",
              "    <tr>\n",
              "      <th>...</th>\n",
              "      <td>...</td>\n",
              "      <td>...</td>\n",
              "      <td>...</td>\n",
              "      <td>...</td>\n",
              "      <td>...</td>\n",
              "      <td>...</td>\n",
              "      <td>...</td>\n",
              "      <td>...</td>\n",
              "      <td>...</td>\n",
              "      <td>...</td>\n",
              "    </tr>\n",
              "    <tr>\n",
              "      <th>11652</th>\n",
              "      <td>1.112845</td>\n",
              "      <td>-0.148983</td>\n",
              "      <td>-1.003127</td>\n",
              "      <td>-0.457151</td>\n",
              "      <td>1.496576</td>\n",
              "      <td>-1.390528</td>\n",
              "      <td>-0.982437</td>\n",
              "      <td>-0.214966</td>\n",
              "      <td>-1.573417</td>\n",
              "      <td>0.614045</td>\n",
              "    </tr>\n",
              "    <tr>\n",
              "      <th>11653</th>\n",
              "      <td>-0.327067</td>\n",
              "      <td>-0.148983</td>\n",
              "      <td>0.734150</td>\n",
              "      <td>-0.866146</td>\n",
              "      <td>-0.092521</td>\n",
              "      <td>0.238327</td>\n",
              "      <td>0.923087</td>\n",
              "      <td>-0.632571</td>\n",
              "      <td>1.610790</td>\n",
              "      <td>-0.328655</td>\n",
              "    </tr>\n",
              "    <tr>\n",
              "      <th>11654</th>\n",
              "      <td>-0.566186</td>\n",
              "      <td>-0.148983</td>\n",
              "      <td>-1.003127</td>\n",
              "      <td>-0.457151</td>\n",
              "      <td>-0.905548</td>\n",
              "      <td>-0.595792</td>\n",
              "      <td>-1.072838</td>\n",
              "      <td>-0.504442</td>\n",
              "      <td>-1.283943</td>\n",
              "      <td>0.614045</td>\n",
              "    </tr>\n",
              "    <tr>\n",
              "      <th>11655</th>\n",
              "      <td>-0.303675</td>\n",
              "      <td>-0.148983</td>\n",
              "      <td>-1.161061</td>\n",
              "      <td>-0.457151</td>\n",
              "      <td>-0.166433</td>\n",
              "      <td>1.918441</td>\n",
              "      <td>0.923087</td>\n",
              "      <td>-0.006163</td>\n",
              "      <td>1.031843</td>\n",
              "      <td>-0.328655</td>\n",
              "    </tr>\n",
              "    <tr>\n",
              "      <th>11656</th>\n",
              "      <td>0.242140</td>\n",
              "      <td>1.588580</td>\n",
              "      <td>-0.371390</td>\n",
              "      <td>-0.457151</td>\n",
              "      <td>-0.850115</td>\n",
              "      <td>0.403567</td>\n",
              "      <td>-1.151275</td>\n",
              "      <td>-0.755954</td>\n",
              "      <td>0.163423</td>\n",
              "      <td>0.614045</td>\n",
              "    </tr>\n",
              "  </tbody>\n",
              "</table>\n",
              "<p>11657 rows × 10 columns</p>\n",
              "</div>\n",
              "      <button class=\"colab-df-convert\" onclick=\"convertToInteractive('df-6c8a2e4b-74bb-47d1-ba9f-5e946e292716')\"\n",
              "              title=\"Convert this dataframe to an interactive table.\"\n",
              "              style=\"display:none;\">\n",
              "        \n",
              "  <svg xmlns=\"http://www.w3.org/2000/svg\" height=\"24px\"viewBox=\"0 0 24 24\"\n",
              "       width=\"24px\">\n",
              "    <path d=\"M0 0h24v24H0V0z\" fill=\"none\"/>\n",
              "    <path d=\"M18.56 5.44l.94 2.06.94-2.06 2.06-.94-2.06-.94-.94-2.06-.94 2.06-2.06.94zm-11 1L8.5 8.5l.94-2.06 2.06-.94-2.06-.94L8.5 2.5l-.94 2.06-2.06.94zm10 10l.94 2.06.94-2.06 2.06-.94-2.06-.94-.94-2.06-.94 2.06-2.06.94z\"/><path d=\"M17.41 7.96l-1.37-1.37c-.4-.4-.92-.59-1.43-.59-.52 0-1.04.2-1.43.59L10.3 9.45l-7.72 7.72c-.78.78-.78 2.05 0 2.83L4 21.41c.39.39.9.59 1.41.59.51 0 1.02-.2 1.41-.59l7.78-7.78 2.81-2.81c.8-.78.8-2.07 0-2.86zM5.41 20L4 18.59l7.72-7.72 1.47 1.35L5.41 20z\"/>\n",
              "  </svg>\n",
              "      </button>\n",
              "      \n",
              "  <style>\n",
              "    .colab-df-container {\n",
              "      display:flex;\n",
              "      flex-wrap:wrap;\n",
              "      gap: 12px;\n",
              "    }\n",
              "\n",
              "    .colab-df-convert {\n",
              "      background-color: #E8F0FE;\n",
              "      border: none;\n",
              "      border-radius: 50%;\n",
              "      cursor: pointer;\n",
              "      display: none;\n",
              "      fill: #1967D2;\n",
              "      height: 32px;\n",
              "      padding: 0 0 0 0;\n",
              "      width: 32px;\n",
              "    }\n",
              "\n",
              "    .colab-df-convert:hover {\n",
              "      background-color: #E2EBFA;\n",
              "      box-shadow: 0px 1px 2px rgba(60, 64, 67, 0.3), 0px 1px 3px 1px rgba(60, 64, 67, 0.15);\n",
              "      fill: #174EA6;\n",
              "    }\n",
              "\n",
              "    [theme=dark] .colab-df-convert {\n",
              "      background-color: #3B4455;\n",
              "      fill: #D2E3FC;\n",
              "    }\n",
              "\n",
              "    [theme=dark] .colab-df-convert:hover {\n",
              "      background-color: #434B5C;\n",
              "      box-shadow: 0px 1px 3px 1px rgba(0, 0, 0, 0.15);\n",
              "      filter: drop-shadow(0px 1px 2px rgba(0, 0, 0, 0.3));\n",
              "      fill: #FFFFFF;\n",
              "    }\n",
              "  </style>\n",
              "\n",
              "      <script>\n",
              "        const buttonEl =\n",
              "          document.querySelector('#df-6c8a2e4b-74bb-47d1-ba9f-5e946e292716 button.colab-df-convert');\n",
              "        buttonEl.style.display =\n",
              "          google.colab.kernel.accessAllowed ? 'block' : 'none';\n",
              "\n",
              "        async function convertToInteractive(key) {\n",
              "          const element = document.querySelector('#df-6c8a2e4b-74bb-47d1-ba9f-5e946e292716');\n",
              "          const dataTable =\n",
              "            await google.colab.kernel.invokeFunction('convertToInteractive',\n",
              "                                                     [key], {});\n",
              "          if (!dataTable) return;\n",
              "\n",
              "          const docLinkHtml = 'Like what you see? Visit the ' +\n",
              "            '<a target=\"_blank\" href=https://colab.research.google.com/notebooks/data_table.ipynb>data table notebook</a>'\n",
              "            + ' to learn more about interactive tables.';\n",
              "          element.innerHTML = '';\n",
              "          dataTable['output_type'] = 'display_data';\n",
              "          await google.colab.output.renderOutput(dataTable, element);\n",
              "          const docLink = document.createElement('div');\n",
              "          docLink.innerHTML = docLinkHtml;\n",
              "          element.appendChild(docLink);\n",
              "        }\n",
              "      </script>\n",
              "    </div>\n",
              "  </div>\n",
              "  "
            ]
          },
          "metadata": {},
          "execution_count": 105
        }
      ]
    },
    {
      "cell_type": "code",
      "source": [
        "X_train_std.describe()"
      ],
      "metadata": {
        "colab": {
          "base_uri": "https://localhost:8080/",
          "height": 364
        },
        "id": "f905E-Gc8m8h",
        "outputId": "d4bb4761-d611-47e7-ddaa-dae1f052634d"
      },
      "execution_count": 106,
      "outputs": [
        {
          "output_type": "execute_result",
          "data": {
            "text/plain": [
              "         total_area         rooms  floors_total         floor  kitchen_area  \\\n",
              "count  1.165700e+04  1.165700e+04  1.165700e+04  1.165700e+04  1.165700e+04   \n",
              "mean   6.125894e-17  9.386942e-17  1.127652e-16  9.630759e-17 -2.291877e-16   \n",
              "std    1.000043e+00  1.000043e+00  1.000043e+00  1.000043e+00  1.000043e+00   \n",
              "min   -1.356318e+00 -1.886546e+00 -1.634864e+00 -1.070644e+00 -1.774009e+00   \n",
              "25%   -5.765824e-01 -1.017765e+00 -1.003127e+00 -6.616487e-01 -6.653358e-01   \n",
              "50%   -2.386970e-01 -1.489830e-01 -3.713900e-01 -2.526531e-01 -2.033887e-01   \n",
              "75%    2.603338e-01  7.197987e-01  7.341497e-01  3.608403e-01  2.400804e-01   \n",
              "max    1.473743e+01  1.462031e+01  6.419782e+00  5.473285e+00  4.453038e+00   \n",
              "\n",
              "       cityCenters_nearest  parks_nearest  days_exposition  month_exposition  \\\n",
              "count         1.165700e+04   1.165700e+04     1.165700e+04      1.165700e+04   \n",
              "mean          4.266792e-18   7.741179e-17     6.278279e-17     -1.981010e-17   \n",
              "std           1.000043e+00   1.000043e+00     1.000043e+00      1.000043e+00   \n",
              "min          -2.378426e+00  -1.292195e+00    -8.081546e-01     -1.573417e+00   \n",
              "25%          -6.685140e-01  -1.078599e+00    -5.946066e-01     -9.944700e-01   \n",
              "50%           1.376824e-01   9.230868e-01    -3.430944e-01     -1.260501e-01   \n",
              "75%           6.913303e-01   9.230868e-01     1.267113e-01      1.031843e+00   \n",
              "max           3.729413e+00   9.230868e-01     6.556881e+00      1.610790e+00   \n",
              "\n",
              "       year_exposition  \n",
              "count     1.165700e+04  \n",
              "mean     -8.223266e-14  \n",
              "std       1.000043e+00  \n",
              "min      -3.156755e+00  \n",
              "25%      -3.286551e-01  \n",
              "50%      -3.286551e-01  \n",
              "75%       6.140448e-01  \n",
              "max       1.556745e+00  "
            ],
            "text/html": [
              "\n",
              "  <div id=\"df-9d955d4d-764b-4fe8-bc6f-0d3557bf4d60\">\n",
              "    <div class=\"colab-df-container\">\n",
              "      <div>\n",
              "<style scoped>\n",
              "    .dataframe tbody tr th:only-of-type {\n",
              "        vertical-align: middle;\n",
              "    }\n",
              "\n",
              "    .dataframe tbody tr th {\n",
              "        vertical-align: top;\n",
              "    }\n",
              "\n",
              "    .dataframe thead th {\n",
              "        text-align: right;\n",
              "    }\n",
              "</style>\n",
              "<table border=\"1\" class=\"dataframe\">\n",
              "  <thead>\n",
              "    <tr style=\"text-align: right;\">\n",
              "      <th></th>\n",
              "      <th>total_area</th>\n",
              "      <th>rooms</th>\n",
              "      <th>floors_total</th>\n",
              "      <th>floor</th>\n",
              "      <th>kitchen_area</th>\n",
              "      <th>cityCenters_nearest</th>\n",
              "      <th>parks_nearest</th>\n",
              "      <th>days_exposition</th>\n",
              "      <th>month_exposition</th>\n",
              "      <th>year_exposition</th>\n",
              "    </tr>\n",
              "  </thead>\n",
              "  <tbody>\n",
              "    <tr>\n",
              "      <th>count</th>\n",
              "      <td>1.165700e+04</td>\n",
              "      <td>1.165700e+04</td>\n",
              "      <td>1.165700e+04</td>\n",
              "      <td>1.165700e+04</td>\n",
              "      <td>1.165700e+04</td>\n",
              "      <td>1.165700e+04</td>\n",
              "      <td>1.165700e+04</td>\n",
              "      <td>1.165700e+04</td>\n",
              "      <td>1.165700e+04</td>\n",
              "      <td>1.165700e+04</td>\n",
              "    </tr>\n",
              "    <tr>\n",
              "      <th>mean</th>\n",
              "      <td>6.125894e-17</td>\n",
              "      <td>9.386942e-17</td>\n",
              "      <td>1.127652e-16</td>\n",
              "      <td>9.630759e-17</td>\n",
              "      <td>-2.291877e-16</td>\n",
              "      <td>4.266792e-18</td>\n",
              "      <td>7.741179e-17</td>\n",
              "      <td>6.278279e-17</td>\n",
              "      <td>-1.981010e-17</td>\n",
              "      <td>-8.223266e-14</td>\n",
              "    </tr>\n",
              "    <tr>\n",
              "      <th>std</th>\n",
              "      <td>1.000043e+00</td>\n",
              "      <td>1.000043e+00</td>\n",
              "      <td>1.000043e+00</td>\n",
              "      <td>1.000043e+00</td>\n",
              "      <td>1.000043e+00</td>\n",
              "      <td>1.000043e+00</td>\n",
              "      <td>1.000043e+00</td>\n",
              "      <td>1.000043e+00</td>\n",
              "      <td>1.000043e+00</td>\n",
              "      <td>1.000043e+00</td>\n",
              "    </tr>\n",
              "    <tr>\n",
              "      <th>min</th>\n",
              "      <td>-1.356318e+00</td>\n",
              "      <td>-1.886546e+00</td>\n",
              "      <td>-1.634864e+00</td>\n",
              "      <td>-1.070644e+00</td>\n",
              "      <td>-1.774009e+00</td>\n",
              "      <td>-2.378426e+00</td>\n",
              "      <td>-1.292195e+00</td>\n",
              "      <td>-8.081546e-01</td>\n",
              "      <td>-1.573417e+00</td>\n",
              "      <td>-3.156755e+00</td>\n",
              "    </tr>\n",
              "    <tr>\n",
              "      <th>25%</th>\n",
              "      <td>-5.765824e-01</td>\n",
              "      <td>-1.017765e+00</td>\n",
              "      <td>-1.003127e+00</td>\n",
              "      <td>-6.616487e-01</td>\n",
              "      <td>-6.653358e-01</td>\n",
              "      <td>-6.685140e-01</td>\n",
              "      <td>-1.078599e+00</td>\n",
              "      <td>-5.946066e-01</td>\n",
              "      <td>-9.944700e-01</td>\n",
              "      <td>-3.286551e-01</td>\n",
              "    </tr>\n",
              "    <tr>\n",
              "      <th>50%</th>\n",
              "      <td>-2.386970e-01</td>\n",
              "      <td>-1.489830e-01</td>\n",
              "      <td>-3.713900e-01</td>\n",
              "      <td>-2.526531e-01</td>\n",
              "      <td>-2.033887e-01</td>\n",
              "      <td>1.376824e-01</td>\n",
              "      <td>9.230868e-01</td>\n",
              "      <td>-3.430944e-01</td>\n",
              "      <td>-1.260501e-01</td>\n",
              "      <td>-3.286551e-01</td>\n",
              "    </tr>\n",
              "    <tr>\n",
              "      <th>75%</th>\n",
              "      <td>2.603338e-01</td>\n",
              "      <td>7.197987e-01</td>\n",
              "      <td>7.341497e-01</td>\n",
              "      <td>3.608403e-01</td>\n",
              "      <td>2.400804e-01</td>\n",
              "      <td>6.913303e-01</td>\n",
              "      <td>9.230868e-01</td>\n",
              "      <td>1.267113e-01</td>\n",
              "      <td>1.031843e+00</td>\n",
              "      <td>6.140448e-01</td>\n",
              "    </tr>\n",
              "    <tr>\n",
              "      <th>max</th>\n",
              "      <td>1.473743e+01</td>\n",
              "      <td>1.462031e+01</td>\n",
              "      <td>6.419782e+00</td>\n",
              "      <td>5.473285e+00</td>\n",
              "      <td>4.453038e+00</td>\n",
              "      <td>3.729413e+00</td>\n",
              "      <td>9.230868e-01</td>\n",
              "      <td>6.556881e+00</td>\n",
              "      <td>1.610790e+00</td>\n",
              "      <td>1.556745e+00</td>\n",
              "    </tr>\n",
              "  </tbody>\n",
              "</table>\n",
              "</div>\n",
              "      <button class=\"colab-df-convert\" onclick=\"convertToInteractive('df-9d955d4d-764b-4fe8-bc6f-0d3557bf4d60')\"\n",
              "              title=\"Convert this dataframe to an interactive table.\"\n",
              "              style=\"display:none;\">\n",
              "        \n",
              "  <svg xmlns=\"http://www.w3.org/2000/svg\" height=\"24px\"viewBox=\"0 0 24 24\"\n",
              "       width=\"24px\">\n",
              "    <path d=\"M0 0h24v24H0V0z\" fill=\"none\"/>\n",
              "    <path d=\"M18.56 5.44l.94 2.06.94-2.06 2.06-.94-2.06-.94-.94-2.06-.94 2.06-2.06.94zm-11 1L8.5 8.5l.94-2.06 2.06-.94-2.06-.94L8.5 2.5l-.94 2.06-2.06.94zm10 10l.94 2.06.94-2.06 2.06-.94-2.06-.94-.94-2.06-.94 2.06-2.06.94z\"/><path d=\"M17.41 7.96l-1.37-1.37c-.4-.4-.92-.59-1.43-.59-.52 0-1.04.2-1.43.59L10.3 9.45l-7.72 7.72c-.78.78-.78 2.05 0 2.83L4 21.41c.39.39.9.59 1.41.59.51 0 1.02-.2 1.41-.59l7.78-7.78 2.81-2.81c.8-.78.8-2.07 0-2.86zM5.41 20L4 18.59l7.72-7.72 1.47 1.35L5.41 20z\"/>\n",
              "  </svg>\n",
              "      </button>\n",
              "      \n",
              "  <style>\n",
              "    .colab-df-container {\n",
              "      display:flex;\n",
              "      flex-wrap:wrap;\n",
              "      gap: 12px;\n",
              "    }\n",
              "\n",
              "    .colab-df-convert {\n",
              "      background-color: #E8F0FE;\n",
              "      border: none;\n",
              "      border-radius: 50%;\n",
              "      cursor: pointer;\n",
              "      display: none;\n",
              "      fill: #1967D2;\n",
              "      height: 32px;\n",
              "      padding: 0 0 0 0;\n",
              "      width: 32px;\n",
              "    }\n",
              "\n",
              "    .colab-df-convert:hover {\n",
              "      background-color: #E2EBFA;\n",
              "      box-shadow: 0px 1px 2px rgba(60, 64, 67, 0.3), 0px 1px 3px 1px rgba(60, 64, 67, 0.15);\n",
              "      fill: #174EA6;\n",
              "    }\n",
              "\n",
              "    [theme=dark] .colab-df-convert {\n",
              "      background-color: #3B4455;\n",
              "      fill: #D2E3FC;\n",
              "    }\n",
              "\n",
              "    [theme=dark] .colab-df-convert:hover {\n",
              "      background-color: #434B5C;\n",
              "      box-shadow: 0px 1px 3px 1px rgba(0, 0, 0, 0.15);\n",
              "      filter: drop-shadow(0px 1px 2px rgba(0, 0, 0, 0.3));\n",
              "      fill: #FFFFFF;\n",
              "    }\n",
              "  </style>\n",
              "\n",
              "      <script>\n",
              "        const buttonEl =\n",
              "          document.querySelector('#df-9d955d4d-764b-4fe8-bc6f-0d3557bf4d60 button.colab-df-convert');\n",
              "        buttonEl.style.display =\n",
              "          google.colab.kernel.accessAllowed ? 'block' : 'none';\n",
              "\n",
              "        async function convertToInteractive(key) {\n",
              "          const element = document.querySelector('#df-9d955d4d-764b-4fe8-bc6f-0d3557bf4d60');\n",
              "          const dataTable =\n",
              "            await google.colab.kernel.invokeFunction('convertToInteractive',\n",
              "                                                     [key], {});\n",
              "          if (!dataTable) return;\n",
              "\n",
              "          const docLinkHtml = 'Like what you see? Visit the ' +\n",
              "            '<a target=\"_blank\" href=https://colab.research.google.com/notebooks/data_table.ipynb>data table notebook</a>'\n",
              "            + ' to learn more about interactive tables.';\n",
              "          element.innerHTML = '';\n",
              "          dataTable['output_type'] = 'display_data';\n",
              "          await google.colab.output.renderOutput(dataTable, element);\n",
              "          const docLink = document.createElement('div');\n",
              "          docLink.innerHTML = docLinkHtml;\n",
              "          element.appendChild(docLink);\n",
              "        }\n",
              "      </script>\n",
              "    </div>\n",
              "  </div>\n",
              "  "
            ]
          },
          "metadata": {},
          "execution_count": 106
        }
      ]
    },
    {
      "cell_type": "code",
      "source": [
        "X_test_std = pd.DataFrame(scaler.transform(X_test), columns=X_train.columns)\n",
        "X_test_std.describe()"
      ],
      "metadata": {
        "colab": {
          "base_uri": "https://localhost:8080/",
          "height": 364
        },
        "id": "5vKoEyyi8rB3",
        "outputId": "9ccc219f-a7e7-4a2c-9c06-70e20ac28713"
      },
      "execution_count": 107,
      "outputs": [
        {
          "output_type": "execute_result",
          "data": {
            "text/plain": [
              "        total_area        rooms  floors_total        floor  kitchen_area  \\\n",
              "count  2915.000000  2915.000000   2915.000000  2915.000000   2915.000000   \n",
              "mean      0.006325     0.013448     -0.011690    -0.007256     -0.009607   \n",
              "std       0.986481     0.973273      1.005485     0.993302      0.985947   \n",
              "min      -1.210767    -1.886546     -1.634864    -1.070644     -1.367495   \n",
              "25%      -0.576582    -1.017765     -1.003127    -0.661649     -0.683814   \n",
              "50%      -0.238697    -0.148983     -0.371390    -0.252653     -0.203389   \n",
              "75%       0.255136     0.719799      0.734150     0.360840      0.258558   \n",
              "max      11.509320     7.670052      4.050769     4.246298      4.453038   \n",
              "\n",
              "       cityCenters_nearest  parks_nearest  days_exposition  month_exposition  \\\n",
              "count          2915.000000    2915.000000      2915.000000       2915.000000   \n",
              "mean              0.009388      -0.003723         0.052366          0.007515   \n",
              "std               1.009057       1.003065         1.026596          0.992944   \n",
              "min              -2.372799      -1.285548        -0.798664         -1.573417   \n",
              "25%              -0.664972      -1.080372        -0.566133         -0.994470   \n",
              "50%               0.155602       0.923087        -0.343094          0.163423   \n",
              "75%               0.714772       0.923087         0.254840          1.031843   \n",
              "max               3.422063       0.923087         6.647045          1.610790   \n",
              "\n",
              "       year_exposition  \n",
              "count      2915.000000  \n",
              "mean         -0.048917  \n",
              "std           1.009910  \n",
              "min          -3.156755  \n",
              "25%          -0.328655  \n",
              "50%          -0.328655  \n",
              "75%           0.614045  \n",
              "max           1.556745  "
            ],
            "text/html": [
              "\n",
              "  <div id=\"df-5d1bacc7-d460-4f61-a3e4-13ca95dbf6c9\">\n",
              "    <div class=\"colab-df-container\">\n",
              "      <div>\n",
              "<style scoped>\n",
              "    .dataframe tbody tr th:only-of-type {\n",
              "        vertical-align: middle;\n",
              "    }\n",
              "\n",
              "    .dataframe tbody tr th {\n",
              "        vertical-align: top;\n",
              "    }\n",
              "\n",
              "    .dataframe thead th {\n",
              "        text-align: right;\n",
              "    }\n",
              "</style>\n",
              "<table border=\"1\" class=\"dataframe\">\n",
              "  <thead>\n",
              "    <tr style=\"text-align: right;\">\n",
              "      <th></th>\n",
              "      <th>total_area</th>\n",
              "      <th>rooms</th>\n",
              "      <th>floors_total</th>\n",
              "      <th>floor</th>\n",
              "      <th>kitchen_area</th>\n",
              "      <th>cityCenters_nearest</th>\n",
              "      <th>parks_nearest</th>\n",
              "      <th>days_exposition</th>\n",
              "      <th>month_exposition</th>\n",
              "      <th>year_exposition</th>\n",
              "    </tr>\n",
              "  </thead>\n",
              "  <tbody>\n",
              "    <tr>\n",
              "      <th>count</th>\n",
              "      <td>2915.000000</td>\n",
              "      <td>2915.000000</td>\n",
              "      <td>2915.000000</td>\n",
              "      <td>2915.000000</td>\n",
              "      <td>2915.000000</td>\n",
              "      <td>2915.000000</td>\n",
              "      <td>2915.000000</td>\n",
              "      <td>2915.000000</td>\n",
              "      <td>2915.000000</td>\n",
              "      <td>2915.000000</td>\n",
              "    </tr>\n",
              "    <tr>\n",
              "      <th>mean</th>\n",
              "      <td>0.006325</td>\n",
              "      <td>0.013448</td>\n",
              "      <td>-0.011690</td>\n",
              "      <td>-0.007256</td>\n",
              "      <td>-0.009607</td>\n",
              "      <td>0.009388</td>\n",
              "      <td>-0.003723</td>\n",
              "      <td>0.052366</td>\n",
              "      <td>0.007515</td>\n",
              "      <td>-0.048917</td>\n",
              "    </tr>\n",
              "    <tr>\n",
              "      <th>std</th>\n",
              "      <td>0.986481</td>\n",
              "      <td>0.973273</td>\n",
              "      <td>1.005485</td>\n",
              "      <td>0.993302</td>\n",
              "      <td>0.985947</td>\n",
              "      <td>1.009057</td>\n",
              "      <td>1.003065</td>\n",
              "      <td>1.026596</td>\n",
              "      <td>0.992944</td>\n",
              "      <td>1.009910</td>\n",
              "    </tr>\n",
              "    <tr>\n",
              "      <th>min</th>\n",
              "      <td>-1.210767</td>\n",
              "      <td>-1.886546</td>\n",
              "      <td>-1.634864</td>\n",
              "      <td>-1.070644</td>\n",
              "      <td>-1.367495</td>\n",
              "      <td>-2.372799</td>\n",
              "      <td>-1.285548</td>\n",
              "      <td>-0.798664</td>\n",
              "      <td>-1.573417</td>\n",
              "      <td>-3.156755</td>\n",
              "    </tr>\n",
              "    <tr>\n",
              "      <th>25%</th>\n",
              "      <td>-0.576582</td>\n",
              "      <td>-1.017765</td>\n",
              "      <td>-1.003127</td>\n",
              "      <td>-0.661649</td>\n",
              "      <td>-0.683814</td>\n",
              "      <td>-0.664972</td>\n",
              "      <td>-1.080372</td>\n",
              "      <td>-0.566133</td>\n",
              "      <td>-0.994470</td>\n",
              "      <td>-0.328655</td>\n",
              "    </tr>\n",
              "    <tr>\n",
              "      <th>50%</th>\n",
              "      <td>-0.238697</td>\n",
              "      <td>-0.148983</td>\n",
              "      <td>-0.371390</td>\n",
              "      <td>-0.252653</td>\n",
              "      <td>-0.203389</td>\n",
              "      <td>0.155602</td>\n",
              "      <td>0.923087</td>\n",
              "      <td>-0.343094</td>\n",
              "      <td>0.163423</td>\n",
              "      <td>-0.328655</td>\n",
              "    </tr>\n",
              "    <tr>\n",
              "      <th>75%</th>\n",
              "      <td>0.255136</td>\n",
              "      <td>0.719799</td>\n",
              "      <td>0.734150</td>\n",
              "      <td>0.360840</td>\n",
              "      <td>0.258558</td>\n",
              "      <td>0.714772</td>\n",
              "      <td>0.923087</td>\n",
              "      <td>0.254840</td>\n",
              "      <td>1.031843</td>\n",
              "      <td>0.614045</td>\n",
              "    </tr>\n",
              "    <tr>\n",
              "      <th>max</th>\n",
              "      <td>11.509320</td>\n",
              "      <td>7.670052</td>\n",
              "      <td>4.050769</td>\n",
              "      <td>4.246298</td>\n",
              "      <td>4.453038</td>\n",
              "      <td>3.422063</td>\n",
              "      <td>0.923087</td>\n",
              "      <td>6.647045</td>\n",
              "      <td>1.610790</td>\n",
              "      <td>1.556745</td>\n",
              "    </tr>\n",
              "  </tbody>\n",
              "</table>\n",
              "</div>\n",
              "      <button class=\"colab-df-convert\" onclick=\"convertToInteractive('df-5d1bacc7-d460-4f61-a3e4-13ca95dbf6c9')\"\n",
              "              title=\"Convert this dataframe to an interactive table.\"\n",
              "              style=\"display:none;\">\n",
              "        \n",
              "  <svg xmlns=\"http://www.w3.org/2000/svg\" height=\"24px\"viewBox=\"0 0 24 24\"\n",
              "       width=\"24px\">\n",
              "    <path d=\"M0 0h24v24H0V0z\" fill=\"none\"/>\n",
              "    <path d=\"M18.56 5.44l.94 2.06.94-2.06 2.06-.94-2.06-.94-.94-2.06-.94 2.06-2.06.94zm-11 1L8.5 8.5l.94-2.06 2.06-.94-2.06-.94L8.5 2.5l-.94 2.06-2.06.94zm10 10l.94 2.06.94-2.06 2.06-.94-2.06-.94-.94-2.06-.94 2.06-2.06.94z\"/><path d=\"M17.41 7.96l-1.37-1.37c-.4-.4-.92-.59-1.43-.59-.52 0-1.04.2-1.43.59L10.3 9.45l-7.72 7.72c-.78.78-.78 2.05 0 2.83L4 21.41c.39.39.9.59 1.41.59.51 0 1.02-.2 1.41-.59l7.78-7.78 2.81-2.81c.8-.78.8-2.07 0-2.86zM5.41 20L4 18.59l7.72-7.72 1.47 1.35L5.41 20z\"/>\n",
              "  </svg>\n",
              "      </button>\n",
              "      \n",
              "  <style>\n",
              "    .colab-df-container {\n",
              "      display:flex;\n",
              "      flex-wrap:wrap;\n",
              "      gap: 12px;\n",
              "    }\n",
              "\n",
              "    .colab-df-convert {\n",
              "      background-color: #E8F0FE;\n",
              "      border: none;\n",
              "      border-radius: 50%;\n",
              "      cursor: pointer;\n",
              "      display: none;\n",
              "      fill: #1967D2;\n",
              "      height: 32px;\n",
              "      padding: 0 0 0 0;\n",
              "      width: 32px;\n",
              "    }\n",
              "\n",
              "    .colab-df-convert:hover {\n",
              "      background-color: #E2EBFA;\n",
              "      box-shadow: 0px 1px 2px rgba(60, 64, 67, 0.3), 0px 1px 3px 1px rgba(60, 64, 67, 0.15);\n",
              "      fill: #174EA6;\n",
              "    }\n",
              "\n",
              "    [theme=dark] .colab-df-convert {\n",
              "      background-color: #3B4455;\n",
              "      fill: #D2E3FC;\n",
              "    }\n",
              "\n",
              "    [theme=dark] .colab-df-convert:hover {\n",
              "      background-color: #434B5C;\n",
              "      box-shadow: 0px 1px 3px 1px rgba(0, 0, 0, 0.15);\n",
              "      filter: drop-shadow(0px 1px 2px rgba(0, 0, 0, 0.3));\n",
              "      fill: #FFFFFF;\n",
              "    }\n",
              "  </style>\n",
              "\n",
              "      <script>\n",
              "        const buttonEl =\n",
              "          document.querySelector('#df-5d1bacc7-d460-4f61-a3e4-13ca95dbf6c9 button.colab-df-convert');\n",
              "        buttonEl.style.display =\n",
              "          google.colab.kernel.accessAllowed ? 'block' : 'none';\n",
              "\n",
              "        async function convertToInteractive(key) {\n",
              "          const element = document.querySelector('#df-5d1bacc7-d460-4f61-a3e4-13ca95dbf6c9');\n",
              "          const dataTable =\n",
              "            await google.colab.kernel.invokeFunction('convertToInteractive',\n",
              "                                                     [key], {});\n",
              "          if (!dataTable) return;\n",
              "\n",
              "          const docLinkHtml = 'Like what you see? Visit the ' +\n",
              "            '<a target=\"_blank\" href=https://colab.research.google.com/notebooks/data_table.ipynb>data table notebook</a>'\n",
              "            + ' to learn more about interactive tables.';\n",
              "          element.innerHTML = '';\n",
              "          dataTable['output_type'] = 'display_data';\n",
              "          await google.colab.output.renderOutput(dataTable, element);\n",
              "          const docLink = document.createElement('div');\n",
              "          docLink.innerHTML = docLinkHtml;\n",
              "          element.appendChild(docLink);\n",
              "        }\n",
              "      </script>\n",
              "    </div>\n",
              "  </div>\n",
              "  "
            ]
          },
          "metadata": {},
          "execution_count": 107
        }
      ]
    },
    {
      "cell_type": "code",
      "source": [
        "lr = LinearRegression()\n",
        "lr.fit(X_train_std, y_train)"
      ],
      "metadata": {
        "colab": {
          "base_uri": "https://localhost:8080/"
        },
        "id": "EnEuWgOX8ypd",
        "outputId": "e3ba030d-f910-42bd-8d02-29de8dcf8db7"
      },
      "execution_count": 108,
      "outputs": [
        {
          "output_type": "execute_result",
          "data": {
            "text/plain": [
              "LinearRegression()"
            ]
          },
          "metadata": {},
          "execution_count": 108
        }
      ]
    },
    {
      "cell_type": "code",
      "source": [
        "predict = lr.predict(X_test_std)"
      ],
      "metadata": {
        "id": "398Q_SnY843h"
      },
      "execution_count": 109,
      "outputs": []
    },
    {
      "cell_type": "code",
      "source": [
        "print(f'Accuracy на тренировочной выборке: {lr.score(X_train_std, y_train)}\\nAccuracy на тестовой выборке: {lr.score(X_test_std, y_test)}')\n",
        "print(f'RMSE:  {mean_squared_error(y_test,predict,squared=False)}')\n",
        "print(f'R2:    {r2_score(y_test,predict)}')"
      ],
      "metadata": {
        "colab": {
          "base_uri": "https://localhost:8080/"
        },
        "id": "TKdFi6FY9AM4",
        "outputId": "f008e019-7688-4148-f1e0-5ddacef36642"
      },
      "execution_count": 110,
      "outputs": [
        {
          "output_type": "stream",
          "name": "stdout",
          "text": [
            "Accuracy на тренировочной выборке: 0.515111721154001\n",
            "Accuracy на тестовой выборке: 0.5770872735215468\n",
            "RMSE:  6213147.157450209\n",
            "R2:    0.5770872735215468\n"
          ]
        }
      ]
    },
    {
      "cell_type": "markdown",
      "source": [
        "Метрики в нормализации и стандартизации не отличаются"
      ],
      "metadata": {
        "id": "LW1-dUWl-inq"
      }
    },
    {
      "cell_type": "markdown",
      "source": [
        "**Попробуeм обучить модель KNeighborsRegressor**"
      ],
      "metadata": {
        "id": "zi2Zus703amg"
      }
    },
    {
      "cell_type": "code",
      "source": [
        "from sklearn.neighbors import KNeighborsRegressor"
      ],
      "metadata": {
        "id": "IF5nqmKw3trX"
      },
      "execution_count": 111,
      "outputs": []
    },
    {
      "cell_type": "code",
      "source": [
        "X_train, X_test, y_train, y_test = train_test_split(X13, y, test_size=0.2, random_state=42)"
      ],
      "metadata": {
        "id": "qjbcqT_y4BCd"
      },
      "execution_count": 112,
      "outputs": []
    },
    {
      "cell_type": "code",
      "source": [
        "knn = KNeighborsRegressor()"
      ],
      "metadata": {
        "id": "YMLkPokc30HD"
      },
      "execution_count": 113,
      "outputs": []
    },
    {
      "cell_type": "code",
      "source": [
        "knn.fit(X_train, y_train)"
      ],
      "metadata": {
        "colab": {
          "base_uri": "https://localhost:8080/"
        },
        "id": "6YKwZEyr4lfX",
        "outputId": "da46815c-f74e-40fb-cb14-dc9d8962360e"
      },
      "execution_count": 114,
      "outputs": [
        {
          "output_type": "execute_result",
          "data": {
            "text/plain": [
              "KNeighborsRegressor()"
            ]
          },
          "metadata": {},
          "execution_count": 114
        }
      ]
    },
    {
      "cell_type": "code",
      "source": [
        "predict = knn.predict(X_test)"
      ],
      "metadata": {
        "id": "GZZZTXvw4UMh"
      },
      "execution_count": 115,
      "outputs": []
    },
    {
      "cell_type": "code",
      "source": [
        "print(f'Accuracy на тренировочной выборке: {knn.score(X_train, y_train)}\\nAccuracy на тестовой выборке: {knn.score(X_test, y_test)}')\n",
        "print(f'RMSE:  {mean_squared_error(y_test,predict,squared=False)}')\n",
        "print(f'R2:    {r2_score(y_test,predict)}')"
      ],
      "metadata": {
        "colab": {
          "base_uri": "https://localhost:8080/"
        },
        "id": "elusJ8k34hX8",
        "outputId": "ab37c0f1-f9cb-4db6-e551-6701baf18894"
      },
      "execution_count": 116,
      "outputs": [
        {
          "output_type": "stream",
          "name": "stdout",
          "text": [
            "Accuracy на тренировочной выборке: 0.5755678321824788\n",
            "Accuracy на тестовой выборке: 0.3153812463101606\n",
            "RMSE:  7905159.892446377\n",
            "R2:    0.3153812463101606\n"
          ]
        }
      ]
    },
    {
      "cell_type": "markdown",
      "source": [
        "видим что данная модель плохо обучилась обучилась, проверим метрики на стандартизированных и нормализованных данных "
      ],
      "metadata": {
        "id": "HUrwRDhZ4-qS"
      }
    },
    {
      "cell_type": "markdown",
      "source": [
        "**Нормализованные данные**"
      ],
      "metadata": {
        "id": "H13E3mWl_197"
      }
    },
    {
      "cell_type": "code",
      "source": [
        "knn = KNeighborsRegressor()"
      ],
      "metadata": {
        "id": "87_mb5WM-8Q0"
      },
      "execution_count": 117,
      "outputs": []
    },
    {
      "cell_type": "code",
      "source": [
        "knn.fit(X_train_norm, y_train)"
      ],
      "metadata": {
        "colab": {
          "base_uri": "https://localhost:8080/"
        },
        "id": "Srd_L1QC_BUz",
        "outputId": "3682fc02-8dd2-4fd7-d0f8-d9e55351bb99"
      },
      "execution_count": 118,
      "outputs": [
        {
          "output_type": "execute_result",
          "data": {
            "text/plain": [
              "KNeighborsRegressor()"
            ]
          },
          "metadata": {},
          "execution_count": 118
        }
      ]
    },
    {
      "cell_type": "code",
      "source": [
        "predict = knn.predict(X_test_norm)"
      ],
      "metadata": {
        "id": "h5z0YYVA_FW7"
      },
      "execution_count": 119,
      "outputs": []
    },
    {
      "cell_type": "code",
      "source": [
        "print(f'Accuracy на тренировочной выборке: {knn.score(X_train_norm, y_train)}\\nAccuracy на тестовой выборке: {knn.score(X_test_norm, y_test)}')\n",
        "print(f'RMSE:  {mean_squared_error(y_test,predict,squared=False)}')\n",
        "print(f'R2:    {r2_score(y_test,predict)}')"
      ],
      "metadata": {
        "colab": {
          "base_uri": "https://localhost:8080/"
        },
        "id": "ovDgaWh1_jRK",
        "outputId": "2a90bf28-7ca4-4846-a782-d69a4cf697d6"
      },
      "execution_count": 120,
      "outputs": [
        {
          "output_type": "stream",
          "name": "stdout",
          "text": [
            "Accuracy на тренировочной выборке: 0.6252867519610693\n",
            "Accuracy на тестовой выборке: 0.4953321013221832\n",
            "RMSE:  6787175.87436804\n",
            "R2:    0.4953321013221832\n"
          ]
        }
      ]
    },
    {
      "cell_type": "markdown",
      "source": [
        "**Стандартизированные данные**"
      ],
      "metadata": {
        "id": "IfPg5gRfAOiy"
      }
    },
    {
      "cell_type": "code",
      "source": [
        "knn = KNeighborsRegressor()"
      ],
      "metadata": {
        "id": "x-7VoWYKAOKZ"
      },
      "execution_count": 121,
      "outputs": []
    },
    {
      "cell_type": "code",
      "source": [
        "knn.fit(X_train_std, y_train)"
      ],
      "metadata": {
        "colab": {
          "base_uri": "https://localhost:8080/"
        },
        "id": "a_qKXMWIAVgr",
        "outputId": "9465fa1e-f4dc-4ed2-cc79-9f6a310d663d"
      },
      "execution_count": 122,
      "outputs": [
        {
          "output_type": "execute_result",
          "data": {
            "text/plain": [
              "KNeighborsRegressor()"
            ]
          },
          "metadata": {},
          "execution_count": 122
        }
      ]
    },
    {
      "cell_type": "code",
      "source": [
        "predict = knn.predict(X_test_std)"
      ],
      "metadata": {
        "id": "1RlD0O2-AbjF"
      },
      "execution_count": 123,
      "outputs": []
    },
    {
      "cell_type": "code",
      "source": [
        "print(f'Accuracy на тренировочной выборке: {knn.score(X_train_std, y_train)}\\nAccuracy на тестовой выборке: {knn.score(X_test_std, y_test)}')\n",
        "print(f'RMSE:  {mean_squared_error(y_test,predict,squared=False)}')\n",
        "print(f'R2:    {r2_score(y_test,predict)}')"
      ],
      "metadata": {
        "colab": {
          "base_uri": "https://localhost:8080/"
        },
        "id": "c0oZ4Q-KAh3I",
        "outputId": "aaf8a087-48c4-4d5f-eebe-3aa719dcb2b4"
      },
      "execution_count": 124,
      "outputs": [
        {
          "output_type": "stream",
          "name": "stdout",
          "text": [
            "Accuracy на тренировочной выборке: 0.6775409867180371\n",
            "Accuracy на тестовой выборке: 0.43419391095576076\n",
            "RMSE:  7186543.70722852\n",
            "R2:    0.43419391095576076\n"
          ]
        }
      ]
    },
    {
      "cell_type": "markdown",
      "source": [
        "Данная модель обучилась хуже линейной регрессии "
      ],
      "metadata": {
        "id": "34OcUsH8A0Bi"
      }
    },
    {
      "cell_type": "markdown",
      "source": [
        "**Поробуем модель DecisionTreeRegressor**\n",
        "\n",
        "Но уже со всеми признаками которые ранее исключили из-за корреляции друг с другом"
      ],
      "metadata": {
        "id": "J8omOEg55X-K"
      }
    },
    {
      "cell_type": "code",
      "source": [
        "from sklearn.tree import DecisionTreeRegressor"
      ],
      "metadata": {
        "id": "yKruiFbg5azY"
      },
      "execution_count": 125,
      "outputs": []
    },
    {
      "cell_type": "code",
      "source": [
        "X_train, X_test, y_train, y_test = train_test_split(X, y, test_size=0.2, random_state=42)"
      ],
      "metadata": {
        "id": "WWkThJXLCHk3"
      },
      "execution_count": 126,
      "outputs": []
    },
    {
      "cell_type": "code",
      "source": [
        "tree = DecisionTreeRegressor(random_state=42, max_depth=2)\n",
        "tree.fit(X_train, y_train)"
      ],
      "metadata": {
        "colab": {
          "base_uri": "https://localhost:8080/"
        },
        "id": "kcsvHLty5ggh",
        "outputId": "ee6da397-2813-420b-eb94-6686be4e91ca"
      },
      "execution_count": 127,
      "outputs": [
        {
          "output_type": "execute_result",
          "data": {
            "text/plain": [
              "DecisionTreeRegressor(max_depth=2, random_state=42)"
            ]
          },
          "metadata": {},
          "execution_count": 127
        }
      ]
    },
    {
      "cell_type": "code",
      "source": [
        "predict = tree.predict(X_test)"
      ],
      "metadata": {
        "id": "mb6LA2bl5qQz"
      },
      "execution_count": 128,
      "outputs": []
    },
    {
      "cell_type": "code",
      "source": [
        "print(f'Accuracy на тренировочной выборке: {tree.score(X_train, y_train)}\\nAccuracy на тестовой выборке: {tree.score(X_test, y_test)}')\n",
        "print(f'RMSE:  {mean_squared_error(y_test,predict,squared=False)}')\n",
        "print(f'R2:    {r2_score(y_test,predict)}')"
      ],
      "metadata": {
        "colab": {
          "base_uri": "https://localhost:8080/"
        },
        "id": "G7et87lj5xB7",
        "outputId": "e82362ef-d7d5-46f6-9fc8-a2f26ae4efa7"
      },
      "execution_count": 129,
      "outputs": [
        {
          "output_type": "stream",
          "name": "stdout",
          "text": [
            "Accuracy на тренировочной выборке: 0.4459135407168143\n",
            "Accuracy на тестовой выборке: 0.43460444234865636\n",
            "RMSE:  7183936.067251207\n",
            "R2:    0.43460444234865636\n"
          ]
        }
      ]
    },
    {
      "cell_type": "markdown",
      "source": [
        "Данная модель иоже показывает не очень хорошие метрики"
      ],
      "metadata": {
        "id": "-ixbDf1FCivS"
      }
    },
    {
      "cell_type": "markdown",
      "source": [
        "**Итог:**\n",
        "\n",
        "Лучше всего обучилась модель линейной регсессии с номализованными/стандартизированными данными с метриками\n",
        "\n",
        "Accuracy на тренировочной выборке: 0.515111721154001\n",
        "\n",
        "Accuracy на тестовой выборке: 0.5770872735215468\n",
        "\n",
        "RMSE:  6213147.157450209\n",
        "\n",
        "R2:    0.5770872735215468"
      ],
      "metadata": {
        "id": "sSneezjUCpGf"
      }
    }
  ]
}